{
 "cells": [
  {
   "cell_type": "code",
   "execution_count": 1,
   "metadata": {
    "collapsed": true
   },
   "outputs": [
    {
     "name": "stderr",
     "output_type": "stream",
     "text": [
      "/Users/keumhyeonjun/opt/anaconda3/envs/gpu_1/lib/python3.9/site-packages/scipy/__init__.py:146: UserWarning: A NumPy version >=1.16.5 and <1.23.0 is required for this version of SciPy (detected version 1.23.1\n",
      "  warnings.warn(f\"A NumPy version >={np_minversion} and <{np_maxversion}\"\n"
     ]
    }
   ],
   "source": [
    "import pandas as pd\n",
    "import numpy as np\n",
    "from sklearn.model_selection import train_test_split\n",
    "import warnings\n",
    "warnings.filterwarnings(action='ignore')"
   ]
  },
  {
   "cell_type": "code",
   "execution_count": 2,
   "outputs": [
    {
     "data": {
      "text/plain": "         index  Project_ID    Year  N_of_SCI  N_of_Paper  N_Patent_App  \\\n0            0  1055000474  2013.0       0.0         0.0           0.0   \n1            1  1055000475  2013.0       0.0         0.0           0.0   \n2            2  1055000476  2014.0       0.0         0.0           0.0   \n3            3  1055000477  2014.0       0.0         0.0           0.0   \n4            4  1055000478  2014.0       0.0         0.0           0.0   \n...        ...         ...     ...       ...         ...           ...   \n192874  192874  9991006121  2016.0       0.0         0.0           2.0   \n192875  192875  9991006122  2016.0       0.0         0.0           0.0   \n192876  192876  9991006124  2016.0       0.0         0.0           0.0   \n192877  192877  9991006125  2016.0       0.0         0.0           2.0   \n192878  192878  9991006126  2016.0       0.0         0.0           0.0   \n\n        N_Patent_Reg  N_of_Korean_Patent  N_of_Inter_Patent  N_of_Patent  ...  \\\n0                0.0                 0.0                0.0          0.0  ...   \n1                0.0                 0.0                0.0          0.0  ...   \n2                0.0                 0.0                0.0          0.0  ...   \n3                0.0                 0.0                0.0          0.0  ...   \n4                0.0                 0.0                0.0          0.0  ...   \n...              ...                 ...                ...          ...  ...   \n192874           1.0                 3.0                0.0          3.0  ...   \n192875           0.0                 0.0                0.0          0.0  ...   \n192876           0.0                 0.0                0.0          0.0  ...   \n192877           2.0                 4.0                0.0          4.0  ...   \n192878           0.0                 0.0                0.0          0.0  ...   \n\n        Cowork_Abroad  Cowork_etc  Log_RnD_Fund Log_Duration  Comm_Success  \\\n0                   N           N     21.365120     5.897157           0.0   \n1                   N           N     19.568083     5.897157           0.0   \n2                   N           N     21.365120     5.897157           0.0   \n3                   N           N     19.673444     5.808145           0.0   \n4                   N           N     17.504390     4.804029           0.0   \n...               ...         ...           ...          ...           ...   \n192874              N           N     20.723266     6.302621           0.0   \n192875              N           Y     21.920324     6.302621           0.0   \n192876              N           N     20.482467     6.998511           0.0   \n192877              N           N     20.430236     6.998511           1.0   \n192878              N           N     20.584004     6.998511           0.0   \n\n       Comm_Success_1  Comm_Success_2 Comm_Success_Code1_4  \\\n0                 0.0             0.0                  0.0   \n1                 0.0             0.0                  0.0   \n2                 0.0             0.0                  0.0   \n3                 0.0             0.0                  0.0   \n4                 0.0             0.0                  0.0   \n...               ...             ...                  ...   \n192874            0.0             0.0                  0.0   \n192875            0.0             0.0                  0.0   \n192876            0.0             0.0                  0.0   \n192877            1.0             0.0                  0.0   \n192878            0.0             0.0                  0.0   \n\n        Comm_Success_Code2_5 Comm_Success_Code3_6  \n0                        0.0                  0.0  \n1                        0.0                  0.0  \n2                        0.0                  0.0  \n3                        0.0                  0.0  \n4                        0.0                  0.0  \n...                      ...                  ...  \n192874                   0.0                  0.0  \n192875                   0.0                  0.0  \n192876                   0.0                  0.0  \n192877                   1.0                  0.0  \n192878                   0.0                  0.0  \n\n[192879 rows x 41 columns]",
      "text/html": "<div>\n<style scoped>\n    .dataframe tbody tr th:only-of-type {\n        vertical-align: middle;\n    }\n\n    .dataframe tbody tr th {\n        vertical-align: top;\n    }\n\n    .dataframe thead th {\n        text-align: right;\n    }\n</style>\n<table border=\"1\" class=\"dataframe\">\n  <thead>\n    <tr style=\"text-align: right;\">\n      <th></th>\n      <th>index</th>\n      <th>Project_ID</th>\n      <th>Year</th>\n      <th>N_of_SCI</th>\n      <th>N_of_Paper</th>\n      <th>N_Patent_App</th>\n      <th>N_Patent_Reg</th>\n      <th>N_of_Korean_Patent</th>\n      <th>N_of_Inter_Patent</th>\n      <th>N_of_Patent</th>\n      <th>...</th>\n      <th>Cowork_Abroad</th>\n      <th>Cowork_etc</th>\n      <th>Log_RnD_Fund</th>\n      <th>Log_Duration</th>\n      <th>Comm_Success</th>\n      <th>Comm_Success_1</th>\n      <th>Comm_Success_2</th>\n      <th>Comm_Success_Code1_4</th>\n      <th>Comm_Success_Code2_5</th>\n      <th>Comm_Success_Code3_6</th>\n    </tr>\n  </thead>\n  <tbody>\n    <tr>\n      <th>0</th>\n      <td>0</td>\n      <td>1055000474</td>\n      <td>2013.0</td>\n      <td>0.0</td>\n      <td>0.0</td>\n      <td>0.0</td>\n      <td>0.0</td>\n      <td>0.0</td>\n      <td>0.0</td>\n      <td>0.0</td>\n      <td>...</td>\n      <td>N</td>\n      <td>N</td>\n      <td>21.365120</td>\n      <td>5.897157</td>\n      <td>0.0</td>\n      <td>0.0</td>\n      <td>0.0</td>\n      <td>0.0</td>\n      <td>0.0</td>\n      <td>0.0</td>\n    </tr>\n    <tr>\n      <th>1</th>\n      <td>1</td>\n      <td>1055000475</td>\n      <td>2013.0</td>\n      <td>0.0</td>\n      <td>0.0</td>\n      <td>0.0</td>\n      <td>0.0</td>\n      <td>0.0</td>\n      <td>0.0</td>\n      <td>0.0</td>\n      <td>...</td>\n      <td>N</td>\n      <td>N</td>\n      <td>19.568083</td>\n      <td>5.897157</td>\n      <td>0.0</td>\n      <td>0.0</td>\n      <td>0.0</td>\n      <td>0.0</td>\n      <td>0.0</td>\n      <td>0.0</td>\n    </tr>\n    <tr>\n      <th>2</th>\n      <td>2</td>\n      <td>1055000476</td>\n      <td>2014.0</td>\n      <td>0.0</td>\n      <td>0.0</td>\n      <td>0.0</td>\n      <td>0.0</td>\n      <td>0.0</td>\n      <td>0.0</td>\n      <td>0.0</td>\n      <td>...</td>\n      <td>N</td>\n      <td>N</td>\n      <td>21.365120</td>\n      <td>5.897157</td>\n      <td>0.0</td>\n      <td>0.0</td>\n      <td>0.0</td>\n      <td>0.0</td>\n      <td>0.0</td>\n      <td>0.0</td>\n    </tr>\n    <tr>\n      <th>3</th>\n      <td>3</td>\n      <td>1055000477</td>\n      <td>2014.0</td>\n      <td>0.0</td>\n      <td>0.0</td>\n      <td>0.0</td>\n      <td>0.0</td>\n      <td>0.0</td>\n      <td>0.0</td>\n      <td>0.0</td>\n      <td>...</td>\n      <td>N</td>\n      <td>N</td>\n      <td>19.673444</td>\n      <td>5.808145</td>\n      <td>0.0</td>\n      <td>0.0</td>\n      <td>0.0</td>\n      <td>0.0</td>\n      <td>0.0</td>\n      <td>0.0</td>\n    </tr>\n    <tr>\n      <th>4</th>\n      <td>4</td>\n      <td>1055000478</td>\n      <td>2014.0</td>\n      <td>0.0</td>\n      <td>0.0</td>\n      <td>0.0</td>\n      <td>0.0</td>\n      <td>0.0</td>\n      <td>0.0</td>\n      <td>0.0</td>\n      <td>...</td>\n      <td>N</td>\n      <td>N</td>\n      <td>17.504390</td>\n      <td>4.804029</td>\n      <td>0.0</td>\n      <td>0.0</td>\n      <td>0.0</td>\n      <td>0.0</td>\n      <td>0.0</td>\n      <td>0.0</td>\n    </tr>\n    <tr>\n      <th>...</th>\n      <td>...</td>\n      <td>...</td>\n      <td>...</td>\n      <td>...</td>\n      <td>...</td>\n      <td>...</td>\n      <td>...</td>\n      <td>...</td>\n      <td>...</td>\n      <td>...</td>\n      <td>...</td>\n      <td>...</td>\n      <td>...</td>\n      <td>...</td>\n      <td>...</td>\n      <td>...</td>\n      <td>...</td>\n      <td>...</td>\n      <td>...</td>\n      <td>...</td>\n      <td>...</td>\n    </tr>\n    <tr>\n      <th>192874</th>\n      <td>192874</td>\n      <td>9991006121</td>\n      <td>2016.0</td>\n      <td>0.0</td>\n      <td>0.0</td>\n      <td>2.0</td>\n      <td>1.0</td>\n      <td>3.0</td>\n      <td>0.0</td>\n      <td>3.0</td>\n      <td>...</td>\n      <td>N</td>\n      <td>N</td>\n      <td>20.723266</td>\n      <td>6.302621</td>\n      <td>0.0</td>\n      <td>0.0</td>\n      <td>0.0</td>\n      <td>0.0</td>\n      <td>0.0</td>\n      <td>0.0</td>\n    </tr>\n    <tr>\n      <th>192875</th>\n      <td>192875</td>\n      <td>9991006122</td>\n      <td>2016.0</td>\n      <td>0.0</td>\n      <td>0.0</td>\n      <td>0.0</td>\n      <td>0.0</td>\n      <td>0.0</td>\n      <td>0.0</td>\n      <td>0.0</td>\n      <td>...</td>\n      <td>N</td>\n      <td>Y</td>\n      <td>21.920324</td>\n      <td>6.302621</td>\n      <td>0.0</td>\n      <td>0.0</td>\n      <td>0.0</td>\n      <td>0.0</td>\n      <td>0.0</td>\n      <td>0.0</td>\n    </tr>\n    <tr>\n      <th>192876</th>\n      <td>192876</td>\n      <td>9991006124</td>\n      <td>2016.0</td>\n      <td>0.0</td>\n      <td>0.0</td>\n      <td>0.0</td>\n      <td>0.0</td>\n      <td>0.0</td>\n      <td>0.0</td>\n      <td>0.0</td>\n      <td>...</td>\n      <td>N</td>\n      <td>N</td>\n      <td>20.482467</td>\n      <td>6.998511</td>\n      <td>0.0</td>\n      <td>0.0</td>\n      <td>0.0</td>\n      <td>0.0</td>\n      <td>0.0</td>\n      <td>0.0</td>\n    </tr>\n    <tr>\n      <th>192877</th>\n      <td>192877</td>\n      <td>9991006125</td>\n      <td>2016.0</td>\n      <td>0.0</td>\n      <td>0.0</td>\n      <td>2.0</td>\n      <td>2.0</td>\n      <td>4.0</td>\n      <td>0.0</td>\n      <td>4.0</td>\n      <td>...</td>\n      <td>N</td>\n      <td>N</td>\n      <td>20.430236</td>\n      <td>6.998511</td>\n      <td>1.0</td>\n      <td>1.0</td>\n      <td>0.0</td>\n      <td>0.0</td>\n      <td>1.0</td>\n      <td>0.0</td>\n    </tr>\n    <tr>\n      <th>192878</th>\n      <td>192878</td>\n      <td>9991006126</td>\n      <td>2016.0</td>\n      <td>0.0</td>\n      <td>0.0</td>\n      <td>0.0</td>\n      <td>0.0</td>\n      <td>0.0</td>\n      <td>0.0</td>\n      <td>0.0</td>\n      <td>...</td>\n      <td>N</td>\n      <td>N</td>\n      <td>20.584004</td>\n      <td>6.998511</td>\n      <td>0.0</td>\n      <td>0.0</td>\n      <td>0.0</td>\n      <td>0.0</td>\n      <td>0.0</td>\n      <td>0.0</td>\n    </tr>\n  </tbody>\n</table>\n<p>192879 rows × 41 columns</p>\n</div>"
     },
     "execution_count": 2,
     "metadata": {},
     "output_type": "execute_result"
    }
   ],
   "source": [
    "df=pd.read_csv('/Users/keumhyeonjun/Projects/kisti_renewal/dataset_final/Dataset_4_2016.csv')\n",
    "df"
   ],
   "metadata": {
    "collapsed": false,
    "pycharm": {
     "name": "#%%\n"
    }
   }
  },
  {
   "cell_type": "code",
   "execution_count": 3,
   "outputs": [],
   "source": [
    "NUMERIC_COLUMN = [\n",
    "    \"Log_RnD_Fund\",\n",
    "    \"Log_Duration\",\n",
    "    \"N_of_SCI\",\n",
    "    \"N_of_Paper\",\n",
    "    \"N_Patent_App\",\n",
    "    \"N_Patent_Reg\",\n",
    "    \"N_of_Korean_Patent\",\n",
    "    \"STP_Code_1_Weight\",\n",
    "    \"STP_Code_2_Weight\",\n",
    "    \"Application_Area_1_Weight\",\n",
    "    \"Application_Area_2_Weight\",\n",
    "]\n",
    "\n",
    "CATEGORICAL_COLUMN = [\n",
    "    \"Year\",\n",
    "    \"Multi_Year\",\n",
    "    \"RnD_Org\",\n",
    "    \"STP_Code_11\",\n",
    "    \"STP_Code_21\",\n",
    "    \"Application_Area_1\",\n",
    "    \"Application_Area_2\",\n",
    "    \"Green_Tech\",\n",
    "    \"SixT_2\",\n",
    "    \"Econ_Social\",\n",
    "    \"National_Strategy_2\",\n",
    "    \"RnD_Stage\",\n",
    "    \"Cowork_Cor\",\n",
    "    \"Cowork_Uni\",\n",
    "    \"Cowork_Inst\",\n",
    "    \"Cowork_Abroad\",\n",
    "    \"Cowork_etc\",\n",
    "]\n",
    "\n",
    "LABEL_COLUMN = [\"Comm_Success\"]"
   ],
   "metadata": {
    "collapsed": false,
    "pycharm": {
     "name": "#%%\n"
    }
   }
  },
  {
   "cell_type": "markdown",
   "source": [
    "# 불필요한 컬럼 제거(데이터로 사용하지 않을 것들)"
   ],
   "metadata": {
    "collapsed": false,
    "pycharm": {
     "name": "#%% md\n"
    }
   }
  },
  {
   "cell_type": "code",
   "execution_count": 4,
   "outputs": [],
   "source": [
    "ALL_COLUMN = df.columns.tolist()\n",
    "UNNESSARY_COLUMN=list(set(ALL_COLUMN)-set(NUMERIC_COLUMN)-set(CATEGORICAL_COLUMN)-set(LABEL_COLUMN))"
   ],
   "metadata": {
    "collapsed": false,
    "pycharm": {
     "name": "#%%\n"
    }
   }
  },
  {
   "cell_type": "markdown",
   "source": [
    "# 범주형 변수 인코딩 >  불필요한 컬럼 + 인코딩 전 범주형 변수 삭제 > 합치기\n",
    "#### [LightGBM] [Warning] Met categorical feature which contains sparse values. Consider renumbering to consecutive integers started from zero >> 해결하기\n"
   ],
   "metadata": {
    "collapsed": false,
    "pycharm": {
     "name": "#%% md\n"
    }
   }
  },
  {
   "cell_type": "code",
   "execution_count": 5,
   "outputs": [],
   "source": [
    "data =pd.concat([pd.get_dummies(df[CATEGORICAL_COLUMN]), df.drop(UNNESSARY_COLUMN+CATEGORICAL_COLUMN,axis=1)], axis=1)"
   ],
   "metadata": {
    "collapsed": false,
    "pycharm": {
     "name": "#%%\n"
    }
   }
  },
  {
   "cell_type": "code",
   "execution_count": 6,
   "outputs": [],
   "source": [
    "NEW_CATEGORICAL_COLUMN = list(set(data.columns.tolist()) - set(NUMERIC_COLUMN) - set(LABEL_COLUMN))"
   ],
   "metadata": {
    "collapsed": false,
    "pycharm": {
     "name": "#%%\n"
    }
   }
  },
  {
   "cell_type": "code",
   "execution_count": 7,
   "outputs": [],
   "source": [
    "train_data, test_data = train_test_split(data, test_size=0.2, random_state=42)\n",
    "train_data, val_data = train_test_split(train_data, test_size=0.2, random_state=42)"
   ],
   "metadata": {
    "collapsed": false,
    "pycharm": {
     "name": "#%%\n"
    }
   }
  },
  {
   "cell_type": "code",
   "execution_count": 8,
   "outputs": [],
   "source": [
    "x_train  = train_data.drop(LABEL_COLUMN,axis = 1)\n",
    "y_train = train_data[LABEL_COLUMN]\n",
    "\n",
    "x_val  = val_data.drop(LABEL_COLUMN,axis = 1)\n",
    "y_val = val_data[LABEL_COLUMN]\n",
    "\n",
    "x_test  = test_data.drop(LABEL_COLUMN,axis = 1)\n",
    "y_test = test_data[LABEL_COLUMN]"
   ],
   "metadata": {
    "collapsed": false,
    "pycharm": {
     "name": "#%%\n"
    }
   }
  },
  {
   "cell_type": "markdown",
   "source": [
    "# Hiper parameter optimize"
   ],
   "metadata": {
    "collapsed": false,
    "pycharm": {
     "name": "#%% md\n"
    }
   }
  },
  {
   "cell_type": "code",
   "execution_count": 9,
   "outputs": [],
   "source": [
    "import optuna\n",
    "from optuna import Trial, visualization\n",
    "from optuna.samplers import TPESampler"
   ],
   "metadata": {
    "collapsed": false,
    "pycharm": {
     "name": "#%%\n"
    }
   }
  },
  {
   "cell_type": "code",
   "execution_count": 10,
   "outputs": [],
   "source": [
    "from lightgbm import LGBMClassifier\n",
    "from sklearn.metrics import accuracy_score, precision_score, recall_score, confusion_matrix, f1_score\n"
   ],
   "metadata": {
    "collapsed": false,
    "pycharm": {
     "name": "#%%\n"
    }
   }
  },
  {
   "cell_type": "code",
   "execution_count": 20,
   "outputs": [
    {
     "name": "stderr",
     "output_type": "stream",
     "text": [
      "\u001B[32m[I 2022-09-29 16:26:38,700]\u001B[0m A new study created in memory with name: no-name-844f31bc-f8f4-4d5e-a53f-af963bd190b2\u001B[0m\n"
     ]
    },
    {
     "name": "stdout",
     "output_type": "stream",
     "text": [
      "[LightGBM] [Warning] bagging_fraction is set=0.28376078826935913, subsample=1.0 will be ignored. Current value: bagging_fraction=0.28376078826935913\n",
      "[LightGBM] [Warning] feature_fraction is set=0.8477449107253334, colsample_bytree=1.0 will be ignored. Current value: feature_fraction=0.8477449107253334\n",
      "[LightGBM] [Warning] bagging_freq is set=9, subsample_freq=0 will be ignored. Current value: bagging_freq=9\n",
      "[1]\tvalid_0's binary_error: 0.125466\n",
      "[2]\tvalid_0's binary_error: 0.125466\n",
      "[3]\tvalid_0's binary_error: 0.125466\n",
      "[4]\tvalid_0's binary_error: 0.125466\n",
      "[5]\tvalid_0's binary_error: 0.124137\n",
      "[6]\tvalid_0's binary_error: 0.115712\n",
      "[7]\tvalid_0's binary_error: 0.108162\n",
      "[8]\tvalid_0's binary_error: 0.102783\n",
      "[9]\tvalid_0's binary_error: 0.0977933\n",
      "[10]\tvalid_0's binary_error: 0.0958167\n",
      "[11]\tvalid_0's binary_error: 0.0936781\n",
      "[12]\tvalid_0's binary_error: 0.0924144\n",
      "[13]\tvalid_0's binary_error: 0.090697\n",
      "[14]\tvalid_0's binary_error: 0.0899517\n",
      "[15]\tvalid_0's binary_error: 0.0888824\n",
      "[16]\tvalid_0's binary_error: 0.0884288\n",
      "[17]\tvalid_0's binary_error: 0.0882991\n",
      "[18]\tvalid_0's binary_error: 0.0882019\n",
      "[19]\tvalid_0's binary_error: 0.0877807\n",
      "[20]\tvalid_0's binary_error: 0.0875863\n",
      "[21]\tvalid_0's binary_error: 0.087165\n",
      "[22]\tvalid_0's binary_error: 0.0870354\n",
      "[23]\tvalid_0's binary_error: 0.0864198\n",
      "[24]\tvalid_0's binary_error: 0.086679\n",
      "[25]\tvalid_0's binary_error: 0.0862253\n",
      "[26]\tvalid_0's binary_error: 0.0863873\n",
      "[27]\tvalid_0's binary_error: 0.0866466\n",
      "[28]\tvalid_0's binary_error: 0.0867114\n",
      "[29]\tvalid_0's binary_error: 0.0862901\n",
      "[30]\tvalid_0's binary_error: 0.0857069\n",
      "[31]\tvalid_0's binary_error: 0.0859661\n",
      "[32]\tvalid_0's binary_error: 0.0857393\n",
      "[33]\tvalid_0's binary_error: 0.0859985\n",
      "[34]\tvalid_0's binary_error: 0.0858365\n",
      "[35]\tvalid_0's binary_error: 0.0864846\n",
      "[36]\tvalid_0's binary_error: 0.0864198\n",
      "[37]\tvalid_0's binary_error: 0.0865818\n",
      "[38]\tvalid_0's binary_error: 0.0860957\n",
      "[39]\tvalid_0's binary_error: 0.0865494\n",
      "[40]\tvalid_0's binary_error: 0.0863549\n",
      "[41]\tvalid_0's binary_error: 0.0861605\n",
      "[42]\tvalid_0's binary_error: 0.0867114\n",
      "[43]\tvalid_0's binary_error: 0.0870354\n",
      "[44]\tvalid_0's binary_error: 0.0875539\n",
      "[45]\tvalid_0's binary_error: 0.0871326\n",
      "[46]\tvalid_0's binary_error: 0.0867762\n",
      "[47]\tvalid_0's binary_error: 0.0866466\n",
      "[48]\tvalid_0's binary_error: 0.087003\n",
      "[49]\tvalid_0's binary_error: 0.0864846\n",
      "[50]\tvalid_0's binary_error: 0.0863873\n",
      "[51]\tvalid_0's binary_error: 0.0863873\n",
      "[52]\tvalid_0's binary_error: 0.0866142\n",
      "[53]\tvalid_0's binary_error: 0.0866142\n",
      "[54]\tvalid_0's binary_error: 0.0859661\n",
      "[55]\tvalid_0's binary_error: 0.0865818\n",
      "[56]\tvalid_0's binary_error: 0.0867114\n",
      "[57]\tvalid_0's binary_error: 0.0864522\n",
      "[58]\tvalid_0's binary_error: 0.0865494\n",
      "[59]\tvalid_0's binary_error: 0.0865818\n",
      "[60]\tvalid_0's binary_error: 0.0864522\n",
      "[61]\tvalid_0's binary_error: 0.0864522\n",
      "[62]\tvalid_0's binary_error: 0.0861929\n",
      "[63]\tvalid_0's binary_error: 0.0860633\n",
      "[64]\tvalid_0's binary_error: 0.0856745\n",
      "[65]\tvalid_0's binary_error: 0.0860633\n",
      "[66]\tvalid_0's binary_error: 0.0862901\n",
      "[67]\tvalid_0's binary_error: 0.0860633\n",
      "[68]\tvalid_0's binary_error: 0.0859661\n",
      "[69]\tvalid_0's binary_error: 0.0861929\n",
      "[70]\tvalid_0's binary_error: 0.0860633\n",
      "[71]\tvalid_0's binary_error: 0.0859661\n",
      "[72]\tvalid_0's binary_error: 0.0856421\n",
      "[73]\tvalid_0's binary_error: 0.0854801\n",
      "[74]\tvalid_0's binary_error: 0.0859337\n",
      "[75]\tvalid_0's binary_error: 0.0853504\n",
      "[76]\tvalid_0's binary_error: 0.0854801\n",
      "[77]\tvalid_0's binary_error: 0.0852208\n",
      "[78]\tvalid_0's binary_error: 0.0855773\n",
      "[79]\tvalid_0's binary_error: 0.0855449\n",
      "[80]\tvalid_0's binary_error: 0.0859661\n",
      "[81]\tvalid_0's binary_error: 0.0853828\n",
      "[82]\tvalid_0's binary_error: 0.0859013\n",
      "[83]\tvalid_0's binary_error: 0.0854477\n",
      "[84]\tvalid_0's binary_error: 0.0850588\n",
      "[85]\tvalid_0's binary_error: 0.0858041\n",
      "[86]\tvalid_0's binary_error: 0.0858689\n",
      "[87]\tvalid_0's binary_error: 0.0860633\n",
      "[88]\tvalid_0's binary_error: 0.0861281\n",
      "[89]\tvalid_0's binary_error: 0.0860957\n",
      "[90]\tvalid_0's binary_error: 0.0863549\n",
      "[91]\tvalid_0's binary_error: 0.0859337\n",
      "[92]\tvalid_0's binary_error: 0.0863549\n",
      "[93]\tvalid_0's binary_error: 0.0864198\n",
      "[94]\tvalid_0's binary_error: 0.0862901\n",
      "[95]\tvalid_0's binary_error: 0.0860309\n",
      "[96]\tvalid_0's binary_error: 0.0859985\n",
      "[97]\tvalid_0's binary_error: 0.085318\n",
      "[98]\tvalid_0's binary_error: 0.085156\n",
      "[99]\tvalid_0's binary_error: 0.0853504\n",
      "[100]\tvalid_0's binary_error: 0.0853504\n"
     ]
    },
    {
     "name": "stderr",
     "output_type": "stream",
     "text": [
      "\u001B[32m[I 2022-09-29 16:26:56,535]\u001B[0m Trial 0 finished with value: 0.5982153204311044 and parameters: {'num_leaves': 269, 'feature_fraction': 0.8477449107253334, 'bagging_fraction': 0.28376078826935913, 'bagging_freq': 9, 'min_child_samples': 47}. Best is trial 0 with value: 0.5982153204311044.\u001B[0m\n"
     ]
    },
    {
     "name": "stdout",
     "output_type": "stream",
     "text": [
      "[LightGBM] [Warning] bagging_fraction is set=0.2819648188751249, subsample=1.0 will be ignored. Current value: bagging_fraction=0.2819648188751249\n",
      "[LightGBM] [Warning] feature_fraction is set=0.9488421644647973, colsample_bytree=1.0 will be ignored. Current value: feature_fraction=0.9488421644647973\n",
      "[LightGBM] [Warning] bagging_freq is set=10, subsample_freq=0 will be ignored. Current value: bagging_freq=10\n",
      "[1]\tvalid_0's binary_error: 0.125466\n",
      "[2]\tvalid_0's binary_error: 0.125466\n",
      "[3]\tvalid_0's binary_error: 0.125466\n",
      "[4]\tvalid_0's binary_error: 0.125466\n",
      "[5]\tvalid_0's binary_error: 0.121739\n",
      "[6]\tvalid_0's binary_error: 0.113574\n",
      "[7]\tvalid_0's binary_error: 0.106445\n",
      "[8]\tvalid_0's binary_error: 0.100612\n",
      "[9]\tvalid_0's binary_error: 0.0956871\n",
      "[10]\tvalid_0's binary_error: 0.0937753\n",
      "[11]\tvalid_0's binary_error: 0.0916367\n",
      "[12]\tvalid_0's binary_error: 0.0907618\n",
      "[13]\tvalid_0's binary_error: 0.0896277\n",
      "[14]\tvalid_0's binary_error: 0.088688\n",
      "[15]\tvalid_0's binary_error: 0.088688\n",
      "[16]\tvalid_0's binary_error: 0.0882667\n",
      "[17]\tvalid_0's binary_error: 0.088364\n",
      "[18]\tvalid_0's binary_error: 0.0883964\n",
      "[19]\tvalid_0's binary_error: 0.0875215\n",
      "[20]\tvalid_0's binary_error: 0.0878131\n",
      "[21]\tvalid_0's binary_error: 0.0878455\n",
      "[22]\tvalid_0's binary_error: 0.087165\n",
      "[23]\tvalid_0's binary_error: 0.0871002\n",
      "[24]\tvalid_0's binary_error: 0.0869382\n",
      "[25]\tvalid_0's binary_error: 0.0871002\n",
      "[26]\tvalid_0's binary_error: 0.0878779\n",
      "[27]\tvalid_0's binary_error: 0.0876511\n",
      "[28]\tvalid_0's binary_error: 0.0873595\n",
      "[29]\tvalid_0's binary_error: 0.086679\n",
      "[30]\tvalid_0's binary_error: 0.0867114\n",
      "[31]\tvalid_0's binary_error: 0.087003\n",
      "[32]\tvalid_0's binary_error: 0.0865494\n",
      "[33]\tvalid_0's binary_error: 0.0863549\n",
      "[34]\tvalid_0's binary_error: 0.0858365\n",
      "[35]\tvalid_0's binary_error: 0.0865494\n",
      "[36]\tvalid_0's binary_error: 0.0866142\n",
      "[37]\tvalid_0's binary_error: 0.0863873\n",
      "[38]\tvalid_0's binary_error: 0.0861281\n",
      "[39]\tvalid_0's binary_error: 0.0857717\n",
      "[40]\tvalid_0's binary_error: 0.0862901\n",
      "[41]\tvalid_0's binary_error: 0.0861281\n",
      "[42]\tvalid_0's binary_error: 0.0856097\n",
      "[43]\tvalid_0's binary_error: 0.0856421\n",
      "[44]\tvalid_0's binary_error: 0.0858365\n",
      "[45]\tvalid_0's binary_error: 0.0859337\n",
      "[46]\tvalid_0's binary_error: 0.0862253\n",
      "[47]\tvalid_0's binary_error: 0.0864522\n",
      "[48]\tvalid_0's binary_error: 0.0868086\n",
      "[49]\tvalid_0's binary_error: 0.0871002\n",
      "[50]\tvalid_0's binary_error: 0.0870678\n",
      "[51]\tvalid_0's binary_error: 0.0868734\n",
      "[52]\tvalid_0's binary_error: 0.0869058\n",
      "[53]\tvalid_0's binary_error: 0.0872622\n",
      "[54]\tvalid_0's binary_error: 0.0869382\n",
      "[55]\tvalid_0's binary_error: 0.0869382\n",
      "[56]\tvalid_0's binary_error: 0.0869382\n",
      "[57]\tvalid_0's binary_error: 0.086517\n",
      "[58]\tvalid_0's binary_error: 0.0866142\n",
      "[59]\tvalid_0's binary_error: 0.0870354\n",
      "[60]\tvalid_0's binary_error: 0.0870354\n",
      "[61]\tvalid_0's binary_error: 0.0868086\n",
      "[62]\tvalid_0's binary_error: 0.0866466\n",
      "[63]\tvalid_0's binary_error: 0.0863225\n",
      "[64]\tvalid_0's binary_error: 0.0867762\n",
      "[65]\tvalid_0's binary_error: 0.0869058\n",
      "[66]\tvalid_0's binary_error: 0.0870354\n",
      "[67]\tvalid_0's binary_error: 0.0870354\n",
      "[68]\tvalid_0's binary_error: 0.087165\n",
      "[69]\tvalid_0's binary_error: 0.0865818\n",
      "[70]\tvalid_0's binary_error: 0.0870354\n",
      "[71]\tvalid_0's binary_error: 0.0874243\n",
      "[72]\tvalid_0's binary_error: 0.0874243\n",
      "[73]\tvalid_0's binary_error: 0.0874567\n",
      "[74]\tvalid_0's binary_error: 0.0874243\n",
      "[75]\tvalid_0's binary_error: 0.0872298\n",
      "[76]\tvalid_0's binary_error: 0.0875539\n",
      "[77]\tvalid_0's binary_error: 0.0876835\n",
      "[78]\tvalid_0's binary_error: 0.0868086\n",
      "[79]\tvalid_0's binary_error: 0.0872946\n",
      "[80]\tvalid_0's binary_error: 0.0869706\n",
      "[81]\tvalid_0's binary_error: 0.0869382\n",
      "[82]\tvalid_0's binary_error: 0.086841\n",
      "[83]\tvalid_0's binary_error: 0.0870354\n",
      "[84]\tvalid_0's binary_error: 0.087327\n",
      "[85]\tvalid_0's binary_error: 0.0870354\n",
      "[86]\tvalid_0's binary_error: 0.0870678\n",
      "[87]\tvalid_0's binary_error: 0.0866466\n",
      "[88]\tvalid_0's binary_error: 0.0866142\n",
      "[89]\tvalid_0's binary_error: 0.0874243\n",
      "[90]\tvalid_0's binary_error: 0.0876835\n",
      "[91]\tvalid_0's binary_error: 0.0880723\n",
      "[92]\tvalid_0's binary_error: 0.0880723\n",
      "[93]\tvalid_0's binary_error: 0.0880723\n",
      "[94]\tvalid_0's binary_error: 0.0876835\n",
      "[95]\tvalid_0's binary_error: 0.0879751\n",
      "[96]\tvalid_0's binary_error: 0.0872622\n",
      "[97]\tvalid_0's binary_error: 0.0873919\n",
      "[98]\tvalid_0's binary_error: 0.0879103\n",
      "[99]\tvalid_0's binary_error: 0.0881371\n",
      "[100]\tvalid_0's binary_error: 0.0882343\n"
     ]
    },
    {
     "name": "stderr",
     "output_type": "stream",
     "text": [
      "\u001B[32m[I 2022-09-29 16:27:18,512]\u001B[0m Trial 1 finished with value: 0.5923183711244794 and parameters: {'num_leaves': 369, 'feature_fraction': 0.9488421644647973, 'bagging_fraction': 0.2819648188751249, 'bagging_freq': 10, 'min_child_samples': 42}. Best is trial 0 with value: 0.5982153204311044.\u001B[0m\n"
     ]
    },
    {
     "name": "stdout",
     "output_type": "stream",
     "text": [
      "[LightGBM] [Warning] bagging_fraction is set=0.5140045867013336, subsample=1.0 will be ignored. Current value: bagging_fraction=0.5140045867013336\n",
      "[LightGBM] [Warning] feature_fraction is set=0.3351261394989934, colsample_bytree=1.0 will be ignored. Current value: feature_fraction=0.3351261394989934\n",
      "[LightGBM] [Warning] bagging_freq is set=12, subsample_freq=0 will be ignored. Current value: bagging_freq=12\n",
      "[1]\tvalid_0's binary_error: 0.125466\n",
      "[2]\tvalid_0's binary_error: 0.125466\n",
      "[3]\tvalid_0's binary_error: 0.125466\n",
      "[4]\tvalid_0's binary_error: 0.125466\n",
      "[5]\tvalid_0's binary_error: 0.125369\n",
      "[6]\tvalid_0's binary_error: 0.124299\n",
      "[7]\tvalid_0's binary_error: 0.123748\n",
      "[8]\tvalid_0's binary_error: 0.1208\n",
      "[9]\tvalid_0's binary_error: 0.117689\n",
      "[10]\tvalid_0's binary_error: 0.11474\n",
      "[11]\tvalid_0's binary_error: 0.113347\n",
      "[12]\tvalid_0's binary_error: 0.108778\n",
      "[13]\tvalid_0's binary_error: 0.106056\n",
      "[14]\tvalid_0's binary_error: 0.103885\n",
      "[15]\tvalid_0's binary_error: 0.101973\n",
      "[16]\tvalid_0's binary_error: 0.100224\n",
      "[17]\tvalid_0's binary_error: 0.0987978\n",
      "[18]\tvalid_0's binary_error: 0.0978581\n",
      "[19]\tvalid_0's binary_error: 0.096724\n",
      "[20]\tvalid_0's binary_error: 0.0951363\n",
      "[21]\tvalid_0's binary_error: 0.0936133\n",
      "[22]\tvalid_0's binary_error: 0.0932893\n",
      "[23]\tvalid_0's binary_error: 0.0926088\n",
      "[24]\tvalid_0's binary_error: 0.092382\n",
      "[25]\tvalid_0's binary_error: 0.0920255\n",
      "[26]\tvalid_0's binary_error: 0.0914747\n",
      "[27]\tvalid_0's binary_error: 0.0900489\n",
      "[28]\tvalid_0's binary_error: 0.0896925\n",
      "[29]\tvalid_0's binary_error: 0.0898869\n",
      "[30]\tvalid_0's binary_error: 0.0891092\n",
      "[31]\tvalid_0's binary_error: 0.0882667\n",
      "[32]\tvalid_0's binary_error: 0.0881695\n",
      "[33]\tvalid_0's binary_error: 0.088364\n",
      "[34]\tvalid_0's binary_error: 0.0879751\n",
      "[35]\tvalid_0's binary_error: 0.0878131\n",
      "[36]\tvalid_0's binary_error: 0.0874567\n",
      "[37]\tvalid_0's binary_error: 0.0878131\n",
      "[38]\tvalid_0's binary_error: 0.0871326\n",
      "[39]\tvalid_0's binary_error: 0.0871974\n",
      "[40]\tvalid_0's binary_error: 0.0867114\n",
      "[41]\tvalid_0's binary_error: 0.0870678\n",
      "[42]\tvalid_0's binary_error: 0.086517\n",
      "[43]\tvalid_0's binary_error: 0.0864198\n",
      "[44]\tvalid_0's binary_error: 0.0859985\n",
      "[45]\tvalid_0's binary_error: 0.0859661\n",
      "[46]\tvalid_0's binary_error: 0.0855125\n",
      "[47]\tvalid_0's binary_error: 0.0857393\n",
      "[48]\tvalid_0's binary_error: 0.0859337\n",
      "[49]\tvalid_0's binary_error: 0.0857069\n",
      "[50]\tvalid_0's binary_error: 0.0855773\n",
      "[51]\tvalid_0's binary_error: 0.0855449\n",
      "[52]\tvalid_0's binary_error: 0.0854152\n",
      "[53]\tvalid_0's binary_error: 0.0852856\n",
      "[54]\tvalid_0's binary_error: 0.0856097\n",
      "[55]\tvalid_0's binary_error: 0.0856421\n",
      "[56]\tvalid_0's binary_error: 0.0855125\n",
      "[57]\tvalid_0's binary_error: 0.0856421\n",
      "[58]\tvalid_0's binary_error: 0.0856421\n",
      "[59]\tvalid_0's binary_error: 0.0854477\n",
      "[60]\tvalid_0's binary_error: 0.0851236\n",
      "[61]\tvalid_0's binary_error: 0.0850588\n",
      "[62]\tvalid_0's binary_error: 0.0849616\n",
      "[63]\tvalid_0's binary_error: 0.084994\n",
      "[64]\tvalid_0's binary_error: 0.0852208\n",
      "[65]\tvalid_0's binary_error: 0.0850912\n",
      "[66]\tvalid_0's binary_error: 0.084994\n",
      "[67]\tvalid_0's binary_error: 0.0852856\n",
      "[68]\tvalid_0's binary_error: 0.0852208\n",
      "[69]\tvalid_0's binary_error: 0.0852532\n",
      "[70]\tvalid_0's binary_error: 0.085318\n",
      "[71]\tvalid_0's binary_error: 0.0852208\n",
      "[72]\tvalid_0's binary_error: 0.0852208\n",
      "[73]\tvalid_0's binary_error: 0.0855773\n",
      "[74]\tvalid_0's binary_error: 0.085156\n",
      "[75]\tvalid_0's binary_error: 0.0850264\n",
      "[76]\tvalid_0's binary_error: 0.084832\n",
      "[77]\tvalid_0's binary_error: 0.0851884\n",
      "[78]\tvalid_0's binary_error: 0.0850264\n",
      "[79]\tvalid_0's binary_error: 0.0850912\n",
      "[80]\tvalid_0's binary_error: 0.084994\n",
      "[81]\tvalid_0's binary_error: 0.084832\n",
      "[82]\tvalid_0's binary_error: 0.084832\n",
      "[83]\tvalid_0's binary_error: 0.0846376\n",
      "[84]\tvalid_0's binary_error: 0.08467\n",
      "[85]\tvalid_0's binary_error: 0.08467\n",
      "[86]\tvalid_0's binary_error: 0.0849292\n",
      "[87]\tvalid_0's binary_error: 0.0847996\n",
      "[88]\tvalid_0's binary_error: 0.0845404\n",
      "[89]\tvalid_0's binary_error: 0.0844431\n",
      "[90]\tvalid_0's binary_error: 0.0845728\n",
      "[91]\tvalid_0's binary_error: 0.0850588\n",
      "[92]\tvalid_0's binary_error: 0.0851236\n",
      "[93]\tvalid_0's binary_error: 0.084994\n",
      "[94]\tvalid_0's binary_error: 0.0847996\n",
      "[95]\tvalid_0's binary_error: 0.0852208\n",
      "[96]\tvalid_0's binary_error: 0.0850264\n",
      "[97]\tvalid_0's binary_error: 0.0848968\n",
      "[98]\tvalid_0's binary_error: 0.0846376\n",
      "[99]\tvalid_0's binary_error: 0.0846376\n",
      "[100]\tvalid_0's binary_error: 0.0847348\n"
     ]
    },
    {
     "name": "stderr",
     "output_type": "stream",
     "text": [
      "\u001B[32m[I 2022-09-29 16:27:49,117]\u001B[0m Trial 2 finished with value: 0.6020082693443591 and parameters: {'num_leaves': 374, 'feature_fraction': 0.3351261394989934, 'bagging_fraction': 0.5140045867013336, 'bagging_freq': 12, 'min_child_samples': 20}. Best is trial 2 with value: 0.6020082693443591.\u001B[0m\n"
     ]
    },
    {
     "name": "stdout",
     "output_type": "stream",
     "text": [
      "[LightGBM] [Warning] bagging_fraction is set=0.28824674827143865, subsample=1.0 will be ignored. Current value: bagging_fraction=0.28824674827143865\n",
      "[LightGBM] [Warning] feature_fraction is set=0.9368129093010718, colsample_bytree=1.0 will be ignored. Current value: feature_fraction=0.9368129093010718\n",
      "[LightGBM] [Warning] bagging_freq is set=3, subsample_freq=0 will be ignored. Current value: bagging_freq=3\n",
      "[1]\tvalid_0's binary_error: 0.125466\n",
      "[2]\tvalid_0's binary_error: 0.125466\n",
      "[3]\tvalid_0's binary_error: 0.125466\n",
      "[4]\tvalid_0's binary_error: 0.125466\n",
      "[5]\tvalid_0's binary_error: 0.125466\n",
      "[6]\tvalid_0's binary_error: 0.125466\n",
      "[7]\tvalid_0's binary_error: 0.101617\n",
      "[8]\tvalid_0's binary_error: 0.101423\n",
      "[9]\tvalid_0's binary_error: 0.0977285\n",
      "[10]\tvalid_0's binary_error: 0.096886\n",
      "[11]\tvalid_0's binary_error: 0.0963028\n",
      "[12]\tvalid_0's binary_error: 0.096238\n",
      "[13]\tvalid_0's binary_error: 0.0961408\n",
      "[14]\tvalid_0's binary_error: 0.0952011\n",
      "[15]\tvalid_0's binary_error: 0.0940345\n",
      "[16]\tvalid_0's binary_error: 0.0929328\n",
      "[17]\tvalid_0's binary_error: 0.0926736\n",
      "[18]\tvalid_0's binary_error: 0.0923172\n",
      "[19]\tvalid_0's binary_error: 0.0916367\n",
      "[20]\tvalid_0's binary_error: 0.0915395\n",
      "[21]\tvalid_0's binary_error: 0.0914099\n",
      "[22]\tvalid_0's binary_error: 0.0911182\n",
      "[23]\tvalid_0's binary_error: 0.0907294\n",
      "[24]\tvalid_0's binary_error: 0.0907942\n",
      "[25]\tvalid_0's binary_error: 0.0906646\n",
      "[26]\tvalid_0's binary_error: 0.0904702\n",
      "[27]\tvalid_0's binary_error: 0.0903406\n",
      "[28]\tvalid_0's binary_error: 0.0900165\n",
      "[29]\tvalid_0's binary_error: 0.0896601\n",
      "[30]\tvalid_0's binary_error: 0.0894981\n",
      "[31]\tvalid_0's binary_error: 0.0893685\n",
      "[32]\tvalid_0's binary_error: 0.0896601\n",
      "[33]\tvalid_0's binary_error: 0.0891416\n",
      "[34]\tvalid_0's binary_error: 0.0894981\n",
      "[35]\tvalid_0's binary_error: 0.0892712\n",
      "[36]\tvalid_0's binary_error: 0.0897573\n",
      "[37]\tvalid_0's binary_error: 0.0898545\n",
      "[38]\tvalid_0's binary_error: 0.0894009\n",
      "[39]\tvalid_0's binary_error: 0.089012\n",
      "[40]\tvalid_0's binary_error: 0.0892388\n",
      "[41]\tvalid_0's binary_error: 0.0892388\n",
      "[42]\tvalid_0's binary_error: 0.0889472\n",
      "[43]\tvalid_0's binary_error: 0.0887852\n",
      "[44]\tvalid_0's binary_error: 0.0888824\n",
      "[45]\tvalid_0's binary_error: 0.0881695\n",
      "[46]\tvalid_0's binary_error: 0.0882991\n",
      "[47]\tvalid_0's binary_error: 0.0882019\n",
      "[48]\tvalid_0's binary_error: 0.0881047\n",
      "[49]\tvalid_0's binary_error: 0.0881371\n",
      "[50]\tvalid_0's binary_error: 0.0881371\n",
      "[51]\tvalid_0's binary_error: 0.0883316\n",
      "[52]\tvalid_0's binary_error: 0.0882019\n",
      "[53]\tvalid_0's binary_error: 0.0881695\n",
      "[54]\tvalid_0's binary_error: 0.0878779\n",
      "[55]\tvalid_0's binary_error: 0.0878779\n",
      "[56]\tvalid_0's binary_error: 0.0878131\n",
      "[57]\tvalid_0's binary_error: 0.0874891\n",
      "[58]\tvalid_0's binary_error: 0.0873595\n",
      "[59]\tvalid_0's binary_error: 0.0873595\n",
      "[60]\tvalid_0's binary_error: 0.0872298\n",
      "[61]\tvalid_0's binary_error: 0.0872946\n",
      "[62]\tvalid_0's binary_error: 0.0871002\n",
      "[63]\tvalid_0's binary_error: 0.087165\n",
      "[64]\tvalid_0's binary_error: 0.0870354\n",
      "[65]\tvalid_0's binary_error: 0.0872298\n",
      "[66]\tvalid_0's binary_error: 0.0869058\n",
      "[67]\tvalid_0's binary_error: 0.0870678\n",
      "[68]\tvalid_0's binary_error: 0.0869058\n",
      "[69]\tvalid_0's binary_error: 0.0869058\n",
      "[70]\tvalid_0's binary_error: 0.0866466\n",
      "[71]\tvalid_0's binary_error: 0.0866142\n",
      "[72]\tvalid_0's binary_error: 0.086841\n",
      "[73]\tvalid_0's binary_error: 0.0868086\n",
      "[74]\tvalid_0's binary_error: 0.0867762\n",
      "[75]\tvalid_0's binary_error: 0.0869382\n",
      "[76]\tvalid_0's binary_error: 0.0864198\n",
      "[77]\tvalid_0's binary_error: 0.0861281\n",
      "[78]\tvalid_0's binary_error: 0.0862901\n",
      "[79]\tvalid_0's binary_error: 0.086517\n",
      "[80]\tvalid_0's binary_error: 0.0862577\n",
      "[81]\tvalid_0's binary_error: 0.0863225\n",
      "[82]\tvalid_0's binary_error: 0.0862577\n",
      "[83]\tvalid_0's binary_error: 0.0868734\n",
      "[84]\tvalid_0's binary_error: 0.086679\n",
      "[85]\tvalid_0's binary_error: 0.0864522\n",
      "[86]\tvalid_0's binary_error: 0.0862901\n",
      "[87]\tvalid_0's binary_error: 0.0864198\n",
      "[88]\tvalid_0's binary_error: 0.0860957\n",
      "[89]\tvalid_0's binary_error: 0.0862253\n",
      "[90]\tvalid_0's binary_error: 0.0863873\n",
      "[91]\tvalid_0's binary_error: 0.0862577\n",
      "[92]\tvalid_0's binary_error: 0.0863873\n",
      "[93]\tvalid_0's binary_error: 0.0860309\n",
      "[94]\tvalid_0's binary_error: 0.0861929\n",
      "[95]\tvalid_0's binary_error: 0.0863873\n",
      "[96]\tvalid_0's binary_error: 0.0863225\n",
      "[97]\tvalid_0's binary_error: 0.0863873\n",
      "[98]\tvalid_0's binary_error: 0.0861605\n",
      "[99]\tvalid_0's binary_error: 0.0861281\n",
      "[100]\tvalid_0's binary_error: 0.0859985\n"
     ]
    },
    {
     "name": "stderr",
     "output_type": "stream",
     "text": [
      "\u001B[32m[I 2022-09-29 16:27:53,499]\u001B[0m Trial 3 finished with value: 0.5647293589423796 and parameters: {'num_leaves': 26, 'feature_fraction': 0.9368129093010718, 'bagging_fraction': 0.28824674827143865, 'bagging_freq': 3, 'min_child_samples': 89}. Best is trial 2 with value: 0.6020082693443591.\u001B[0m\n"
     ]
    },
    {
     "name": "stdout",
     "output_type": "stream",
     "text": [
      "[LightGBM] [Warning] bagging_fraction is set=0.6364782377043727, subsample=1.0 will be ignored. Current value: bagging_fraction=0.6364782377043727\n",
      "[LightGBM] [Warning] feature_fraction is set=0.7135746658390746, colsample_bytree=1.0 will be ignored. Current value: feature_fraction=0.7135746658390746\n",
      "[LightGBM] [Warning] bagging_freq is set=3, subsample_freq=0 will be ignored. Current value: bagging_freq=3\n",
      "[1]\tvalid_0's binary_error: 0.125466\n",
      "[2]\tvalid_0's binary_error: 0.125466\n",
      "[3]\tvalid_0's binary_error: 0.125466\n",
      "[4]\tvalid_0's binary_error: 0.125466\n",
      "[5]\tvalid_0's binary_error: 0.125466\n",
      "[6]\tvalid_0's binary_error: 0.125466\n",
      "[7]\tvalid_0's binary_error: 0.122971\n",
      "[8]\tvalid_0's binary_error: 0.102395\n",
      "[9]\tvalid_0's binary_error: 0.0996403\n",
      "[10]\tvalid_0's binary_error: 0.0986034\n",
      "[11]\tvalid_0's binary_error: 0.0975989\n",
      "[12]\tvalid_0's binary_error: 0.0970805\n",
      "[13]\tvalid_0's binary_error: 0.0964972\n",
      "[14]\tvalid_0's binary_error: 0.0952659\n",
      "[15]\tvalid_0's binary_error: 0.094553\n",
      "[16]\tvalid_0's binary_error: 0.0932569\n",
      "[17]\tvalid_0's binary_error: 0.0927708\n",
      "[18]\tvalid_0's binary_error: 0.0919607\n",
      "[19]\tvalid_0's binary_error: 0.0917987\n",
      "[20]\tvalid_0's binary_error: 0.0915395\n",
      "[21]\tvalid_0's binary_error: 0.0912479\n",
      "[22]\tvalid_0's binary_error: 0.0905026\n",
      "[23]\tvalid_0's binary_error: 0.0900165\n",
      "[24]\tvalid_0's binary_error: 0.0898545\n",
      "[25]\tvalid_0's binary_error: 0.0896925\n",
      "[26]\tvalid_0's binary_error: 0.0896925\n",
      "[27]\tvalid_0's binary_error: 0.0897249\n",
      "[28]\tvalid_0's binary_error: 0.0893361\n",
      "[29]\tvalid_0's binary_error: 0.0894009\n",
      "[30]\tvalid_0's binary_error: 0.0892388\n",
      "[31]\tvalid_0's binary_error: 0.0887852\n",
      "[32]\tvalid_0's binary_error: 0.0892064\n",
      "[33]\tvalid_0's binary_error: 0.0890768\n",
      "[34]\tvalid_0's binary_error: 0.0885908\n",
      "[35]\tvalid_0's binary_error: 0.0886232\n",
      "[36]\tvalid_0's binary_error: 0.0883964\n",
      "[37]\tvalid_0's binary_error: 0.0884612\n",
      "[38]\tvalid_0's binary_error: 0.0881371\n",
      "[39]\tvalid_0's binary_error: 0.0880075\n",
      "[40]\tvalid_0's binary_error: 0.0881695\n",
      "[41]\tvalid_0's binary_error: 0.0879751\n",
      "[42]\tvalid_0's binary_error: 0.0879103\n",
      "[43]\tvalid_0's binary_error: 0.0879751\n",
      "[44]\tvalid_0's binary_error: 0.0880075\n",
      "[45]\tvalid_0's binary_error: 0.0882019\n",
      "[46]\tvalid_0's binary_error: 0.0882343\n",
      "[47]\tvalid_0's binary_error: 0.0880075\n",
      "[48]\tvalid_0's binary_error: 0.0879427\n",
      "[49]\tvalid_0's binary_error: 0.0880399\n",
      "[50]\tvalid_0's binary_error: 0.0881371\n",
      "[51]\tvalid_0's binary_error: 0.0881695\n",
      "[52]\tvalid_0's binary_error: 0.0877807\n",
      "[53]\tvalid_0's binary_error: 0.0876511\n",
      "[54]\tvalid_0's binary_error: 0.0876511\n",
      "[55]\tvalid_0's binary_error: 0.0875863\n",
      "[56]\tvalid_0's binary_error: 0.0876511\n",
      "[57]\tvalid_0's binary_error: 0.0876187\n",
      "[58]\tvalid_0's binary_error: 0.0874891\n",
      "[59]\tvalid_0's binary_error: 0.0875215\n",
      "[60]\tvalid_0's binary_error: 0.0872298\n",
      "[61]\tvalid_0's binary_error: 0.0871326\n",
      "[62]\tvalid_0's binary_error: 0.086841\n",
      "[63]\tvalid_0's binary_error: 0.0869706\n",
      "[64]\tvalid_0's binary_error: 0.0869706\n",
      "[65]\tvalid_0's binary_error: 0.086679\n",
      "[66]\tvalid_0's binary_error: 0.0866466\n",
      "[67]\tvalid_0's binary_error: 0.0867114\n",
      "[68]\tvalid_0's binary_error: 0.0868086\n",
      "[69]\tvalid_0's binary_error: 0.086841\n",
      "[70]\tvalid_0's binary_error: 0.087003\n",
      "[71]\tvalid_0's binary_error: 0.0868734\n",
      "[72]\tvalid_0's binary_error: 0.0866142\n",
      "[73]\tvalid_0's binary_error: 0.0868086\n",
      "[74]\tvalid_0's binary_error: 0.086841\n",
      "[75]\tvalid_0's binary_error: 0.0865818\n",
      "[76]\tvalid_0's binary_error: 0.0863549\n",
      "[77]\tvalid_0's binary_error: 0.0864846\n",
      "[78]\tvalid_0's binary_error: 0.0864846\n",
      "[79]\tvalid_0's binary_error: 0.0867114\n",
      "[80]\tvalid_0's binary_error: 0.0865494\n",
      "[81]\tvalid_0's binary_error: 0.0864198\n",
      "[82]\tvalid_0's binary_error: 0.0860957\n",
      "[83]\tvalid_0's binary_error: 0.0863225\n",
      "[84]\tvalid_0's binary_error: 0.0861605\n",
      "[85]\tvalid_0's binary_error: 0.0862901\n",
      "[86]\tvalid_0's binary_error: 0.0863225\n",
      "[87]\tvalid_0's binary_error: 0.086517\n",
      "[88]\tvalid_0's binary_error: 0.0864846\n",
      "[89]\tvalid_0's binary_error: 0.0864846\n",
      "[90]\tvalid_0's binary_error: 0.0863225\n",
      "[91]\tvalid_0's binary_error: 0.0863225\n",
      "[92]\tvalid_0's binary_error: 0.086517\n",
      "[93]\tvalid_0's binary_error: 0.086517\n",
      "[94]\tvalid_0's binary_error: 0.0866142\n",
      "[95]\tvalid_0's binary_error: 0.0863873\n",
      "[96]\tvalid_0's binary_error: 0.0863873\n",
      "[97]\tvalid_0's binary_error: 0.0862901\n",
      "[98]\tvalid_0's binary_error: 0.0864198\n",
      "[99]\tvalid_0's binary_error: 0.0864522\n"
     ]
    },
    {
     "name": "stderr",
     "output_type": "stream",
     "text": [
      "\u001B[32m[I 2022-09-29 16:27:57,892]\u001B[0m Trial 4 finished with value: 0.5696939660512946 and parameters: {'num_leaves': 26, 'feature_fraction': 0.7135746658390746, 'bagging_fraction': 0.6364782377043727, 'bagging_freq': 3, 'min_child_samples': 97}. Best is trial 2 with value: 0.6020082693443591.\u001B[0m\n"
     ]
    },
    {
     "name": "stdout",
     "output_type": "stream",
     "text": [
      "[100]\tvalid_0's binary_error: 0.0864522\n",
      "study.best_params: 0.6020082693443591\n",
      "Number of finished trials: 5\n",
      "Best trial: {'num_leaves': 374, 'feature_fraction': 0.3351261394989934, 'bagging_fraction': 0.5140045867013336, 'bagging_freq': 12, 'min_child_samples': 20}\n",
      "study.best_params: {'num_leaves': 374, 'feature_fraction': 0.3351261394989934, 'bagging_fraction': 0.5140045867013336, 'bagging_freq': 12, 'min_child_samples': 20}\n"
     ]
    }
   ],
   "source": [
    "def objective(trial):\n",
    "    param = {\n",
    "        \"objective\": \"binary\",\n",
    "        \"metric\": \"binary_error\",\n",
    "        \"verbosity\": -1,\n",
    "        \"boosting_type\": \"gbdt\",\n",
    "        'num_leaves': trial.suggest_int('num_leaves', 2, 512),\n",
    "        'feature_fraction': trial.suggest_uniform('feature_fraction', 0.1, 1.0),\n",
    "        'bagging_fraction': trial.suggest_uniform('bagging_fraction', 0.1, 1.0),\n",
    "        'bagging_freq': trial.suggest_int('bagging_freq', 0, 15),\n",
    "        'min_child_samples': trial.suggest_int('min_child_samples', 1, 100),\n",
    "    }\n",
    "    lgbm = LGBMClassifier(**param)\n",
    "    lgbm.fit(x_train, y_train,  eval_set = (x_val,y_val),\n",
    "             categorical_feature =NEW_CATEGORICAL_COLUMN)\n",
    "    pred = lgbm.predict(x_test)\n",
    "    f1 = f1_score(y_test, pred)\n",
    "\n",
    "    return f1\n",
    "\n",
    "studyLGBM = optuna.create_study(direction='maximize')\n",
    "studyLGBM.optimize( objective, n_trials = 5)\n",
    "\n",
    "print('study.best_params:', studyLGBM.best_trial.value)\n",
    "print('Number of finished trials:', len(studyLGBM.trials))\n",
    "print('Best trial:', studyLGBM.best_trial.params)\n",
    "print('study.best_params:', studyLGBM.best_params)"
   ],
   "metadata": {
    "collapsed": false,
    "pycharm": {
     "name": "#%%\n"
    }
   }
  },
  {
   "cell_type": "code",
   "execution_count": 25,
   "outputs": [
    {
     "data": {
      "text/plain": "{'objective': 'binary',\n 'metric': 'binary_error',\n 'verbosity': -1,\n 'boosting_type': 'gbdt',\n 'num_leaves': 374,\n 'feature_fraction': 0.3351261394989934,\n 'bagging_fraction': 0.5140045867013336,\n 'bagging_freq': 12,\n 'min_child_samples': 20}"
     },
     "execution_count": 25,
     "metadata": {},
     "output_type": "execute_result"
    }
   ],
   "source": [
    "parameter = studyLGBM.best_params\n",
    "parameter_2 ={\"objective\": \"binary\",\n",
    "        \"metric\": \"binary_error\",\n",
    "        \"verbosity\": -1,\n",
    "        \"boosting_type\": \"gbdt\"\n",
    "\t\t\t  }\n",
    "parameter =dict(**parameter_2, **parameter)\n",
    "parameter"
   ],
   "metadata": {
    "collapsed": false,
    "pycharm": {
     "name": "#%%\n"
    }
   }
  },
  {
   "cell_type": "code",
   "execution_count": 26,
   "outputs": [
    {
     "name": "stdout",
     "output_type": "stream",
     "text": [
      "[LightGBM] [Warning] bagging_fraction is set=0.5140045867013336, subsample=1.0 will be ignored. Current value: bagging_fraction=0.5140045867013336\n",
      "[LightGBM] [Warning] feature_fraction is set=0.3351261394989934, colsample_bytree=1.0 will be ignored. Current value: feature_fraction=0.3351261394989934\n",
      "[LightGBM] [Warning] bagging_freq is set=12, subsample_freq=0 will be ignored. Current value: bagging_freq=12\n",
      "[1]\tvalid_0's binary_error: 0.125466\n",
      "[2]\tvalid_0's binary_error: 0.125466\n",
      "[3]\tvalid_0's binary_error: 0.125466\n",
      "[4]\tvalid_0's binary_error: 0.125466\n",
      "[5]\tvalid_0's binary_error: 0.125369\n",
      "[6]\tvalid_0's binary_error: 0.124299\n",
      "[7]\tvalid_0's binary_error: 0.123748\n",
      "[8]\tvalid_0's binary_error: 0.1208\n",
      "[9]\tvalid_0's binary_error: 0.117689\n",
      "[10]\tvalid_0's binary_error: 0.11474\n",
      "[11]\tvalid_0's binary_error: 0.113347\n",
      "[12]\tvalid_0's binary_error: 0.108778\n",
      "[13]\tvalid_0's binary_error: 0.106056\n",
      "[14]\tvalid_0's binary_error: 0.103885\n",
      "[15]\tvalid_0's binary_error: 0.101973\n",
      "[16]\tvalid_0's binary_error: 0.100224\n",
      "[17]\tvalid_0's binary_error: 0.0987978\n",
      "[18]\tvalid_0's binary_error: 0.0978581\n",
      "[19]\tvalid_0's binary_error: 0.096724\n",
      "[20]\tvalid_0's binary_error: 0.0951363\n",
      "[21]\tvalid_0's binary_error: 0.0936133\n",
      "[22]\tvalid_0's binary_error: 0.0932893\n",
      "[23]\tvalid_0's binary_error: 0.0926088\n",
      "[24]\tvalid_0's binary_error: 0.092382\n",
      "[25]\tvalid_0's binary_error: 0.0920255\n",
      "[26]\tvalid_0's binary_error: 0.0914747\n",
      "[27]\tvalid_0's binary_error: 0.0900489\n",
      "[28]\tvalid_0's binary_error: 0.0896925\n",
      "[29]\tvalid_0's binary_error: 0.0898869\n",
      "[30]\tvalid_0's binary_error: 0.0891092\n",
      "[31]\tvalid_0's binary_error: 0.0882667\n",
      "[32]\tvalid_0's binary_error: 0.0881695\n",
      "[33]\tvalid_0's binary_error: 0.088364\n",
      "[34]\tvalid_0's binary_error: 0.0879751\n",
      "[35]\tvalid_0's binary_error: 0.0878131\n",
      "[36]\tvalid_0's binary_error: 0.0874567\n",
      "[37]\tvalid_0's binary_error: 0.0878131\n",
      "[38]\tvalid_0's binary_error: 0.0871326\n",
      "[39]\tvalid_0's binary_error: 0.0871974\n",
      "[40]\tvalid_0's binary_error: 0.0867114\n",
      "[41]\tvalid_0's binary_error: 0.0870678\n",
      "[42]\tvalid_0's binary_error: 0.086517\n",
      "[43]\tvalid_0's binary_error: 0.0864198\n",
      "[44]\tvalid_0's binary_error: 0.0859985\n",
      "[45]\tvalid_0's binary_error: 0.0859661\n",
      "[46]\tvalid_0's binary_error: 0.0855125\n",
      "[47]\tvalid_0's binary_error: 0.0857393\n",
      "[48]\tvalid_0's binary_error: 0.0859337\n",
      "[49]\tvalid_0's binary_error: 0.0857069\n",
      "[50]\tvalid_0's binary_error: 0.0855773\n",
      "[51]\tvalid_0's binary_error: 0.0855449\n",
      "[52]\tvalid_0's binary_error: 0.0854152\n",
      "[53]\tvalid_0's binary_error: 0.0852856\n",
      "[54]\tvalid_0's binary_error: 0.0856097\n",
      "[55]\tvalid_0's binary_error: 0.0856421\n",
      "[56]\tvalid_0's binary_error: 0.0855125\n",
      "[57]\tvalid_0's binary_error: 0.0856421\n",
      "[58]\tvalid_0's binary_error: 0.0856421\n",
      "[59]\tvalid_0's binary_error: 0.0854477\n",
      "[60]\tvalid_0's binary_error: 0.0851236\n",
      "[61]\tvalid_0's binary_error: 0.0850588\n",
      "[62]\tvalid_0's binary_error: 0.0849616\n",
      "[63]\tvalid_0's binary_error: 0.084994\n",
      "[64]\tvalid_0's binary_error: 0.0852208\n",
      "[65]\tvalid_0's binary_error: 0.0850912\n",
      "[66]\tvalid_0's binary_error: 0.084994\n",
      "[67]\tvalid_0's binary_error: 0.0852856\n",
      "[68]\tvalid_0's binary_error: 0.0852208\n",
      "[69]\tvalid_0's binary_error: 0.0852532\n",
      "[70]\tvalid_0's binary_error: 0.085318\n",
      "[71]\tvalid_0's binary_error: 0.0852208\n",
      "[72]\tvalid_0's binary_error: 0.0852208\n",
      "[73]\tvalid_0's binary_error: 0.0855773\n",
      "[74]\tvalid_0's binary_error: 0.085156\n",
      "[75]\tvalid_0's binary_error: 0.0850264\n",
      "[76]\tvalid_0's binary_error: 0.084832\n",
      "[77]\tvalid_0's binary_error: 0.0851884\n",
      "[78]\tvalid_0's binary_error: 0.0850264\n",
      "[79]\tvalid_0's binary_error: 0.0850912\n",
      "[80]\tvalid_0's binary_error: 0.084994\n",
      "[81]\tvalid_0's binary_error: 0.084832\n",
      "[82]\tvalid_0's binary_error: 0.084832\n",
      "[83]\tvalid_0's binary_error: 0.0846376\n",
      "[84]\tvalid_0's binary_error: 0.08467\n",
      "[85]\tvalid_0's binary_error: 0.08467\n",
      "[86]\tvalid_0's binary_error: 0.0849292\n",
      "[87]\tvalid_0's binary_error: 0.0847996\n",
      "[88]\tvalid_0's binary_error: 0.0845404\n",
      "[89]\tvalid_0's binary_error: 0.0844431\n",
      "[90]\tvalid_0's binary_error: 0.0845728\n",
      "[91]\tvalid_0's binary_error: 0.0850588\n",
      "[92]\tvalid_0's binary_error: 0.0851236\n",
      "[93]\tvalid_0's binary_error: 0.084994\n",
      "[94]\tvalid_0's binary_error: 0.0847996\n",
      "[95]\tvalid_0's binary_error: 0.0852208\n",
      "[96]\tvalid_0's binary_error: 0.0850264\n",
      "[97]\tvalid_0's binary_error: 0.0848968\n",
      "[98]\tvalid_0's binary_error: 0.0846376\n",
      "[99]\tvalid_0's binary_error: 0.0846376\n",
      "[100]\tvalid_0's binary_error: 0.0847348\n"
     ]
    },
    {
     "data": {
      "text/plain": "LGBMClassifier(bagging_fraction=0.5140045867013336, bagging_freq=12,\n               feature_fraction=0.3351261394989934, metric='binary_error',\n               num_leaves=374, objective='binary', verbosity=-1)",
      "text/html": "<style>#sk-container-id-1 {color: black;background-color: white;}#sk-container-id-1 pre{padding: 0;}#sk-container-id-1 div.sk-toggleable {background-color: white;}#sk-container-id-1 label.sk-toggleable__label {cursor: pointer;display: block;width: 100%;margin-bottom: 0;padding: 0.3em;box-sizing: border-box;text-align: center;}#sk-container-id-1 label.sk-toggleable__label-arrow:before {content: \"▸\";float: left;margin-right: 0.25em;color: #696969;}#sk-container-id-1 label.sk-toggleable__label-arrow:hover:before {color: black;}#sk-container-id-1 div.sk-estimator:hover label.sk-toggleable__label-arrow:before {color: black;}#sk-container-id-1 div.sk-toggleable__content {max-height: 0;max-width: 0;overflow: hidden;text-align: left;background-color: #f0f8ff;}#sk-container-id-1 div.sk-toggleable__content pre {margin: 0.2em;color: black;border-radius: 0.25em;background-color: #f0f8ff;}#sk-container-id-1 input.sk-toggleable__control:checked~div.sk-toggleable__content {max-height: 200px;max-width: 100%;overflow: auto;}#sk-container-id-1 input.sk-toggleable__control:checked~label.sk-toggleable__label-arrow:before {content: \"▾\";}#sk-container-id-1 div.sk-estimator input.sk-toggleable__control:checked~label.sk-toggleable__label {background-color: #d4ebff;}#sk-container-id-1 div.sk-label input.sk-toggleable__control:checked~label.sk-toggleable__label {background-color: #d4ebff;}#sk-container-id-1 input.sk-hidden--visually {border: 0;clip: rect(1px 1px 1px 1px);clip: rect(1px, 1px, 1px, 1px);height: 1px;margin: -1px;overflow: hidden;padding: 0;position: absolute;width: 1px;}#sk-container-id-1 div.sk-estimator {font-family: monospace;background-color: #f0f8ff;border: 1px dotted black;border-radius: 0.25em;box-sizing: border-box;margin-bottom: 0.5em;}#sk-container-id-1 div.sk-estimator:hover {background-color: #d4ebff;}#sk-container-id-1 div.sk-parallel-item::after {content: \"\";width: 100%;border-bottom: 1px solid gray;flex-grow: 1;}#sk-container-id-1 div.sk-label:hover label.sk-toggleable__label {background-color: #d4ebff;}#sk-container-id-1 div.sk-serial::before {content: \"\";position: absolute;border-left: 1px solid gray;box-sizing: border-box;top: 0;bottom: 0;left: 50%;z-index: 0;}#sk-container-id-1 div.sk-serial {display: flex;flex-direction: column;align-items: center;background-color: white;padding-right: 0.2em;padding-left: 0.2em;position: relative;}#sk-container-id-1 div.sk-item {position: relative;z-index: 1;}#sk-container-id-1 div.sk-parallel {display: flex;align-items: stretch;justify-content: center;background-color: white;position: relative;}#sk-container-id-1 div.sk-item::before, #sk-container-id-1 div.sk-parallel-item::before {content: \"\";position: absolute;border-left: 1px solid gray;box-sizing: border-box;top: 0;bottom: 0;left: 50%;z-index: -1;}#sk-container-id-1 div.sk-parallel-item {display: flex;flex-direction: column;z-index: 1;position: relative;background-color: white;}#sk-container-id-1 div.sk-parallel-item:first-child::after {align-self: flex-end;width: 50%;}#sk-container-id-1 div.sk-parallel-item:last-child::after {align-self: flex-start;width: 50%;}#sk-container-id-1 div.sk-parallel-item:only-child::after {width: 0;}#sk-container-id-1 div.sk-dashed-wrapped {border: 1px dashed gray;margin: 0 0.4em 0.5em 0.4em;box-sizing: border-box;padding-bottom: 0.4em;background-color: white;}#sk-container-id-1 div.sk-label label {font-family: monospace;font-weight: bold;display: inline-block;line-height: 1.2em;}#sk-container-id-1 div.sk-label-container {text-align: center;}#sk-container-id-1 div.sk-container {/* jupyter's `normalize.less` sets `[hidden] { display: none; }` but bootstrap.min.css set `[hidden] { display: none !important; }` so we also need the `!important` here to be able to override the default hidden behavior on the sphinx rendered scikit-learn.org. See: https://github.com/scikit-learn/scikit-learn/issues/21755 */display: inline-block !important;position: relative;}#sk-container-id-1 div.sk-text-repr-fallback {display: none;}</style><div id=\"sk-container-id-1\" class=\"sk-top-container\"><div class=\"sk-text-repr-fallback\"><pre>LGBMClassifier(bagging_fraction=0.5140045867013336, bagging_freq=12,\n               feature_fraction=0.3351261394989934, metric=&#x27;binary_error&#x27;,\n               num_leaves=374, objective=&#x27;binary&#x27;, verbosity=-1)</pre><b>In a Jupyter environment, please rerun this cell to show the HTML representation or trust the notebook. <br />On GitHub, the HTML representation is unable to render, please try loading this page with nbviewer.org.</b></div><div class=\"sk-container\" hidden><div class=\"sk-item\"><div class=\"sk-estimator sk-toggleable\"><input class=\"sk-toggleable__control sk-hidden--visually\" id=\"sk-estimator-id-1\" type=\"checkbox\" checked><label for=\"sk-estimator-id-1\" class=\"sk-toggleable__label sk-toggleable__label-arrow\">LGBMClassifier</label><div class=\"sk-toggleable__content\"><pre>LGBMClassifier(bagging_fraction=0.5140045867013336, bagging_freq=12,\n               feature_fraction=0.3351261394989934, metric=&#x27;binary_error&#x27;,\n               num_leaves=374, objective=&#x27;binary&#x27;, verbosity=-1)</pre></div></div></div></div></div>"
     },
     "execution_count": 26,
     "metadata": {},
     "output_type": "execute_result"
    }
   ],
   "source": [
    "lgbm = LGBMClassifier(**parameter)\n",
    "lgbm.fit(x_train, y_train,  eval_set = (x_val,y_val),\n",
    "         categorical_feature =NEW_CATEGORICAL_COLUMN)"
   ],
   "metadata": {
    "collapsed": false,
    "pycharm": {
     "name": "#%%\n"
    }
   }
  },
  {
   "cell_type": "code",
   "execution_count": 27,
   "outputs": [
    {
     "name": "stdout",
     "output_type": "stream",
     "text": [
      "Confusion Matrix\n",
      "[[32659  1042]\n",
      " [ 2327  2548]]\n",
      "accuracy:0.9127, precision:0.7097, recall:0.5227, f1-score:0.602\n"
     ]
    }
   ],
   "source": [
    "y_pred = lgbm.predict(x_test)\n",
    "y_true = np.array(y_test)\n",
    "\n",
    "from sklearn.metrics import accuracy_score, precision_score, recall_score, confusion_matrix, f1_score\n",
    "\n",
    "def get_clf_eval(y_test, pred):\n",
    "    confusion = confusion_matrix(y_test, pred)\n",
    "    accuracy = accuracy_score(y_test, pred)\n",
    "    precision = precision_score(y_test, pred)\n",
    "    recall = recall_score(y_test, pred)\n",
    "    f1 = f1_score(y_test,pred)\n",
    "    print('Confusion Matrix')\n",
    "    print(confusion)\n",
    "    print('accuracy:{}, precision:{}, recall:{}, f1-score:{}'.format(round(accuracy,4), round(precision,4) ,round(recall,4), round(f1,4)))\n",
    "\n",
    "get_clf_eval(y_true, y_pred)\n",
    "\n",
    "\n",
    "\n"
   ],
   "metadata": {
    "collapsed": false,
    "pycharm": {
     "name": "#%%\n"
    }
   }
  },
  {
   "cell_type": "code",
   "execution_count": 10,
   "outputs": [],
   "source": [],
   "metadata": {
    "collapsed": false,
    "pycharm": {
     "name": "#%%\n"
    }
   }
  },
  {
   "cell_type": "code",
   "execution_count": 10,
   "outputs": [],
   "source": [],
   "metadata": {
    "collapsed": false,
    "pycharm": {
     "name": "#%%\n"
    }
   }
  }
 ],
 "metadata": {
  "kernelspec": {
   "display_name": "Python 3",
   "language": "python",
   "name": "python3"
  },
  "language_info": {
   "codemirror_mode": {
    "name": "ipython",
    "version": 2
   },
   "file_extension": ".py",
   "mimetype": "text/x-python",
   "name": "python",
   "nbconvert_exporter": "python",
   "pygments_lexer": "ipython2",
   "version": "2.7.6"
  }
 },
 "nbformat": 4,
 "nbformat_minor": 0
}