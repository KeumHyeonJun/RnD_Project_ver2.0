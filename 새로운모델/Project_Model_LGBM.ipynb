{
 "cells": [
  {
   "cell_type": "code",
   "execution_count": 4,
   "metadata": {
    "collapsed": true
   },
   "outputs": [],
   "source": [
    "import pandas as pd\n",
    "import numpy as np\n",
    "from sklearn.model_selection import train_test_split\n",
    "import warnings\n",
    "warnings.filterwarnings(action='ignore')"
   ]
  },
  {
   "cell_type": "code",
   "execution_count": 73,
   "outputs": [
    {
     "data": {
      "text/plain": "         index  Project_ID    Year  N_of_SCI  N_of_Paper  N_Patent_App  \\\n0            0  1055000474  2013.0       0.0         0.0           0.0   \n1            1  1055000475  2013.0       0.0         0.0           0.0   \n2            2  1055000476  2014.0       0.0         0.0           0.0   \n3            3  1055000477  2014.0       0.0         0.0           0.0   \n4            4  1055000478  2014.0       0.0         0.0           0.0   \n...        ...         ...     ...       ...         ...           ...   \n192874  192874  9991006121  2016.0       0.0         0.0           2.0   \n192875  192875  9991006122  2016.0       0.0         0.0           0.0   \n192876  192876  9991006124  2016.0       0.0         0.0           0.0   \n192877  192877  9991006125  2016.0       0.0         0.0           2.0   \n192878  192878  9991006126  2016.0       0.0         0.0           0.0   \n\n        N_Patent_Reg  N_of_Korean_Patent  N_of_Inter_Patent  N_of_Patent  ...  \\\n0                0.0                 0.0                0.0          0.0  ...   \n1                0.0                 0.0                0.0          0.0  ...   \n2                0.0                 0.0                0.0          0.0  ...   \n3                0.0                 0.0                0.0          0.0  ...   \n4                0.0                 0.0                0.0          0.0  ...   \n...              ...                 ...                ...          ...  ...   \n192874           1.0                 3.0                0.0          3.0  ...   \n192875           0.0                 0.0                0.0          0.0  ...   \n192876           0.0                 0.0                0.0          0.0  ...   \n192877           2.0                 4.0                0.0          4.0  ...   \n192878           0.0                 0.0                0.0          0.0  ...   \n\n        Cowork_Abroad  Cowork_etc  Log_RnD_Fund Log_Duration  Comm_Success  \\\n0                   N           N     21.365120     5.897157           0.0   \n1                   N           N     19.568083     5.897157           0.0   \n2                   N           N     21.365120     5.897157           0.0   \n3                   N           N     19.673444     5.808145           0.0   \n4                   N           N     17.504390     4.804029           0.0   \n...               ...         ...           ...          ...           ...   \n192874              N           N     20.723266     6.302621           0.0   \n192875              N           Y     21.920324     6.302621           0.0   \n192876              N           N     20.482467     6.998511           0.0   \n192877              N           N     20.430236     6.998511           1.0   \n192878              N           N     20.584004     6.998511           0.0   \n\n       Comm_Success_1  Comm_Success_2 Comm_Success_Code1_4  \\\n0                 0.0             0.0                  0.0   \n1                 0.0             0.0                  0.0   \n2                 0.0             0.0                  0.0   \n3                 0.0             0.0                  0.0   \n4                 0.0             0.0                  0.0   \n...               ...             ...                  ...   \n192874            0.0             0.0                  0.0   \n192875            0.0             0.0                  0.0   \n192876            0.0             0.0                  0.0   \n192877            1.0             0.0                  0.0   \n192878            0.0             0.0                  0.0   \n\n        Comm_Success_Code2_5 Comm_Success_Code3_6  \n0                        0.0                  0.0  \n1                        0.0                  0.0  \n2                        0.0                  0.0  \n3                        0.0                  0.0  \n4                        0.0                  0.0  \n...                      ...                  ...  \n192874                   0.0                  0.0  \n192875                   0.0                  0.0  \n192876                   0.0                  0.0  \n192877                   1.0                  0.0  \n192878                   0.0                  0.0  \n\n[192879 rows x 41 columns]",
      "text/html": "<div>\n<style scoped>\n    .dataframe tbody tr th:only-of-type {\n        vertical-align: middle;\n    }\n\n    .dataframe tbody tr th {\n        vertical-align: top;\n    }\n\n    .dataframe thead th {\n        text-align: right;\n    }\n</style>\n<table border=\"1\" class=\"dataframe\">\n  <thead>\n    <tr style=\"text-align: right;\">\n      <th></th>\n      <th>index</th>\n      <th>Project_ID</th>\n      <th>Year</th>\n      <th>N_of_SCI</th>\n      <th>N_of_Paper</th>\n      <th>N_Patent_App</th>\n      <th>N_Patent_Reg</th>\n      <th>N_of_Korean_Patent</th>\n      <th>N_of_Inter_Patent</th>\n      <th>N_of_Patent</th>\n      <th>...</th>\n      <th>Cowork_Abroad</th>\n      <th>Cowork_etc</th>\n      <th>Log_RnD_Fund</th>\n      <th>Log_Duration</th>\n      <th>Comm_Success</th>\n      <th>Comm_Success_1</th>\n      <th>Comm_Success_2</th>\n      <th>Comm_Success_Code1_4</th>\n      <th>Comm_Success_Code2_5</th>\n      <th>Comm_Success_Code3_6</th>\n    </tr>\n  </thead>\n  <tbody>\n    <tr>\n      <th>0</th>\n      <td>0</td>\n      <td>1055000474</td>\n      <td>2013.0</td>\n      <td>0.0</td>\n      <td>0.0</td>\n      <td>0.0</td>\n      <td>0.0</td>\n      <td>0.0</td>\n      <td>0.0</td>\n      <td>0.0</td>\n      <td>...</td>\n      <td>N</td>\n      <td>N</td>\n      <td>21.365120</td>\n      <td>5.897157</td>\n      <td>0.0</td>\n      <td>0.0</td>\n      <td>0.0</td>\n      <td>0.0</td>\n      <td>0.0</td>\n      <td>0.0</td>\n    </tr>\n    <tr>\n      <th>1</th>\n      <td>1</td>\n      <td>1055000475</td>\n      <td>2013.0</td>\n      <td>0.0</td>\n      <td>0.0</td>\n      <td>0.0</td>\n      <td>0.0</td>\n      <td>0.0</td>\n      <td>0.0</td>\n      <td>0.0</td>\n      <td>...</td>\n      <td>N</td>\n      <td>N</td>\n      <td>19.568083</td>\n      <td>5.897157</td>\n      <td>0.0</td>\n      <td>0.0</td>\n      <td>0.0</td>\n      <td>0.0</td>\n      <td>0.0</td>\n      <td>0.0</td>\n    </tr>\n    <tr>\n      <th>2</th>\n      <td>2</td>\n      <td>1055000476</td>\n      <td>2014.0</td>\n      <td>0.0</td>\n      <td>0.0</td>\n      <td>0.0</td>\n      <td>0.0</td>\n      <td>0.0</td>\n      <td>0.0</td>\n      <td>0.0</td>\n      <td>...</td>\n      <td>N</td>\n      <td>N</td>\n      <td>21.365120</td>\n      <td>5.897157</td>\n      <td>0.0</td>\n      <td>0.0</td>\n      <td>0.0</td>\n      <td>0.0</td>\n      <td>0.0</td>\n      <td>0.0</td>\n    </tr>\n    <tr>\n      <th>3</th>\n      <td>3</td>\n      <td>1055000477</td>\n      <td>2014.0</td>\n      <td>0.0</td>\n      <td>0.0</td>\n      <td>0.0</td>\n      <td>0.0</td>\n      <td>0.0</td>\n      <td>0.0</td>\n      <td>0.0</td>\n      <td>...</td>\n      <td>N</td>\n      <td>N</td>\n      <td>19.673444</td>\n      <td>5.808145</td>\n      <td>0.0</td>\n      <td>0.0</td>\n      <td>0.0</td>\n      <td>0.0</td>\n      <td>0.0</td>\n      <td>0.0</td>\n    </tr>\n    <tr>\n      <th>4</th>\n      <td>4</td>\n      <td>1055000478</td>\n      <td>2014.0</td>\n      <td>0.0</td>\n      <td>0.0</td>\n      <td>0.0</td>\n      <td>0.0</td>\n      <td>0.0</td>\n      <td>0.0</td>\n      <td>0.0</td>\n      <td>...</td>\n      <td>N</td>\n      <td>N</td>\n      <td>17.504390</td>\n      <td>4.804029</td>\n      <td>0.0</td>\n      <td>0.0</td>\n      <td>0.0</td>\n      <td>0.0</td>\n      <td>0.0</td>\n      <td>0.0</td>\n    </tr>\n    <tr>\n      <th>...</th>\n      <td>...</td>\n      <td>...</td>\n      <td>...</td>\n      <td>...</td>\n      <td>...</td>\n      <td>...</td>\n      <td>...</td>\n      <td>...</td>\n      <td>...</td>\n      <td>...</td>\n      <td>...</td>\n      <td>...</td>\n      <td>...</td>\n      <td>...</td>\n      <td>...</td>\n      <td>...</td>\n      <td>...</td>\n      <td>...</td>\n      <td>...</td>\n      <td>...</td>\n      <td>...</td>\n    </tr>\n    <tr>\n      <th>192874</th>\n      <td>192874</td>\n      <td>9991006121</td>\n      <td>2016.0</td>\n      <td>0.0</td>\n      <td>0.0</td>\n      <td>2.0</td>\n      <td>1.0</td>\n      <td>3.0</td>\n      <td>0.0</td>\n      <td>3.0</td>\n      <td>...</td>\n      <td>N</td>\n      <td>N</td>\n      <td>20.723266</td>\n      <td>6.302621</td>\n      <td>0.0</td>\n      <td>0.0</td>\n      <td>0.0</td>\n      <td>0.0</td>\n      <td>0.0</td>\n      <td>0.0</td>\n    </tr>\n    <tr>\n      <th>192875</th>\n      <td>192875</td>\n      <td>9991006122</td>\n      <td>2016.0</td>\n      <td>0.0</td>\n      <td>0.0</td>\n      <td>0.0</td>\n      <td>0.0</td>\n      <td>0.0</td>\n      <td>0.0</td>\n      <td>0.0</td>\n      <td>...</td>\n      <td>N</td>\n      <td>Y</td>\n      <td>21.920324</td>\n      <td>6.302621</td>\n      <td>0.0</td>\n      <td>0.0</td>\n      <td>0.0</td>\n      <td>0.0</td>\n      <td>0.0</td>\n      <td>0.0</td>\n    </tr>\n    <tr>\n      <th>192876</th>\n      <td>192876</td>\n      <td>9991006124</td>\n      <td>2016.0</td>\n      <td>0.0</td>\n      <td>0.0</td>\n      <td>0.0</td>\n      <td>0.0</td>\n      <td>0.0</td>\n      <td>0.0</td>\n      <td>0.0</td>\n      <td>...</td>\n      <td>N</td>\n      <td>N</td>\n      <td>20.482467</td>\n      <td>6.998511</td>\n      <td>0.0</td>\n      <td>0.0</td>\n      <td>0.0</td>\n      <td>0.0</td>\n      <td>0.0</td>\n      <td>0.0</td>\n    </tr>\n    <tr>\n      <th>192877</th>\n      <td>192877</td>\n      <td>9991006125</td>\n      <td>2016.0</td>\n      <td>0.0</td>\n      <td>0.0</td>\n      <td>2.0</td>\n      <td>2.0</td>\n      <td>4.0</td>\n      <td>0.0</td>\n      <td>4.0</td>\n      <td>...</td>\n      <td>N</td>\n      <td>N</td>\n      <td>20.430236</td>\n      <td>6.998511</td>\n      <td>1.0</td>\n      <td>1.0</td>\n      <td>0.0</td>\n      <td>0.0</td>\n      <td>1.0</td>\n      <td>0.0</td>\n    </tr>\n    <tr>\n      <th>192878</th>\n      <td>192878</td>\n      <td>9991006126</td>\n      <td>2016.0</td>\n      <td>0.0</td>\n      <td>0.0</td>\n      <td>0.0</td>\n      <td>0.0</td>\n      <td>0.0</td>\n      <td>0.0</td>\n      <td>0.0</td>\n      <td>...</td>\n      <td>N</td>\n      <td>N</td>\n      <td>20.584004</td>\n      <td>6.998511</td>\n      <td>0.0</td>\n      <td>0.0</td>\n      <td>0.0</td>\n      <td>0.0</td>\n      <td>0.0</td>\n      <td>0.0</td>\n    </tr>\n  </tbody>\n</table>\n<p>192879 rows × 41 columns</p>\n</div>"
     },
     "execution_count": 73,
     "metadata": {},
     "output_type": "execute_result"
    }
   ],
   "source": [
    "df=pd.read_csv('/Users/keumhyeonjun/Projects/kisti_renewal/dataset_final/Dataset_4_2016.csv')\n",
    "df"
   ],
   "metadata": {
    "collapsed": false,
    "pycharm": {
     "name": "#%%\n"
    }
   }
  },
  {
   "cell_type": "code",
   "execution_count": 74,
   "outputs": [],
   "source": [
    "NUMERIC_COLUMN = [\n",
    "    \"Log_RnD_Fund\",\n",
    "    \"Log_Duration\",\n",
    "    \"N_of_SCI\",\n",
    "    \"N_of_Paper\",\n",
    "    \"N_Patent_App\",\n",
    "    \"N_Patent_Reg\",\n",
    "    \"N_of_Korean_Patent\",\n",
    "    \"STP_Code_1_Weight\",\n",
    "    \"STP_Code_2_Weight\",\n",
    "    \"Application_Area_1_Weight\",\n",
    "    \"Application_Area_2_Weight\",\n",
    "]\n",
    "\n",
    "CATEGORICAL_COLUMN = [\n",
    "    \"Year\",\n",
    "    \"Multi_Year\",\n",
    "    \"RnD_Org\",\n",
    "    \"STP_Code_11\",\n",
    "    \"STP_Code_21\",\n",
    "    \"Application_Area_1\",\n",
    "    \"Application_Area_2\",\n",
    "    \"Green_Tech\",\n",
    "    \"SixT_2\",\n",
    "    \"Econ_Social\",\n",
    "    \"National_Strategy_2\",\n",
    "    \"RnD_Stage\",\n",
    "    \"Cowork_Cor\",\n",
    "    \"Cowork_Uni\",\n",
    "    \"Cowork_Inst\",\n",
    "    \"Cowork_Abroad\",\n",
    "    \"Cowork_etc\",\n",
    "]\n",
    "\n",
    "LABEL_COLUMN = [\"Comm_Success\"]"
   ],
   "metadata": {
    "collapsed": false,
    "pycharm": {
     "name": "#%%\n"
    }
   }
  },
  {
   "cell_type": "markdown",
   "source": [
    "# 불필요한 컬럼 제거(데이터로 사용하지 않을 것들)"
   ],
   "metadata": {
    "collapsed": false,
    "pycharm": {
     "name": "#%% md\n"
    }
   }
  },
  {
   "cell_type": "code",
   "execution_count": 88,
   "outputs": [],
   "source": [
    "ALL_COLUMN = df.columns.tolist()\n",
    "UNNESSARY_COLUMN=list(set(ALL_COLUMN)-set(NUMERIC_COLUMN)-set(CATEGORICAL_COLUMN)-set(LABEL_COLUMN))"
   ],
   "metadata": {
    "collapsed": false,
    "pycharm": {
     "name": "#%%\n"
    }
   }
  },
  {
   "cell_type": "markdown",
   "source": [
    "# 범주형 변수 인코딩 >  불필요한 컬럼 + 인코딩 전 범주형 변수 삭제 > 합치기"
   ],
   "metadata": {
    "collapsed": false,
    "pycharm": {
     "name": "#%% md\n"
    }
   }
  },
  {
   "cell_type": "code",
   "execution_count": 92,
   "outputs": [],
   "source": [
    "data =pd.concat([pd.get_dummies(df[CATEGORICAL_COLUMN]), df.drop(UNNESSARY_COLUMN+CATEGORICAL_COLUMN,axis=1)], axis=1)"
   ],
   "metadata": {
    "collapsed": false,
    "pycharm": {
     "name": "#%%\n"
    }
   }
  },
  {
   "cell_type": "code",
   "execution_count": null,
   "outputs": [],
   "source": [
    "data"
   ],
   "metadata": {
    "collapsed": false,
    "pycharm": {
     "name": "#%%\n"
    }
   }
  },
  {
   "cell_type": "code",
   "execution_count": 94,
   "outputs": [
    {
     "data": {
      "text/plain": "['STP_Code_11_SC09',\n 'STP_Code_21_HE01',\n 'STP_Code_21_ED06',\n 'STP_Code_21_OB02',\n 'STP_Code_21_OC99',\n 'STP_Code_11_SD06',\n 'STP_Code_11_SC06',\n 'STP_Code_11_EI08',\n 'STP_Code_11_EH13',\n 'STP_Code_11_NB02',\n 'STP_Code_11_EG08',\n 'STP_Code_11_SG01',\n 'STP_Code_21_EA04',\n 'STP_Code_11_EH03',\n 'STP_Code_21_SC12',\n 'Application_Area_1_Y14',\n 'STP_Code_11_EE11',\n 'STP_Code_21_LA06',\n 'STP_Code_11_EA12',\n 'STP_Code_11_NC04',\n 'STP_Code_11_OC04',\n 'STP_Code_21_SB02',\n 'STP_Code_11_EA02',\n 'STP_Code_11_ZZ',\n 'STP_Code_21_SC10',\n 'STP_Code_21_LB14',\n 'STP_Code_11_HC01',\n 'STP_Code_21_EF99',\n 'STP_Code_21_SC03',\n 'STP_Code_21_OB99',\n 'STP_Code_21_SF02',\n 'Application_Area_2_X12',\n 'STP_Code_11_SI04',\n 'STP_Code_21_NC07',\n 'STP_Code_21_ND12',\n 'STP_Code_21_HD99',\n 'STP_Code_21_HB03',\n 'STP_Code_11_EH99',\n 'STP_Code_21_NA02',\n 'STP_Code_21_HE08',\n 'STP_Code_11_EF05',\n 'STP_Code_11_NA99',\n 'STP_Code_21_SE05',\n 'STP_Code_11_EG07',\n 'STP_Code_21_HA01',\n 'STP_Code_11_HB02',\n 'STP_Code_21_HB01',\n 'STP_Code_21_NC02',\n 'STP_Code_11_NC99',\n 'STP_Code_21_NA04',\n 'STP_Code_11_LB13',\n 'STP_Code_21_LA99',\n 'Application_Area_2_Y07',\n 'STP_Code_21_SC09',\n 'Application_Area_2_Y19',\n 'STP_Code_21_EI01',\n 'STP_Code_11_SG06',\n 'STP_Code_21_EE07',\n 'STP_Code_11_SB01',\n 'STP_Code_11_SD99',\n 'STP_Code_11_HE11',\n 'STP_Code_21_HE13',\n 'STP_Code_11_SE05',\n 'STP_Code_21_ND05',\n 'STP_Code_11_EF04',\n 'STP_Code_11_HD08',\n 'STP_Code_21_SB11',\n 'STP_Code_21_SD99',\n 'STP_Code_11_LA01',\n 'STP_Code_11_EI04',\n 'STP_Code_21_LB04',\n 'STP_Code_11_NB99',\n 'STP_Code_11_LB16',\n 'STP_Code_11_SF03',\n 'STP_Code_11_EG09',\n 'Multi_Year',\n 'STP_Code_21_SF05',\n 'Cowork_Abroad_N',\n 'STP_Code_11_LA03',\n 'STP_Code_11_SF02',\n 'STP_Code_21_EH03',\n 'STP_Code_11_LA06',\n 'STP_Code_21_NA08',\n 'STP_Code_11_OB02',\n 'STP_Code_11_EA15',\n 'STP_Code_11_OA03',\n 'Application_Area_2_Y18',\n 'STP_Code_11_OA99',\n 'STP_Code_21_SI05',\n 'STP_Code_11_NC06',\n 'STP_Code_21_LB17',\n 'STP_Code_11_HE07',\n 'STP_Code_11_EE14',\n 'STP_Code_11_HD07',\n 'Application_Area_1_Y01',\n 'STP_Code_11_EE12',\n 'STP_Code_21_SI04',\n 'STP_Code_11_SA03',\n 'Application_Area_1_Y15',\n 'STP_Code_21_None',\n 'STP_Code_21_EH07',\n 'Application_Area_2_X09',\n 'STP_Code_21_EI02',\n 'Cowork_Abroad_Y',\n 'STP_Code_21_SI03',\n 'STP_Code_21_EF01',\n 'STP_Code_11_SB11',\n 'STP_Code_21_ND13',\n 'RnD_Org',\n 'STP_Code_21_SD08',\n 'STP_Code_21_EE03',\n 'STP_Code_11_NB01',\n 'STP_Code_21_LC09',\n 'Application_Area_2_X01',\n 'STP_Code_21_EB01',\n 'STP_Code_21_EC09',\n 'STP_Code_11_HA03',\n 'STP_Code_21_NC04',\n 'STP_Code_11_SB08',\n 'STP_Code_11_EI12',\n 'STP_Code_11_OC03',\n 'Application_Area_2_Y04',\n 'STP_Code_21_SC02',\n 'STP_Code_21_NB08',\n 'STP_Code_21_OC02',\n 'STP_Code_11_EG99',\n 'STP_Code_21_LC12',\n 'STP_Code_11_EB04',\n 'STP_Code_11_EC09',\n 'STP_Code_11_EH05',\n 'STP_Code_11_NA08',\n 'STP_Code_11_EA10',\n 'STP_Code_11_EI01',\n 'STP_Code_11_LC01',\n 'STP_Code_11_OB01',\n 'STP_Code_11_EH15',\n 'STP_Code_21_NA01',\n 'STP_Code_21_EH10',\n 'STP_Code_11_HB08',\n 'STP_Code_21_EI03',\n 'STP_Code_21_SB01',\n 'STP_Code_21_EC04',\n 'STP_Code_11_EH11',\n 'STP_Code_21_SE06',\n 'STP_Code_11_SH06',\n 'STP_Code_11_SD08',\n 'STP_Code_21_LC05',\n 'STP_Code_11_NC10',\n 'STP_Code_11_NA01',\n 'STP_Code_21_EC01',\n 'STP_Code_21_LB08',\n 'STP_Code_21_EA01',\n 'STP_Code_11_ED07',\n 'STP_Code_11_EC02',\n 'STP_Code_11_LC04',\n 'STP_Code_11_ND13',\n 'STP_Code_11_EC03',\n 'STP_Code_21_HE14',\n 'Cowork_etc_Y',\n 'STP_Code_11_ED05',\n 'STP_Code_21_LC10',\n 'Cowork_Cor_N',\n 'STP_Code_21_ND07',\n 'STP_Code_21_NB07',\n 'STP_Code_21_ND02',\n 'STP_Code_11_ND10',\n 'STP_Code_11_SI02',\n 'STP_Code_11_EA01',\n 'Application_Area_2_X07',\n 'STP_Code_11_EA13',\n 'STP_Code_11_EE01',\n 'STP_Code_21_LB10',\n 'STP_Code_21_EH09',\n 'STP_Code_21_SB06',\n 'STP_Code_11_LA02',\n 'STP_Code_21_EG99',\n 'STP_Code_21_HB10',\n 'STP_Code_11_EE99',\n 'STP_Code_11_EG10',\n 'Application_Area_2_Y17',\n 'STP_Code_11_SA05',\n 'STP_Code_21_NC01',\n 'STP_Code_11_HA06',\n 'STP_Code_11_NC07',\n 'STP_Code_11_EB02',\n 'STP_Code_21_LA02',\n 'STP_Code_21_HA06',\n 'STP_Code_11_ND09',\n 'STP_Code_11_EE07',\n 'STP_Code_11_SB99',\n 'STP_Code_21_LB12',\n 'STP_Code_21_LC15',\n 'STP_Code_21_ED04',\n 'STP_Code_21_EA11',\n 'Application_Area_1_Y13',\n 'Year',\n 'STP_Code_21_EG10',\n 'STP_Code_21_LB15',\n 'STP_Code_21_SB05',\n 'STP_Code_21_EC02',\n 'STP_Code_21_EA07',\n 'STP_Code_21_ED11',\n 'STP_Code_21_EI04',\n 'STP_Code_11_HB04',\n 'STP_Code_11_LC07',\n 'STP_Code_11_SA01',\n 'STP_Code_11_LC06',\n 'STP_Code_11_SI05',\n 'STP_Code_21_EH12',\n 'Cowork_etc_N',\n 'STP_Code_11_LC13',\n 'STP_Code_21_EH08',\n 'STP_Code_21_ED03',\n 'STP_Code_11_EG06',\n 'STP_Code_21_HE06',\n 'Application_Area_1_X12',\n 'Cowork_Uni_N',\n 'STP_Code_21_HE15',\n 'STP_Code_21_NB99',\n 'STP_Code_21_HA04',\n 'STP_Code_21_SB12',\n 'STP_Code_11_ED11',\n 'STP_Code_11_HD99',\n 'STP_Code_11_HE01',\n 'Application_Area_1_Y05',\n 'Application_Area_2_Y03',\n 'STP_Code_11_NA10',\n 'Cowork_Inst_N',\n 'STP_Code_21_SI99',\n 'STP_Code_21_HB05',\n 'STP_Code_11_LC10',\n 'STP_Code_11_NA06',\n 'STP_Code_21_HE12',\n 'STP_Code_21_NC10',\n 'Application_Area_1_Y10',\n 'STP_Code_21_SH06',\n 'STP_Code_11_SI99',\n 'STP_Code_21_OB01',\n 'STP_Code_11_SI01',\n 'STP_Code_11_ED01',\n 'STP_Code_11_EB99',\n 'STP_Code_11_SD03',\n 'STP_Code_21_EH05',\n 'STP_Code_21_NC08',\n 'STP_Code_11_SA06',\n 'STP_Code_21_NB09',\n 'STP_Code_11_EG05',\n 'STP_Code_11_EF06',\n 'Application_Area_2_X06',\n 'STP_Code_21_EC11',\n 'STP_Code_11_LB03',\n 'STP_Code_21_EE10',\n 'STP_Code_11_SF99',\n 'STP_Code_21_LB13',\n 'STP_Code_11_EI10',\n 'STP_Code_21_EH13',\n 'STP_Code_21_EI08',\n 'Application_Area_2_Y12',\n 'STP_Code_11_LC05',\n 'STP_Code_21_NB03',\n 'STP_Code_21_SD01',\n 'STP_Code_21_EH15',\n 'STP_Code_21_OC01',\n 'STP_Code_21_SE99',\n 'Application_Area_2_Y99',\n 'STP_Code_11_HB03',\n 'STP_Code_21_ED01',\n 'STP_Code_11_EC11',\n 'STP_Code_21_EE01',\n 'STP_Code_11_LA09',\n 'STP_Code_21_EG08',\n 'STP_Code_21_SG99',\n 'STP_Code_21_NC05',\n 'STP_Code_11_LA11',\n 'STP_Code_11_EF03',\n 'STP_Code_21_ND04',\n 'STP_Code_11_SA07',\n 'STP_Code_21_EG03',\n 'STP_Code_21_LB11',\n 'Application_Area_1_Y11',\n 'STP_Code_21_EE12',\n 'STP_Code_21_HD02',\n 'STP_Code_21_LC11',\n 'STP_Code_21_NA07',\n 'STP_Code_21_HC05',\n 'STP_Code_21_HA03',\n 'STP_Code_21_LC07',\n 'Application_Area_2_None',\n 'STP_Code_11_SC04',\n 'STP_Code_21_EE06',\n 'Application_Area_1_Y12',\n 'STP_Code_21_SG05',\n 'STP_Code_21_EF04',\n 'STP_Code_11_SG05',\n 'STP_Code_21_LA07',\n 'STP_Code_21_SA99',\n 'Green_Tech',\n 'STP_Code_21_SH07',\n 'STP_Code_11_HC06',\n 'STP_Code_21_SH04',\n 'SixT_2',\n 'STP_Code_21_EB06',\n 'STP_Code_21_HE10',\n 'STP_Code_11_LB09',\n 'STP_Code_21_EH06',\n 'STP_Code_21_ED07',\n 'STP_Code_21_HD06',\n 'STP_Code_11_NB05',\n 'Application_Area_2_X04',\n 'STP_Code_21_LC06',\n 'STP_Code_11_EC06',\n 'STP_Code_21_SC13',\n 'Application_Area_1_Y06',\n 'Application_Area_1_X06',\n 'STP_Code_21_EC10',\n 'STP_Code_21_SE03',\n 'STP_Code_11_HD05',\n 'STP_Code_21_SI01',\n 'STP_Code_11_ND08',\n 'Application_Area_1_Y03',\n 'STP_Code_21_HB08',\n 'STP_Code_21_EA08',\n 'STP_Code_21_EF03',\n 'STP_Code_11_SC10',\n 'STP_Code_11_ND02',\n 'STP_Code_11_ND06',\n 'STP_Code_11_OA02',\n 'STP_Code_21_EH99',\n 'STP_Code_21_ND09',\n 'Application_Area_1_Y08',\n 'STP_Code_11_HE15',\n 'STP_Code_11_EC01',\n 'STP_Code_11_HC07',\n 'STP_Code_21_EE09',\n 'STP_Code_21_EF06',\n 'STP_Code_21_LC99',\n 'STP_Code_11_LB04',\n 'STP_Code_11_ND01',\n 'STP_Code_21_EA03',\n 'STP_Code_21_EB07',\n 'STP_Code_11_SE99',\n 'STP_Code_21_EG04',\n 'STP_Code_21_EC06',\n 'STP_Code_21_EG07',\n 'STP_Code_21_SG03',\n 'STP_Code_11_NB09',\n 'Application_Area_1_Y19',\n 'STP_Code_11_SD01',\n 'STP_Code_11_EF01',\n 'STP_Code_21_SF99',\n 'STP_Code_21_HE02',\n 'STP_Code_11_LB05',\n 'STP_Code_11_NC01',\n 'STP_Code_21_SC08',\n 'STP_Code_11_NA09',\n 'STP_Code_11_EA08',\n 'STP_Code_11_EH04',\n 'STP_Code_21_SD07',\n 'Application_Area_2_Y06',\n 'Application_Area_1_Y04',\n 'STP_Code_21_EI06',\n 'Application_Area_2_X11',\n 'STP_Code_11_SC11',\n 'STP_Code_11_LC15',\n 'STP_Code_21_NA10',\n 'STP_Code_21_ND03',\n 'STP_Code_11_EE04',\n 'STP_Code_21_EA15',\n 'STP_Code_11_SF07',\n 'National_Strategy_2',\n 'STP_Code_11_HE08',\n 'STP_Code_11_LC03',\n 'STP_Code_21_ED99',\n 'Application_Area_2_X02',\n 'STP_Code_21_ED10',\n 'STP_Code_21_NA06',\n 'Application_Area_2_Y08',\n 'STP_Code_11_ED10',\n 'STP_Code_11_SH99',\n 'STP_Code_21_NC06',\n 'STP_Code_11_LB17',\n 'STP_Code_21_HE07',\n 'STP_Code_21_NC99',\n 'STP_Code_21_ND01',\n 'STP_Code_11_LA05',\n 'STP_Code_11_NB07',\n 'STP_Code_21_EI09',\n 'STP_Code_21_HE99',\n 'STP_Code_21_SA05',\n 'STP_Code_11_EG03',\n 'STP_Code_21_LC13',\n 'STP_Code_21_EE08',\n 'STP_Code_11_SC13',\n 'STP_Code_11_EA11',\n 'STP_Code_21_EB99',\n 'STP_Code_21_SC11',\n 'STP_Code_11_SH01',\n 'STP_Code_11_LB14',\n 'STP_Code_11_SB02',\n 'STP_Code_11_SC08',\n 'STP_Code_21_ED02',\n 'STP_Code_11_LB20',\n 'Application_Area_1_X05',\n 'STP_Code_11_ND04',\n 'STP_Code_11_EE09',\n 'STP_Code_11_SF06',\n 'STP_Code_11_HE02',\n 'STP_Code_11_SB12',\n 'STP_Code_11_EF02',\n 'Application_Area_1_Y99',\n 'Application_Area_1_X01',\n 'STP_Code_21_EC07',\n 'STP_Code_11_EA03',\n 'STP_Code_21_SG07',\n 'STP_Code_11_SC12',\n 'STP_Code_11_SI03',\n 'Application_Area_1_X08',\n 'STP_Code_21_EB05',\n 'STP_Code_11_SA04',\n 'STP_Code_11_HC99',\n 'STP_Code_21_EB03',\n 'STP_Code_21_SC05',\n 'STP_Code_11_LC12',\n 'STP_Code_11_HD03',\n 'STP_Code_11_NC03',\n 'STP_Code_21_HE04',\n 'STP_Code_21_SC14',\n 'STP_Code_21_EH11',\n 'STP_Code_21_NC09',\n 'STP_Code_11_LB12',\n 'STP_Code_11_NB06',\n 'STP_Code_11_LB18',\n 'STP_Code_21_SG04',\n 'STP_Code_11_HE12',\n 'STP_Code_21_EG05',\n 'Application_Area_1_Y07',\n 'STP_Code_11_HE03',\n 'STP_Code_11_NA07',\n 'STP_Code_11_SG02',\n 'STP_Code_11_NB08',\n 'STP_Code_11_EE03',\n 'STP_Code_21_EF02',\n 'STP_Code_21_EI07',\n 'Application_Area_2_X99',\n 'STP_Code_11_HE04',\n 'STP_Code_21_NB01',\n 'STP_Code_21_SH08',\n 'STP_Code_11_EH09',\n 'STP_Code_11_LB11',\n 'STP_Code_11_LA10',\n 'STP_Code_11_EH02',\n 'Application_Area_2_X05',\n 'STP_Code_21_HE03',\n 'STP_Code_11_LC09',\n 'STP_Code_11_HD10',\n 'STP_Code_11_LB10',\n 'STP_Code_21_SF03',\n 'STP_Code_11_EI03',\n 'STP_Code_11_ND05',\n 'STP_Code_11_OC01',\n 'STP_Code_11_SC15',\n 'STP_Code_21_EI11',\n 'STP_Code_21_LA10',\n 'STP_Code_21_ND11',\n 'STP_Code_11_ND03',\n 'STP_Code_21_LA11',\n 'STP_Code_11_ZZ99',\n 'Application_Area_2_Y15',\n 'STP_Code_21_LC03',\n 'Application_Area_1_X11',\n 'STP_Code_21_EI12',\n 'Application_Area_1_X10',\n 'Application_Area_2_Y05',\n 'STP_Code_21_SG02',\n 'STP_Code_11_HA05',\n 'STP_Code_21_HE09',\n 'STP_Code_21_EA09',\n 'STP_Code_21_LA09',\n 'STP_Code_11_EE08',\n 'STP_Code_11_HD04',\n 'STP_Code_21_SD05',\n 'STP_Code_11_HB06',\n 'Application_Area_1_X02',\n 'STP_Code_11_HC08',\n 'STP_Code_11_OC02',\n 'STP_Code_11_LB07',\n 'STP_Code_11_SC02',\n 'STP_Code_21_LA01',\n 'STP_Code_11_HC02',\n 'STP_Code_11_HD02',\n 'STP_Code_21_SD06',\n 'STP_Code_21_SH02',\n 'STP_Code_21_EB02',\n 'STP_Code_11_SE03',\n 'STP_Code_21_SH01',\n 'STP_Code_21_SA01',\n 'STP_Code_11_SC16',\n 'STP_Code_11_HD09',\n 'STP_Code_21_EE14',\n 'STP_Code_21_OA03',\n 'Application_Area_2_X03',\n 'Application_Area_2_X10',\n 'STP_Code_21_EA12',\n 'STP_Code_21_SG06',\n 'STP_Code_11_EA09',\n 'STP_Code_11_SB06',\n 'STP_Code_11_SC01',\n 'STP_Code_11_NC08',\n 'STP_Code_11_LC02',\n 'STP_Code_21_EI05',\n 'STP_Code_11_SH04',\n 'STP_Code_11_EH10',\n 'STP_Code_11_EF99',\n 'STP_Code_11_EA04',\n 'STP_Code_21_SE04',\n 'STP_Code_11_EH07',\n 'Application_Area_1_X07',\n 'STP_Code_11_LB15',\n 'STP_Code_11_SD04',\n 'Application_Area_2_Y10',\n 'STP_Code_21_EG02',\n 'Application_Area_2_Y11',\n 'STP_Code_11_EI02',\n 'STP_Code_21_OA99',\n 'STP_Code_21_EA02',\n 'STP_Code_11_ED06',\n 'STP_Code_21_LC08',\n 'STP_Code_11_LC08',\n 'STP_Code_21_EE05',\n 'STP_Code_11_SE06',\n 'STP_Code_11_ND99',\n 'STP_Code_21_NA03',\n 'STP_Code_21_ED09',\n 'STP_Code_21_SD03',\n 'Application_Area_1_Y16',\n 'STP_Code_11_LA04',\n 'STP_Code_11_NA03',\n 'STP_Code_21_SG01',\n 'STP_Code_21_EH02',\n 'STP_Code_21_ND14',\n 'STP_Code_11_LC11',\n 'STP_Code_21_OA04',\n 'STP_Code_11_ED03',\n 'STP_Code_11_ED08',\n 'STP_Code_21_EA06',\n 'STP_Code_21_EB08',\n 'STP_Code_11_SI07',\n 'STP_Code_11_OA01',\n 'STP_Code_11_HB01',\n 'STP_Code_21_EG06',\n 'STP_Code_21_LC02',\n 'STP_Code_11_NB03',\n 'STP_Code_11_HD01',\n 'STP_Code_21_SH03',\n 'STP_Code_21_SF07',\n 'STP_Code_11_SI06',\n 'STP_Code_11_SA02',\n 'STP_Code_11_LB02',\n 'STP_Code_21_EA99',\n 'STP_Code_11_SH02',\n 'STP_Code_21_NA09',\n 'STP_Code_21_NC03',\n 'STP_Code_21_NB06',\n 'STP_Code_11_EA06',\n 'STP_Code_21_LA05',\n 'STP_Code_21_SA07',\n 'Application_Area_1_Y09',\n 'STP_Code_21_LB19',\n 'STP_Code_21_EE99',\n 'STP_Code_21_SB08',\n 'STP_Code_21_HE05',\n 'STP_Code_11_HA02',\n 'STP_Code_11_HC04',\n 'STP_Code_11_SB07',\n 'Application_Area_2_Y02',\n 'STP_Code_11_HA07',\n 'STP_Code_11_SC05',\n 'STP_Code_21_SB10',\n 'STP_Code_21_EA05',\n 'STP_Code_21_EF05',\n 'STP_Code_11_EG01',\n 'STP_Code_21_EA10',\n 'Application_Area_1_X03',\n 'STP_Code_11_EI09',\n 'STP_Code_21_EH14',\n 'STP_Code_21_LC04',\n 'STP_Code_21_HC02',\n 'Cowork_Uni_Y',\n 'STP_Code_21_ND06',\n 'STP_Code_11_EI07',\n 'STP_Code_21_NB05',\n 'STP_Code_11_SD02',\n 'STP_Code_11_EC08',\n 'STP_Code_11_EB06',\n 'STP_Code_11_SF01',\n 'STP_Code_11_LB19',\n 'Cowork_Cor_Y',\n 'STP_Code_21_EB04',\n 'STP_Code_11_OC99',\n 'STP_Code_11_HA99',\n 'STP_Code_11_ND14',\n 'STP_Code_11_LB01',\n 'STP_Code_21_HA05',\n 'STP_Code_11_EH14',\n 'STP_Code_11_EB03',\n 'STP_Code_21_LB03',\n 'STP_Code_11_ND12',\n 'STP_Code_11_EB07',\n 'STP_Code_11_NA05',\n 'Application_Area_2_Y13',\n 'STP_Code_11_HB09',\n 'STP_Code_11_EE10',\n 'STP_Code_11_SH08',\n 'Application_Area_1_Y02',\n 'Application_Area_2_Y01',\n 'STP_Code_11_EB08',\n 'STP_Code_11_SC07',\n 'STP_Code_11_SD05',\n 'STP_Code_11_OA04',\n 'STP_Code_11_SB09',\n 'STP_Code_11_HE10',\n 'STP_Code_11_SE01',\n 'STP_Code_21_SC16',\n 'STP_Code_11_ED99',\n 'STP_Code_11_EE02',\n 'STP_Code_11_LC14',\n 'STP_Code_11_HB10',\n 'STP_Code_21_EI10',\n 'STP_Code_11_SF04',\n 'STP_Code_21_HA07',\n 'STP_Code_11_EE13',\n 'STP_Code_21_LA04',\n 'STP_Code_21_ND99',\n 'STP_Code_11_EC99',\n 'STP_Code_11_EA07',\n 'STP_Code_21_EG09',\n 'STP_Code_11_SC14',\n 'STP_Code_21_SH99',\n 'STP_Code_21_OC03',\n 'STP_Code_21_EC99',\n 'STP_Code_21_HC12',\n 'STP_Code_11_EI11',\n 'STP_Code_11_HB07',\n 'STP_Code_11_ED09',\n 'STP_Code_21_LC14',\n 'STP_Code_11_HE99',\n 'STP_Code_21_OC04',\n 'STP_Code_21_SC15',\n 'STP_Code_11_EC10',\n 'STP_Code_11_ED04',\n 'STP_Code_11_EH06',\n 'STP_Code_21_SC99',\n 'STP_Code_11_NC09',\n 'Application_Area_1_X04',\n 'STP_Code_21_HA02',\n 'STP_Code_11_SB05',\n 'Application_Area_1_X09',\n 'STP_Code_21_SF01',\n 'STP_Code_21_EC05',\n 'STP_Code_11_HE13',\n 'STP_Code_11_SD09',\n 'STP_Code_11_EA14',\n 'Application_Area_1_Y18',\n 'STP_Code_21_SA06',\n 'STP_Code_11_HE14',\n 'STP_Code_11_ND11',\n 'STP_Code_21_SC07',\n 'STP_Code_21_SI02',\n 'STP_Code_11_LC99',\n 'STP_Code_11_EI05',\n 'Application_Area_1_Y17',\n 'STP_Code_11_SF05',\n 'STP_Code_11_LB08',\n 'STP_Code_21_NA99',\n 'Application_Area_2_X08',\n 'STP_Code_21_OA01',\n 'STP_Code_11_ED02',\n 'Application_Area_1_X99',\n 'STP_Code_21_HA99',\n 'STP_Code_21_LB18',\n 'STP_Code_11_HC09',\n 'STP_Code_21_HB02',\n 'STP_Code_21_LB06',\n 'STP_Code_21_SC06',\n 'STP_Code_11_EC05',\n 'STP_Code_21_EC03',\n 'STP_Code_11_EH08',\n 'STP_Code_21_LB07',\n 'STP_Code_11_EI99',\n 'STP_Code_11_NC02',\n 'STP_Code_11_SG04',\n 'STP_Code_21_LB09',\n 'STP_Code_11_EC07',\n 'Application_Area_2_Y14',\n 'STP_Code_11_SE02',\n 'STP_Code_11_EE05',\n 'RnD_Stage',\n 'STP_Code_11_EB05',\n 'STP_Code_21_HC01',\n 'STP_Code_11_EA05',\n 'STP_Code_21_EE11',\n 'STP_Code_11_SC99',\n 'STP_Code_11_NA04',\n 'STP_Code_21_LB05',\n 'STP_Code_11_SH03',\n 'STP_Code_11_HE09',\n 'STP_Code_21_SI07',\n 'STP_Code_21_NB04',\n 'STP_Code_21_ND10',\n 'STP_Code_11_SG99',\n 'STP_Code_11_HA04',\n 'STP_Code_11_SD07',\n 'STP_Code_21_EC08',\n 'STP_Code_21_HD05',\n 'STP_Code_21_HE11',\n 'STP_Code_21_EE02',\n 'Cowork_Inst_Y',\n 'STP_Code_21_SC01',\n 'STP_Code_21_EA13',\n 'STP_Code_21_LA08',\n 'STP_Code_21_ED05',\n 'STP_Code_21_LC01',\n 'STP_Code_21_SD09',\n 'STP_Code_11_EA99',\n 'STP_Code_11_SC03',\n 'STP_Code_21_LB16',\n 'STP_Code_11_SH07',\n 'STP_Code_21_OA02',\n 'STP_Code_11_SA99',\n 'STP_Code_21_SF04',\n 'STP_Code_11_HB05',\n 'STP_Code_21_SC04',\n 'STP_Code_11_LA07',\n 'STP_Code_11_HA01',\n 'STP_Code_11_NB04',\n 'STP_Code_21_LB20',\n 'STP_Code_11_NA02',\n 'STP_Code_21_SD02',\n 'STP_Code_21_SD04',\n 'STP_Code_11_LA99',\n 'STP_Code_11_EG04',\n 'STP_Code_11_HC12',\n 'STP_Code_21_ED08',\n 'STP_Code_11_HE05',\n 'STP_Code_11_LB99',\n 'STP_Code_11_HE06',\n 'STP_Code_21_NA05',\n 'Application_Area_2_Y09',\n 'STP_Code_21_ND08',\n 'STP_Code_11_EI06',\n 'STP_Code_21_LA03',\n 'STP_Code_21_EH04',\n 'STP_Code_11_ND07',\n 'STP_Code_21_NB02',\n 'STP_Code_21_LB99',\n 'Econ_Social',\n 'STP_Code_11_LA08',\n 'STP_Code_21_EI99',\n 'STP_Code_21_LB01',\n 'STP_Code_11_EE06',\n 'STP_Code_11_EH12',\n 'STP_Code_21_HD01',\n 'STP_Code_21_HB04',\n 'STP_Code_11_LB06',\n 'STP_Code_11_HC05',\n 'STP_Code_11_OB99',\n 'STP_Code_11_HC03',\n 'STP_Code_21_LB02',\n 'STP_Code_21_EE13',\n 'STP_Code_11_SB10',\n 'STP_Code_11_EB01',\n 'STP_Code_11_SG07',\n 'STP_Code_11_HD06',\n 'STP_Code_11_SG03',\n 'STP_Code_21_EA14',\n 'STP_Code_11_SE04',\n 'STP_Code_21_EG01',\n 'STP_Code_21_EH01',\n 'STP_Code_21_HD03',\n 'Application_Area_2_Y16',\n 'STP_Code_11_NC05',\n 'STP_Code_21_EE04',\n 'STP_Code_11_EH01',\n 'STP_Code_21_HC03',\n 'STP_Code_11_EC04',\n 'STP_Code_11_EG02']"
     },
     "execution_count": 94,
     "metadata": {},
     "output_type": "execute_result"
    }
   ],
   "source": [
    "NEW_CATEGORICAL_COLUMN = list(set(data.columns.tolist()) - set(NUMERIC_COLUMN) - set(LABEL_COLUMN))\n",
    "NEW_CATEGORICAL_COLUMN"
   ],
   "metadata": {
    "collapsed": false,
    "pycharm": {
     "name": "#%%\n"
    }
   }
  },
  {
   "cell_type": "code",
   "execution_count": 116,
   "outputs": [],
   "source": [
    "train_data, test_data = train_test_split(data, test_size=0.2, random_state=42)\n",
    "train_data, val_data = train_test_split(train_data, test_size=0.2, random_state=42)"
   ],
   "metadata": {
    "collapsed": false,
    "pycharm": {
     "name": "#%%\n"
    }
   }
  },
  {
   "cell_type": "code",
   "execution_count": 138,
   "outputs": [],
   "source": [
    "x_train  = train_data.drop(LABEL_COLUMN,axis = 1)\n",
    "y_train = train_data[LABEL_COLUMN]\n",
    "\n",
    "x_val  = val_data.drop(LABEL_COLUMN,axis = 1)\n",
    "y_val = val_data[LABEL_COLUMN]\n",
    "\n",
    "x_test  = test_data.drop(LABEL_COLUMN,axis = 1)\n",
    "y_test = test_data[LABEL_COLUMN]"
   ],
   "metadata": {
    "collapsed": false,
    "pycharm": {
     "name": "#%%\n"
    }
   }
  },
  {
   "cell_type": "code",
   "execution_count": null,
   "outputs": [],
   "source": [],
   "metadata": {
    "collapsed": false,
    "pycharm": {
     "name": "#%%\n"
    }
   }
  },
  {
   "cell_type": "code",
   "execution_count": 139,
   "outputs": [
    {
     "name": "stdout",
     "output_type": "stream",
     "text": [
      "[LightGBM] [Warning] Met categorical feature which contains sparse values. Consider renumbering to consecutive integers started from zero\n",
      "[LightGBM] [Warning] Met categorical feature which contains sparse values. Consider renumbering to consecutive integers started from zero\n",
      "[LightGBM] [Warning] Met categorical feature which contains sparse values. Consider renumbering to consecutive integers started from zero\n",
      "[1]\tvalid_0's binary_logloss: 0.341604\n",
      "[2]\tvalid_0's binary_logloss: 0.31888\n",
      "[3]\tvalid_0's binary_logloss: 0.301711\n",
      "[4]\tvalid_0's binary_logloss: 0.288241\n",
      "[5]\tvalid_0's binary_logloss: 0.276891\n",
      "[6]\tvalid_0's binary_logloss: 0.267478\n",
      "[7]\tvalid_0's binary_logloss: 0.259695\n",
      "[8]\tvalid_0's binary_logloss: 0.252888\n",
      "[9]\tvalid_0's binary_logloss: 0.247111\n",
      "[10]\tvalid_0's binary_logloss: 0.241977\n",
      "[11]\tvalid_0's binary_logloss: 0.237526\n",
      "[12]\tvalid_0's binary_logloss: 0.233623\n",
      "[13]\tvalid_0's binary_logloss: 0.230197\n",
      "[14]\tvalid_0's binary_logloss: 0.227093\n",
      "[15]\tvalid_0's binary_logloss: 0.224156\n",
      "[16]\tvalid_0's binary_logloss: 0.221375\n",
      "[17]\tvalid_0's binary_logloss: 0.219169\n",
      "[18]\tvalid_0's binary_logloss: 0.217035\n",
      "[19]\tvalid_0's binary_logloss: 0.215173\n",
      "[20]\tvalid_0's binary_logloss: 0.213406\n",
      "[21]\tvalid_0's binary_logloss: 0.211902\n",
      "[22]\tvalid_0's binary_logloss: 0.210449\n",
      "[23]\tvalid_0's binary_logloss: 0.209075\n",
      "[24]\tvalid_0's binary_logloss: 0.207917\n",
      "[25]\tvalid_0's binary_logloss: 0.206888\n",
      "[26]\tvalid_0's binary_logloss: 0.205963\n",
      "[27]\tvalid_0's binary_logloss: 0.205012\n",
      "[28]\tvalid_0's binary_logloss: 0.204107\n",
      "[29]\tvalid_0's binary_logloss: 0.20335\n",
      "[30]\tvalid_0's binary_logloss: 0.202671\n",
      "[31]\tvalid_0's binary_logloss: 0.202064\n",
      "[32]\tvalid_0's binary_logloss: 0.20136\n",
      "[33]\tvalid_0's binary_logloss: 0.200688\n",
      "[34]\tvalid_0's binary_logloss: 0.200043\n",
      "[35]\tvalid_0's binary_logloss: 0.199365\n",
      "[36]\tvalid_0's binary_logloss: 0.198827\n",
      "[37]\tvalid_0's binary_logloss: 0.198402\n",
      "[38]\tvalid_0's binary_logloss: 0.197997\n",
      "[39]\tvalid_0's binary_logloss: 0.197605\n",
      "[40]\tvalid_0's binary_logloss: 0.197235\n",
      "[41]\tvalid_0's binary_logloss: 0.19684\n",
      "[42]\tvalid_0's binary_logloss: 0.196554\n",
      "[43]\tvalid_0's binary_logloss: 0.196174\n",
      "[44]\tvalid_0's binary_logloss: 0.195852\n",
      "[45]\tvalid_0's binary_logloss: 0.195626\n",
      "[46]\tvalid_0's binary_logloss: 0.195446\n",
      "[47]\tvalid_0's binary_logloss: 0.195016\n",
      "[48]\tvalid_0's binary_logloss: 0.194804\n",
      "[49]\tvalid_0's binary_logloss: 0.194511\n",
      "[50]\tvalid_0's binary_logloss: 0.194305\n",
      "[51]\tvalid_0's binary_logloss: 0.194113\n",
      "[52]\tvalid_0's binary_logloss: 0.194032\n",
      "[53]\tvalid_0's binary_logloss: 0.193804\n",
      "[54]\tvalid_0's binary_logloss: 0.19365\n",
      "[55]\tvalid_0's binary_logloss: 0.193464\n",
      "[56]\tvalid_0's binary_logloss: 0.193344\n",
      "[57]\tvalid_0's binary_logloss: 0.19321\n",
      "[58]\tvalid_0's binary_logloss: 0.193163\n",
      "[59]\tvalid_0's binary_logloss: 0.192951\n",
      "[60]\tvalid_0's binary_logloss: 0.192655\n",
      "[61]\tvalid_0's binary_logloss: 0.192538\n",
      "[62]\tvalid_0's binary_logloss: 0.192434\n",
      "[63]\tvalid_0's binary_logloss: 0.192366\n",
      "[64]\tvalid_0's binary_logloss: 0.192216\n",
      "[65]\tvalid_0's binary_logloss: 0.192104\n",
      "[66]\tvalid_0's binary_logloss: 0.192009\n",
      "[67]\tvalid_0's binary_logloss: 0.19195\n",
      "[68]\tvalid_0's binary_logloss: 0.191786\n",
      "[69]\tvalid_0's binary_logloss: 0.191774\n",
      "[70]\tvalid_0's binary_logloss: 0.191682\n",
      "[71]\tvalid_0's binary_logloss: 0.191517\n",
      "[72]\tvalid_0's binary_logloss: 0.191449\n",
      "[73]\tvalid_0's binary_logloss: 0.19141\n",
      "[74]\tvalid_0's binary_logloss: 0.191335\n",
      "[75]\tvalid_0's binary_logloss: 0.191197\n",
      "[76]\tvalid_0's binary_logloss: 0.191165\n",
      "[77]\tvalid_0's binary_logloss: 0.191128\n",
      "[78]\tvalid_0's binary_logloss: 0.191115\n",
      "[79]\tvalid_0's binary_logloss: 0.191008\n",
      "[80]\tvalid_0's binary_logloss: 0.190955\n",
      "[81]\tvalid_0's binary_logloss: 0.190878\n",
      "[82]\tvalid_0's binary_logloss: 0.190859\n",
      "[83]\tvalid_0's binary_logloss: 0.190828\n",
      "[84]\tvalid_0's binary_logloss: 0.190804\n",
      "[85]\tvalid_0's binary_logloss: 0.190725\n",
      "[86]\tvalid_0's binary_logloss: 0.190639\n",
      "[87]\tvalid_0's binary_logloss: 0.19061\n",
      "[88]\tvalid_0's binary_logloss: 0.190562\n",
      "[89]\tvalid_0's binary_logloss: 0.190572\n",
      "[90]\tvalid_0's binary_logloss: 0.190518\n",
      "[91]\tvalid_0's binary_logloss: 0.190505\n",
      "[92]\tvalid_0's binary_logloss: 0.190493\n",
      "[93]\tvalid_0's binary_logloss: 0.190477\n",
      "[94]\tvalid_0's binary_logloss: 0.19045\n",
      "[95]\tvalid_0's binary_logloss: 0.190321\n",
      "[96]\tvalid_0's binary_logloss: 0.190277\n",
      "[97]\tvalid_0's binary_logloss: 0.190247\n",
      "[98]\tvalid_0's binary_logloss: 0.190228\n",
      "[99]\tvalid_0's binary_logloss: 0.190227\n",
      "[100]\tvalid_0's binary_logloss: 0.190202\n"
     ]
    },
    {
     "data": {
      "text/plain": "LGBMClassifier()",
      "text/html": "<style>#sk-container-id-1 {color: black;background-color: white;}#sk-container-id-1 pre{padding: 0;}#sk-container-id-1 div.sk-toggleable {background-color: white;}#sk-container-id-1 label.sk-toggleable__label {cursor: pointer;display: block;width: 100%;margin-bottom: 0;padding: 0.3em;box-sizing: border-box;text-align: center;}#sk-container-id-1 label.sk-toggleable__label-arrow:before {content: \"▸\";float: left;margin-right: 0.25em;color: #696969;}#sk-container-id-1 label.sk-toggleable__label-arrow:hover:before {color: black;}#sk-container-id-1 div.sk-estimator:hover label.sk-toggleable__label-arrow:before {color: black;}#sk-container-id-1 div.sk-toggleable__content {max-height: 0;max-width: 0;overflow: hidden;text-align: left;background-color: #f0f8ff;}#sk-container-id-1 div.sk-toggleable__content pre {margin: 0.2em;color: black;border-radius: 0.25em;background-color: #f0f8ff;}#sk-container-id-1 input.sk-toggleable__control:checked~div.sk-toggleable__content {max-height: 200px;max-width: 100%;overflow: auto;}#sk-container-id-1 input.sk-toggleable__control:checked~label.sk-toggleable__label-arrow:before {content: \"▾\";}#sk-container-id-1 div.sk-estimator input.sk-toggleable__control:checked~label.sk-toggleable__label {background-color: #d4ebff;}#sk-container-id-1 div.sk-label input.sk-toggleable__control:checked~label.sk-toggleable__label {background-color: #d4ebff;}#sk-container-id-1 input.sk-hidden--visually {border: 0;clip: rect(1px 1px 1px 1px);clip: rect(1px, 1px, 1px, 1px);height: 1px;margin: -1px;overflow: hidden;padding: 0;position: absolute;width: 1px;}#sk-container-id-1 div.sk-estimator {font-family: monospace;background-color: #f0f8ff;border: 1px dotted black;border-radius: 0.25em;box-sizing: border-box;margin-bottom: 0.5em;}#sk-container-id-1 div.sk-estimator:hover {background-color: #d4ebff;}#sk-container-id-1 div.sk-parallel-item::after {content: \"\";width: 100%;border-bottom: 1px solid gray;flex-grow: 1;}#sk-container-id-1 div.sk-label:hover label.sk-toggleable__label {background-color: #d4ebff;}#sk-container-id-1 div.sk-serial::before {content: \"\";position: absolute;border-left: 1px solid gray;box-sizing: border-box;top: 0;bottom: 0;left: 50%;z-index: 0;}#sk-container-id-1 div.sk-serial {display: flex;flex-direction: column;align-items: center;background-color: white;padding-right: 0.2em;padding-left: 0.2em;position: relative;}#sk-container-id-1 div.sk-item {position: relative;z-index: 1;}#sk-container-id-1 div.sk-parallel {display: flex;align-items: stretch;justify-content: center;background-color: white;position: relative;}#sk-container-id-1 div.sk-item::before, #sk-container-id-1 div.sk-parallel-item::before {content: \"\";position: absolute;border-left: 1px solid gray;box-sizing: border-box;top: 0;bottom: 0;left: 50%;z-index: -1;}#sk-container-id-1 div.sk-parallel-item {display: flex;flex-direction: column;z-index: 1;position: relative;background-color: white;}#sk-container-id-1 div.sk-parallel-item:first-child::after {align-self: flex-end;width: 50%;}#sk-container-id-1 div.sk-parallel-item:last-child::after {align-self: flex-start;width: 50%;}#sk-container-id-1 div.sk-parallel-item:only-child::after {width: 0;}#sk-container-id-1 div.sk-dashed-wrapped {border: 1px dashed gray;margin: 0 0.4em 0.5em 0.4em;box-sizing: border-box;padding-bottom: 0.4em;background-color: white;}#sk-container-id-1 div.sk-label label {font-family: monospace;font-weight: bold;display: inline-block;line-height: 1.2em;}#sk-container-id-1 div.sk-label-container {text-align: center;}#sk-container-id-1 div.sk-container {/* jupyter's `normalize.less` sets `[hidden] { display: none; }` but bootstrap.min.css set `[hidden] { display: none !important; }` so we also need the `!important` here to be able to override the default hidden behavior on the sphinx rendered scikit-learn.org. See: https://github.com/scikit-learn/scikit-learn/issues/21755 */display: inline-block !important;position: relative;}#sk-container-id-1 div.sk-text-repr-fallback {display: none;}</style><div id=\"sk-container-id-1\" class=\"sk-top-container\"><div class=\"sk-text-repr-fallback\"><pre>LGBMClassifier()</pre><b>In a Jupyter environment, please rerun this cell to show the HTML representation or trust the notebook. <br />On GitHub, the HTML representation is unable to render, please try loading this page with nbviewer.org.</b></div><div class=\"sk-container\" hidden><div class=\"sk-item\"><div class=\"sk-estimator sk-toggleable\"><input class=\"sk-toggleable__control sk-hidden--visually\" id=\"sk-estimator-id-1\" type=\"checkbox\" checked><label for=\"sk-estimator-id-1\" class=\"sk-toggleable__label sk-toggleable__label-arrow\">LGBMClassifier</label><div class=\"sk-toggleable__content\"><pre>LGBMClassifier()</pre></div></div></div></div></div>"
     },
     "execution_count": 139,
     "metadata": {},
     "output_type": "execute_result"
    }
   ],
   "source": [
    "from lightgbm import LGBMClassifier\n",
    "model = LGBMClassifier()\n",
    "model.fit(x_train, y_train,  eval_set = (x_val,y_val), categorical_feature =NEW_CATEGORICAL_COLUMN )"
   ],
   "metadata": {
    "collapsed": false,
    "pycharm": {
     "name": "#%%\n"
    }
   }
  },
  {
   "cell_type": "code",
   "execution_count": null,
   "outputs": [],
   "source": [],
   "metadata": {
    "collapsed": false,
    "pycharm": {
     "name": "#%%\n"
    }
   }
  },
  {
   "cell_type": "code",
   "execution_count": null,
   "outputs": [],
   "source": [],
   "metadata": {
    "collapsed": false,
    "pycharm": {
     "name": "#%%\n"
    }
   }
  },
  {
   "cell_type": "code",
   "execution_count": null,
   "outputs": [],
   "source": [],
   "metadata": {
    "collapsed": false,
    "pycharm": {
     "name": "#%%\n"
    }
   }
  }
 ],
 "metadata": {
  "kernelspec": {
   "display_name": "Python 3",
   "language": "python",
   "name": "python3"
  },
  "language_info": {
   "codemirror_mode": {
    "name": "ipython",
    "version": 2
   },
   "file_extension": ".py",
   "mimetype": "text/x-python",
   "name": "python",
   "nbconvert_exporter": "python",
   "pygments_lexer": "ipython2",
   "version": "2.7.6"
  }
 },
 "nbformat": 4,
 "nbformat_minor": 0
}