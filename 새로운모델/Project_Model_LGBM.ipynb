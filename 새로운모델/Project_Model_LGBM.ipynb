{
 "cells": [
  {
   "cell_type": "code",
   "execution_count": 25,
   "metadata": {
    "collapsed": true
   },
   "outputs": [],
   "source": [
    "import pandas as pd\n",
    "import numpy as np\n",
    "from sklearn.model_selection import train_test_split\n",
    "import warnings\n",
    "warnings.filterwarnings(action='ignore')"
   ]
  },
  {
   "cell_type": "code",
   "execution_count": 26,
   "outputs": [
    {
     "data": {
      "text/plain": "         index  Project_ID    Year  N_of_SCI  N_of_Paper  N_Patent_App  \\\n0            0  1055000474  2013.0       0.0         0.0           0.0   \n1            1  1055000475  2013.0       0.0         0.0           0.0   \n2            2  1055000476  2014.0       0.0         0.0           0.0   \n3            3  1055000477  2014.0       0.0         0.0           0.0   \n4            4  1055000478  2014.0       0.0         0.0           0.0   \n...        ...         ...     ...       ...         ...           ...   \n192874  192874  9991006121  2016.0       0.0         0.0           2.0   \n192875  192875  9991006122  2016.0       0.0         0.0           0.0   \n192876  192876  9991006124  2016.0       0.0         0.0           0.0   \n192877  192877  9991006125  2016.0       0.0         0.0           2.0   \n192878  192878  9991006126  2016.0       0.0         0.0           0.0   \n\n        N_Patent_Reg  N_of_Korean_Patent  N_of_Inter_Patent  N_of_Patent  ...  \\\n0                0.0                 0.0                0.0          0.0  ...   \n1                0.0                 0.0                0.0          0.0  ...   \n2                0.0                 0.0                0.0          0.0  ...   \n3                0.0                 0.0                0.0          0.0  ...   \n4                0.0                 0.0                0.0          0.0  ...   \n...              ...                 ...                ...          ...  ...   \n192874           1.0                 3.0                0.0          3.0  ...   \n192875           0.0                 0.0                0.0          0.0  ...   \n192876           0.0                 0.0                0.0          0.0  ...   \n192877           2.0                 4.0                0.0          4.0  ...   \n192878           0.0                 0.0                0.0          0.0  ...   \n\n        Cowork_Abroad  Cowork_etc  Log_RnD_Fund Log_Duration  Comm_Success  \\\n0                   N           N     21.365120     5.897157           0.0   \n1                   N           N     19.568083     5.897157           0.0   \n2                   N           N     21.365120     5.897157           0.0   \n3                   N           N     19.673444     5.808145           0.0   \n4                   N           N     17.504390     4.804029           0.0   \n...               ...         ...           ...          ...           ...   \n192874              N           N     20.723266     6.302621           0.0   \n192875              N           Y     21.920324     6.302621           0.0   \n192876              N           N     20.482467     6.998511           0.0   \n192877              N           N     20.430236     6.998511           1.0   \n192878              N           N     20.584004     6.998511           0.0   \n\n       Comm_Success_1  Comm_Success_2 Comm_Success_Code1_4  \\\n0                 0.0             0.0                  0.0   \n1                 0.0             0.0                  0.0   \n2                 0.0             0.0                  0.0   \n3                 0.0             0.0                  0.0   \n4                 0.0             0.0                  0.0   \n...               ...             ...                  ...   \n192874            0.0             0.0                  0.0   \n192875            0.0             0.0                  0.0   \n192876            0.0             0.0                  0.0   \n192877            1.0             0.0                  0.0   \n192878            0.0             0.0                  0.0   \n\n        Comm_Success_Code2_5 Comm_Success_Code3_6  \n0                        0.0                  0.0  \n1                        0.0                  0.0  \n2                        0.0                  0.0  \n3                        0.0                  0.0  \n4                        0.0                  0.0  \n...                      ...                  ...  \n192874                   0.0                  0.0  \n192875                   0.0                  0.0  \n192876                   0.0                  0.0  \n192877                   1.0                  0.0  \n192878                   0.0                  0.0  \n\n[192879 rows x 41 columns]",
      "text/html": "<div>\n<style scoped>\n    .dataframe tbody tr th:only-of-type {\n        vertical-align: middle;\n    }\n\n    .dataframe tbody tr th {\n        vertical-align: top;\n    }\n\n    .dataframe thead th {\n        text-align: right;\n    }\n</style>\n<table border=\"1\" class=\"dataframe\">\n  <thead>\n    <tr style=\"text-align: right;\">\n      <th></th>\n      <th>index</th>\n      <th>Project_ID</th>\n      <th>Year</th>\n      <th>N_of_SCI</th>\n      <th>N_of_Paper</th>\n      <th>N_Patent_App</th>\n      <th>N_Patent_Reg</th>\n      <th>N_of_Korean_Patent</th>\n      <th>N_of_Inter_Patent</th>\n      <th>N_of_Patent</th>\n      <th>...</th>\n      <th>Cowork_Abroad</th>\n      <th>Cowork_etc</th>\n      <th>Log_RnD_Fund</th>\n      <th>Log_Duration</th>\n      <th>Comm_Success</th>\n      <th>Comm_Success_1</th>\n      <th>Comm_Success_2</th>\n      <th>Comm_Success_Code1_4</th>\n      <th>Comm_Success_Code2_5</th>\n      <th>Comm_Success_Code3_6</th>\n    </tr>\n  </thead>\n  <tbody>\n    <tr>\n      <th>0</th>\n      <td>0</td>\n      <td>1055000474</td>\n      <td>2013.0</td>\n      <td>0.0</td>\n      <td>0.0</td>\n      <td>0.0</td>\n      <td>0.0</td>\n      <td>0.0</td>\n      <td>0.0</td>\n      <td>0.0</td>\n      <td>...</td>\n      <td>N</td>\n      <td>N</td>\n      <td>21.365120</td>\n      <td>5.897157</td>\n      <td>0.0</td>\n      <td>0.0</td>\n      <td>0.0</td>\n      <td>0.0</td>\n      <td>0.0</td>\n      <td>0.0</td>\n    </tr>\n    <tr>\n      <th>1</th>\n      <td>1</td>\n      <td>1055000475</td>\n      <td>2013.0</td>\n      <td>0.0</td>\n      <td>0.0</td>\n      <td>0.0</td>\n      <td>0.0</td>\n      <td>0.0</td>\n      <td>0.0</td>\n      <td>0.0</td>\n      <td>...</td>\n      <td>N</td>\n      <td>N</td>\n      <td>19.568083</td>\n      <td>5.897157</td>\n      <td>0.0</td>\n      <td>0.0</td>\n      <td>0.0</td>\n      <td>0.0</td>\n      <td>0.0</td>\n      <td>0.0</td>\n    </tr>\n    <tr>\n      <th>2</th>\n      <td>2</td>\n      <td>1055000476</td>\n      <td>2014.0</td>\n      <td>0.0</td>\n      <td>0.0</td>\n      <td>0.0</td>\n      <td>0.0</td>\n      <td>0.0</td>\n      <td>0.0</td>\n      <td>0.0</td>\n      <td>...</td>\n      <td>N</td>\n      <td>N</td>\n      <td>21.365120</td>\n      <td>5.897157</td>\n      <td>0.0</td>\n      <td>0.0</td>\n      <td>0.0</td>\n      <td>0.0</td>\n      <td>0.0</td>\n      <td>0.0</td>\n    </tr>\n    <tr>\n      <th>3</th>\n      <td>3</td>\n      <td>1055000477</td>\n      <td>2014.0</td>\n      <td>0.0</td>\n      <td>0.0</td>\n      <td>0.0</td>\n      <td>0.0</td>\n      <td>0.0</td>\n      <td>0.0</td>\n      <td>0.0</td>\n      <td>...</td>\n      <td>N</td>\n      <td>N</td>\n      <td>19.673444</td>\n      <td>5.808145</td>\n      <td>0.0</td>\n      <td>0.0</td>\n      <td>0.0</td>\n      <td>0.0</td>\n      <td>0.0</td>\n      <td>0.0</td>\n    </tr>\n    <tr>\n      <th>4</th>\n      <td>4</td>\n      <td>1055000478</td>\n      <td>2014.0</td>\n      <td>0.0</td>\n      <td>0.0</td>\n      <td>0.0</td>\n      <td>0.0</td>\n      <td>0.0</td>\n      <td>0.0</td>\n      <td>0.0</td>\n      <td>...</td>\n      <td>N</td>\n      <td>N</td>\n      <td>17.504390</td>\n      <td>4.804029</td>\n      <td>0.0</td>\n      <td>0.0</td>\n      <td>0.0</td>\n      <td>0.0</td>\n      <td>0.0</td>\n      <td>0.0</td>\n    </tr>\n    <tr>\n      <th>...</th>\n      <td>...</td>\n      <td>...</td>\n      <td>...</td>\n      <td>...</td>\n      <td>...</td>\n      <td>...</td>\n      <td>...</td>\n      <td>...</td>\n      <td>...</td>\n      <td>...</td>\n      <td>...</td>\n      <td>...</td>\n      <td>...</td>\n      <td>...</td>\n      <td>...</td>\n      <td>...</td>\n      <td>...</td>\n      <td>...</td>\n      <td>...</td>\n      <td>...</td>\n      <td>...</td>\n    </tr>\n    <tr>\n      <th>192874</th>\n      <td>192874</td>\n      <td>9991006121</td>\n      <td>2016.0</td>\n      <td>0.0</td>\n      <td>0.0</td>\n      <td>2.0</td>\n      <td>1.0</td>\n      <td>3.0</td>\n      <td>0.0</td>\n      <td>3.0</td>\n      <td>...</td>\n      <td>N</td>\n      <td>N</td>\n      <td>20.723266</td>\n      <td>6.302621</td>\n      <td>0.0</td>\n      <td>0.0</td>\n      <td>0.0</td>\n      <td>0.0</td>\n      <td>0.0</td>\n      <td>0.0</td>\n    </tr>\n    <tr>\n      <th>192875</th>\n      <td>192875</td>\n      <td>9991006122</td>\n      <td>2016.0</td>\n      <td>0.0</td>\n      <td>0.0</td>\n      <td>0.0</td>\n      <td>0.0</td>\n      <td>0.0</td>\n      <td>0.0</td>\n      <td>0.0</td>\n      <td>...</td>\n      <td>N</td>\n      <td>Y</td>\n      <td>21.920324</td>\n      <td>6.302621</td>\n      <td>0.0</td>\n      <td>0.0</td>\n      <td>0.0</td>\n      <td>0.0</td>\n      <td>0.0</td>\n      <td>0.0</td>\n    </tr>\n    <tr>\n      <th>192876</th>\n      <td>192876</td>\n      <td>9991006124</td>\n      <td>2016.0</td>\n      <td>0.0</td>\n      <td>0.0</td>\n      <td>0.0</td>\n      <td>0.0</td>\n      <td>0.0</td>\n      <td>0.0</td>\n      <td>0.0</td>\n      <td>...</td>\n      <td>N</td>\n      <td>N</td>\n      <td>20.482467</td>\n      <td>6.998511</td>\n      <td>0.0</td>\n      <td>0.0</td>\n      <td>0.0</td>\n      <td>0.0</td>\n      <td>0.0</td>\n      <td>0.0</td>\n    </tr>\n    <tr>\n      <th>192877</th>\n      <td>192877</td>\n      <td>9991006125</td>\n      <td>2016.0</td>\n      <td>0.0</td>\n      <td>0.0</td>\n      <td>2.0</td>\n      <td>2.0</td>\n      <td>4.0</td>\n      <td>0.0</td>\n      <td>4.0</td>\n      <td>...</td>\n      <td>N</td>\n      <td>N</td>\n      <td>20.430236</td>\n      <td>6.998511</td>\n      <td>1.0</td>\n      <td>1.0</td>\n      <td>0.0</td>\n      <td>0.0</td>\n      <td>1.0</td>\n      <td>0.0</td>\n    </tr>\n    <tr>\n      <th>192878</th>\n      <td>192878</td>\n      <td>9991006126</td>\n      <td>2016.0</td>\n      <td>0.0</td>\n      <td>0.0</td>\n      <td>0.0</td>\n      <td>0.0</td>\n      <td>0.0</td>\n      <td>0.0</td>\n      <td>0.0</td>\n      <td>...</td>\n      <td>N</td>\n      <td>N</td>\n      <td>20.584004</td>\n      <td>6.998511</td>\n      <td>0.0</td>\n      <td>0.0</td>\n      <td>0.0</td>\n      <td>0.0</td>\n      <td>0.0</td>\n      <td>0.0</td>\n    </tr>\n  </tbody>\n</table>\n<p>192879 rows × 41 columns</p>\n</div>"
     },
     "execution_count": 26,
     "metadata": {},
     "output_type": "execute_result"
    }
   ],
   "source": [
    "df=pd.read_csv('/Users/keumhyeonjun/Projects/kisti_renewal/dataset_final/Dataset_4_2016.csv')\n",
    "df"
   ],
   "metadata": {
    "collapsed": false,
    "pycharm": {
     "name": "#%%\n"
    }
   }
  },
  {
   "cell_type": "code",
   "execution_count": 27,
   "outputs": [],
   "source": [
    "NUMERIC_COLUMN = [\n",
    "    \"Log_RnD_Fund\",\n",
    "    \"Log_Duration\",\n",
    "    \"N_of_SCI\",\n",
    "    \"N_of_Paper\",\n",
    "    \"N_Patent_App\",\n",
    "    \"N_Patent_Reg\",\n",
    "    \"N_of_Korean_Patent\",\n",
    "    \"STP_Code_1_Weight\",\n",
    "    \"STP_Code_2_Weight\",\n",
    "    \"Application_Area_1_Weight\",\n",
    "    \"Application_Area_2_Weight\",\n",
    "]\n",
    "\n",
    "CATEGORICAL_COLUMN = [\n",
    "    \"Year\",\n",
    "    \"Multi_Year\",\n",
    "    \"RnD_Org\",\n",
    "    \"STP_Code_11\",\n",
    "    \"STP_Code_21\",\n",
    "    \"Application_Area_1\",\n",
    "    \"Application_Area_2\",\n",
    "    \"Green_Tech\",\n",
    "    \"SixT_2\",\n",
    "    \"Econ_Social\",\n",
    "    \"National_Strategy_2\",\n",
    "    \"RnD_Stage\",\n",
    "    \"Cowork_Cor\",\n",
    "    \"Cowork_Uni\",\n",
    "    \"Cowork_Inst\",\n",
    "    \"Cowork_Abroad\",\n",
    "    \"Cowork_etc\",\n",
    "]\n",
    "\n",
    "LABEL_COLUMN = [\"Comm_Success\"]"
   ],
   "metadata": {
    "collapsed": false,
    "pycharm": {
     "name": "#%%\n"
    }
   }
  },
  {
   "cell_type": "markdown",
   "source": [
    "# 불필요한 컬럼 제거(데이터로 사용하지 않을 것들)"
   ],
   "metadata": {
    "collapsed": false,
    "pycharm": {
     "name": "#%% md\n"
    }
   }
  },
  {
   "cell_type": "code",
   "execution_count": 28,
   "outputs": [],
   "source": [
    "ALL_COLUMN = df.columns.tolist()\n",
    "UNNESSARY_COLUMN=list(set(ALL_COLUMN)-set(NUMERIC_COLUMN)-set(CATEGORICAL_COLUMN)-set(LABEL_COLUMN))"
   ],
   "metadata": {
    "collapsed": false,
    "pycharm": {
     "name": "#%%\n"
    }
   }
  },
  {
   "cell_type": "code",
   "execution_count": 29,
   "outputs": [
    {
     "data": {
      "text/plain": "        Log_RnD_Fund  Log_Duration  N_of_SCI  N_of_Paper  N_Patent_App  \\\n0          21.365120      5.897157       0.0         0.0           0.0   \n1          19.568083      5.897157       0.0         0.0           0.0   \n2          21.365120      5.897157       0.0         0.0           0.0   \n3          19.673444      5.808145       0.0         0.0           0.0   \n4          17.504390      4.804029       0.0         0.0           0.0   \n...              ...           ...       ...         ...           ...   \n192874     20.723266      6.302621       0.0         0.0           2.0   \n192875     21.920324      6.302621       0.0         0.0           0.0   \n192876     20.482467      6.998511       0.0         0.0           0.0   \n192877     20.430236      6.998511       0.0         0.0           2.0   \n192878     20.584004      6.998511       0.0         0.0           0.0   \n\n        N_Patent_Reg  N_of_Korean_Patent  STP_Code_1_Weight  \\\n0                0.0                 0.0              100.0   \n1                0.0                 0.0              100.0   \n2                0.0                 0.0              100.0   \n3                0.0                 0.0              100.0   \n4                0.0                 0.0                0.0   \n...              ...                 ...                ...   \n192874           1.0                 3.0               50.0   \n192875           0.0                 0.0              100.0   \n192876           0.0                 0.0               80.0   \n192877           2.0                 4.0              100.0   \n192878           0.0                 0.0               50.0   \n\n        STP_Code_2_Weight  Application_Area_1_Weight  ...  SixT_2  \\\n0                     0.0                      100.0  ...   70000   \n1                     0.0                      100.0  ...   70000   \n2                     0.0                      100.0  ...   70000   \n3                     0.0                      100.0  ...   70000   \n4                     0.0                      100.0  ...   70000   \n...                   ...                        ...  ...     ...   \n192874               30.0                       50.0  ...   20200   \n192875                0.0                      100.0  ...   20200   \n192876               20.0                       60.0  ...   30200   \n192877                0.0                      100.0  ...   30200   \n192878               30.0                       50.0  ...   50100   \n\n        Econ_Social  National_Strategy_2  RnD_Stage Cowork_Cor Cowork_Uni  \\\n0                13                60000          4          N          N   \n1                13                60000          4          N          N   \n2                13                60000          4          N          N   \n3                13                60000          4          N          N   \n4                13                60000          4          N          N   \n...             ...                  ...        ...        ...        ...   \n192874           11                40100          2          N          N   \n192875            4                60000          3          N          N   \n192876            7                10500          3          Y          N   \n192877            7                10500          3          Y          N   \n192878            7                30200          4          Y          Y   \n\n       Cowork_Inst Cowork_Abroad  Cowork_etc  Comm_Success  \n0                N             N           N           0.0  \n1                N             N           N           0.0  \n2                N             N           N           0.0  \n3                N             N           N           0.0  \n4                N             N           N           0.0  \n...            ...           ...         ...           ...  \n192874           N             N           N           0.0  \n192875           N             N           Y           0.0  \n192876           Y             N           N           0.0  \n192877           Y             N           N           1.0  \n192878           Y             N           N           0.0  \n\n[192879 rows x 29 columns]",
      "text/html": "<div>\n<style scoped>\n    .dataframe tbody tr th:only-of-type {\n        vertical-align: middle;\n    }\n\n    .dataframe tbody tr th {\n        vertical-align: top;\n    }\n\n    .dataframe thead th {\n        text-align: right;\n    }\n</style>\n<table border=\"1\" class=\"dataframe\">\n  <thead>\n    <tr style=\"text-align: right;\">\n      <th></th>\n      <th>Log_RnD_Fund</th>\n      <th>Log_Duration</th>\n      <th>N_of_SCI</th>\n      <th>N_of_Paper</th>\n      <th>N_Patent_App</th>\n      <th>N_Patent_Reg</th>\n      <th>N_of_Korean_Patent</th>\n      <th>STP_Code_1_Weight</th>\n      <th>STP_Code_2_Weight</th>\n      <th>Application_Area_1_Weight</th>\n      <th>...</th>\n      <th>SixT_2</th>\n      <th>Econ_Social</th>\n      <th>National_Strategy_2</th>\n      <th>RnD_Stage</th>\n      <th>Cowork_Cor</th>\n      <th>Cowork_Uni</th>\n      <th>Cowork_Inst</th>\n      <th>Cowork_Abroad</th>\n      <th>Cowork_etc</th>\n      <th>Comm_Success</th>\n    </tr>\n  </thead>\n  <tbody>\n    <tr>\n      <th>0</th>\n      <td>21.365120</td>\n      <td>5.897157</td>\n      <td>0.0</td>\n      <td>0.0</td>\n      <td>0.0</td>\n      <td>0.0</td>\n      <td>0.0</td>\n      <td>100.0</td>\n      <td>0.0</td>\n      <td>100.0</td>\n      <td>...</td>\n      <td>70000</td>\n      <td>13</td>\n      <td>60000</td>\n      <td>4</td>\n      <td>N</td>\n      <td>N</td>\n      <td>N</td>\n      <td>N</td>\n      <td>N</td>\n      <td>0.0</td>\n    </tr>\n    <tr>\n      <th>1</th>\n      <td>19.568083</td>\n      <td>5.897157</td>\n      <td>0.0</td>\n      <td>0.0</td>\n      <td>0.0</td>\n      <td>0.0</td>\n      <td>0.0</td>\n      <td>100.0</td>\n      <td>0.0</td>\n      <td>100.0</td>\n      <td>...</td>\n      <td>70000</td>\n      <td>13</td>\n      <td>60000</td>\n      <td>4</td>\n      <td>N</td>\n      <td>N</td>\n      <td>N</td>\n      <td>N</td>\n      <td>N</td>\n      <td>0.0</td>\n    </tr>\n    <tr>\n      <th>2</th>\n      <td>21.365120</td>\n      <td>5.897157</td>\n      <td>0.0</td>\n      <td>0.0</td>\n      <td>0.0</td>\n      <td>0.0</td>\n      <td>0.0</td>\n      <td>100.0</td>\n      <td>0.0</td>\n      <td>100.0</td>\n      <td>...</td>\n      <td>70000</td>\n      <td>13</td>\n      <td>60000</td>\n      <td>4</td>\n      <td>N</td>\n      <td>N</td>\n      <td>N</td>\n      <td>N</td>\n      <td>N</td>\n      <td>0.0</td>\n    </tr>\n    <tr>\n      <th>3</th>\n      <td>19.673444</td>\n      <td>5.808145</td>\n      <td>0.0</td>\n      <td>0.0</td>\n      <td>0.0</td>\n      <td>0.0</td>\n      <td>0.0</td>\n      <td>100.0</td>\n      <td>0.0</td>\n      <td>100.0</td>\n      <td>...</td>\n      <td>70000</td>\n      <td>13</td>\n      <td>60000</td>\n      <td>4</td>\n      <td>N</td>\n      <td>N</td>\n      <td>N</td>\n      <td>N</td>\n      <td>N</td>\n      <td>0.0</td>\n    </tr>\n    <tr>\n      <th>4</th>\n      <td>17.504390</td>\n      <td>4.804029</td>\n      <td>0.0</td>\n      <td>0.0</td>\n      <td>0.0</td>\n      <td>0.0</td>\n      <td>0.0</td>\n      <td>0.0</td>\n      <td>0.0</td>\n      <td>100.0</td>\n      <td>...</td>\n      <td>70000</td>\n      <td>13</td>\n      <td>60000</td>\n      <td>4</td>\n      <td>N</td>\n      <td>N</td>\n      <td>N</td>\n      <td>N</td>\n      <td>N</td>\n      <td>0.0</td>\n    </tr>\n    <tr>\n      <th>...</th>\n      <td>...</td>\n      <td>...</td>\n      <td>...</td>\n      <td>...</td>\n      <td>...</td>\n      <td>...</td>\n      <td>...</td>\n      <td>...</td>\n      <td>...</td>\n      <td>...</td>\n      <td>...</td>\n      <td>...</td>\n      <td>...</td>\n      <td>...</td>\n      <td>...</td>\n      <td>...</td>\n      <td>...</td>\n      <td>...</td>\n      <td>...</td>\n      <td>...</td>\n      <td>...</td>\n    </tr>\n    <tr>\n      <th>192874</th>\n      <td>20.723266</td>\n      <td>6.302621</td>\n      <td>0.0</td>\n      <td>0.0</td>\n      <td>2.0</td>\n      <td>1.0</td>\n      <td>3.0</td>\n      <td>50.0</td>\n      <td>30.0</td>\n      <td>50.0</td>\n      <td>...</td>\n      <td>20200</td>\n      <td>11</td>\n      <td>40100</td>\n      <td>2</td>\n      <td>N</td>\n      <td>N</td>\n      <td>N</td>\n      <td>N</td>\n      <td>N</td>\n      <td>0.0</td>\n    </tr>\n    <tr>\n      <th>192875</th>\n      <td>21.920324</td>\n      <td>6.302621</td>\n      <td>0.0</td>\n      <td>0.0</td>\n      <td>0.0</td>\n      <td>0.0</td>\n      <td>0.0</td>\n      <td>100.0</td>\n      <td>0.0</td>\n      <td>100.0</td>\n      <td>...</td>\n      <td>20200</td>\n      <td>4</td>\n      <td>60000</td>\n      <td>3</td>\n      <td>N</td>\n      <td>N</td>\n      <td>N</td>\n      <td>N</td>\n      <td>Y</td>\n      <td>0.0</td>\n    </tr>\n    <tr>\n      <th>192876</th>\n      <td>20.482467</td>\n      <td>6.998511</td>\n      <td>0.0</td>\n      <td>0.0</td>\n      <td>0.0</td>\n      <td>0.0</td>\n      <td>0.0</td>\n      <td>80.0</td>\n      <td>20.0</td>\n      <td>60.0</td>\n      <td>...</td>\n      <td>30200</td>\n      <td>7</td>\n      <td>10500</td>\n      <td>3</td>\n      <td>Y</td>\n      <td>N</td>\n      <td>Y</td>\n      <td>N</td>\n      <td>N</td>\n      <td>0.0</td>\n    </tr>\n    <tr>\n      <th>192877</th>\n      <td>20.430236</td>\n      <td>6.998511</td>\n      <td>0.0</td>\n      <td>0.0</td>\n      <td>2.0</td>\n      <td>2.0</td>\n      <td>4.0</td>\n      <td>100.0</td>\n      <td>0.0</td>\n      <td>100.0</td>\n      <td>...</td>\n      <td>30200</td>\n      <td>7</td>\n      <td>10500</td>\n      <td>3</td>\n      <td>Y</td>\n      <td>N</td>\n      <td>Y</td>\n      <td>N</td>\n      <td>N</td>\n      <td>1.0</td>\n    </tr>\n    <tr>\n      <th>192878</th>\n      <td>20.584004</td>\n      <td>6.998511</td>\n      <td>0.0</td>\n      <td>0.0</td>\n      <td>0.0</td>\n      <td>0.0</td>\n      <td>0.0</td>\n      <td>50.0</td>\n      <td>30.0</td>\n      <td>50.0</td>\n      <td>...</td>\n      <td>50100</td>\n      <td>7</td>\n      <td>30200</td>\n      <td>4</td>\n      <td>Y</td>\n      <td>Y</td>\n      <td>Y</td>\n      <td>N</td>\n      <td>N</td>\n      <td>0.0</td>\n    </tr>\n  </tbody>\n</table>\n<p>192879 rows × 29 columns</p>\n</div>"
     },
     "execution_count": 29,
     "metadata": {},
     "output_type": "execute_result"
    }
   ],
   "source": [
    "data = df[NUMERIC_COLUMN+CATEGORICAL_COLUMN+LABEL_COLUMN]\n",
    "data"
   ],
   "metadata": {
    "collapsed": false,
    "pycharm": {
     "name": "#%%\n"
    }
   }
  },
  {
   "cell_type": "markdown",
   "source": [
    "#### [LightGBM] [Warning] Met categorical feature which contains sparse values. Consider renumbering to consecutive integers started from zero >> 해결하기\n"
   ],
   "metadata": {
    "collapsed": false,
    "pycharm": {
     "name": "#%% md\n"
    }
   }
  },
  {
   "cell_type": "code",
   "execution_count": 30,
   "outputs": [
    {
     "data": {
      "text/plain": "        Log_RnD_Fund  Log_Duration  N_of_SCI  N_of_Paper  N_Patent_App  \\\n0          21.365120      5.897157       0.0         0.0           0.0   \n1          19.568083      5.897157       0.0         0.0           0.0   \n2          21.365120      5.897157       0.0         0.0           0.0   \n3          19.673444      5.808145       0.0         0.0           0.0   \n4          17.504390      4.804029       0.0         0.0           0.0   \n...              ...           ...       ...         ...           ...   \n192874     20.723266      6.302621       0.0         0.0           2.0   \n192875     21.920324      6.302621       0.0         0.0           0.0   \n192876     20.482467      6.998511       0.0         0.0           0.0   \n192877     20.430236      6.998511       0.0         0.0           2.0   \n192878     20.584004      6.998511       0.0         0.0           0.0   \n\n        N_Patent_Reg  N_of_Korean_Patent  STP_Code_1_Weight  \\\n0                0.0                 0.0              100.0   \n1                0.0                 0.0              100.0   \n2                0.0                 0.0              100.0   \n3                0.0                 0.0              100.0   \n4                0.0                 0.0                0.0   \n...              ...                 ...                ...   \n192874           1.0                 3.0               50.0   \n192875           0.0                 0.0              100.0   \n192876           0.0                 0.0               80.0   \n192877           2.0                 4.0              100.0   \n192878           0.0                 0.0               50.0   \n\n        STP_Code_2_Weight  Application_Area_1_Weight  ...  SixT_2  \\\n0                     0.0                      100.0  ...       0   \n1                     0.0                      100.0  ...       0   \n2                     0.0                      100.0  ...       0   \n3                     0.0                      100.0  ...       0   \n4                     0.0                      100.0  ...       0   \n...                   ...                        ...  ...     ...   \n192874               30.0                       50.0  ...       4   \n192875                0.0                      100.0  ...       4   \n192876               20.0                       60.0  ...       9   \n192877                0.0                      100.0  ...       9   \n192878               30.0                       50.0  ...       3   \n\n        Econ_Social  National_Strategy_2  RnD_Stage  Cowork_Cor  Cowork_Uni  \\\n0                 0                    0          0           0           0   \n1                 0                    0          0           0           0   \n2                 0                    0          0           0           0   \n3                 0                    0          0           0           0   \n4                 0                    0          0           0           0   \n...             ...                  ...        ...         ...         ...   \n192874            4                    7          2           0           0   \n192875            5                    0          3           0           0   \n192876            2                    8          3           1           0   \n192877            2                    8          3           1           0   \n192878            2                    3          0           1           1   \n\n        Cowork_Inst  Cowork_Abroad  Cowork_etc  Comm_Success  \n0                 0              0           0           0.0  \n1                 0              0           0           0.0  \n2                 0              0           0           0.0  \n3                 0              0           0           0.0  \n4                 0              0           0           0.0  \n...             ...            ...         ...           ...  \n192874            0              0           0           0.0  \n192875            0              0           1           0.0  \n192876            1              0           0           0.0  \n192877            1              0           0           1.0  \n192878            1              0           0           0.0  \n\n[192879 rows x 29 columns]",
      "text/html": "<div>\n<style scoped>\n    .dataframe tbody tr th:only-of-type {\n        vertical-align: middle;\n    }\n\n    .dataframe tbody tr th {\n        vertical-align: top;\n    }\n\n    .dataframe thead th {\n        text-align: right;\n    }\n</style>\n<table border=\"1\" class=\"dataframe\">\n  <thead>\n    <tr style=\"text-align: right;\">\n      <th></th>\n      <th>Log_RnD_Fund</th>\n      <th>Log_Duration</th>\n      <th>N_of_SCI</th>\n      <th>N_of_Paper</th>\n      <th>N_Patent_App</th>\n      <th>N_Patent_Reg</th>\n      <th>N_of_Korean_Patent</th>\n      <th>STP_Code_1_Weight</th>\n      <th>STP_Code_2_Weight</th>\n      <th>Application_Area_1_Weight</th>\n      <th>...</th>\n      <th>SixT_2</th>\n      <th>Econ_Social</th>\n      <th>National_Strategy_2</th>\n      <th>RnD_Stage</th>\n      <th>Cowork_Cor</th>\n      <th>Cowork_Uni</th>\n      <th>Cowork_Inst</th>\n      <th>Cowork_Abroad</th>\n      <th>Cowork_etc</th>\n      <th>Comm_Success</th>\n    </tr>\n  </thead>\n  <tbody>\n    <tr>\n      <th>0</th>\n      <td>21.365120</td>\n      <td>5.897157</td>\n      <td>0.0</td>\n      <td>0.0</td>\n      <td>0.0</td>\n      <td>0.0</td>\n      <td>0.0</td>\n      <td>100.0</td>\n      <td>0.0</td>\n      <td>100.0</td>\n      <td>...</td>\n      <td>0</td>\n      <td>0</td>\n      <td>0</td>\n      <td>0</td>\n      <td>0</td>\n      <td>0</td>\n      <td>0</td>\n      <td>0</td>\n      <td>0</td>\n      <td>0.0</td>\n    </tr>\n    <tr>\n      <th>1</th>\n      <td>19.568083</td>\n      <td>5.897157</td>\n      <td>0.0</td>\n      <td>0.0</td>\n      <td>0.0</td>\n      <td>0.0</td>\n      <td>0.0</td>\n      <td>100.0</td>\n      <td>0.0</td>\n      <td>100.0</td>\n      <td>...</td>\n      <td>0</td>\n      <td>0</td>\n      <td>0</td>\n      <td>0</td>\n      <td>0</td>\n      <td>0</td>\n      <td>0</td>\n      <td>0</td>\n      <td>0</td>\n      <td>0.0</td>\n    </tr>\n    <tr>\n      <th>2</th>\n      <td>21.365120</td>\n      <td>5.897157</td>\n      <td>0.0</td>\n      <td>0.0</td>\n      <td>0.0</td>\n      <td>0.0</td>\n      <td>0.0</td>\n      <td>100.0</td>\n      <td>0.0</td>\n      <td>100.0</td>\n      <td>...</td>\n      <td>0</td>\n      <td>0</td>\n      <td>0</td>\n      <td>0</td>\n      <td>0</td>\n      <td>0</td>\n      <td>0</td>\n      <td>0</td>\n      <td>0</td>\n      <td>0.0</td>\n    </tr>\n    <tr>\n      <th>3</th>\n      <td>19.673444</td>\n      <td>5.808145</td>\n      <td>0.0</td>\n      <td>0.0</td>\n      <td>0.0</td>\n      <td>0.0</td>\n      <td>0.0</td>\n      <td>100.0</td>\n      <td>0.0</td>\n      <td>100.0</td>\n      <td>...</td>\n      <td>0</td>\n      <td>0</td>\n      <td>0</td>\n      <td>0</td>\n      <td>0</td>\n      <td>0</td>\n      <td>0</td>\n      <td>0</td>\n      <td>0</td>\n      <td>0.0</td>\n    </tr>\n    <tr>\n      <th>4</th>\n      <td>17.504390</td>\n      <td>4.804029</td>\n      <td>0.0</td>\n      <td>0.0</td>\n      <td>0.0</td>\n      <td>0.0</td>\n      <td>0.0</td>\n      <td>0.0</td>\n      <td>0.0</td>\n      <td>100.0</td>\n      <td>...</td>\n      <td>0</td>\n      <td>0</td>\n      <td>0</td>\n      <td>0</td>\n      <td>0</td>\n      <td>0</td>\n      <td>0</td>\n      <td>0</td>\n      <td>0</td>\n      <td>0.0</td>\n    </tr>\n    <tr>\n      <th>...</th>\n      <td>...</td>\n      <td>...</td>\n      <td>...</td>\n      <td>...</td>\n      <td>...</td>\n      <td>...</td>\n      <td>...</td>\n      <td>...</td>\n      <td>...</td>\n      <td>...</td>\n      <td>...</td>\n      <td>...</td>\n      <td>...</td>\n      <td>...</td>\n      <td>...</td>\n      <td>...</td>\n      <td>...</td>\n      <td>...</td>\n      <td>...</td>\n      <td>...</td>\n      <td>...</td>\n    </tr>\n    <tr>\n      <th>192874</th>\n      <td>20.723266</td>\n      <td>6.302621</td>\n      <td>0.0</td>\n      <td>0.0</td>\n      <td>2.0</td>\n      <td>1.0</td>\n      <td>3.0</td>\n      <td>50.0</td>\n      <td>30.0</td>\n      <td>50.0</td>\n      <td>...</td>\n      <td>4</td>\n      <td>4</td>\n      <td>7</td>\n      <td>2</td>\n      <td>0</td>\n      <td>0</td>\n      <td>0</td>\n      <td>0</td>\n      <td>0</td>\n      <td>0.0</td>\n    </tr>\n    <tr>\n      <th>192875</th>\n      <td>21.920324</td>\n      <td>6.302621</td>\n      <td>0.0</td>\n      <td>0.0</td>\n      <td>0.0</td>\n      <td>0.0</td>\n      <td>0.0</td>\n      <td>100.0</td>\n      <td>0.0</td>\n      <td>100.0</td>\n      <td>...</td>\n      <td>4</td>\n      <td>5</td>\n      <td>0</td>\n      <td>3</td>\n      <td>0</td>\n      <td>0</td>\n      <td>0</td>\n      <td>0</td>\n      <td>1</td>\n      <td>0.0</td>\n    </tr>\n    <tr>\n      <th>192876</th>\n      <td>20.482467</td>\n      <td>6.998511</td>\n      <td>0.0</td>\n      <td>0.0</td>\n      <td>0.0</td>\n      <td>0.0</td>\n      <td>0.0</td>\n      <td>80.0</td>\n      <td>20.0</td>\n      <td>60.0</td>\n      <td>...</td>\n      <td>9</td>\n      <td>2</td>\n      <td>8</td>\n      <td>3</td>\n      <td>1</td>\n      <td>0</td>\n      <td>1</td>\n      <td>0</td>\n      <td>0</td>\n      <td>0.0</td>\n    </tr>\n    <tr>\n      <th>192877</th>\n      <td>20.430236</td>\n      <td>6.998511</td>\n      <td>0.0</td>\n      <td>0.0</td>\n      <td>2.0</td>\n      <td>2.0</td>\n      <td>4.0</td>\n      <td>100.0</td>\n      <td>0.0</td>\n      <td>100.0</td>\n      <td>...</td>\n      <td>9</td>\n      <td>2</td>\n      <td>8</td>\n      <td>3</td>\n      <td>1</td>\n      <td>0</td>\n      <td>1</td>\n      <td>0</td>\n      <td>0</td>\n      <td>1.0</td>\n    </tr>\n    <tr>\n      <th>192878</th>\n      <td>20.584004</td>\n      <td>6.998511</td>\n      <td>0.0</td>\n      <td>0.0</td>\n      <td>0.0</td>\n      <td>0.0</td>\n      <td>0.0</td>\n      <td>50.0</td>\n      <td>30.0</td>\n      <td>50.0</td>\n      <td>...</td>\n      <td>3</td>\n      <td>2</td>\n      <td>3</td>\n      <td>0</td>\n      <td>1</td>\n      <td>1</td>\n      <td>1</td>\n      <td>0</td>\n      <td>0</td>\n      <td>0.0</td>\n    </tr>\n  </tbody>\n</table>\n<p>192879 rows × 29 columns</p>\n</div>"
     },
     "execution_count": 30,
     "metadata": {},
     "output_type": "execute_result"
    }
   ],
   "source": [
    "#카테고리 컬럼 > 0,1,2,3....변경\n",
    "for i in CATEGORICAL_COLUMN:\n",
    "    value = data[i].unique()\n",
    "    val_list = list(value)\n",
    "    new_val_list = list(range(0, len(val_list)))\n",
    "    data[i]= data[i].replace(val_list,new_val_list)\n",
    "data"
   ],
   "metadata": {
    "collapsed": false,
    "pycharm": {
     "name": "#%%\n"
    }
   }
  },
  {
   "cell_type": "code",
   "execution_count": 31,
   "outputs": [],
   "source": [
    "train_data, test_data = train_test_split(data, test_size=0.2, random_state=42)\n",
    "train_data, val_data = train_test_split(train_data, test_size=0.2, random_state=42)\n",
    "x_train  = train_data.drop(LABEL_COLUMN,axis = 1)\n",
    "y_train = train_data[LABEL_COLUMN]\n",
    "\n",
    "x_val  = val_data.drop(LABEL_COLUMN,axis = 1)\n",
    "y_val = val_data[LABEL_COLUMN]\n",
    "\n",
    "x_test  = test_data.drop(LABEL_COLUMN,axis = 1)\n",
    "y_test = test_data[LABEL_COLUMN]\n"
   ],
   "metadata": {
    "collapsed": false,
    "pycharm": {
     "name": "#%%\n"
    }
   }
  },
  {
   "cell_type": "code",
   "execution_count": 34,
   "outputs": [
    {
     "name": "stderr",
     "output_type": "stream",
     "text": [
      "\u001B[32m[I 2022-09-30 13:49:49,007]\u001B[0m A new study created in memory with name: no-name-6c33931f-44cd-49ba-83e5-486ca01e8740\u001B[0m\n",
      "\u001B[32m[I 2022-09-30 13:49:55,621]\u001B[0m Trial 0 finished with value: 0.5032068412613575 and parameters: {'num_leaves': 396, 'feature_fraction': 0.11867675442346136, 'bagging_fraction': 0.6702834114336479, 'bagging_freq': 11, 'min_child_samples': 50}. Best is trial 0 with value: 0.5032068412613575.\u001B[0m\n"
     ]
    },
    {
     "name": "stdout",
     "output_type": "stream",
     "text": [
      "[LightGBM] [Warning] bagging_freq is set=2, subsample_freq=0 will be ignored. Current value: bagging_freq=2\n",
      "[LightGBM] [Warning] feature_fraction is set=0.27825657828366157, colsample_bytree=1.0 will be ignored. Current value: feature_fraction=0.27825657828366157\n",
      "[LightGBM] [Warning] bagging_fraction is set=0.7844776409790628, subsample=1.0 will be ignored. Current value: bagging_fraction=0.7844776409790628\n"
     ]
    },
    {
     "name": "stderr",
     "output_type": "stream",
     "text": [
      "\u001B[32m[I 2022-09-30 13:50:02,370]\u001B[0m Trial 1 finished with value: 0.5852472961477702 and parameters: {'num_leaves': 116, 'feature_fraction': 0.27825657828366157, 'bagging_fraction': 0.7844776409790628, 'bagging_freq': 2, 'min_child_samples': 9}. Best is trial 1 with value: 0.5852472961477702.\u001B[0m\n"
     ]
    },
    {
     "name": "stdout",
     "output_type": "stream",
     "text": [
      "[LightGBM] [Warning] bagging_freq is set=8, subsample_freq=0 will be ignored. Current value: bagging_freq=8\n",
      "[LightGBM] [Warning] feature_fraction is set=0.9580540115754429, colsample_bytree=1.0 will be ignored. Current value: feature_fraction=0.9580540115754429\n",
      "[LightGBM] [Warning] bagging_fraction is set=0.10355343969512301, subsample=1.0 will be ignored. Current value: bagging_fraction=0.10355343969512301\n"
     ]
    },
    {
     "name": "stderr",
     "output_type": "stream",
     "text": [
      "\u001B[32m[I 2022-09-30 13:50:07,419]\u001B[0m Trial 2 finished with value: 0.5689025109041612 and parameters: {'num_leaves': 352, 'feature_fraction': 0.9580540115754429, 'bagging_fraction': 0.10355343969512301, 'bagging_freq': 8, 'min_child_samples': 82}. Best is trial 1 with value: 0.5852472961477702.\u001B[0m\n"
     ]
    },
    {
     "name": "stdout",
     "output_type": "stream",
     "text": [
      "[LightGBM] [Warning] bagging_freq is set=14, subsample_freq=0 will be ignored. Current value: bagging_freq=14\n",
      "[LightGBM] [Warning] feature_fraction is set=0.7495797856886196, colsample_bytree=1.0 will be ignored. Current value: feature_fraction=0.7495797856886196\n",
      "[LightGBM] [Warning] bagging_fraction is set=0.3626884613535699, subsample=1.0 will be ignored. Current value: bagging_fraction=0.3626884613535699\n"
     ]
    },
    {
     "name": "stderr",
     "output_type": "stream",
     "text": [
      "\u001B[32m[I 2022-09-30 13:50:20,002]\u001B[0m Trial 3 finished with value: 0.5990214352283317 and parameters: {'num_leaves': 315, 'feature_fraction': 0.7495797856886196, 'bagging_fraction': 0.3626884613535699, 'bagging_freq': 14, 'min_child_samples': 72}. Best is trial 3 with value: 0.5990214352283317.\u001B[0m\n"
     ]
    },
    {
     "name": "stdout",
     "output_type": "stream",
     "text": [
      "[LightGBM] [Warning] bagging_freq is set=10, subsample_freq=0 will be ignored. Current value: bagging_freq=10\n",
      "[LightGBM] [Warning] feature_fraction is set=0.22795304284137427, colsample_bytree=1.0 will be ignored. Current value: feature_fraction=0.22795304284137427\n",
      "[LightGBM] [Warning] bagging_fraction is set=0.43600668404632226, subsample=1.0 will be ignored. Current value: bagging_fraction=0.43600668404632226\n"
     ]
    },
    {
     "name": "stderr",
     "output_type": "stream",
     "text": [
      "\u001B[32m[I 2022-09-30 13:50:29,607]\u001B[0m Trial 4 finished with value: 0.5641025641025641 and parameters: {'num_leaves': 279, 'feature_fraction': 0.22795304284137427, 'bagging_fraction': 0.43600668404632226, 'bagging_freq': 10, 'min_child_samples': 45}. Best is trial 3 with value: 0.5990214352283317.\u001B[0m\n"
     ]
    },
    {
     "name": "stdout",
     "output_type": "stream",
     "text": [
      "[LightGBM] [Warning] bagging_freq is set=10, subsample_freq=0 will be ignored. Current value: bagging_freq=10\n",
      "[LightGBM] [Warning] feature_fraction is set=0.6559902806223854, colsample_bytree=1.0 will be ignored. Current value: feature_fraction=0.6559902806223854\n",
      "[LightGBM] [Warning] bagging_fraction is set=0.5618244182989518, subsample=1.0 will be ignored. Current value: bagging_fraction=0.5618244182989518\n"
     ]
    },
    {
     "name": "stderr",
     "output_type": "stream",
     "text": [
      "\u001B[32m[I 2022-09-30 13:50:39,938]\u001B[0m Trial 5 finished with value: 0.6038264115725619 and parameters: {'num_leaves': 223, 'feature_fraction': 0.6559902806223854, 'bagging_fraction': 0.5618244182989518, 'bagging_freq': 10, 'min_child_samples': 61}. Best is trial 5 with value: 0.6038264115725619.\u001B[0m\n"
     ]
    },
    {
     "name": "stdout",
     "output_type": "stream",
     "text": [
      "[LightGBM] [Warning] bagging_freq is set=5, subsample_freq=0 will be ignored. Current value: bagging_freq=5\n",
      "[LightGBM] [Warning] feature_fraction is set=0.5694824371542707, colsample_bytree=1.0 will be ignored. Current value: feature_fraction=0.5694824371542707\n",
      "[LightGBM] [Warning] bagging_fraction is set=0.9177839927278014, subsample=1.0 will be ignored. Current value: bagging_fraction=0.9177839927278014\n"
     ]
    },
    {
     "name": "stderr",
     "output_type": "stream",
     "text": [
      "\u001B[32m[I 2022-09-30 13:51:00,791]\u001B[0m Trial 6 finished with value: 0.6141750491386286 and parameters: {'num_leaves': 413, 'feature_fraction': 0.5694824371542707, 'bagging_fraction': 0.9177839927278014, 'bagging_freq': 5, 'min_child_samples': 10}. Best is trial 6 with value: 0.6141750491386286.\u001B[0m\n"
     ]
    },
    {
     "name": "stdout",
     "output_type": "stream",
     "text": [
      "[LightGBM] [Warning] bagging_freq is set=0, subsample_freq=0 will be ignored. Current value: bagging_freq=0\n",
      "[LightGBM] [Warning] feature_fraction is set=0.2025859256771948, colsample_bytree=1.0 will be ignored. Current value: feature_fraction=0.2025859256771948\n",
      "[LightGBM] [Warning] bagging_fraction is set=0.845813193676909, subsample=1.0 will be ignored. Current value: bagging_fraction=0.845813193676909\n"
     ]
    },
    {
     "name": "stderr",
     "output_type": "stream",
     "text": [
      "\u001B[32m[I 2022-09-30 13:51:08,612]\u001B[0m Trial 7 finished with value: 0.5690168818272096 and parameters: {'num_leaves': 155, 'feature_fraction': 0.2025859256771948, 'bagging_fraction': 0.845813193676909, 'bagging_freq': 0, 'min_child_samples': 63}. Best is trial 6 with value: 0.6141750491386286.\u001B[0m\n"
     ]
    },
    {
     "name": "stdout",
     "output_type": "stream",
     "text": [
      "[LightGBM] [Warning] bagging_freq is set=13, subsample_freq=0 will be ignored. Current value: bagging_freq=13\n",
      "[LightGBM] [Warning] feature_fraction is set=0.8373582961030618, colsample_bytree=1.0 will be ignored. Current value: feature_fraction=0.8373582961030618\n",
      "[LightGBM] [Warning] bagging_fraction is set=0.27905278571093106, subsample=1.0 will be ignored. Current value: bagging_fraction=0.27905278571093106\n"
     ]
    },
    {
     "name": "stderr",
     "output_type": "stream",
     "text": [
      "\u001B[32m[I 2022-09-30 13:51:20,200]\u001B[0m Trial 8 finished with value: 0.5910357640501626 and parameters: {'num_leaves': 281, 'feature_fraction': 0.8373582961030618, 'bagging_fraction': 0.27905278571093106, 'bagging_freq': 13, 'min_child_samples': 36}. Best is trial 6 with value: 0.6141750491386286.\u001B[0m\n"
     ]
    },
    {
     "name": "stdout",
     "output_type": "stream",
     "text": [
      "[LightGBM] [Warning] bagging_freq is set=5, subsample_freq=0 will be ignored. Current value: bagging_freq=5\n",
      "[LightGBM] [Warning] feature_fraction is set=0.36636553619171086, colsample_bytree=1.0 will be ignored. Current value: feature_fraction=0.36636553619171086\n",
      "[LightGBM] [Warning] bagging_fraction is set=0.8955428316050676, subsample=1.0 will be ignored. Current value: bagging_fraction=0.8955428316050676\n"
     ]
    },
    {
     "name": "stderr",
     "output_type": "stream",
     "text": [
      "\u001B[32m[I 2022-09-30 13:51:40,648]\u001B[0m Trial 9 finished with value: 0.5979769466007998 and parameters: {'num_leaves': 387, 'feature_fraction': 0.36636553619171086, 'bagging_fraction': 0.8955428316050676, 'bagging_freq': 5, 'min_child_samples': 17}. Best is trial 6 with value: 0.6141750491386286.\u001B[0m\n"
     ]
    },
    {
     "name": "stdout",
     "output_type": "stream",
     "text": [
      "[LightGBM] [Warning] bagging_freq is set=5, subsample_freq=0 will be ignored. Current value: bagging_freq=5\n",
      "[LightGBM] [Warning] feature_fraction is set=0.47866438082785684, colsample_bytree=1.0 will be ignored. Current value: feature_fraction=0.47866438082785684\n",
      "[LightGBM] [Warning] bagging_fraction is set=0.9880223569011758, subsample=1.0 will be ignored. Current value: bagging_fraction=0.9880223569011758\n"
     ]
    },
    {
     "name": "stderr",
     "output_type": "stream",
     "text": [
      "\u001B[32m[I 2022-09-30 13:52:06,539]\u001B[0m Trial 10 finished with value: 0.6110982658959537 and parameters: {'num_leaves': 481, 'feature_fraction': 0.47866438082785684, 'bagging_fraction': 0.9880223569011758, 'bagging_freq': 5, 'min_child_samples': 26}. Best is trial 6 with value: 0.6141750491386286.\u001B[0m\n"
     ]
    },
    {
     "name": "stdout",
     "output_type": "stream",
     "text": [
      "[LightGBM] [Warning] bagging_freq is set=5, subsample_freq=0 will be ignored. Current value: bagging_freq=5\n",
      "[LightGBM] [Warning] feature_fraction is set=0.5395936021870693, colsample_bytree=1.0 will be ignored. Current value: feature_fraction=0.5395936021870693\n",
      "[LightGBM] [Warning] bagging_fraction is set=0.9521992993846475, subsample=1.0 will be ignored. Current value: bagging_fraction=0.9521992993846475\n"
     ]
    },
    {
     "name": "stderr",
     "output_type": "stream",
     "text": [
      "\u001B[32m[I 2022-09-30 13:52:31,184]\u001B[0m Trial 11 finished with value: 0.6157561817136284 and parameters: {'num_leaves': 505, 'feature_fraction': 0.5395936021870693, 'bagging_fraction': 0.9521992993846475, 'bagging_freq': 5, 'min_child_samples': 29}. Best is trial 11 with value: 0.6157561817136284.\u001B[0m\n"
     ]
    },
    {
     "name": "stdout",
     "output_type": "stream",
     "text": [
      "[LightGBM] [Warning] bagging_freq is set=5, subsample_freq=0 will be ignored. Current value: bagging_freq=5\n",
      "[LightGBM] [Warning] feature_fraction is set=0.546385714261104, colsample_bytree=1.0 will be ignored. Current value: feature_fraction=0.546385714261104\n",
      "[LightGBM] [Warning] bagging_fraction is set=0.9944299060775921, subsample=1.0 will be ignored. Current value: bagging_fraction=0.9944299060775921\n"
     ]
    },
    {
     "name": "stderr",
     "output_type": "stream",
     "text": [
      "\u001B[32m[I 2022-09-30 13:52:54,507]\u001B[0m Trial 12 finished with value: 0.6124523506988565 and parameters: {'num_leaves': 486, 'feature_fraction': 0.546385714261104, 'bagging_fraction': 0.9944299060775921, 'bagging_freq': 5, 'min_child_samples': 3}. Best is trial 11 with value: 0.6157561817136284.\u001B[0m\n"
     ]
    },
    {
     "name": "stdout",
     "output_type": "stream",
     "text": [
      "[LightGBM] [Warning] bagging_freq is set=3, subsample_freq=0 will be ignored. Current value: bagging_freq=3\n",
      "[LightGBM] [Warning] feature_fraction is set=0.4399220795472081, colsample_bytree=1.0 will be ignored. Current value: feature_fraction=0.4399220795472081\n",
      "[LightGBM] [Warning] bagging_fraction is set=0.7104038528822796, subsample=1.0 will be ignored. Current value: bagging_fraction=0.7104038528822796\n"
     ]
    },
    {
     "name": "stderr",
     "output_type": "stream",
     "text": [
      "\u001B[32m[I 2022-09-30 13:53:20,338]\u001B[0m Trial 13 finished with value: 0.6073505466387532 and parameters: {'num_leaves': 504, 'feature_fraction': 0.4399220795472081, 'bagging_fraction': 0.7104038528822796, 'bagging_freq': 3, 'min_child_samples': 27}. Best is trial 11 with value: 0.6157561817136284.\u001B[0m\n"
     ]
    },
    {
     "name": "stdout",
     "output_type": "stream",
     "text": [
      "[LightGBM] [Warning] bagging_freq is set=7, subsample_freq=0 will be ignored. Current value: bagging_freq=7\n",
      "[LightGBM] [Warning] feature_fraction is set=0.6534885885214556, colsample_bytree=1.0 will be ignored. Current value: feature_fraction=0.6534885885214556\n",
      "[LightGBM] [Warning] bagging_fraction is set=0.6290733630065004, subsample=1.0 will be ignored. Current value: bagging_fraction=0.6290733630065004\n"
     ]
    },
    {
     "name": "stderr",
     "output_type": "stream",
     "text": [
      "\u001B[32m[I 2022-09-30 13:53:21,777]\u001B[0m Trial 14 finished with value: 0.547181923225061 and parameters: {'num_leaves': 16, 'feature_fraction': 0.6534885885214556, 'bagging_fraction': 0.6290733630065004, 'bagging_freq': 7, 'min_child_samples': 18}. Best is trial 11 with value: 0.6157561817136284.\u001B[0m\n"
     ]
    },
    {
     "name": "stdout",
     "output_type": "stream",
     "text": [
      "[LightGBM] [Warning] bagging_freq is set=7, subsample_freq=0 will be ignored. Current value: bagging_freq=7\n",
      "[LightGBM] [Warning] feature_fraction is set=0.6116953675356487, colsample_bytree=1.0 will be ignored. Current value: feature_fraction=0.6116953675356487\n",
      "[LightGBM] [Warning] bagging_fraction is set=0.8592101784778369, subsample=1.0 will be ignored. Current value: bagging_fraction=0.8592101784778369\n"
     ]
    },
    {
     "name": "stderr",
     "output_type": "stream",
     "text": [
      "\u001B[32m[I 2022-09-30 13:53:43,913]\u001B[0m Trial 15 finished with value: 0.6168936072005539 and parameters: {'num_leaves': 436, 'feature_fraction': 0.6116953675356487, 'bagging_fraction': 0.8592101784778369, 'bagging_freq': 7, 'min_child_samples': 37}. Best is trial 15 with value: 0.6168936072005539.\u001B[0m\n"
     ]
    },
    {
     "name": "stdout",
     "output_type": "stream",
     "text": [
      "[LightGBM] [Warning] bagging_freq is set=8, subsample_freq=0 will be ignored. Current value: bagging_freq=8\n",
      "[LightGBM] [Warning] feature_fraction is set=0.7731329467192255, colsample_bytree=1.0 will be ignored. Current value: feature_fraction=0.7731329467192255\n",
      "[LightGBM] [Warning] bagging_fraction is set=0.7781515281016546, subsample=1.0 will be ignored. Current value: bagging_fraction=0.7781515281016546\n"
     ]
    },
    {
     "name": "stderr",
     "output_type": "stream",
     "text": [
      "\u001B[32m[I 2022-09-30 13:54:04,172]\u001B[0m Trial 16 finished with value: 0.6111689212625737 and parameters: {'num_leaves': 443, 'feature_fraction': 0.7731329467192255, 'bagging_fraction': 0.7781515281016546, 'bagging_freq': 8, 'min_child_samples': 100}. Best is trial 15 with value: 0.6168936072005539.\u001B[0m\n"
     ]
    },
    {
     "name": "stdout",
     "output_type": "stream",
     "text": [
      "[LightGBM] [Warning] bagging_freq is set=3, subsample_freq=0 will be ignored. Current value: bagging_freq=3\n",
      "[LightGBM] [Warning] feature_fraction is set=0.35267787625264396, colsample_bytree=1.0 will be ignored. Current value: feature_fraction=0.35267787625264396\n",
      "[LightGBM] [Warning] bagging_fraction is set=0.8032496238190892, subsample=1.0 will be ignored. Current value: bagging_fraction=0.8032496238190892\n"
     ]
    },
    {
     "name": "stderr",
     "output_type": "stream",
     "text": [
      "\u001B[32m[I 2022-09-30 13:54:26,549]\u001B[0m Trial 17 finished with value: 0.6 and parameters: {'num_leaves': 448, 'feature_fraction': 0.35267787625264396, 'bagging_fraction': 0.8032496238190892, 'bagging_freq': 3, 'min_child_samples': 42}. Best is trial 15 with value: 0.6168936072005539.\u001B[0m\n"
     ]
    },
    {
     "name": "stdout",
     "output_type": "stream",
     "text": [
      "[LightGBM] [Warning] bagging_freq is set=7, subsample_freq=0 will be ignored. Current value: bagging_freq=7\n",
      "[LightGBM] [Warning] feature_fraction is set=0.6342790051510949, colsample_bytree=1.0 will be ignored. Current value: feature_fraction=0.6342790051510949\n",
      "[LightGBM] [Warning] bagging_fraction is set=0.4929905409277389, subsample=1.0 will be ignored. Current value: bagging_fraction=0.4929905409277389\n"
     ]
    },
    {
     "name": "stderr",
     "output_type": "stream",
     "text": [
      "\u001B[32m[I 2022-09-30 13:54:47,643]\u001B[0m Trial 18 finished with value: 0.6089655172413794 and parameters: {'num_leaves': 351, 'feature_fraction': 0.6342790051510949, 'bagging_fraction': 0.4929905409277389, 'bagging_freq': 7, 'min_child_samples': 32}. Best is trial 15 with value: 0.6168936072005539.\u001B[0m\n"
     ]
    },
    {
     "name": "stdout",
     "output_type": "stream",
     "text": [
      "[LightGBM] [Warning] bagging_freq is set=1, subsample_freq=0 will be ignored. Current value: bagging_freq=1\n",
      "[LightGBM] [Warning] feature_fraction is set=0.9286712161777549, colsample_bytree=1.0 will be ignored. Current value: feature_fraction=0.9286712161777549\n",
      "[LightGBM] [Warning] bagging_fraction is set=0.9240812752774222, subsample=1.0 will be ignored. Current value: bagging_fraction=0.9240812752774222\n"
     ]
    },
    {
     "name": "stderr",
     "output_type": "stream",
     "text": [
      "\u001B[32m[I 2022-09-30 13:54:58,722]\u001B[0m Trial 19 finished with value: 0.602822114272496 and parameters: {'num_leaves': 192, 'feature_fraction': 0.9286712161777549, 'bagging_fraction': 0.9240812752774222, 'bagging_freq': 1, 'min_child_samples': 55}. Best is trial 15 with value: 0.6168936072005539.\u001B[0m\n"
     ]
    },
    {
     "name": "stdout",
     "output_type": "stream",
     "text": [
      "[LightGBM] [Warning] bagging_freq is set=9, subsample_freq=0 will be ignored. Current value: bagging_freq=9\n",
      "[LightGBM] [Warning] feature_fraction is set=0.4994095252892826, colsample_bytree=1.0 will be ignored. Current value: feature_fraction=0.4994095252892826\n",
      "[LightGBM] [Warning] bagging_fraction is set=0.7416820814661015, subsample=1.0 will be ignored. Current value: bagging_fraction=0.7416820814661015\n"
     ]
    },
    {
     "name": "stderr",
     "output_type": "stream",
     "text": [
      "\u001B[32m[I 2022-09-30 13:55:23,262]\u001B[0m Trial 20 finished with value: 0.6092515109251511 and parameters: {'num_leaves': 448, 'feature_fraction': 0.4994095252892826, 'bagging_fraction': 0.7416820814661015, 'bagging_freq': 9, 'min_child_samples': 38}. Best is trial 15 with value: 0.6168936072005539.\u001B[0m\n"
     ]
    },
    {
     "name": "stdout",
     "output_type": "stream",
     "text": [
      "[LightGBM] [Warning] bagging_freq is set=6, subsample_freq=0 will be ignored. Current value: bagging_freq=6\n",
      "[LightGBM] [Warning] feature_fraction is set=0.592843705146675, colsample_bytree=1.0 will be ignored. Current value: feature_fraction=0.592843705146675\n",
      "[LightGBM] [Warning] bagging_fraction is set=0.8937613578499045, subsample=1.0 will be ignored. Current value: bagging_fraction=0.8937613578499045\n"
     ]
    },
    {
     "name": "stderr",
     "output_type": "stream",
     "text": [
      "\u001B[32m[I 2022-09-30 13:55:44,294]\u001B[0m Trial 21 finished with value: 0.6095282039450917 and parameters: {'num_leaves': 405, 'feature_fraction': 0.592843705146675, 'bagging_fraction': 0.8937613578499045, 'bagging_freq': 6, 'min_child_samples': 17}. Best is trial 15 with value: 0.6168936072005539.\u001B[0m\n"
     ]
    },
    {
     "name": "stdout",
     "output_type": "stream",
     "text": [
      "[LightGBM] [Warning] bagging_freq is set=4, subsample_freq=0 will be ignored. Current value: bagging_freq=4\n",
      "[LightGBM] [Warning] feature_fraction is set=0.7208292448977502, colsample_bytree=1.0 will be ignored. Current value: feature_fraction=0.7208292448977502\n",
      "[LightGBM] [Warning] bagging_fraction is set=0.9288882936508732, subsample=1.0 will be ignored. Current value: bagging_fraction=0.9288882936508732\n"
     ]
    },
    {
     "name": "stderr",
     "output_type": "stream",
     "text": [
      "\u001B[32m[I 2022-09-30 13:56:08,324]\u001B[0m Trial 22 finished with value: 0.6127101082201244 and parameters: {'num_leaves': 501, 'feature_fraction': 0.7208292448977502, 'bagging_fraction': 0.9288882936508732, 'bagging_freq': 4, 'min_child_samples': 2}. Best is trial 15 with value: 0.6168936072005539.\u001B[0m\n"
     ]
    },
    {
     "name": "stdout",
     "output_type": "stream",
     "text": [
      "[LightGBM] [Warning] bagging_freq is set=6, subsample_freq=0 will be ignored. Current value: bagging_freq=6\n",
      "[LightGBM] [Warning] feature_fraction is set=0.5495705566624484, colsample_bytree=1.0 will be ignored. Current value: feature_fraction=0.5495705566624484\n",
      "[LightGBM] [Warning] bagging_fraction is set=0.8492914434714659, subsample=1.0 will be ignored. Current value: bagging_fraction=0.8492914434714659\n"
     ]
    },
    {
     "name": "stderr",
     "output_type": "stream",
     "text": [
      "\u001B[32m[I 2022-09-30 13:56:29,693]\u001B[0m Trial 23 finished with value: 0.6146757286026956 and parameters: {'num_leaves': 425, 'feature_fraction': 0.5495705566624484, 'bagging_fraction': 0.8492914434714659, 'bagging_freq': 6, 'min_child_samples': 24}. Best is trial 15 with value: 0.6168936072005539.\u001B[0m\n"
     ]
    },
    {
     "name": "stdout",
     "output_type": "stream",
     "text": [
      "[LightGBM] [Warning] bagging_freq is set=6, subsample_freq=0 will be ignored. Current value: bagging_freq=6\n",
      "[LightGBM] [Warning] feature_fraction is set=0.3792498522628232, colsample_bytree=1.0 will be ignored. Current value: feature_fraction=0.3792498522628232\n",
      "[LightGBM] [Warning] bagging_fraction is set=0.6221533077847845, subsample=1.0 will be ignored. Current value: bagging_fraction=0.6221533077847845\n"
     ]
    },
    {
     "name": "stderr",
     "output_type": "stream",
     "text": [
      "\u001B[32m[I 2022-09-30 13:56:48,536]\u001B[0m Trial 24 finished with value: 0.6022740593130935 and parameters: {'num_leaves': 361, 'feature_fraction': 0.3792498522628232, 'bagging_fraction': 0.6221533077847845, 'bagging_freq': 6, 'min_child_samples': 28}. Best is trial 15 with value: 0.6168936072005539.\u001B[0m\n"
     ]
    },
    {
     "name": "stdout",
     "output_type": "stream",
     "text": [
      "[LightGBM] [Warning] bagging_freq is set=7, subsample_freq=0 will be ignored. Current value: bagging_freq=7\n",
      "[LightGBM] [Warning] feature_fraction is set=0.4393480058155036, colsample_bytree=1.0 will be ignored. Current value: feature_fraction=0.4393480058155036\n",
      "[LightGBM] [Warning] bagging_fraction is set=0.8417555554228818, subsample=1.0 will be ignored. Current value: bagging_fraction=0.8417555554228818\n"
     ]
    },
    {
     "name": "stderr",
     "output_type": "stream",
     "text": [
      "\u001B[32m[I 2022-09-30 13:57:12,101]\u001B[0m Trial 25 finished with value: 0.6042642924086223 and parameters: {'num_leaves': 452, 'feature_fraction': 0.4393480058155036, 'bagging_fraction': 0.8417555554228818, 'bagging_freq': 7, 'min_child_samples': 22}. Best is trial 15 with value: 0.6168936072005539.\u001B[0m\n"
     ]
    },
    {
     "name": "stdout",
     "output_type": "stream",
     "text": [
      "[LightGBM] [Warning] bagging_freq is set=3, subsample_freq=0 will be ignored. Current value: bagging_freq=3\n",
      "[LightGBM] [Warning] feature_fraction is set=0.8450344734005272, colsample_bytree=1.0 will be ignored. Current value: feature_fraction=0.8450344734005272\n",
      "[LightGBM] [Warning] bagging_fraction is set=0.9910317904503997, subsample=1.0 will be ignored. Current value: bagging_fraction=0.9910317904503997\n"
     ]
    },
    {
     "name": "stderr",
     "output_type": "stream",
     "text": [
      "\u001B[32m[I 2022-09-30 13:57:27,431]\u001B[0m Trial 26 finished with value: 0.611670480549199 and parameters: {'num_leaves': 320, 'feature_fraction': 0.8450344734005272, 'bagging_fraction': 0.9910317904503997, 'bagging_freq': 3, 'min_child_samples': 49}. Best is trial 15 with value: 0.6168936072005539.\u001B[0m\n"
     ]
    },
    {
     "name": "stdout",
     "output_type": "stream",
     "text": [
      "[LightGBM] [Warning] bagging_freq is set=9, subsample_freq=0 will be ignored. Current value: bagging_freq=9\n",
      "[LightGBM] [Warning] feature_fraction is set=0.5256477922280606, colsample_bytree=1.0 will be ignored. Current value: feature_fraction=0.5256477922280606\n",
      "[LightGBM] [Warning] bagging_fraction is set=0.8407391604128857, subsample=1.0 will be ignored. Current value: bagging_fraction=0.8407391604128857\n"
     ]
    },
    {
     "name": "stderr",
     "output_type": "stream",
     "text": [
      "\u001B[32m[I 2022-09-30 13:57:48,932]\u001B[0m Trial 27 finished with value: 0.6118055555555556 and parameters: {'num_leaves': 425, 'feature_fraction': 0.5256477922280606, 'bagging_fraction': 0.8407391604128857, 'bagging_freq': 9, 'min_child_samples': 37}. Best is trial 15 with value: 0.6168936072005539.\u001B[0m\n"
     ]
    },
    {
     "name": "stdout",
     "output_type": "stream",
     "text": [
      "[LightGBM] [Warning] bagging_freq is set=12, subsample_freq=0 will be ignored. Current value: bagging_freq=12\n",
      "[LightGBM] [Warning] feature_fraction is set=0.69573749301939, colsample_bytree=1.0 will be ignored. Current value: feature_fraction=0.69573749301939\n",
      "[LightGBM] [Warning] bagging_fraction is set=0.7178419956096984, subsample=1.0 will be ignored. Current value: bagging_fraction=0.7178419956096984\n"
     ]
    },
    {
     "name": "stderr",
     "output_type": "stream",
     "text": [
      "\u001B[32m[I 2022-09-30 13:58:11,160]\u001B[0m Trial 28 finished with value: 0.6085356033590245 and parameters: {'num_leaves': 466, 'feature_fraction': 0.69573749301939, 'bagging_fraction': 0.7178419956096984, 'bagging_freq': 12, 'min_child_samples': 31}. Best is trial 15 with value: 0.6168936072005539.\u001B[0m\n"
     ]
    },
    {
     "name": "stdout",
     "output_type": "stream",
     "text": [
      "[LightGBM] [Warning] bagging_freq is set=11, subsample_freq=0 will be ignored. Current value: bagging_freq=11\n",
      "[LightGBM] [Warning] feature_fraction is set=0.5872300593426332, colsample_bytree=1.0 will be ignored. Current value: feature_fraction=0.5872300593426332\n",
      "[LightGBM] [Warning] bagging_fraction is set=0.6620350119562723, subsample=1.0 will be ignored. Current value: bagging_fraction=0.6620350119562723\n"
     ]
    },
    {
     "name": "stderr",
     "output_type": "stream",
     "text": [
      "\u001B[32m[I 2022-09-30 13:58:37,518]\u001B[0m Trial 29 finished with value: 0.6079090803664617 and parameters: {'num_leaves': 510, 'feature_fraction': 0.5872300593426332, 'bagging_fraction': 0.6620350119562723, 'bagging_freq': 11, 'min_child_samples': 47}. Best is trial 15 with value: 0.6168936072005539.\u001B[0m\n"
     ]
    },
    {
     "name": "stdout",
     "output_type": "stream",
     "text": [
      "[LightGBM] [Warning] bagging_freq is set=6, subsample_freq=0 will be ignored. Current value: bagging_freq=6\n",
      "[LightGBM] [Warning] feature_fraction is set=0.12519818329351962, colsample_bytree=1.0 will be ignored. Current value: feature_fraction=0.12519818329351962\n",
      "[LightGBM] [Warning] bagging_fraction is set=0.8567848987924167, subsample=1.0 will be ignored. Current value: bagging_fraction=0.8567848987924167\n"
     ]
    },
    {
     "name": "stderr",
     "output_type": "stream",
     "text": [
      "\u001B[32m[I 2022-09-30 13:58:48,948]\u001B[0m Trial 30 finished with value: 0.5588641789169494 and parameters: {'num_leaves': 372, 'feature_fraction': 0.12519818329351962, 'bagging_fraction': 0.8567848987924167, 'bagging_freq': 6, 'min_child_samples': 55}. Best is trial 15 with value: 0.6168936072005539.\u001B[0m\n"
     ]
    },
    {
     "name": "stdout",
     "output_type": "stream",
     "text": [
      "[LightGBM] [Warning] bagging_freq is set=4, subsample_freq=0 will be ignored. Current value: bagging_freq=4\n",
      "[LightGBM] [Warning] feature_fraction is set=0.5786838579012311, colsample_bytree=1.0 will be ignored. Current value: feature_fraction=0.5786838579012311\n",
      "[LightGBM] [Warning] bagging_fraction is set=0.9058598154883305, subsample=1.0 will be ignored. Current value: bagging_fraction=0.9058598154883305\n"
     ]
    },
    {
     "name": "stderr",
     "output_type": "stream",
     "text": [
      "\u001B[32m[I 2022-09-30 13:59:11,749]\u001B[0m Trial 31 finished with value: 0.6130259365994237 and parameters: {'num_leaves': 409, 'feature_fraction': 0.5786838579012311, 'bagging_fraction': 0.9058598154883305, 'bagging_freq': 4, 'min_child_samples': 11}. Best is trial 15 with value: 0.6168936072005539.\u001B[0m\n"
     ]
    },
    {
     "name": "stdout",
     "output_type": "stream",
     "text": [
      "[LightGBM] [Warning] bagging_freq is set=4, subsample_freq=0 will be ignored. Current value: bagging_freq=4\n",
      "[LightGBM] [Warning] feature_fraction is set=0.4484429352665741, colsample_bytree=1.0 will be ignored. Current value: feature_fraction=0.4484429352665741\n",
      "[LightGBM] [Warning] bagging_fraction is set=0.9439619200496833, subsample=1.0 will be ignored. Current value: bagging_fraction=0.9439619200496833\n"
     ]
    },
    {
     "name": "stderr",
     "output_type": "stream",
     "text": [
      "\u001B[32m[I 2022-09-30 13:59:34,770]\u001B[0m Trial 32 finished with value: 0.605911905596448 and parameters: {'num_leaves': 421, 'feature_fraction': 0.4484429352665741, 'bagging_fraction': 0.9439619200496833, 'bagging_freq': 4, 'min_child_samples': 10}. Best is trial 15 with value: 0.6168936072005539.\u001B[0m\n"
     ]
    },
    {
     "name": "stdout",
     "output_type": "stream",
     "text": [
      "[LightGBM] [Warning] bagging_freq is set=6, subsample_freq=0 will be ignored. Current value: bagging_freq=6\n",
      "[LightGBM] [Warning] feature_fraction is set=0.6327610073655326, colsample_bytree=1.0 will be ignored. Current value: feature_fraction=0.6327610073655326\n",
      "[LightGBM] [Warning] bagging_fraction is set=0.7813557365592267, subsample=1.0 will be ignored. Current value: bagging_fraction=0.7813557365592267\n"
     ]
    },
    {
     "name": "stderr",
     "output_type": "stream",
     "text": [
      "\u001B[32m[I 2022-09-30 13:59:38,635]\u001B[0m Trial 33 finished with value: 0.588021778584392 and parameters: {'num_leaves': 53, 'feature_fraction': 0.6327610073655326, 'bagging_fraction': 0.7813557365592267, 'bagging_freq': 6, 'min_child_samples': 22}. Best is trial 15 with value: 0.6168936072005539.\u001B[0m\n"
     ]
    },
    {
     "name": "stdout",
     "output_type": "stream",
     "text": [
      "[LightGBM] [Warning] bagging_freq is set=2, subsample_freq=0 will be ignored. Current value: bagging_freq=2\n",
      "[LightGBM] [Warning] feature_fraction is set=0.5591042242261712, colsample_bytree=1.0 will be ignored. Current value: feature_fraction=0.5591042242261712\n",
      "[LightGBM] [Warning] bagging_fraction is set=0.12820328599695763, subsample=1.0 will be ignored. Current value: bagging_fraction=0.12820328599695763\n"
     ]
    },
    {
     "name": "stderr",
     "output_type": "stream",
     "text": [
      "\u001B[32m[I 2022-09-30 13:59:53,671]\u001B[0m Trial 34 finished with value: 0.5816549660490274 and parameters: {'num_leaves': 331, 'feature_fraction': 0.5591042242261712, 'bagging_fraction': 0.12820328599695763, 'bagging_freq': 2, 'min_child_samples': 12}. Best is trial 15 with value: 0.6168936072005539.\u001B[0m\n"
     ]
    },
    {
     "name": "stdout",
     "output_type": "stream",
     "text": [
      "[LightGBM] [Warning] bagging_freq is set=8, subsample_freq=0 will be ignored. Current value: bagging_freq=8\n",
      "[LightGBM] [Warning] feature_fraction is set=0.7965018253039224, colsample_bytree=1.0 will be ignored. Current value: feature_fraction=0.7965018253039224\n",
      "[LightGBM] [Warning] bagging_fraction is set=0.9446145200010203, subsample=1.0 will be ignored. Current value: bagging_fraction=0.9446145200010203\n"
     ]
    },
    {
     "name": "stderr",
     "output_type": "stream",
     "text": [
      "\u001B[32m[I 2022-09-30 14:00:12,488]\u001B[0m Trial 35 finished with value: 0.6124280782508631 and parameters: {'num_leaves': 384, 'feature_fraction': 0.7965018253039224, 'bagging_fraction': 0.9446145200010203, 'bagging_freq': 8, 'min_child_samples': 23}. Best is trial 15 with value: 0.6168936072005539.\u001B[0m\n"
     ]
    },
    {
     "name": "stdout",
     "output_type": "stream",
     "text": [
      "[LightGBM] [Warning] bagging_freq is set=15, subsample_freq=0 will be ignored. Current value: bagging_freq=15\n",
      "[LightGBM] [Warning] feature_fraction is set=0.685287823915654, colsample_bytree=1.0 will be ignored. Current value: feature_fraction=0.685287823915654\n",
      "[LightGBM] [Warning] bagging_fraction is set=0.7966091800651888, subsample=1.0 will be ignored. Current value: bagging_fraction=0.7966091800651888\n"
     ]
    },
    {
     "name": "stderr",
     "output_type": "stream",
     "text": [
      "\u001B[32m[I 2022-09-30 14:00:35,051]\u001B[0m Trial 36 finished with value: 0.6082236082236082 and parameters: {'num_leaves': 473, 'feature_fraction': 0.685287823915654, 'bagging_fraction': 0.7966091800651888, 'bagging_freq': 15, 'min_child_samples': 6}. Best is trial 15 with value: 0.6168936072005539.\u001B[0m\n"
     ]
    },
    {
     "name": "stdout",
     "output_type": "stream",
     "text": [
      "[LightGBM] [Warning] bagging_freq is set=9, subsample_freq=0 will be ignored. Current value: bagging_freq=9\n",
      "[LightGBM] [Warning] feature_fraction is set=0.5050702241217994, colsample_bytree=1.0 will be ignored. Current value: feature_fraction=0.5050702241217994\n",
      "[LightGBM] [Warning] bagging_fraction is set=0.8782643245444735, subsample=1.0 will be ignored. Current value: bagging_fraction=0.8782643245444735\n"
     ]
    },
    {
     "name": "stderr",
     "output_type": "stream",
     "text": [
      "\u001B[32m[I 2022-09-30 14:00:48,060]\u001B[0m Trial 37 finished with value: 0.6123112659698026 and parameters: {'num_leaves': 251, 'feature_fraction': 0.5050702241217994, 'bagging_fraction': 0.8782643245444735, 'bagging_freq': 9, 'min_child_samples': 43}. Best is trial 15 with value: 0.6168936072005539.\u001B[0m\n"
     ]
    },
    {
     "name": "stdout",
     "output_type": "stream",
     "text": [
      "[LightGBM] [Warning] bagging_freq is set=5, subsample_freq=0 will be ignored. Current value: bagging_freq=5\n",
      "[LightGBM] [Warning] feature_fraction is set=0.29077833344912957, colsample_bytree=1.0 will be ignored. Current value: feature_fraction=0.29077833344912957\n",
      "[LightGBM] [Warning] bagging_fraction is set=0.7439280411749276, subsample=1.0 will be ignored. Current value: bagging_fraction=0.7439280411749276\n"
     ]
    },
    {
     "name": "stderr",
     "output_type": "stream",
     "text": [
      "\u001B[32m[I 2022-09-30 14:01:02,572]\u001B[0m Trial 38 finished with value: 0.5951277480689245 and parameters: {'num_leaves': 291, 'feature_fraction': 0.29077833344912957, 'bagging_fraction': 0.7439280411749276, 'bagging_freq': 5, 'min_child_samples': 32}. Best is trial 15 with value: 0.6168936072005539.\u001B[0m\n"
     ]
    },
    {
     "name": "stdout",
     "output_type": "stream",
     "text": [
      "[LightGBM] [Warning] bagging_freq is set=2, subsample_freq=0 will be ignored. Current value: bagging_freq=2\n",
      "[LightGBM] [Warning] feature_fraction is set=0.6144158751721154, colsample_bytree=1.0 will be ignored. Current value: feature_fraction=0.6144158751721154\n",
      "[LightGBM] [Warning] bagging_fraction is set=0.5543160491369354, subsample=1.0 will be ignored. Current value: bagging_fraction=0.5543160491369354\n"
     ]
    },
    {
     "name": "stderr",
     "output_type": "stream",
     "text": [
      "\u001B[32m[I 2022-09-30 14:01:22,402]\u001B[0m Trial 39 finished with value: 0.6107701215981471 and parameters: {'num_leaves': 426, 'feature_fraction': 0.6144158751721154, 'bagging_fraction': 0.5543160491369354, 'bagging_freq': 2, 'min_child_samples': 15}. Best is trial 15 with value: 0.6168936072005539.\u001B[0m\n"
     ]
    },
    {
     "name": "stdout",
     "output_type": "stream",
     "text": [
      "[LightGBM] [Warning] bagging_freq is set=7, subsample_freq=0 will be ignored. Current value: bagging_freq=7\n",
      "[LightGBM] [Warning] feature_fraction is set=0.38987933878362513, colsample_bytree=1.0 will be ignored. Current value: feature_fraction=0.38987933878362513\n",
      "[LightGBM] [Warning] bagging_fraction is set=0.3352629968840707, subsample=1.0 will be ignored. Current value: bagging_fraction=0.3352629968840707\n"
     ]
    },
    {
     "name": "stderr",
     "output_type": "stream",
     "text": [
      "\u001B[32m[I 2022-09-30 14:01:28,777]\u001B[0m Trial 40 finished with value: 0.5886303669944831 and parameters: {'num_leaves': 122, 'feature_fraction': 0.38987933878362513, 'bagging_fraction': 0.3352629968840707, 'bagging_freq': 7, 'min_child_samples': 79}. Best is trial 15 with value: 0.6168936072005539.\u001B[0m\n"
     ]
    },
    {
     "name": "stdout",
     "output_type": "stream",
     "text": [
      "[LightGBM] [Warning] bagging_freq is set=4, subsample_freq=0 will be ignored. Current value: bagging_freq=4\n",
      "[LightGBM] [Warning] feature_fraction is set=0.5647569578445123, colsample_bytree=1.0 will be ignored. Current value: feature_fraction=0.5647569578445123\n",
      "[LightGBM] [Warning] bagging_fraction is set=0.9519582452161891, subsample=1.0 will be ignored. Current value: bagging_fraction=0.9519582452161891\n"
     ]
    },
    {
     "name": "stderr",
     "output_type": "stream",
     "text": [
      "\u001B[32m[I 2022-09-30 14:01:49,346]\u001B[0m Trial 41 finished with value: 0.6138431417712773 and parameters: {'num_leaves': 407, 'feature_fraction': 0.5647569578445123, 'bagging_fraction': 0.9519582452161891, 'bagging_freq': 4, 'min_child_samples': 10}. Best is trial 15 with value: 0.6168936072005539.\u001B[0m\n"
     ]
    },
    {
     "name": "stdout",
     "output_type": "stream",
     "text": [
      "[LightGBM] [Warning] bagging_freq is set=4, subsample_freq=0 will be ignored. Current value: bagging_freq=4\n",
      "[LightGBM] [Warning] feature_fraction is set=0.5496099479155183, colsample_bytree=1.0 will be ignored. Current value: feature_fraction=0.5496099479155183\n",
      "[LightGBM] [Warning] bagging_fraction is set=0.9623835664820244, subsample=1.0 will be ignored. Current value: bagging_fraction=0.9623835664820244\n"
     ]
    },
    {
     "name": "stderr",
     "output_type": "stream",
     "text": [
      "\u001B[32m[I 2022-09-30 14:02:07,090]\u001B[0m Trial 42 finished with value: 0.6108922363847045 and parameters: {'num_leaves': 341, 'feature_fraction': 0.5496099479155183, 'bagging_fraction': 0.9623835664820244, 'bagging_freq': 4, 'min_child_samples': 6}. Best is trial 15 with value: 0.6168936072005539.\u001B[0m\n"
     ]
    },
    {
     "name": "stdout",
     "output_type": "stream",
     "text": [
      "[LightGBM] [Warning] bagging_freq is set=5, subsample_freq=0 will be ignored. Current value: bagging_freq=5\n",
      "[LightGBM] [Warning] feature_fraction is set=0.48568549856347587, colsample_bytree=1.0 will be ignored. Current value: feature_fraction=0.48568549856347587\n",
      "[LightGBM] [Warning] bagging_fraction is set=0.8326862506294659, subsample=1.0 will be ignored. Current value: bagging_fraction=0.8326862506294659\n"
     ]
    },
    {
     "name": "stderr",
     "output_type": "stream",
     "text": [
      "\u001B[32m[I 2022-09-30 14:02:27,263]\u001B[0m Trial 43 finished with value: 0.6063558339132452 and parameters: {'num_leaves': 391, 'feature_fraction': 0.48568549856347587, 'bagging_fraction': 0.8326862506294659, 'bagging_freq': 5, 'min_child_samples': 20}. Best is trial 15 with value: 0.6168936072005539.\u001B[0m\n"
     ]
    },
    {
     "name": "stdout",
     "output_type": "stream",
     "text": [
      "[LightGBM] [Warning] bagging_freq is set=6, subsample_freq=0 will be ignored. Current value: bagging_freq=6\n",
      "[LightGBM] [Warning] feature_fraction is set=0.6661230330653197, colsample_bytree=1.0 will be ignored. Current value: feature_fraction=0.6661230330653197\n",
      "[LightGBM] [Warning] bagging_fraction is set=0.8786221329497895, subsample=1.0 will be ignored. Current value: bagging_fraction=0.8786221329497895\n"
     ]
    },
    {
     "name": "stderr",
     "output_type": "stream",
     "text": [
      "\u001B[32m[I 2022-09-30 14:02:50,629]\u001B[0m Trial 44 finished with value: 0.6127659574468085 and parameters: {'num_leaves': 469, 'feature_fraction': 0.6661230330653197, 'bagging_fraction': 0.8786221329497895, 'bagging_freq': 6, 'min_child_samples': 13}. Best is trial 15 with value: 0.6168936072005539.\u001B[0m\n"
     ]
    },
    {
     "name": "stdout",
     "output_type": "stream",
     "text": [
      "[LightGBM] [Warning] bagging_freq is set=3, subsample_freq=0 will be ignored. Current value: bagging_freq=3\n",
      "[LightGBM] [Warning] feature_fraction is set=0.7168822341485852, colsample_bytree=1.0 will be ignored. Current value: feature_fraction=0.7168822341485852\n",
      "[LightGBM] [Warning] bagging_fraction is set=0.9791233487093123, subsample=1.0 will be ignored. Current value: bagging_fraction=0.9791233487093123\n"
     ]
    },
    {
     "name": "stderr",
     "output_type": "stream",
     "text": [
      "\u001B[32m[I 2022-09-30 14:03:13,524]\u001B[0m Trial 45 finished with value: 0.6134841837912722 and parameters: {'num_leaves': 488, 'feature_fraction': 0.7168822341485852, 'bagging_fraction': 0.9791233487093123, 'bagging_freq': 3, 'min_child_samples': 27}. Best is trial 15 with value: 0.6168936072005539.\u001B[0m\n"
     ]
    },
    {
     "name": "stdout",
     "output_type": "stream",
     "text": [
      "[LightGBM] [Warning] bagging_freq is set=1, subsample_freq=0 will be ignored. Current value: bagging_freq=1\n",
      "[LightGBM] [Warning] feature_fraction is set=0.4165455864729469, colsample_bytree=1.0 will be ignored. Current value: feature_fraction=0.4165455864729469\n",
      "[LightGBM] [Warning] bagging_fraction is set=0.9210488256937361, subsample=1.0 will be ignored. Current value: bagging_fraction=0.9210488256937361\n"
     ]
    },
    {
     "name": "stderr",
     "output_type": "stream",
     "text": [
      "\u001B[32m[I 2022-09-30 14:03:39,593]\u001B[0m Trial 46 finished with value: 0.6062587575899113 and parameters: {'num_leaves': 438, 'feature_fraction': 0.4165455864729469, 'bagging_fraction': 0.9210488256937361, 'bagging_freq': 1, 'min_child_samples': 39}. Best is trial 15 with value: 0.6168936072005539.\u001B[0m\n"
     ]
    },
    {
     "name": "stdout",
     "output_type": "stream",
     "text": [
      "[LightGBM] [Warning] bagging_freq is set=5, subsample_freq=0 will be ignored. Current value: bagging_freq=5\n",
      "[LightGBM] [Warning] feature_fraction is set=0.5290311773254799, colsample_bytree=1.0 will be ignored. Current value: feature_fraction=0.5290311773254799\n",
      "[LightGBM] [Warning] bagging_fraction is set=0.8108066377274746, subsample=1.0 will be ignored. Current value: bagging_fraction=0.8108066377274746\n"
     ]
    },
    {
     "name": "stderr",
     "output_type": "stream",
     "text": [
      "\u001B[32m[I 2022-09-30 14:03:59,427]\u001B[0m Trial 47 finished with value: 0.6118275822005345 and parameters: {'num_leaves': 403, 'feature_fraction': 0.5290311773254799, 'bagging_fraction': 0.8108066377274746, 'bagging_freq': 5, 'min_child_samples': 5}. Best is trial 15 with value: 0.6168936072005539.\u001B[0m\n"
     ]
    },
    {
     "name": "stdout",
     "output_type": "stream",
     "text": [
      "[LightGBM] [Warning] bagging_freq is set=4, subsample_freq=0 will be ignored. Current value: bagging_freq=4\n",
      "[LightGBM] [Warning] feature_fraction is set=0.6125869029447844, colsample_bytree=1.0 will be ignored. Current value: feature_fraction=0.6125869029447844\n",
      "[LightGBM] [Warning] bagging_fraction is set=0.9986764978676126, subsample=1.0 will be ignored. Current value: bagging_fraction=0.9986764978676126\n"
     ]
    },
    {
     "name": "stderr",
     "output_type": "stream",
     "text": [
      "\u001B[32m[I 2022-09-30 14:04:18,267]\u001B[0m Trial 48 finished with value: 0.6170188199976907 and parameters: {'num_leaves': 368, 'feature_fraction': 0.6125869029447844, 'bagging_fraction': 0.9986764978676126, 'bagging_freq': 4, 'min_child_samples': 33}. Best is trial 48 with value: 0.6170188199976907.\u001B[0m\n"
     ]
    },
    {
     "name": "stdout",
     "output_type": "stream",
     "text": [
      "[LightGBM] [Warning] bagging_freq is set=8, subsample_freq=0 will be ignored. Current value: bagging_freq=8\n",
      "[LightGBM] [Warning] feature_fraction is set=0.6192931378753052, colsample_bytree=1.0 will be ignored. Current value: feature_fraction=0.6192931378753052\n",
      "[LightGBM] [Warning] bagging_fraction is set=0.4761095603929125, subsample=1.0 will be ignored. Current value: bagging_fraction=0.4761095603929125\n"
     ]
    },
    {
     "name": "stderr",
     "output_type": "stream",
     "text": [
      "\u001B[32m[I 2022-09-30 14:04:36,301]\u001B[0m Trial 49 finished with value: 0.604062681369704 and parameters: {'num_leaves': 371, 'feature_fraction': 0.6192931378753052, 'bagging_fraction': 0.4761095603929125, 'bagging_freq': 8, 'min_child_samples': 33}. Best is trial 48 with value: 0.6170188199976907.\u001B[0m\n"
     ]
    },
    {
     "name": "stdout",
     "output_type": "stream",
     "text": [
      "[LightGBM] [Warning] bagging_freq is set=7, subsample_freq=0 will be ignored. Current value: bagging_freq=7\n",
      "[LightGBM] [Warning] feature_fraction is set=0.46347088832071326, colsample_bytree=1.0 will be ignored. Current value: feature_fraction=0.46347088832071326\n",
      "[LightGBM] [Warning] bagging_fraction is set=0.9988627880393975, subsample=1.0 will be ignored. Current value: bagging_fraction=0.9988627880393975\n"
     ]
    },
    {
     "name": "stderr",
     "output_type": "stream",
     "text": [
      "\u001B[32m[I 2022-09-30 14:04:51,651]\u001B[0m Trial 50 finished with value: 0.6119558908879861 and parameters: {'num_leaves': 292, 'feature_fraction': 0.46347088832071326, 'bagging_fraction': 0.9988627880393975, 'bagging_freq': 7, 'min_child_samples': 67}. Best is trial 48 with value: 0.6170188199976907.\u001B[0m\n"
     ]
    },
    {
     "name": "stdout",
     "output_type": "stream",
     "text": [
      "[LightGBM] [Warning] bagging_freq is set=4, subsample_freq=0 will be ignored. Current value: bagging_freq=4\n",
      "[LightGBM] [Warning] feature_fraction is set=0.592335930060175, colsample_bytree=1.0 will be ignored. Current value: feature_fraction=0.592335930060175\n",
      "[LightGBM] [Warning] bagging_fraction is set=0.9618709554482672, subsample=1.0 will be ignored. Current value: bagging_fraction=0.9618709554482672\n"
     ]
    },
    {
     "name": "stderr",
     "output_type": "stream",
     "text": [
      "\u001B[32m[I 2022-09-30 14:05:14,576]\u001B[0m Trial 51 finished with value: 0.6131370067870701 and parameters: {'num_leaves': 461, 'feature_fraction': 0.592335930060175, 'bagging_fraction': 0.9618709554482672, 'bagging_freq': 4, 'min_child_samples': 26}. Best is trial 48 with value: 0.6170188199976907.\u001B[0m\n"
     ]
    },
    {
     "name": "stdout",
     "output_type": "stream",
     "text": [
      "[LightGBM] [Warning] bagging_freq is set=3, subsample_freq=0 will be ignored. Current value: bagging_freq=3\n",
      "[LightGBM] [Warning] feature_fraction is set=0.5534604678216336, colsample_bytree=1.0 will be ignored. Current value: feature_fraction=0.5534604678216336\n",
      "[LightGBM] [Warning] bagging_fraction is set=0.8755752938165381, subsample=1.0 will be ignored. Current value: bagging_fraction=0.8755752938165381\n"
     ]
    },
    {
     "name": "stderr",
     "output_type": "stream",
     "text": [
      "\u001B[32m[I 2022-09-30 14:05:35,855]\u001B[0m Trial 52 finished with value: 0.6118710874101554 and parameters: {'num_leaves': 420, 'feature_fraction': 0.5534604678216336, 'bagging_fraction': 0.8755752938165381, 'bagging_freq': 3, 'min_child_samples': 41}. Best is trial 48 with value: 0.6170188199976907.\u001B[0m\n"
     ]
    },
    {
     "name": "stdout",
     "output_type": "stream",
     "text": [
      "[LightGBM] [Warning] bagging_freq is set=6, subsample_freq=0 will be ignored. Current value: bagging_freq=6\n",
      "[LightGBM] [Warning] feature_fraction is set=0.7445267879445225, colsample_bytree=1.0 will be ignored. Current value: feature_fraction=0.7445267879445225\n",
      "[LightGBM] [Warning] bagging_fraction is set=0.9179533567602799, subsample=1.0 will be ignored. Current value: bagging_fraction=0.9179533567602799\n"
     ]
    },
    {
     "name": "stderr",
     "output_type": "stream",
     "text": [
      "\u001B[32m[I 2022-09-30 14:05:54,872]\u001B[0m Trial 53 finished with value: 0.6159678345778288 and parameters: {'num_leaves': 387, 'feature_fraction': 0.7445267879445225, 'bagging_fraction': 0.9179533567602799, 'bagging_freq': 6, 'min_child_samples': 34}. Best is trial 48 with value: 0.6170188199976907.\u001B[0m\n"
     ]
    },
    {
     "name": "stdout",
     "output_type": "stream",
     "text": [
      "[LightGBM] [Warning] bagging_freq is set=6, subsample_freq=0 will be ignored. Current value: bagging_freq=6\n",
      "[LightGBM] [Warning] feature_fraction is set=0.7689330245976098, colsample_bytree=1.0 will be ignored. Current value: feature_fraction=0.7689330245976098\n",
      "[LightGBM] [Warning] bagging_fraction is set=0.8993585038604512, subsample=1.0 will be ignored. Current value: bagging_fraction=0.8993585038604512\n"
     ]
    },
    {
     "name": "stderr",
     "output_type": "stream",
     "text": [
      "\u001B[32m[I 2022-09-30 14:06:17,228]\u001B[0m Trial 54 finished with value: 0.6123942373656529 and parameters: {'num_leaves': 488, 'feature_fraction': 0.7689330245976098, 'bagging_fraction': 0.8993585038604512, 'bagging_freq': 6, 'min_child_samples': 35}. Best is trial 48 with value: 0.6170188199976907.\u001B[0m\n"
     ]
    },
    {
     "name": "stdout",
     "output_type": "stream",
     "text": [
      "[LightGBM] [Warning] bagging_freq is set=5, subsample_freq=0 will be ignored. Current value: bagging_freq=5\n",
      "[LightGBM] [Warning] feature_fraction is set=0.8415901227704643, colsample_bytree=1.0 will be ignored. Current value: feature_fraction=0.8415901227704643\n",
      "[LightGBM] [Warning] bagging_fraction is set=0.7532320069541821, subsample=1.0 will be ignored. Current value: bagging_fraction=0.7532320069541821\n"
     ]
    },
    {
     "name": "stderr",
     "output_type": "stream",
     "text": [
      "\u001B[32m[I 2022-09-30 14:06:33,578]\u001B[0m Trial 55 finished with value: 0.6080594588317269 and parameters: {'num_leaves': 351, 'feature_fraction': 0.8415901227704643, 'bagging_fraction': 0.7532320069541821, 'bagging_freq': 5, 'min_child_samples': 29}. Best is trial 48 with value: 0.6170188199976907.\u001B[0m\n"
     ]
    },
    {
     "name": "stdout",
     "output_type": "stream",
     "text": [
      "[LightGBM] [Warning] bagging_freq is set=8, subsample_freq=0 will be ignored. Current value: bagging_freq=8\n",
      "[LightGBM] [Warning] feature_fraction is set=0.893840357192912, colsample_bytree=1.0 will be ignored. Current value: feature_fraction=0.893840357192912\n",
      "[LightGBM] [Warning] bagging_fraction is set=0.9229085314596983, subsample=1.0 will be ignored. Current value: bagging_fraction=0.9229085314596983\n"
     ]
    },
    {
     "name": "stderr",
     "output_type": "stream",
     "text": [
      "\u001B[32m[I 2022-09-30 14:06:53,318]\u001B[0m Trial 56 finished with value: 0.611640454597635 and parameters: {'num_leaves': 435, 'feature_fraction': 0.893840357192912, 'bagging_fraction': 0.9229085314596983, 'bagging_freq': 8, 'min_child_samples': 44}. Best is trial 48 with value: 0.6170188199976907.\u001B[0m\n"
     ]
    },
    {
     "name": "stdout",
     "output_type": "stream",
     "text": [
      "[LightGBM] [Warning] bagging_freq is set=5, subsample_freq=0 will be ignored. Current value: bagging_freq=5\n",
      "[LightGBM] [Warning] feature_fraction is set=0.7255352092931355, colsample_bytree=1.0 will be ignored. Current value: feature_fraction=0.7255352092931355\n",
      "[LightGBM] [Warning] bagging_fraction is set=0.6888812444917201, subsample=1.0 will be ignored. Current value: bagging_fraction=0.6888812444917201\n"
     ]
    },
    {
     "name": "stderr",
     "output_type": "stream",
     "text": [
      "\u001B[32m[I 2022-09-30 14:07:10,458]\u001B[0m Trial 57 finished with value: 0.6088056098402116 and parameters: {'num_leaves': 379, 'feature_fraction': 0.7255352092931355, 'bagging_fraction': 0.6888812444917201, 'bagging_freq': 5, 'min_child_samples': 35}. Best is trial 48 with value: 0.6170188199976907.\u001B[0m\n"
     ]
    },
    {
     "name": "stdout",
     "output_type": "stream",
     "text": [
      "[LightGBM] [Warning] bagging_freq is set=7, subsample_freq=0 will be ignored. Current value: bagging_freq=7\n",
      "[LightGBM] [Warning] feature_fraction is set=0.6619795484965478, colsample_bytree=1.0 will be ignored. Current value: feature_fraction=0.6619795484965478\n",
      "[LightGBM] [Warning] bagging_fraction is set=0.8287401428534279, subsample=1.0 will be ignored. Current value: bagging_fraction=0.8287401428534279\n"
     ]
    },
    {
     "name": "stderr",
     "output_type": "stream",
     "text": [
      "\u001B[32m[I 2022-09-30 14:07:25,171]\u001B[0m Trial 58 finished with value: 0.6111367837338262 and parameters: {'num_leaves': 308, 'feature_fraction': 0.6619795484965478, 'bagging_fraction': 0.8287401428534279, 'bagging_freq': 7, 'min_child_samples': 54}. Best is trial 48 with value: 0.6170188199976907.\u001B[0m\n"
     ]
    },
    {
     "name": "stdout",
     "output_type": "stream",
     "text": [
      "[LightGBM] [Warning] bagging_freq is set=6, subsample_freq=0 will be ignored. Current value: bagging_freq=6\n",
      "[LightGBM] [Warning] feature_fraction is set=0.5152257639222757, colsample_bytree=1.0 will be ignored. Current value: feature_fraction=0.5152257639222757\n",
      "[LightGBM] [Warning] bagging_fraction is set=0.8658485072828651, subsample=1.0 will be ignored. Current value: bagging_fraction=0.8658485072828651\n"
     ]
    },
    {
     "name": "stderr",
     "output_type": "stream",
     "text": [
      "\u001B[32m[I 2022-09-30 14:07:48,406]\u001B[0m Trial 59 finished with value: 0.6093913043478261 and parameters: {'num_leaves': 454, 'feature_fraction': 0.5152257639222757, 'bagging_fraction': 0.8658485072828651, 'bagging_freq': 6, 'min_child_samples': 25}. Best is trial 48 with value: 0.6170188199976907.\u001B[0m\n"
     ]
    },
    {
     "name": "stdout",
     "output_type": "stream",
     "text": [
      "[LightGBM] [Warning] bagging_freq is set=9, subsample_freq=0 will be ignored. Current value: bagging_freq=9\n",
      "[LightGBM] [Warning] feature_fraction is set=0.6131045838221252, colsample_bytree=1.0 will be ignored. Current value: feature_fraction=0.6131045838221252\n",
      "[LightGBM] [Warning] bagging_fraction is set=0.9705960033474532, subsample=1.0 will be ignored. Current value: bagging_fraction=0.9705960033474532\n"
     ]
    },
    {
     "name": "stderr",
     "output_type": "stream",
     "text": [
      "\u001B[32m[I 2022-09-30 14:08:01,519]\u001B[0m Trial 60 finished with value: 0.6099142923326384 and parameters: {'num_leaves': 262, 'feature_fraction': 0.6131045838221252, 'bagging_fraction': 0.9705960033474532, 'bagging_freq': 9, 'min_child_samples': 18}. Best is trial 48 with value: 0.6170188199976907.\u001B[0m\n"
     ]
    },
    {
     "name": "stdout",
     "output_type": "stream",
     "text": [
      "[LightGBM] [Warning] bagging_freq is set=4, subsample_freq=0 will be ignored. Current value: bagging_freq=4\n",
      "[LightGBM] [Warning] feature_fraction is set=0.5695978349325308, colsample_bytree=1.0 will be ignored. Current value: feature_fraction=0.5695978349325308\n",
      "[LightGBM] [Warning] bagging_fraction is set=0.9227228456228612, subsample=1.0 will be ignored. Current value: bagging_fraction=0.9227228456228612\n"
     ]
    },
    {
     "name": "stderr",
     "output_type": "stream",
     "text": [
      "\u001B[32m[I 2022-09-30 14:08:21,419]\u001B[0m Trial 61 finished with value: 0.611620085817001 and parameters: {'num_leaves': 398, 'feature_fraction': 0.5695978349325308, 'bagging_fraction': 0.9227228456228612, 'bagging_freq': 4, 'min_child_samples': 30}. Best is trial 48 with value: 0.6170188199976907.\u001B[0m\n"
     ]
    },
    {
     "name": "stdout",
     "output_type": "stream",
     "text": [
      "[LightGBM] [Warning] bagging_freq is set=5, subsample_freq=0 will be ignored. Current value: bagging_freq=5\n",
      "[LightGBM] [Warning] feature_fraction is set=0.6522551667111989, colsample_bytree=1.0 will be ignored. Current value: feature_fraction=0.6522551667111989\n",
      "[LightGBM] [Warning] bagging_fraction is set=0.9493013035258003, subsample=1.0 will be ignored. Current value: bagging_fraction=0.9493013035258003\n"
     ]
    },
    {
     "name": "stderr",
     "output_type": "stream",
     "text": [
      "\u001B[32m[I 2022-09-30 14:08:40,966]\u001B[0m Trial 62 finished with value: 0.6152249134948098 and parameters: {'num_leaves': 412, 'feature_fraction': 0.6522551667111989, 'bagging_fraction': 0.9493013035258003, 'bagging_freq': 5, 'min_child_samples': 15}. Best is trial 48 with value: 0.6170188199976907.\u001B[0m\n"
     ]
    },
    {
     "name": "stdout",
     "output_type": "stream",
     "text": [
      "[LightGBM] [Warning] bagging_freq is set=5, subsample_freq=0 will be ignored. Current value: bagging_freq=5\n",
      "[LightGBM] [Warning] feature_fraction is set=0.9931235346100087, colsample_bytree=1.0 will be ignored. Current value: feature_fraction=0.9931235346100087\n",
      "[LightGBM] [Warning] bagging_fraction is set=0.9972974375146766, subsample=1.0 will be ignored. Current value: bagging_fraction=0.9972974375146766\n"
     ]
    },
    {
     "name": "stderr",
     "output_type": "stream",
     "text": [
      "\u001B[32m[I 2022-09-30 14:08:58,085]\u001B[0m Trial 63 finished with value: 0.610231286316509 and parameters: {'num_leaves': 362, 'feature_fraction': 0.9931235346100087, 'bagging_fraction': 0.9972974375146766, 'bagging_freq': 5, 'min_child_samples': 15}. Best is trial 48 with value: 0.6170188199976907.\u001B[0m\n"
     ]
    },
    {
     "name": "stdout",
     "output_type": "stream",
     "text": [
      "[LightGBM] [Warning] bagging_freq is set=6, subsample_freq=0 will be ignored. Current value: bagging_freq=6\n",
      "[LightGBM] [Warning] feature_fraction is set=0.6938265257182531, colsample_bytree=1.0 will be ignored. Current value: feature_fraction=0.6938265257182531\n",
      "[LightGBM] [Warning] bagging_fraction is set=0.8993228923560617, subsample=1.0 will be ignored. Current value: bagging_fraction=0.8993228923560617\n"
     ]
    },
    {
     "name": "stderr",
     "output_type": "stream",
     "text": [
      "\u001B[32m[I 2022-09-30 14:09:20,881]\u001B[0m Trial 64 finished with value: 0.6137042998390434 and parameters: {'num_leaves': 496, 'feature_fraction': 0.6938265257182531, 'bagging_fraction': 0.8993228923560617, 'bagging_freq': 6, 'min_child_samples': 23}. Best is trial 48 with value: 0.6170188199976907.\u001B[0m\n"
     ]
    },
    {
     "name": "stdout",
     "output_type": "stream",
     "text": [
      "[LightGBM] [Warning] bagging_freq is set=5, subsample_freq=0 will be ignored. Current value: bagging_freq=5\n",
      "[LightGBM] [Warning] feature_fraction is set=0.8035025954563552, colsample_bytree=1.0 will be ignored. Current value: feature_fraction=0.8035025954563552\n",
      "[LightGBM] [Warning] bagging_fraction is set=0.9454645670976128, subsample=1.0 will be ignored. Current value: bagging_fraction=0.9454645670976128\n"
     ]
    },
    {
     "name": "stderr",
     "output_type": "stream",
     "text": [
      "\u001B[32m[I 2022-09-30 14:09:40,935]\u001B[0m Trial 65 finished with value: 0.61427260211106 and parameters: {'num_leaves': 443, 'feature_fraction': 0.8035025954563552, 'bagging_fraction': 0.9454645670976128, 'bagging_freq': 5, 'min_child_samples': 19}. Best is trial 48 with value: 0.6170188199976907.\u001B[0m\n"
     ]
    },
    {
     "name": "stdout",
     "output_type": "stream",
     "text": [
      "[LightGBM] [Warning] bagging_freq is set=7, subsample_freq=0 will be ignored. Current value: bagging_freq=7\n",
      "[LightGBM] [Warning] feature_fraction is set=0.7920615140792409, colsample_bytree=1.0 will be ignored. Current value: feature_fraction=0.7920615140792409\n",
      "[LightGBM] [Warning] bagging_fraction is set=0.9472795378351941, subsample=1.0 will be ignored. Current value: bagging_fraction=0.9472795378351941\n"
     ]
    },
    {
     "name": "stderr",
     "output_type": "stream",
     "text": [
      "\u001B[32m[I 2022-09-30 14:10:00,482]\u001B[0m Trial 66 finished with value: 0.6143595634692706 and parameters: {'num_leaves': 441, 'feature_fraction': 0.7920615140792409, 'bagging_fraction': 0.9472795378351941, 'bagging_freq': 7, 'min_child_samples': 93}. Best is trial 48 with value: 0.6170188199976907.\u001B[0m\n"
     ]
    },
    {
     "name": "stdout",
     "output_type": "stream",
     "text": [
      "[LightGBM] [Warning] bagging_freq is set=7, subsample_freq=0 will be ignored. Current value: bagging_freq=7\n",
      "[LightGBM] [Warning] feature_fraction is set=0.756637596861075, colsample_bytree=1.0 will be ignored. Current value: feature_fraction=0.756637596861075\n",
      "[LightGBM] [Warning] bagging_fraction is set=0.8550644482176017, subsample=1.0 will be ignored. Current value: bagging_fraction=0.8550644482176017\n"
     ]
    },
    {
     "name": "stderr",
     "output_type": "stream",
     "text": [
      "\u001B[32m[I 2022-09-30 14:10:22,169]\u001B[0m Trial 67 finished with value: 0.6110276268639463 and parameters: {'num_leaves': 511, 'feature_fraction': 0.756637596861075, 'bagging_fraction': 0.8550644482176017, 'bagging_freq': 7, 'min_child_samples': 88}. Best is trial 48 with value: 0.6170188199976907.\u001B[0m\n"
     ]
    },
    {
     "name": "stdout",
     "output_type": "stream",
     "text": [
      "[LightGBM] [Warning] bagging_freq is set=8, subsample_freq=0 will be ignored. Current value: bagging_freq=8\n",
      "[LightGBM] [Warning] feature_fraction is set=0.8033646460908586, colsample_bytree=1.0 will be ignored. Current value: feature_fraction=0.8033646460908586\n",
      "[LightGBM] [Warning] bagging_fraction is set=0.809629188946331, subsample=1.0 will be ignored. Current value: bagging_fraction=0.809629188946331\n"
     ]
    },
    {
     "name": "stderr",
     "output_type": "stream",
     "text": [
      "\u001B[32m[I 2022-09-30 14:10:31,714]\u001B[0m Trial 68 finished with value: 0.6045210906548589 and parameters: {'num_leaves': 194, 'feature_fraction': 0.8033646460908586, 'bagging_fraction': 0.809629188946331, 'bagging_freq': 8, 'min_child_samples': 88}. Best is trial 48 with value: 0.6170188199976907.\u001B[0m\n"
     ]
    },
    {
     "name": "stdout",
     "output_type": "stream",
     "text": [
      "[LightGBM] [Warning] bagging_freq is set=10, subsample_freq=0 will be ignored. Current value: bagging_freq=10\n",
      "[LightGBM] [Warning] feature_fraction is set=0.8861082499659643, colsample_bytree=1.0 will be ignored. Current value: feature_fraction=0.8861082499659643\n",
      "[LightGBM] [Warning] bagging_fraction is set=0.9641474642724533, subsample=1.0 will be ignored. Current value: bagging_fraction=0.9641474642724533\n"
     ]
    },
    {
     "name": "stderr",
     "output_type": "stream",
     "text": [
      "\u001B[32m[I 2022-09-30 14:10:59,210]\u001B[0m Trial 69 finished with value: 0.6126954921803128 and parameters: {'num_leaves': 478, 'feature_fraction': 0.8861082499659643, 'bagging_fraction': 0.9641474642724533, 'bagging_freq': 10, 'min_child_samples': 99}. Best is trial 48 with value: 0.6170188199976907.\u001B[0m\n"
     ]
    },
    {
     "name": "stdout",
     "output_type": "stream",
     "text": [
      "[LightGBM] [Warning] bagging_freq is set=6, subsample_freq=0 will be ignored. Current value: bagging_freq=6\n",
      "[LightGBM] [Warning] feature_fraction is set=0.6454745787466214, colsample_bytree=1.0 will be ignored. Current value: feature_fraction=0.6454745787466214\n",
      "[LightGBM] [Warning] bagging_fraction is set=0.5907312279777568, subsample=1.0 will be ignored. Current value: bagging_fraction=0.5907312279777568\n"
     ]
    },
    {
     "name": "stderr",
     "output_type": "stream",
     "text": [
      "\u001B[32m[I 2022-09-30 14:11:19,059]\u001B[0m Trial 70 finished with value: 0.6096938775510204 and parameters: {'num_leaves': 432, 'feature_fraction': 0.6454745787466214, 'bagging_fraction': 0.5907312279777568, 'bagging_freq': 6, 'min_child_samples': 47}. Best is trial 48 with value: 0.6170188199976907.\u001B[0m\n"
     ]
    },
    {
     "name": "stdout",
     "output_type": "stream",
     "text": [
      "[LightGBM] [Warning] bagging_freq is set=7, subsample_freq=0 will be ignored. Current value: bagging_freq=7\n",
      "[LightGBM] [Warning] feature_fraction is set=0.8006124465252981, colsample_bytree=1.0 will be ignored. Current value: feature_fraction=0.8006124465252981\n",
      "[LightGBM] [Warning] bagging_fraction is set=0.9354373157061961, subsample=1.0 will be ignored. Current value: bagging_fraction=0.9354373157061961\n"
     ]
    },
    {
     "name": "stderr",
     "output_type": "stream",
     "text": [
      "\u001B[32m[I 2022-09-30 14:12:29,819]\u001B[0m Trial 71 finished with value: 0.6133973479652491 and parameters: {'num_leaves': 448, 'feature_fraction': 0.8006124465252981, 'bagging_fraction': 0.9354373157061961, 'bagging_freq': 7, 'min_child_samples': 19}. Best is trial 48 with value: 0.6170188199976907.\u001B[0m\n"
     ]
    },
    {
     "name": "stdout",
     "output_type": "stream",
     "text": [
      "[LightGBM] [Warning] bagging_freq is set=5, subsample_freq=0 will be ignored. Current value: bagging_freq=5\n",
      "[LightGBM] [Warning] feature_fraction is set=0.7423384001033887, colsample_bytree=1.0 will be ignored. Current value: feature_fraction=0.7423384001033887\n",
      "[LightGBM] [Warning] bagging_fraction is set=0.9433869004589305, subsample=1.0 will be ignored. Current value: bagging_fraction=0.9433869004589305\n"
     ]
    },
    {
     "name": "stderr",
     "output_type": "stream",
     "text": [
      "\u001B[32m[I 2022-09-30 14:13:02,120]\u001B[0m Trial 72 finished with value: 0.616304472806715 and parameters: {'num_leaves': 414, 'feature_fraction': 0.7423384001033887, 'bagging_fraction': 0.9433869004589305, 'bagging_freq': 5, 'min_child_samples': 38}. Best is trial 48 with value: 0.6170188199976907.\u001B[0m\n"
     ]
    },
    {
     "name": "stdout",
     "output_type": "stream",
     "text": [
      "[LightGBM] [Warning] bagging_freq is set=6, subsample_freq=0 will be ignored. Current value: bagging_freq=6\n",
      "[LightGBM] [Warning] feature_fraction is set=0.7330982980678098, colsample_bytree=1.0 will be ignored. Current value: feature_fraction=0.7330982980678098\n",
      "[LightGBM] [Warning] bagging_fraction is set=0.9002221383254637, subsample=1.0 will be ignored. Current value: bagging_fraction=0.9002221383254637\n"
     ]
    },
    {
     "name": "stderr",
     "output_type": "stream",
     "text": [
      "\u001B[32m[I 2022-09-30 14:13:32,409]\u001B[0m Trial 73 finished with value: 0.6103221337028057 and parameters: {'num_leaves': 391, 'feature_fraction': 0.7330982980678098, 'bagging_fraction': 0.9002221383254637, 'bagging_freq': 6, 'min_child_samples': 40}. Best is trial 48 with value: 0.6170188199976907.\u001B[0m\n"
     ]
    },
    {
     "name": "stdout",
     "output_type": "stream",
     "text": [
      "[LightGBM] [Warning] bagging_freq is set=7, subsample_freq=0 will be ignored. Current value: bagging_freq=7\n",
      "[LightGBM] [Warning] feature_fraction is set=0.6950748377331017, colsample_bytree=1.0 will be ignored. Current value: feature_fraction=0.6950748377331017\n",
      "[LightGBM] [Warning] bagging_fraction is set=0.9784755138404475, subsample=1.0 will be ignored. Current value: bagging_fraction=0.9784755138404475\n"
     ]
    },
    {
     "name": "stderr",
     "output_type": "stream",
     "text": [
      "\u001B[32m[I 2022-09-30 14:14:12,643]\u001B[0m Trial 74 finished with value: 0.6166934927569556 and parameters: {'num_leaves': 415, 'feature_fraction': 0.6950748377331017, 'bagging_fraction': 0.9784755138404475, 'bagging_freq': 7, 'min_child_samples': 35}. Best is trial 48 with value: 0.6170188199976907.\u001B[0m\n"
     ]
    },
    {
     "name": "stdout",
     "output_type": "stream",
     "text": [
      "[LightGBM] [Warning] bagging_freq is set=4, subsample_freq=0 will be ignored. Current value: bagging_freq=4\n",
      "[LightGBM] [Warning] feature_fraction is set=0.6927148141985483, colsample_bytree=1.0 will be ignored. Current value: feature_fraction=0.6927148141985483\n",
      "[LightGBM] [Warning] bagging_fraction is set=0.999291696833448, subsample=1.0 will be ignored. Current value: bagging_fraction=0.999291696833448\n"
     ]
    },
    {
     "name": "stderr",
     "output_type": "stream",
     "text": [
      "\u001B[32m[I 2022-09-30 14:14:48,234]\u001B[0m Trial 75 finished with value: 0.615863500115287 and parameters: {'num_leaves': 368, 'feature_fraction': 0.6927148141985483, 'bagging_fraction': 0.999291696833448, 'bagging_freq': 4, 'min_child_samples': 37}. Best is trial 48 with value: 0.6170188199976907.\u001B[0m\n"
     ]
    },
    {
     "name": "stdout",
     "output_type": "stream",
     "text": [
      "[LightGBM] [Warning] bagging_freq is set=2, subsample_freq=0 will be ignored. Current value: bagging_freq=2\n",
      "[LightGBM] [Warning] feature_fraction is set=0.6795733972759715, colsample_bytree=1.0 will be ignored. Current value: feature_fraction=0.6795733972759715\n",
      "[LightGBM] [Warning] bagging_fraction is set=0.9974542670934354, subsample=1.0 will be ignored. Current value: bagging_fraction=0.9974542670934354\n"
     ]
    },
    {
     "name": "stderr",
     "output_type": "stream",
     "text": [
      "\u001B[32m[I 2022-09-30 14:15:05,081]\u001B[0m Trial 76 finished with value: 0.6197701149425288 and parameters: {'num_leaves': 330, 'feature_fraction': 0.6795733972759715, 'bagging_fraction': 0.9974542670934354, 'bagging_freq': 2, 'min_child_samples': 37}. Best is trial 76 with value: 0.6197701149425288.\u001B[0m\n"
     ]
    },
    {
     "name": "stdout",
     "output_type": "stream",
     "text": [
      "[LightGBM] [Warning] bagging_freq is set=2, subsample_freq=0 will be ignored. Current value: bagging_freq=2\n",
      "[LightGBM] [Warning] feature_fraction is set=0.6941813067052943, colsample_bytree=1.0 will be ignored. Current value: feature_fraction=0.6941813067052943\n",
      "[LightGBM] [Warning] bagging_fraction is set=0.9933230247476861, subsample=1.0 will be ignored. Current value: bagging_fraction=0.9933230247476861\n"
     ]
    },
    {
     "name": "stderr",
     "output_type": "stream",
     "text": [
      "\u001B[32m[I 2022-09-30 14:15:21,797]\u001B[0m Trial 77 finished with value: 0.6160776160776161 and parameters: {'num_leaves': 326, 'feature_fraction': 0.6941813067052943, 'bagging_fraction': 0.9933230247476861, 'bagging_freq': 2, 'min_child_samples': 37}. Best is trial 76 with value: 0.6197701149425288.\u001B[0m\n"
     ]
    },
    {
     "name": "stdout",
     "output_type": "stream",
     "text": [
      "[LightGBM] [Warning] bagging_freq is set=0, subsample_freq=0 will be ignored. Current value: bagging_freq=0\n",
      "[LightGBM] [Warning] feature_fraction is set=0.6791812375988852, colsample_bytree=1.0 will be ignored. Current value: feature_fraction=0.6791812375988852\n",
      "[LightGBM] [Warning] bagging_fraction is set=0.9801689169365007, subsample=1.0 will be ignored. Current value: bagging_fraction=0.9801689169365007\n"
     ]
    },
    {
     "name": "stderr",
     "output_type": "stream",
     "text": [
      "\u001B[32m[I 2022-09-30 14:15:37,653]\u001B[0m Trial 78 finished with value: 0.6153669197147458 and parameters: {'num_leaves': 330, 'feature_fraction': 0.6791812375988852, 'bagging_fraction': 0.9801689169365007, 'bagging_freq': 0, 'min_child_samples': 50}. Best is trial 76 with value: 0.6197701149425288.\u001B[0m\n"
     ]
    },
    {
     "name": "stdout",
     "output_type": "stream",
     "text": [
      "[LightGBM] [Warning] bagging_freq is set=2, subsample_freq=0 will be ignored. Current value: bagging_freq=2\n",
      "[LightGBM] [Warning] feature_fraction is set=0.7052706419455337, colsample_bytree=1.0 will be ignored. Current value: feature_fraction=0.7052706419455337\n",
      "[LightGBM] [Warning] bagging_fraction is set=0.9966691526717276, subsample=1.0 will be ignored. Current value: bagging_fraction=0.9966691526717276\n"
     ]
    },
    {
     "name": "stderr",
     "output_type": "stream",
     "text": [
      "\u001B[32m[I 2022-09-30 14:15:52,690]\u001B[0m Trial 79 finished with value: 0.6160249739854319 and parameters: {'num_leaves': 313, 'feature_fraction': 0.7052706419455337, 'bagging_fraction': 0.9966691526717276, 'bagging_freq': 2, 'min_child_samples': 37}. Best is trial 76 with value: 0.6197701149425288.\u001B[0m\n"
     ]
    },
    {
     "name": "stdout",
     "output_type": "stream",
     "text": [
      "[LightGBM] [Warning] bagging_freq is set=1, subsample_freq=0 will be ignored. Current value: bagging_freq=1\n",
      "[LightGBM] [Warning] feature_fraction is set=0.7375508507542391, colsample_bytree=1.0 will be ignored. Current value: feature_fraction=0.7375508507542391\n",
      "[LightGBM] [Warning] bagging_fraction is set=0.9685619174937554, subsample=1.0 will be ignored. Current value: bagging_fraction=0.9685619174937554\n"
     ]
    },
    {
     "name": "stderr",
     "output_type": "stream",
     "text": [
      "\u001B[32m[I 2022-09-30 14:16:07,152]\u001B[0m Trial 80 finished with value: 0.6160560468588492 and parameters: {'num_leaves': 306, 'feature_fraction': 0.7375508507542391, 'bagging_fraction': 0.9685619174937554, 'bagging_freq': 1, 'min_child_samples': 34}. Best is trial 76 with value: 0.6197701149425288.\u001B[0m\n"
     ]
    },
    {
     "name": "stdout",
     "output_type": "stream",
     "text": [
      "[LightGBM] [Warning] bagging_freq is set=1, subsample_freq=0 will be ignored. Current value: bagging_freq=1\n",
      "[LightGBM] [Warning] feature_fraction is set=0.745937865440178, colsample_bytree=1.0 will be ignored. Current value: feature_fraction=0.745937865440178\n",
      "[LightGBM] [Warning] bagging_fraction is set=0.9739602378017044, subsample=1.0 will be ignored. Current value: bagging_fraction=0.9739602378017044\n"
     ]
    },
    {
     "name": "stderr",
     "output_type": "stream",
     "text": [
      "\u001B[32m[I 2022-09-30 14:16:22,179]\u001B[0m Trial 81 finished with value: 0.6151549942594718 and parameters: {'num_leaves': 316, 'feature_fraction': 0.745937865440178, 'bagging_fraction': 0.9739602378017044, 'bagging_freq': 1, 'min_child_samples': 34}. Best is trial 76 with value: 0.6197701149425288.\u001B[0m\n"
     ]
    },
    {
     "name": "stdout",
     "output_type": "stream",
     "text": [
      "[LightGBM] [Warning] bagging_freq is set=1, subsample_freq=0 will be ignored. Current value: bagging_freq=1\n",
      "[LightGBM] [Warning] feature_fraction is set=0.7193505393165788, colsample_bytree=1.0 will be ignored. Current value: feature_fraction=0.7193505393165788\n",
      "[LightGBM] [Warning] bagging_fraction is set=0.922220252507021, subsample=1.0 will be ignored. Current value: bagging_fraction=0.922220252507021\n"
     ]
    },
    {
     "name": "stderr",
     "output_type": "stream",
     "text": [
      "\u001B[32m[I 2022-09-30 14:16:37,810]\u001B[0m Trial 82 finished with value: 0.6144619997693461 and parameters: {'num_leaves': 340, 'feature_fraction': 0.7193505393165788, 'bagging_fraction': 0.922220252507021, 'bagging_freq': 1, 'min_child_samples': 38}. Best is trial 76 with value: 0.6197701149425288.\u001B[0m\n"
     ]
    },
    {
     "name": "stdout",
     "output_type": "stream",
     "text": [
      "[LightGBM] [Warning] bagging_freq is set=2, subsample_freq=0 will be ignored. Current value: bagging_freq=2\n",
      "[LightGBM] [Warning] feature_fraction is set=0.7052374912067185, colsample_bytree=1.0 will be ignored. Current value: feature_fraction=0.7052374912067185\n",
      "[LightGBM] [Warning] bagging_fraction is set=0.9788616937932254, subsample=1.0 will be ignored. Current value: bagging_fraction=0.9788616937932254\n"
     ]
    },
    {
     "name": "stderr",
     "output_type": "stream",
     "text": [
      "\u001B[32m[I 2022-09-30 14:16:52,595]\u001B[0m Trial 83 finished with value: 0.6117376294591483 and parameters: {'num_leaves': 301, 'feature_fraction': 0.7052374912067185, 'bagging_fraction': 0.9788616937932254, 'bagging_freq': 2, 'min_child_samples': 47}. Best is trial 76 with value: 0.6197701149425288.\u001B[0m\n"
     ]
    },
    {
     "name": "stdout",
     "output_type": "stream",
     "text": [
      "[LightGBM] [Warning] bagging_freq is set=0, subsample_freq=0 will be ignored. Current value: bagging_freq=0\n",
      "[LightGBM] [Warning] feature_fraction is set=0.7443688291029225, colsample_bytree=1.0 will be ignored. Current value: feature_fraction=0.7443688291029225\n",
      "[LightGBM] [Warning] bagging_fraction is set=0.8971211803944061, subsample=1.0 will be ignored. Current value: bagging_fraction=0.8971211803944061\n"
     ]
    },
    {
     "name": "stderr",
     "output_type": "stream",
     "text": [
      "\u001B[32m[I 2022-09-30 14:17:06,271]\u001B[0m Trial 84 finished with value: 0.610294968189705 and parameters: {'num_leaves': 263, 'feature_fraction': 0.7443688291029225, 'bagging_fraction': 0.8971211803944061, 'bagging_freq': 0, 'min_child_samples': 42}. Best is trial 76 with value: 0.6197701149425288.\u001B[0m\n"
     ]
    },
    {
     "name": "stdout",
     "output_type": "stream",
     "text": [
      "[LightGBM] [Warning] bagging_freq is set=2, subsample_freq=0 will be ignored. Current value: bagging_freq=2\n",
      "[LightGBM] [Warning] feature_fraction is set=0.6748954636843618, colsample_bytree=1.0 will be ignored. Current value: feature_fraction=0.6748954636843618\n",
      "[LightGBM] [Warning] bagging_fraction is set=0.9687181732452402, subsample=1.0 will be ignored. Current value: bagging_fraction=0.9687181732452402\n"
     ]
    },
    {
     "name": "stderr",
     "output_type": "stream",
     "text": [
      "\u001B[32m[I 2022-09-30 14:17:20,782]\u001B[0m Trial 85 finished with value: 0.6182615722036247 and parameters: {'num_leaves': 278, 'feature_fraction': 0.6748954636843618, 'bagging_fraction': 0.9687181732452402, 'bagging_freq': 2, 'min_child_samples': 31}. Best is trial 76 with value: 0.6197701149425288.\u001B[0m\n"
     ]
    },
    {
     "name": "stdout",
     "output_type": "stream",
     "text": [
      "[LightGBM] [Warning] bagging_freq is set=2, subsample_freq=0 will be ignored. Current value: bagging_freq=2\n",
      "[LightGBM] [Warning] feature_fraction is set=0.6703172610082069, colsample_bytree=1.0 will be ignored. Current value: feature_fraction=0.6703172610082069\n",
      "[LightGBM] [Warning] bagging_fraction is set=0.9729573557022866, subsample=1.0 will be ignored. Current value: bagging_fraction=0.9729573557022866\n"
     ]
    },
    {
     "name": "stderr",
     "output_type": "stream",
     "text": [
      "\u001B[32m[I 2022-09-30 14:17:32,058]\u001B[0m Trial 86 finished with value: 0.6091276718659735 and parameters: {'num_leaves': 240, 'feature_fraction': 0.6703172610082069, 'bagging_fraction': 0.9729573557022866, 'bagging_freq': 2, 'min_child_samples': 31}. Best is trial 76 with value: 0.6197701149425288.\u001B[0m\n"
     ]
    },
    {
     "name": "stdout",
     "output_type": "stream",
     "text": [
      "[LightGBM] [Warning] bagging_freq is set=2, subsample_freq=0 will be ignored. Current value: bagging_freq=2\n",
      "[LightGBM] [Warning] feature_fraction is set=0.6289826099568654, colsample_bytree=1.0 will be ignored. Current value: feature_fraction=0.6289826099568654\n",
      "[LightGBM] [Warning] bagging_fraction is set=0.9994794360211883, subsample=1.0 will be ignored. Current value: bagging_fraction=0.9994794360211883\n"
     ]
    },
    {
     "name": "stderr",
     "output_type": "stream",
     "text": [
      "\u001B[32m[I 2022-09-30 14:17:45,737]\u001B[0m Trial 87 finished with value: 0.6120078968760888 and parameters: {'num_leaves': 284, 'feature_fraction': 0.6289826099568654, 'bagging_fraction': 0.9994794360211883, 'bagging_freq': 2, 'min_child_samples': 40}. Best is trial 76 with value: 0.6197701149425288.\u001B[0m\n"
     ]
    },
    {
     "name": "stdout",
     "output_type": "stream",
     "text": [
      "[LightGBM] [Warning] bagging_freq is set=1, subsample_freq=0 will be ignored. Current value: bagging_freq=1\n",
      "[LightGBM] [Warning] feature_fraction is set=0.8234224584095823, colsample_bytree=1.0 will be ignored. Current value: feature_fraction=0.8234224584095823\n",
      "[LightGBM] [Warning] bagging_fraction is set=0.9425782096267136, subsample=1.0 will be ignored. Current value: bagging_fraction=0.9425782096267136\n"
     ]
    },
    {
     "name": "stderr",
     "output_type": "stream",
     "text": [
      "\u001B[32m[I 2022-09-30 14:17:57,813]\u001B[0m Trial 88 finished with value: 0.6169820027688047 and parameters: {'num_leaves': 274, 'feature_fraction': 0.8234224584095823, 'bagging_fraction': 0.9425782096267136, 'bagging_freq': 1, 'min_child_samples': 53}. Best is trial 76 with value: 0.6197701149425288.\u001B[0m\n"
     ]
    },
    {
     "name": "stdout",
     "output_type": "stream",
     "text": [
      "[LightGBM] [Warning] bagging_freq is set=1, subsample_freq=0 will be ignored. Current value: bagging_freq=1\n",
      "[LightGBM] [Warning] feature_fraction is set=0.8716337904414477, colsample_bytree=1.0 will be ignored. Current value: feature_fraction=0.8716337904414477\n",
      "[LightGBM] [Warning] bagging_fraction is set=0.8794202120456146, subsample=1.0 will be ignored. Current value: bagging_fraction=0.8794202120456146\n"
     ]
    },
    {
     "name": "stderr",
     "output_type": "stream",
     "text": [
      "\u001B[32m[I 2022-09-30 14:18:09,659]\u001B[0m Trial 89 finished with value: 0.6097589110624063 and parameters: {'num_leaves': 276, 'feature_fraction': 0.8716337904414477, 'bagging_fraction': 0.8794202120456146, 'bagging_freq': 1, 'min_child_samples': 64}. Best is trial 76 with value: 0.6197701149425288.\u001B[0m\n"
     ]
    },
    {
     "name": "stdout",
     "output_type": "stream",
     "text": [
      "[LightGBM] [Warning] bagging_freq is set=3, subsample_freq=0 will be ignored. Current value: bagging_freq=3\n",
      "[LightGBM] [Warning] feature_fraction is set=0.8245128644220984, colsample_bytree=1.0 will be ignored. Current value: feature_fraction=0.8245128644220984\n",
      "[LightGBM] [Warning] bagging_fraction is set=0.16863335597358786, subsample=1.0 will be ignored. Current value: bagging_fraction=0.16863335597358786\n"
     ]
    },
    {
     "name": "stderr",
     "output_type": "stream",
     "text": [
      "\u001B[32m[I 2022-09-30 14:18:18,023]\u001B[0m Trial 90 finished with value: 0.5851038991361195 and parameters: {'num_leaves': 236, 'feature_fraction': 0.8245128644220984, 'bagging_fraction': 0.16863335597358786, 'bagging_freq': 3, 'min_child_samples': 53}. Best is trial 76 with value: 0.6197701149425288.\u001B[0m\n"
     ]
    },
    {
     "name": "stdout",
     "output_type": "stream",
     "text": [
      "[LightGBM] [Warning] bagging_freq is set=1, subsample_freq=0 will be ignored. Current value: bagging_freq=1\n",
      "[LightGBM] [Warning] feature_fraction is set=0.7637284709842705, colsample_bytree=1.0 will be ignored. Current value: feature_fraction=0.7637284709842705\n",
      "[LightGBM] [Warning] bagging_fraction is set=0.9602412175082804, subsample=1.0 will be ignored. Current value: bagging_fraction=0.9602412175082804\n"
     ]
    },
    {
     "name": "stderr",
     "output_type": "stream",
     "text": [
      "\u001B[32m[I 2022-09-30 14:18:32,161]\u001B[0m Trial 91 finished with value: 0.6130549500975105 and parameters: {'num_leaves': 327, 'feature_fraction': 0.7637284709842705, 'bagging_fraction': 0.9602412175082804, 'bagging_freq': 1, 'min_child_samples': 45}. Best is trial 76 with value: 0.6197701149425288.\u001B[0m\n"
     ]
    },
    {
     "name": "stdout",
     "output_type": "stream",
     "text": [
      "[LightGBM] [Warning] bagging_freq is set=0, subsample_freq=0 will be ignored. Current value: bagging_freq=0\n",
      "[LightGBM] [Warning] feature_fraction is set=0.6083343827138993, colsample_bytree=1.0 will be ignored. Current value: feature_fraction=0.6083343827138993\n",
      "[LightGBM] [Warning] bagging_fraction is set=0.9344153838102498, subsample=1.0 will be ignored. Current value: bagging_fraction=0.9344153838102498\n"
     ]
    },
    {
     "name": "stderr",
     "output_type": "stream",
     "text": [
      "\u001B[32m[I 2022-09-30 14:18:44,427]\u001B[0m Trial 92 finished with value: 0.6108340099756409 and parameters: {'num_leaves': 272, 'feature_fraction': 0.6083343827138993, 'bagging_fraction': 0.9344153838102498, 'bagging_freq': 0, 'min_child_samples': 37}. Best is trial 76 with value: 0.6197701149425288.\u001B[0m\n"
     ]
    },
    {
     "name": "stdout",
     "output_type": "stream",
     "text": [
      "[LightGBM] [Warning] bagging_freq is set=2, subsample_freq=0 will be ignored. Current value: bagging_freq=2\n",
      "[LightGBM] [Warning] feature_fraction is set=0.7785764231363176, colsample_bytree=1.0 will be ignored. Current value: feature_fraction=0.7785764231363176\n",
      "[LightGBM] [Warning] bagging_fraction is set=0.9815662657569532, subsample=1.0 will be ignored. Current value: bagging_fraction=0.9815662657569532\n"
     ]
    },
    {
     "name": "stderr",
     "output_type": "stream",
     "text": [
      "\u001B[32m[I 2022-09-30 14:18:54,438]\u001B[0m Trial 93 finished with value: 0.6133271846898778 and parameters: {'num_leaves': 216, 'feature_fraction': 0.7785764231363176, 'bagging_fraction': 0.9815662657569532, 'bagging_freq': 2, 'min_child_samples': 28}. Best is trial 76 with value: 0.6197701149425288.\u001B[0m\n"
     ]
    },
    {
     "name": "stdout",
     "output_type": "stream",
     "text": [
      "[LightGBM] [Warning] bagging_freq is set=3, subsample_freq=0 will be ignored. Current value: bagging_freq=3\n",
      "[LightGBM] [Warning] feature_fraction is set=0.7070774826998962, colsample_bytree=1.0 will be ignored. Current value: feature_fraction=0.7070774826998962\n",
      "[LightGBM] [Warning] bagging_fraction is set=0.9424501555910166, subsample=1.0 will be ignored. Current value: bagging_fraction=0.9424501555910166\n"
     ]
    },
    {
     "name": "stderr",
     "output_type": "stream",
     "text": [
      "\u001B[32m[I 2022-09-30 14:19:07,560]\u001B[0m Trial 94 finished with value: 0.6107452339688042 and parameters: {'num_leaves': 299, 'feature_fraction': 0.7070774826998962, 'bagging_fraction': 0.9424501555910166, 'bagging_freq': 3, 'min_child_samples': 31}. Best is trial 76 with value: 0.6197701149425288.\u001B[0m\n"
     ]
    },
    {
     "name": "stdout",
     "output_type": "stream",
     "text": [
      "[LightGBM] [Warning] bagging_freq is set=2, subsample_freq=0 will be ignored. Current value: bagging_freq=2\n",
      "[LightGBM] [Warning] feature_fraction is set=0.6403663808619244, colsample_bytree=1.0 will be ignored. Current value: feature_fraction=0.6403663808619244\n",
      "[LightGBM] [Warning] bagging_fraction is set=0.4048504145453912, subsample=1.0 will be ignored. Current value: bagging_fraction=0.4048504145453912\n"
     ]
    },
    {
     "name": "stderr",
     "output_type": "stream",
     "text": [
      "\u001B[32m[I 2022-09-30 14:19:24,261]\u001B[0m Trial 95 finished with value: 0.6027906976744185 and parameters: {'num_leaves': 346, 'feature_fraction': 0.6403663808619244, 'bagging_fraction': 0.4048504145453912, 'bagging_freq': 2, 'min_child_samples': 60}. Best is trial 76 with value: 0.6197701149425288.\u001B[0m\n"
     ]
    },
    {
     "name": "stdout",
     "output_type": "stream",
     "text": [
      "[LightGBM] [Warning] bagging_freq is set=1, subsample_freq=0 will be ignored. Current value: bagging_freq=1\n",
      "[LightGBM] [Warning] feature_fraction is set=0.6735793822620049, colsample_bytree=1.0 will be ignored. Current value: feature_fraction=0.6735793822620049\n",
      "[LightGBM] [Warning] bagging_fraction is set=0.958993935581372, subsample=1.0 will be ignored. Current value: bagging_fraction=0.958993935581372\n"
     ]
    },
    {
     "name": "stderr",
     "output_type": "stream",
     "text": [
      "\u001B[32m[I 2022-09-30 14:19:40,109]\u001B[0m Trial 96 finished with value: 0.6130525341356168 and parameters: {'num_leaves': 322, 'feature_fraction': 0.6735793822620049, 'bagging_fraction': 0.958993935581372, 'bagging_freq': 1, 'min_child_samples': 59}. Best is trial 76 with value: 0.6197701149425288.\u001B[0m\n"
     ]
    },
    {
     "name": "stdout",
     "output_type": "stream",
     "text": [
      "[LightGBM] [Warning] bagging_freq is set=3, subsample_freq=0 will be ignored. Current value: bagging_freq=3\n",
      "[LightGBM] [Warning] feature_fraction is set=0.7312104260804315, colsample_bytree=1.0 will be ignored. Current value: feature_fraction=0.7312104260804315\n",
      "[LightGBM] [Warning] bagging_fraction is set=0.9044199890121263, subsample=1.0 will be ignored. Current value: bagging_fraction=0.9044199890121263\n"
     ]
    },
    {
     "name": "stderr",
     "output_type": "stream",
     "text": [
      "\u001B[32m[I 2022-09-30 14:19:57,757]\u001B[0m Trial 97 finished with value: 0.6145509051078057 and parameters: {'num_leaves': 310, 'feature_fraction': 0.7312104260804315, 'bagging_fraction': 0.9044199890121263, 'bagging_freq': 3, 'min_child_samples': 36}. Best is trial 76 with value: 0.6197701149425288.\u001B[0m\n"
     ]
    },
    {
     "name": "stdout",
     "output_type": "stream",
     "text": [
      "[LightGBM] [Warning] bagging_freq is set=0, subsample_freq=0 will be ignored. Current value: bagging_freq=0\n",
      "[LightGBM] [Warning] feature_fraction is set=0.5978449626736646, colsample_bytree=1.0 will be ignored. Current value: feature_fraction=0.5978449626736646\n",
      "[LightGBM] [Warning] bagging_fraction is set=0.5136830830288825, subsample=1.0 will be ignored. Current value: bagging_fraction=0.5136830830288825\n"
     ]
    },
    {
     "name": "stderr",
     "output_type": "stream",
     "text": [
      "\u001B[32m[I 2022-09-30 14:20:17,130]\u001B[0m Trial 98 finished with value: 0.6129403638038222 and parameters: {'num_leaves': 356, 'feature_fraction': 0.5978449626736646, 'bagging_fraction': 0.5136830830288825, 'bagging_freq': 0, 'min_child_samples': 42}. Best is trial 76 with value: 0.6197701149425288.\u001B[0m\n"
     ]
    },
    {
     "name": "stdout",
     "output_type": "stream",
     "text": [
      "[LightGBM] [Warning] bagging_freq is set=2, subsample_freq=0 will be ignored. Current value: bagging_freq=2\n",
      "[LightGBM] [Warning] feature_fraction is set=0.8239947510530247, colsample_bytree=1.0 will be ignored. Current value: feature_fraction=0.8239947510530247\n",
      "[LightGBM] [Warning] bagging_fraction is set=0.9823807773318836, subsample=1.0 will be ignored. Current value: bagging_fraction=0.9823807773318836\n"
     ]
    },
    {
     "name": "stderr",
     "output_type": "stream",
     "text": [
      "\u001B[32m[I 2022-09-30 14:20:29,197]\u001B[0m Trial 99 finished with value: 0.6137748648959411 and parameters: {'num_leaves': 252, 'feature_fraction': 0.8239947510530247, 'bagging_fraction': 0.9823807773318836, 'bagging_freq': 2, 'min_child_samples': 52}. Best is trial 76 with value: 0.6197701149425288.\u001B[0m\n"
     ]
    },
    {
     "name": "stdout",
     "output_type": "stream",
     "text": [
      "study.best_params: 0.6197701149425288\n",
      "Number of finished trials: 100\n",
      "Best trial: {'num_leaves': 330, 'feature_fraction': 0.6795733972759715, 'bagging_fraction': 0.9974542670934354, 'bagging_freq': 2, 'min_child_samples': 37}\n",
      "study.best_params: {'num_leaves': 330, 'feature_fraction': 0.6795733972759715, 'bagging_fraction': 0.9974542670934354, 'bagging_freq': 2, 'min_child_samples': 37}\n"
     ]
    }
   ],
   "source": [
    "import optuna\n",
    "from optuna import Trial, visualization\n",
    "from optuna.samplers import TPESampler\n",
    "from lightgbm import LGBMClassifier\n",
    "from sklearn.metrics import accuracy_score, precision_score, recall_score, confusion_matrix, f1_score\n",
    "\n",
    "\n",
    "def objective(trial):\n",
    "    param = {\n",
    "        \"objective\": \"binary\",\n",
    "        \"metric\": \"binary_error\",\n",
    "        \"boosting_type\": \"gbdt\",\n",
    "        'verbose' : -1,\n",
    "        'silent' : 1,\n",
    "        'num_leaves': trial.suggest_int('num_leaves', 2, 512),\n",
    "        'feature_fraction': trial.suggest_uniform('feature_fraction', 0.1, 1.0),\n",
    "        'bagging_fraction': trial.suggest_uniform('bagging_fraction', 0.1, 1.0),\n",
    "        'bagging_freq': trial.suggest_int('bagging_freq', 0, 15),\n",
    "        'min_child_samples': trial.suggest_int('min_child_samples', 1, 100),\n",
    "    }\n",
    "    lgbm = LGBMClassifier(**param)\n",
    "    lgbm.fit(x_train, y_train,  eval_set = (x_val,y_val),\n",
    "             categorical_feature =CATEGORICAL_COLUMN, verbose=-1)\n",
    "    pred = lgbm.predict(x_test)\n",
    "    f1 = f1_score(y_test, pred)\n",
    "\n",
    "    return f1\n",
    "sampler = optuna.samplers.TPESampler(seed=10)\n",
    "studyLGBM = optuna.create_study(sampler = sampler, direction='maximize')\n",
    "studyLGBM.optimize( objective, n_trials = 100)\n",
    "\n",
    "print('study.best_params:', studyLGBM.best_trial.value)\n",
    "print('Number of finished trials:', len(studyLGBM.trials))\n",
    "print('Best trial:', studyLGBM.best_trial.params)\n",
    "print('study.best_params:', studyLGBM.best_params)\n"
   ],
   "metadata": {
    "collapsed": false,
    "pycharm": {
     "name": "#%%\n"
    }
   }
  },
  {
   "cell_type": "code",
   "execution_count": 35,
   "outputs": [
    {
     "data": {
      "text/plain": "{'objective': 'binary',\n 'metric': 'binary_error',\n 'verbosity': -1,\n 'boosting_type': 'gbdt',\n 'num_leaves': 330,\n 'feature_fraction': 0.6795733972759715,\n 'bagging_fraction': 0.9974542670934354,\n 'bagging_freq': 2,\n 'min_child_samples': 37}"
     },
     "execution_count": 35,
     "metadata": {},
     "output_type": "execute_result"
    }
   ],
   "source": [
    "parameter = studyLGBM.best_params\n",
    "parameter_2 ={\"objective\": \"binary\",\n",
    "        \"metric\": \"binary_error\",\n",
    "        \"verbosity\": -1,\n",
    "        \"boosting_type\": \"gbdt\"\n",
    "\t\t\t  }\n",
    "parameter =dict(**parameter_2, **parameter)\n",
    "parameter\n"
   ],
   "metadata": {
    "collapsed": false,
    "pycharm": {
     "name": "#%%\n"
    }
   }
  },
  {
   "cell_type": "code",
   "execution_count": 36,
   "outputs": [
    {
     "name": "stdout",
     "output_type": "stream",
     "text": [
      "[LightGBM] [Warning] bagging_fraction is set=0.9974542670934354, subsample=1.0 will be ignored. Current value: bagging_fraction=0.9974542670934354\n",
      "[LightGBM] [Warning] feature_fraction is set=0.6795733972759715, colsample_bytree=1.0 will be ignored. Current value: feature_fraction=0.6795733972759715\n",
      "[LightGBM] [Warning] bagging_freq is set=2, subsample_freq=0 will be ignored. Current value: bagging_freq=2\n",
      "[1]\tvalid_0's binary_error: 0.125466\n",
      "[2]\tvalid_0's binary_error: 0.125466\n",
      "[3]\tvalid_0's binary_error: 0.125466\n",
      "[4]\tvalid_0's binary_error: 0.125466\n",
      "[5]\tvalid_0's binary_error: 0.125271\n",
      "[6]\tvalid_0's binary_error: 0.121059\n",
      "[7]\tvalid_0's binary_error: 0.112926\n",
      "[8]\tvalid_0's binary_error: 0.104468\n",
      "[9]\tvalid_0's binary_error: 0.0998995\n",
      "[10]\tvalid_0's binary_error: 0.0968212\n",
      "[11]\tvalid_0's binary_error: 0.0958167\n",
      "[12]\tvalid_0's binary_error: 0.0933541\n",
      "[13]\tvalid_0's binary_error: 0.0916691\n",
      "[14]\tvalid_0's binary_error: 0.0901137\n",
      "[15]\tvalid_0's binary_error: 0.0895305\n",
      "[16]\tvalid_0's binary_error: 0.0880399\n",
      "[17]\tvalid_0's binary_error: 0.0872622\n",
      "[18]\tvalid_0's binary_error: 0.086679\n",
      "[19]\tvalid_0's binary_error: 0.0862253\n",
      "[20]\tvalid_0's binary_error: 0.0856421\n",
      "[21]\tvalid_0's binary_error: 0.0851236\n",
      "[22]\tvalid_0's binary_error: 0.0850264\n",
      "[23]\tvalid_0's binary_error: 0.0845728\n",
      "[24]\tvalid_0's binary_error: 0.0840867\n",
      "[25]\tvalid_0's binary_error: 0.0832766\n",
      "[26]\tvalid_0's binary_error: 0.0837303\n",
      "[27]\tvalid_0's binary_error: 0.083471\n",
      "[28]\tvalid_0's binary_error: 0.0836979\n",
      "[29]\tvalid_0's binary_error: 0.083309\n",
      "[30]\tvalid_0's binary_error: 0.083471\n",
      "[31]\tvalid_0's binary_error: 0.0827582\n",
      "[32]\tvalid_0's binary_error: 0.0829202\n",
      "[33]\tvalid_0's binary_error: 0.082823\n",
      "[34]\tvalid_0's binary_error: 0.0826934\n",
      "[35]\tvalid_0's binary_error: 0.0825314\n",
      "[36]\tvalid_0's binary_error: 0.0824989\n",
      "[37]\tvalid_0's binary_error: 0.0823369\n",
      "[38]\tvalid_0's binary_error: 0.0824017\n",
      "[39]\tvalid_0's binary_error: 0.0821749\n",
      "[40]\tvalid_0's binary_error: 0.0821749\n",
      "[41]\tvalid_0's binary_error: 0.0818833\n",
      "[42]\tvalid_0's binary_error: 0.0821101\n",
      "[43]\tvalid_0's binary_error: 0.0824017\n",
      "[44]\tvalid_0's binary_error: 0.082661\n",
      "[45]\tvalid_0's binary_error: 0.0824989\n",
      "[46]\tvalid_0's binary_error: 0.0825962\n",
      "[47]\tvalid_0's binary_error: 0.0824989\n",
      "[48]\tvalid_0's binary_error: 0.0824341\n",
      "[49]\tvalid_0's binary_error: 0.0824989\n",
      "[50]\tvalid_0's binary_error: 0.0824989\n",
      "[51]\tvalid_0's binary_error: 0.0827906\n",
      "[52]\tvalid_0's binary_error: 0.0829202\n",
      "[53]\tvalid_0's binary_error: 0.0825314\n",
      "[54]\tvalid_0's binary_error: 0.0828878\n",
      "[55]\tvalid_0's binary_error: 0.0830822\n",
      "[56]\tvalid_0's binary_error: 0.0828554\n",
      "[57]\tvalid_0's binary_error: 0.0828878\n",
      "[58]\tvalid_0's binary_error: 0.0825962\n",
      "[59]\tvalid_0's binary_error: 0.0827582\n",
      "[60]\tvalid_0's binary_error: 0.0829202\n",
      "[61]\tvalid_0's binary_error: 0.0827582\n",
      "[62]\tvalid_0's binary_error: 0.0827906\n",
      "[63]\tvalid_0's binary_error: 0.0827582\n",
      "[64]\tvalid_0's binary_error: 0.0826934\n",
      "[65]\tvalid_0's binary_error: 0.082661\n",
      "[66]\tvalid_0's binary_error: 0.0825638\n",
      "[67]\tvalid_0's binary_error: 0.0827258\n",
      "[68]\tvalid_0's binary_error: 0.0827258\n",
      "[69]\tvalid_0's binary_error: 0.0829202\n",
      "[70]\tvalid_0's binary_error: 0.0825962\n",
      "[71]\tvalid_0's binary_error: 0.0826286\n",
      "[72]\tvalid_0's binary_error: 0.0825638\n",
      "[73]\tvalid_0's binary_error: 0.0826934\n",
      "[74]\tvalid_0's binary_error: 0.0825314\n",
      "[75]\tvalid_0's binary_error: 0.0828554\n",
      "[76]\tvalid_0's binary_error: 0.0827582\n",
      "[77]\tvalid_0's binary_error: 0.0825962\n",
      "[78]\tvalid_0's binary_error: 0.0826286\n",
      "[79]\tvalid_0's binary_error: 0.082823\n",
      "[80]\tvalid_0's binary_error: 0.083147\n",
      "[81]\tvalid_0's binary_error: 0.083309\n",
      "[82]\tvalid_0's binary_error: 0.0831794\n",
      "[83]\tvalid_0's binary_error: 0.083147\n",
      "[84]\tvalid_0's binary_error: 0.0836979\n",
      "[85]\tvalid_0's binary_error: 0.0837303\n",
      "[86]\tvalid_0's binary_error: 0.0836655\n",
      "[87]\tvalid_0's binary_error: 0.0833738\n",
      "[88]\tvalid_0's binary_error: 0.083471\n",
      "[89]\tvalid_0's binary_error: 0.083471\n",
      "[90]\tvalid_0's binary_error: 0.0836331\n",
      "[91]\tvalid_0's binary_error: 0.0838275\n",
      "[92]\tvalid_0's binary_error: 0.083471\n",
      "[93]\tvalid_0's binary_error: 0.0836331\n",
      "[94]\tvalid_0's binary_error: 0.0836331\n",
      "[95]\tvalid_0's binary_error: 0.0833738\n",
      "[96]\tvalid_0's binary_error: 0.0832118\n",
      "[97]\tvalid_0's binary_error: 0.0835359\n",
      "[98]\tvalid_0's binary_error: 0.0835359\n",
      "[99]\tvalid_0's binary_error: 0.0832766\n",
      "[100]\tvalid_0's binary_error: 0.083309\n"
     ]
    },
    {
     "data": {
      "text/plain": "LGBMClassifier(bagging_fraction=0.9974542670934354, bagging_freq=2,\n               feature_fraction=0.6795733972759715, metric='binary_error',\n               min_child_samples=37, num_leaves=330, objective='binary',\n               verbosity=-1)",
      "text/html": "<style>#sk-container-id-2 {color: black;background-color: white;}#sk-container-id-2 pre{padding: 0;}#sk-container-id-2 div.sk-toggleable {background-color: white;}#sk-container-id-2 label.sk-toggleable__label {cursor: pointer;display: block;width: 100%;margin-bottom: 0;padding: 0.3em;box-sizing: border-box;text-align: center;}#sk-container-id-2 label.sk-toggleable__label-arrow:before {content: \"▸\";float: left;margin-right: 0.25em;color: #696969;}#sk-container-id-2 label.sk-toggleable__label-arrow:hover:before {color: black;}#sk-container-id-2 div.sk-estimator:hover label.sk-toggleable__label-arrow:before {color: black;}#sk-container-id-2 div.sk-toggleable__content {max-height: 0;max-width: 0;overflow: hidden;text-align: left;background-color: #f0f8ff;}#sk-container-id-2 div.sk-toggleable__content pre {margin: 0.2em;color: black;border-radius: 0.25em;background-color: #f0f8ff;}#sk-container-id-2 input.sk-toggleable__control:checked~div.sk-toggleable__content {max-height: 200px;max-width: 100%;overflow: auto;}#sk-container-id-2 input.sk-toggleable__control:checked~label.sk-toggleable__label-arrow:before {content: \"▾\";}#sk-container-id-2 div.sk-estimator input.sk-toggleable__control:checked~label.sk-toggleable__label {background-color: #d4ebff;}#sk-container-id-2 div.sk-label input.sk-toggleable__control:checked~label.sk-toggleable__label {background-color: #d4ebff;}#sk-container-id-2 input.sk-hidden--visually {border: 0;clip: rect(1px 1px 1px 1px);clip: rect(1px, 1px, 1px, 1px);height: 1px;margin: -1px;overflow: hidden;padding: 0;position: absolute;width: 1px;}#sk-container-id-2 div.sk-estimator {font-family: monospace;background-color: #f0f8ff;border: 1px dotted black;border-radius: 0.25em;box-sizing: border-box;margin-bottom: 0.5em;}#sk-container-id-2 div.sk-estimator:hover {background-color: #d4ebff;}#sk-container-id-2 div.sk-parallel-item::after {content: \"\";width: 100%;border-bottom: 1px solid gray;flex-grow: 1;}#sk-container-id-2 div.sk-label:hover label.sk-toggleable__label {background-color: #d4ebff;}#sk-container-id-2 div.sk-serial::before {content: \"\";position: absolute;border-left: 1px solid gray;box-sizing: border-box;top: 0;bottom: 0;left: 50%;z-index: 0;}#sk-container-id-2 div.sk-serial {display: flex;flex-direction: column;align-items: center;background-color: white;padding-right: 0.2em;padding-left: 0.2em;position: relative;}#sk-container-id-2 div.sk-item {position: relative;z-index: 1;}#sk-container-id-2 div.sk-parallel {display: flex;align-items: stretch;justify-content: center;background-color: white;position: relative;}#sk-container-id-2 div.sk-item::before, #sk-container-id-2 div.sk-parallel-item::before {content: \"\";position: absolute;border-left: 1px solid gray;box-sizing: border-box;top: 0;bottom: 0;left: 50%;z-index: -1;}#sk-container-id-2 div.sk-parallel-item {display: flex;flex-direction: column;z-index: 1;position: relative;background-color: white;}#sk-container-id-2 div.sk-parallel-item:first-child::after {align-self: flex-end;width: 50%;}#sk-container-id-2 div.sk-parallel-item:last-child::after {align-self: flex-start;width: 50%;}#sk-container-id-2 div.sk-parallel-item:only-child::after {width: 0;}#sk-container-id-2 div.sk-dashed-wrapped {border: 1px dashed gray;margin: 0 0.4em 0.5em 0.4em;box-sizing: border-box;padding-bottom: 0.4em;background-color: white;}#sk-container-id-2 div.sk-label label {font-family: monospace;font-weight: bold;display: inline-block;line-height: 1.2em;}#sk-container-id-2 div.sk-label-container {text-align: center;}#sk-container-id-2 div.sk-container {/* jupyter's `normalize.less` sets `[hidden] { display: none; }` but bootstrap.min.css set `[hidden] { display: none !important; }` so we also need the `!important` here to be able to override the default hidden behavior on the sphinx rendered scikit-learn.org. See: https://github.com/scikit-learn/scikit-learn/issues/21755 */display: inline-block !important;position: relative;}#sk-container-id-2 div.sk-text-repr-fallback {display: none;}</style><div id=\"sk-container-id-2\" class=\"sk-top-container\"><div class=\"sk-text-repr-fallback\"><pre>LGBMClassifier(bagging_fraction=0.9974542670934354, bagging_freq=2,\n               feature_fraction=0.6795733972759715, metric=&#x27;binary_error&#x27;,\n               min_child_samples=37, num_leaves=330, objective=&#x27;binary&#x27;,\n               verbosity=-1)</pre><b>In a Jupyter environment, please rerun this cell to show the HTML representation or trust the notebook. <br />On GitHub, the HTML representation is unable to render, please try loading this page with nbviewer.org.</b></div><div class=\"sk-container\" hidden><div class=\"sk-item\"><div class=\"sk-estimator sk-toggleable\"><input class=\"sk-toggleable__control sk-hidden--visually\" id=\"sk-estimator-id-2\" type=\"checkbox\" checked><label for=\"sk-estimator-id-2\" class=\"sk-toggleable__label sk-toggleable__label-arrow\">LGBMClassifier</label><div class=\"sk-toggleable__content\"><pre>LGBMClassifier(bagging_fraction=0.9974542670934354, bagging_freq=2,\n               feature_fraction=0.6795733972759715, metric=&#x27;binary_error&#x27;,\n               min_child_samples=37, num_leaves=330, objective=&#x27;binary&#x27;,\n               verbosity=-1)</pre></div></div></div></div></div>"
     },
     "execution_count": 36,
     "metadata": {},
     "output_type": "execute_result"
    }
   ],
   "source": [
    "lgbm = LGBMClassifier(**parameter)\n",
    "lgbm.fit(x_train, y_train,  eval_set = (x_val,y_val),\n",
    "         categorical_feature =CATEGORICAL_COLUMN)\n"
   ],
   "metadata": {
    "collapsed": false,
    "pycharm": {
     "name": "#%%\n"
    }
   }
  },
  {
   "cell_type": "code",
   "execution_count": 37,
   "outputs": [
    {
     "data": {
      "application/vnd.plotly.v1+json": {
       "data": [
        {
         "mode": "lines",
         "name": "no-name-6c33931f-44cd-49ba-83e5-486ca01e8740",
         "x": [
          0.5032068412613575,
          0.5043842480662178,
          0.5055616548710782,
          0.5067390616759384,
          0.5079164684807987,
          0.5090938752856591,
          0.5102712820905194,
          0.5114486888953798,
          0.51262609570024,
          0.5138035025051003,
          0.5149809093099607,
          0.516158316114821,
          0.5173357229196813,
          0.5185131297245417,
          0.5196905365294019,
          0.5208679433342622,
          0.5220453501391226,
          0.5232227569439829,
          0.5244001637488432,
          0.5255775705537035,
          0.5267549773585638,
          0.5279323841634241,
          0.5291097909682845,
          0.5302871977731448,
          0.531464604578005,
          0.5326420113828654,
          0.5338194181877257,
          0.534996824992586,
          0.5361742317974464,
          0.5373516386023066,
          0.538529045407167,
          0.5397064522120273,
          0.5408838590168876,
          0.542061265821748,
          0.5432386726266083,
          0.5444160794314685,
          0.5455934862363289,
          0.5467708930411892,
          0.5479482998460495,
          0.5491257066509099,
          0.5503031134557701,
          0.5514805202606304,
          0.5526579270654908,
          0.5538353338703511,
          0.5550127406752114,
          0.5561901474800717,
          0.557367554284932,
          0.5585449610897923,
          0.5597223678946527,
          0.560899774699513,
          0.5620771815043732,
          0.5632545883092336,
          0.5644319951140939,
          0.5656094019189543,
          0.5667868087238146,
          0.5679642155286748,
          0.5691416223335352,
          0.5703190291383955,
          0.5714964359432558,
          0.5726738427481162,
          0.5738512495529764,
          0.5750286563578367,
          0.5762060631626971,
          0.5773834699675574,
          0.5785608767724177,
          0.579738283577278,
          0.5809156903821383,
          0.5820930971869986,
          0.583270503991859,
          0.5844479107967193,
          0.5856253176015797,
          0.5868027244064399,
          0.5879801312113002,
          0.5891575380161606,
          0.5903349448210209,
          0.5915123516258812,
          0.5926897584307416,
          0.5938671652356018,
          0.5950445720404621,
          0.5962219788453225,
          0.5973993856501828,
          0.5985767924550431,
          0.5997541992599034,
          0.6009316060647637,
          0.602109012869624,
          0.6032864196744844,
          0.6044638264793447,
          0.6056412332842049,
          0.6068186400890653,
          0.6079960468939256,
          0.609173453698786,
          0.6103508605036463,
          0.6115282673085065,
          0.6127056741133668,
          0.6138830809182272,
          0.6150604877230875,
          0.6162378945279479,
          0.6174153013328081,
          0.6185927081376684,
          0.6197701149425288
         ],
         "y": [
          0.01,
          0.01,
          0.01,
          0.01,
          0.01,
          0.01,
          0.01,
          0.01,
          0.01,
          0.01,
          0.01,
          0.01,
          0.01,
          0.01,
          0.01,
          0.01,
          0.01,
          0.01,
          0.01,
          0.01,
          0.01,
          0.01,
          0.01,
          0.01,
          0.01,
          0.01,
          0.01,
          0.01,
          0.01,
          0.01,
          0.01,
          0.01,
          0.01,
          0.01,
          0.01,
          0.01,
          0.01,
          0.01,
          0.02,
          0.02,
          0.02,
          0.02,
          0.02,
          0.02,
          0.02,
          0.02,
          0.02,
          0.02,
          0.03,
          0.03,
          0.03,
          0.03,
          0.04,
          0.04,
          0.04,
          0.04,
          0.06,
          0.06,
          0.06,
          0.06,
          0.06,
          0.06,
          0.06,
          0.06,
          0.06,
          0.06,
          0.06,
          0.07,
          0.07,
          0.07,
          0.09,
          0.09,
          0.09,
          0.11,
          0.11,
          0.12,
          0.12,
          0.12,
          0.12,
          0.13,
          0.13,
          0.14,
          0.15,
          0.16,
          0.16,
          0.19,
          0.22,
          0.23,
          0.26,
          0.28,
          0.34,
          0.43,
          0.51,
          0.65,
          0.78,
          0.84,
          0.93,
          0.98,
          0.99,
          1.0
         ],
         "type": "scatter"
        }
       ],
       "layout": {
        "title": {
         "text": "Empirical Distribution Function Plot"
        },
        "xaxis": {
         "title": {
          "text": "Objective Value"
         }
        },
        "yaxis": {
         "title": {
          "text": "Cumulative Probability"
         },
         "range": [
          0,
          1
         ]
        },
        "template": {
         "data": {
          "histogram2dcontour": [
           {
            "type": "histogram2dcontour",
            "colorbar": {
             "outlinewidth": 0,
             "ticks": ""
            },
            "colorscale": [
             [
              0.0,
              "#0d0887"
             ],
             [
              0.1111111111111111,
              "#46039f"
             ],
             [
              0.2222222222222222,
              "#7201a8"
             ],
             [
              0.3333333333333333,
              "#9c179e"
             ],
             [
              0.4444444444444444,
              "#bd3786"
             ],
             [
              0.5555555555555556,
              "#d8576b"
             ],
             [
              0.6666666666666666,
              "#ed7953"
             ],
             [
              0.7777777777777778,
              "#fb9f3a"
             ],
             [
              0.8888888888888888,
              "#fdca26"
             ],
             [
              1.0,
              "#f0f921"
             ]
            ]
           }
          ],
          "choropleth": [
           {
            "type": "choropleth",
            "colorbar": {
             "outlinewidth": 0,
             "ticks": ""
            }
           }
          ],
          "histogram2d": [
           {
            "type": "histogram2d",
            "colorbar": {
             "outlinewidth": 0,
             "ticks": ""
            },
            "colorscale": [
             [
              0.0,
              "#0d0887"
             ],
             [
              0.1111111111111111,
              "#46039f"
             ],
             [
              0.2222222222222222,
              "#7201a8"
             ],
             [
              0.3333333333333333,
              "#9c179e"
             ],
             [
              0.4444444444444444,
              "#bd3786"
             ],
             [
              0.5555555555555556,
              "#d8576b"
             ],
             [
              0.6666666666666666,
              "#ed7953"
             ],
             [
              0.7777777777777778,
              "#fb9f3a"
             ],
             [
              0.8888888888888888,
              "#fdca26"
             ],
             [
              1.0,
              "#f0f921"
             ]
            ]
           }
          ],
          "heatmap": [
           {
            "type": "heatmap",
            "colorbar": {
             "outlinewidth": 0,
             "ticks": ""
            },
            "colorscale": [
             [
              0.0,
              "#0d0887"
             ],
             [
              0.1111111111111111,
              "#46039f"
             ],
             [
              0.2222222222222222,
              "#7201a8"
             ],
             [
              0.3333333333333333,
              "#9c179e"
             ],
             [
              0.4444444444444444,
              "#bd3786"
             ],
             [
              0.5555555555555556,
              "#d8576b"
             ],
             [
              0.6666666666666666,
              "#ed7953"
             ],
             [
              0.7777777777777778,
              "#fb9f3a"
             ],
             [
              0.8888888888888888,
              "#fdca26"
             ],
             [
              1.0,
              "#f0f921"
             ]
            ]
           }
          ],
          "heatmapgl": [
           {
            "type": "heatmapgl",
            "colorbar": {
             "outlinewidth": 0,
             "ticks": ""
            },
            "colorscale": [
             [
              0.0,
              "#0d0887"
             ],
             [
              0.1111111111111111,
              "#46039f"
             ],
             [
              0.2222222222222222,
              "#7201a8"
             ],
             [
              0.3333333333333333,
              "#9c179e"
             ],
             [
              0.4444444444444444,
              "#bd3786"
             ],
             [
              0.5555555555555556,
              "#d8576b"
             ],
             [
              0.6666666666666666,
              "#ed7953"
             ],
             [
              0.7777777777777778,
              "#fb9f3a"
             ],
             [
              0.8888888888888888,
              "#fdca26"
             ],
             [
              1.0,
              "#f0f921"
             ]
            ]
           }
          ],
          "contourcarpet": [
           {
            "type": "contourcarpet",
            "colorbar": {
             "outlinewidth": 0,
             "ticks": ""
            }
           }
          ],
          "contour": [
           {
            "type": "contour",
            "colorbar": {
             "outlinewidth": 0,
             "ticks": ""
            },
            "colorscale": [
             [
              0.0,
              "#0d0887"
             ],
             [
              0.1111111111111111,
              "#46039f"
             ],
             [
              0.2222222222222222,
              "#7201a8"
             ],
             [
              0.3333333333333333,
              "#9c179e"
             ],
             [
              0.4444444444444444,
              "#bd3786"
             ],
             [
              0.5555555555555556,
              "#d8576b"
             ],
             [
              0.6666666666666666,
              "#ed7953"
             ],
             [
              0.7777777777777778,
              "#fb9f3a"
             ],
             [
              0.8888888888888888,
              "#fdca26"
             ],
             [
              1.0,
              "#f0f921"
             ]
            ]
           }
          ],
          "surface": [
           {
            "type": "surface",
            "colorbar": {
             "outlinewidth": 0,
             "ticks": ""
            },
            "colorscale": [
             [
              0.0,
              "#0d0887"
             ],
             [
              0.1111111111111111,
              "#46039f"
             ],
             [
              0.2222222222222222,
              "#7201a8"
             ],
             [
              0.3333333333333333,
              "#9c179e"
             ],
             [
              0.4444444444444444,
              "#bd3786"
             ],
             [
              0.5555555555555556,
              "#d8576b"
             ],
             [
              0.6666666666666666,
              "#ed7953"
             ],
             [
              0.7777777777777778,
              "#fb9f3a"
             ],
             [
              0.8888888888888888,
              "#fdca26"
             ],
             [
              1.0,
              "#f0f921"
             ]
            ]
           }
          ],
          "mesh3d": [
           {
            "type": "mesh3d",
            "colorbar": {
             "outlinewidth": 0,
             "ticks": ""
            }
           }
          ],
          "scatter": [
           {
            "fillpattern": {
             "fillmode": "overlay",
             "size": 10,
             "solidity": 0.2
            },
            "type": "scatter"
           }
          ],
          "parcoords": [
           {
            "type": "parcoords",
            "line": {
             "colorbar": {
              "outlinewidth": 0,
              "ticks": ""
             }
            }
           }
          ],
          "scatterpolargl": [
           {
            "type": "scatterpolargl",
            "marker": {
             "colorbar": {
              "outlinewidth": 0,
              "ticks": ""
             }
            }
           }
          ],
          "bar": [
           {
            "error_x": {
             "color": "#2a3f5f"
            },
            "error_y": {
             "color": "#2a3f5f"
            },
            "marker": {
             "line": {
              "color": "#E5ECF6",
              "width": 0.5
             },
             "pattern": {
              "fillmode": "overlay",
              "size": 10,
              "solidity": 0.2
             }
            },
            "type": "bar"
           }
          ],
          "scattergeo": [
           {
            "type": "scattergeo",
            "marker": {
             "colorbar": {
              "outlinewidth": 0,
              "ticks": ""
             }
            }
           }
          ],
          "scatterpolar": [
           {
            "type": "scatterpolar",
            "marker": {
             "colorbar": {
              "outlinewidth": 0,
              "ticks": ""
             }
            }
           }
          ],
          "histogram": [
           {
            "marker": {
             "pattern": {
              "fillmode": "overlay",
              "size": 10,
              "solidity": 0.2
             }
            },
            "type": "histogram"
           }
          ],
          "scattergl": [
           {
            "type": "scattergl",
            "marker": {
             "colorbar": {
              "outlinewidth": 0,
              "ticks": ""
             }
            }
           }
          ],
          "scatter3d": [
           {
            "type": "scatter3d",
            "line": {
             "colorbar": {
              "outlinewidth": 0,
              "ticks": ""
             }
            },
            "marker": {
             "colorbar": {
              "outlinewidth": 0,
              "ticks": ""
             }
            }
           }
          ],
          "scattermapbox": [
           {
            "type": "scattermapbox",
            "marker": {
             "colorbar": {
              "outlinewidth": 0,
              "ticks": ""
             }
            }
           }
          ],
          "scatterternary": [
           {
            "type": "scatterternary",
            "marker": {
             "colorbar": {
              "outlinewidth": 0,
              "ticks": ""
             }
            }
           }
          ],
          "scattercarpet": [
           {
            "type": "scattercarpet",
            "marker": {
             "colorbar": {
              "outlinewidth": 0,
              "ticks": ""
             }
            }
           }
          ],
          "carpet": [
           {
            "aaxis": {
             "endlinecolor": "#2a3f5f",
             "gridcolor": "white",
             "linecolor": "white",
             "minorgridcolor": "white",
             "startlinecolor": "#2a3f5f"
            },
            "baxis": {
             "endlinecolor": "#2a3f5f",
             "gridcolor": "white",
             "linecolor": "white",
             "minorgridcolor": "white",
             "startlinecolor": "#2a3f5f"
            },
            "type": "carpet"
           }
          ],
          "table": [
           {
            "cells": {
             "fill": {
              "color": "#EBF0F8"
             },
             "line": {
              "color": "white"
             }
            },
            "header": {
             "fill": {
              "color": "#C8D4E3"
             },
             "line": {
              "color": "white"
             }
            },
            "type": "table"
           }
          ],
          "barpolar": [
           {
            "marker": {
             "line": {
              "color": "#E5ECF6",
              "width": 0.5
             },
             "pattern": {
              "fillmode": "overlay",
              "size": 10,
              "solidity": 0.2
             }
            },
            "type": "barpolar"
           }
          ],
          "pie": [
           {
            "automargin": true,
            "type": "pie"
           }
          ]
         },
         "layout": {
          "autotypenumbers": "strict",
          "colorway": [
           "#636efa",
           "#EF553B",
           "#00cc96",
           "#ab63fa",
           "#FFA15A",
           "#19d3f3",
           "#FF6692",
           "#B6E880",
           "#FF97FF",
           "#FECB52"
          ],
          "font": {
           "color": "#2a3f5f"
          },
          "hovermode": "closest",
          "hoverlabel": {
           "align": "left"
          },
          "paper_bgcolor": "white",
          "plot_bgcolor": "#E5ECF6",
          "polar": {
           "bgcolor": "#E5ECF6",
           "angularaxis": {
            "gridcolor": "white",
            "linecolor": "white",
            "ticks": ""
           },
           "radialaxis": {
            "gridcolor": "white",
            "linecolor": "white",
            "ticks": ""
           }
          },
          "ternary": {
           "bgcolor": "#E5ECF6",
           "aaxis": {
            "gridcolor": "white",
            "linecolor": "white",
            "ticks": ""
           },
           "baxis": {
            "gridcolor": "white",
            "linecolor": "white",
            "ticks": ""
           },
           "caxis": {
            "gridcolor": "white",
            "linecolor": "white",
            "ticks": ""
           }
          },
          "coloraxis": {
           "colorbar": {
            "outlinewidth": 0,
            "ticks": ""
           }
          },
          "colorscale": {
           "sequential": [
            [
             0.0,
             "#0d0887"
            ],
            [
             0.1111111111111111,
             "#46039f"
            ],
            [
             0.2222222222222222,
             "#7201a8"
            ],
            [
             0.3333333333333333,
             "#9c179e"
            ],
            [
             0.4444444444444444,
             "#bd3786"
            ],
            [
             0.5555555555555556,
             "#d8576b"
            ],
            [
             0.6666666666666666,
             "#ed7953"
            ],
            [
             0.7777777777777778,
             "#fb9f3a"
            ],
            [
             0.8888888888888888,
             "#fdca26"
            ],
            [
             1.0,
             "#f0f921"
            ]
           ],
           "sequentialminus": [
            [
             0.0,
             "#0d0887"
            ],
            [
             0.1111111111111111,
             "#46039f"
            ],
            [
             0.2222222222222222,
             "#7201a8"
            ],
            [
             0.3333333333333333,
             "#9c179e"
            ],
            [
             0.4444444444444444,
             "#bd3786"
            ],
            [
             0.5555555555555556,
             "#d8576b"
            ],
            [
             0.6666666666666666,
             "#ed7953"
            ],
            [
             0.7777777777777778,
             "#fb9f3a"
            ],
            [
             0.8888888888888888,
             "#fdca26"
            ],
            [
             1.0,
             "#f0f921"
            ]
           ],
           "diverging": [
            [
             0,
             "#8e0152"
            ],
            [
             0.1,
             "#c51b7d"
            ],
            [
             0.2,
             "#de77ae"
            ],
            [
             0.3,
             "#f1b6da"
            ],
            [
             0.4,
             "#fde0ef"
            ],
            [
             0.5,
             "#f7f7f7"
            ],
            [
             0.6,
             "#e6f5d0"
            ],
            [
             0.7,
             "#b8e186"
            ],
            [
             0.8,
             "#7fbc41"
            ],
            [
             0.9,
             "#4d9221"
            ],
            [
             1,
             "#276419"
            ]
           ]
          },
          "xaxis": {
           "gridcolor": "white",
           "linecolor": "white",
           "ticks": "",
           "title": {
            "standoff": 15
           },
           "zerolinecolor": "white",
           "automargin": true,
           "zerolinewidth": 2
          },
          "yaxis": {
           "gridcolor": "white",
           "linecolor": "white",
           "ticks": "",
           "title": {
            "standoff": 15
           },
           "zerolinecolor": "white",
           "automargin": true,
           "zerolinewidth": 2
          },
          "scene": {
           "xaxis": {
            "backgroundcolor": "#E5ECF6",
            "gridcolor": "white",
            "linecolor": "white",
            "showbackground": true,
            "ticks": "",
            "zerolinecolor": "white",
            "gridwidth": 2
           },
           "yaxis": {
            "backgroundcolor": "#E5ECF6",
            "gridcolor": "white",
            "linecolor": "white",
            "showbackground": true,
            "ticks": "",
            "zerolinecolor": "white",
            "gridwidth": 2
           },
           "zaxis": {
            "backgroundcolor": "#E5ECF6",
            "gridcolor": "white",
            "linecolor": "white",
            "showbackground": true,
            "ticks": "",
            "zerolinecolor": "white",
            "gridwidth": 2
           }
          },
          "shapedefaults": {
           "line": {
            "color": "#2a3f5f"
           }
          },
          "annotationdefaults": {
           "arrowcolor": "#2a3f5f",
           "arrowhead": 0,
           "arrowwidth": 1
          },
          "geo": {
           "bgcolor": "white",
           "landcolor": "#E5ECF6",
           "subunitcolor": "white",
           "showland": true,
           "showlakes": true,
           "lakecolor": "white"
          },
          "title": {
           "x": 0.05
          },
          "mapbox": {
           "style": "light"
          }
         }
        }
       },
       "config": {
        "plotlyServerURL": "https://plot.ly"
       }
      },
      "text/html": "<div>                            <div id=\"638ad119-687e-4a78-82a5-c2f8bb84262e\" class=\"plotly-graph-div\" style=\"height:525px; width:100%;\"></div>            <script type=\"text/javascript\">                require([\"plotly\"], function(Plotly) {                    window.PLOTLYENV=window.PLOTLYENV || {};                                    if (document.getElementById(\"638ad119-687e-4a78-82a5-c2f8bb84262e\")) {                    Plotly.newPlot(                        \"638ad119-687e-4a78-82a5-c2f8bb84262e\",                        [{\"mode\":\"lines\",\"name\":\"no-name-6c33931f-44cd-49ba-83e5-486ca01e8740\",\"x\":[0.5032068412613575,0.5043842480662178,0.5055616548710782,0.5067390616759384,0.5079164684807987,0.5090938752856591,0.5102712820905194,0.5114486888953798,0.51262609570024,0.5138035025051003,0.5149809093099607,0.516158316114821,0.5173357229196813,0.5185131297245417,0.5196905365294019,0.5208679433342622,0.5220453501391226,0.5232227569439829,0.5244001637488432,0.5255775705537035,0.5267549773585638,0.5279323841634241,0.5291097909682845,0.5302871977731448,0.531464604578005,0.5326420113828654,0.5338194181877257,0.534996824992586,0.5361742317974464,0.5373516386023066,0.538529045407167,0.5397064522120273,0.5408838590168876,0.542061265821748,0.5432386726266083,0.5444160794314685,0.5455934862363289,0.5467708930411892,0.5479482998460495,0.5491257066509099,0.5503031134557701,0.5514805202606304,0.5526579270654908,0.5538353338703511,0.5550127406752114,0.5561901474800717,0.557367554284932,0.5585449610897923,0.5597223678946527,0.560899774699513,0.5620771815043732,0.5632545883092336,0.5644319951140939,0.5656094019189543,0.5667868087238146,0.5679642155286748,0.5691416223335352,0.5703190291383955,0.5714964359432558,0.5726738427481162,0.5738512495529764,0.5750286563578367,0.5762060631626971,0.5773834699675574,0.5785608767724177,0.579738283577278,0.5809156903821383,0.5820930971869986,0.583270503991859,0.5844479107967193,0.5856253176015797,0.5868027244064399,0.5879801312113002,0.5891575380161606,0.5903349448210209,0.5915123516258812,0.5926897584307416,0.5938671652356018,0.5950445720404621,0.5962219788453225,0.5973993856501828,0.5985767924550431,0.5997541992599034,0.6009316060647637,0.602109012869624,0.6032864196744844,0.6044638264793447,0.6056412332842049,0.6068186400890653,0.6079960468939256,0.609173453698786,0.6103508605036463,0.6115282673085065,0.6127056741133668,0.6138830809182272,0.6150604877230875,0.6162378945279479,0.6174153013328081,0.6185927081376684,0.6197701149425288],\"y\":[0.01,0.01,0.01,0.01,0.01,0.01,0.01,0.01,0.01,0.01,0.01,0.01,0.01,0.01,0.01,0.01,0.01,0.01,0.01,0.01,0.01,0.01,0.01,0.01,0.01,0.01,0.01,0.01,0.01,0.01,0.01,0.01,0.01,0.01,0.01,0.01,0.01,0.01,0.02,0.02,0.02,0.02,0.02,0.02,0.02,0.02,0.02,0.02,0.03,0.03,0.03,0.03,0.04,0.04,0.04,0.04,0.06,0.06,0.06,0.06,0.06,0.06,0.06,0.06,0.06,0.06,0.06,0.07,0.07,0.07,0.09,0.09,0.09,0.11,0.11,0.12,0.12,0.12,0.12,0.13,0.13,0.14,0.15,0.16,0.16,0.19,0.22,0.23,0.26,0.28,0.34,0.43,0.51,0.65,0.78,0.84,0.93,0.98,0.99,1.0],\"type\":\"scatter\"}],                        {\"title\":{\"text\":\"Empirical Distribution Function Plot\"},\"xaxis\":{\"title\":{\"text\":\"Objective Value\"}},\"yaxis\":{\"title\":{\"text\":\"Cumulative Probability\"},\"range\":[0,1]},\"template\":{\"data\":{\"histogram2dcontour\":[{\"type\":\"histogram2dcontour\",\"colorbar\":{\"outlinewidth\":0,\"ticks\":\"\"},\"colorscale\":[[0.0,\"#0d0887\"],[0.1111111111111111,\"#46039f\"],[0.2222222222222222,\"#7201a8\"],[0.3333333333333333,\"#9c179e\"],[0.4444444444444444,\"#bd3786\"],[0.5555555555555556,\"#d8576b\"],[0.6666666666666666,\"#ed7953\"],[0.7777777777777778,\"#fb9f3a\"],[0.8888888888888888,\"#fdca26\"],[1.0,\"#f0f921\"]]}],\"choropleth\":[{\"type\":\"choropleth\",\"colorbar\":{\"outlinewidth\":0,\"ticks\":\"\"}}],\"histogram2d\":[{\"type\":\"histogram2d\",\"colorbar\":{\"outlinewidth\":0,\"ticks\":\"\"},\"colorscale\":[[0.0,\"#0d0887\"],[0.1111111111111111,\"#46039f\"],[0.2222222222222222,\"#7201a8\"],[0.3333333333333333,\"#9c179e\"],[0.4444444444444444,\"#bd3786\"],[0.5555555555555556,\"#d8576b\"],[0.6666666666666666,\"#ed7953\"],[0.7777777777777778,\"#fb9f3a\"],[0.8888888888888888,\"#fdca26\"],[1.0,\"#f0f921\"]]}],\"heatmap\":[{\"type\":\"heatmap\",\"colorbar\":{\"outlinewidth\":0,\"ticks\":\"\"},\"colorscale\":[[0.0,\"#0d0887\"],[0.1111111111111111,\"#46039f\"],[0.2222222222222222,\"#7201a8\"],[0.3333333333333333,\"#9c179e\"],[0.4444444444444444,\"#bd3786\"],[0.5555555555555556,\"#d8576b\"],[0.6666666666666666,\"#ed7953\"],[0.7777777777777778,\"#fb9f3a\"],[0.8888888888888888,\"#fdca26\"],[1.0,\"#f0f921\"]]}],\"heatmapgl\":[{\"type\":\"heatmapgl\",\"colorbar\":{\"outlinewidth\":0,\"ticks\":\"\"},\"colorscale\":[[0.0,\"#0d0887\"],[0.1111111111111111,\"#46039f\"],[0.2222222222222222,\"#7201a8\"],[0.3333333333333333,\"#9c179e\"],[0.4444444444444444,\"#bd3786\"],[0.5555555555555556,\"#d8576b\"],[0.6666666666666666,\"#ed7953\"],[0.7777777777777778,\"#fb9f3a\"],[0.8888888888888888,\"#fdca26\"],[1.0,\"#f0f921\"]]}],\"contourcarpet\":[{\"type\":\"contourcarpet\",\"colorbar\":{\"outlinewidth\":0,\"ticks\":\"\"}}],\"contour\":[{\"type\":\"contour\",\"colorbar\":{\"outlinewidth\":0,\"ticks\":\"\"},\"colorscale\":[[0.0,\"#0d0887\"],[0.1111111111111111,\"#46039f\"],[0.2222222222222222,\"#7201a8\"],[0.3333333333333333,\"#9c179e\"],[0.4444444444444444,\"#bd3786\"],[0.5555555555555556,\"#d8576b\"],[0.6666666666666666,\"#ed7953\"],[0.7777777777777778,\"#fb9f3a\"],[0.8888888888888888,\"#fdca26\"],[1.0,\"#f0f921\"]]}],\"surface\":[{\"type\":\"surface\",\"colorbar\":{\"outlinewidth\":0,\"ticks\":\"\"},\"colorscale\":[[0.0,\"#0d0887\"],[0.1111111111111111,\"#46039f\"],[0.2222222222222222,\"#7201a8\"],[0.3333333333333333,\"#9c179e\"],[0.4444444444444444,\"#bd3786\"],[0.5555555555555556,\"#d8576b\"],[0.6666666666666666,\"#ed7953\"],[0.7777777777777778,\"#fb9f3a\"],[0.8888888888888888,\"#fdca26\"],[1.0,\"#f0f921\"]]}],\"mesh3d\":[{\"type\":\"mesh3d\",\"colorbar\":{\"outlinewidth\":0,\"ticks\":\"\"}}],\"scatter\":[{\"fillpattern\":{\"fillmode\":\"overlay\",\"size\":10,\"solidity\":0.2},\"type\":\"scatter\"}],\"parcoords\":[{\"type\":\"parcoords\",\"line\":{\"colorbar\":{\"outlinewidth\":0,\"ticks\":\"\"}}}],\"scatterpolargl\":[{\"type\":\"scatterpolargl\",\"marker\":{\"colorbar\":{\"outlinewidth\":0,\"ticks\":\"\"}}}],\"bar\":[{\"error_x\":{\"color\":\"#2a3f5f\"},\"error_y\":{\"color\":\"#2a3f5f\"},\"marker\":{\"line\":{\"color\":\"#E5ECF6\",\"width\":0.5},\"pattern\":{\"fillmode\":\"overlay\",\"size\":10,\"solidity\":0.2}},\"type\":\"bar\"}],\"scattergeo\":[{\"type\":\"scattergeo\",\"marker\":{\"colorbar\":{\"outlinewidth\":0,\"ticks\":\"\"}}}],\"scatterpolar\":[{\"type\":\"scatterpolar\",\"marker\":{\"colorbar\":{\"outlinewidth\":0,\"ticks\":\"\"}}}],\"histogram\":[{\"marker\":{\"pattern\":{\"fillmode\":\"overlay\",\"size\":10,\"solidity\":0.2}},\"type\":\"histogram\"}],\"scattergl\":[{\"type\":\"scattergl\",\"marker\":{\"colorbar\":{\"outlinewidth\":0,\"ticks\":\"\"}}}],\"scatter3d\":[{\"type\":\"scatter3d\",\"line\":{\"colorbar\":{\"outlinewidth\":0,\"ticks\":\"\"}},\"marker\":{\"colorbar\":{\"outlinewidth\":0,\"ticks\":\"\"}}}],\"scattermapbox\":[{\"type\":\"scattermapbox\",\"marker\":{\"colorbar\":{\"outlinewidth\":0,\"ticks\":\"\"}}}],\"scatterternary\":[{\"type\":\"scatterternary\",\"marker\":{\"colorbar\":{\"outlinewidth\":0,\"ticks\":\"\"}}}],\"scattercarpet\":[{\"type\":\"scattercarpet\",\"marker\":{\"colorbar\":{\"outlinewidth\":0,\"ticks\":\"\"}}}],\"carpet\":[{\"aaxis\":{\"endlinecolor\":\"#2a3f5f\",\"gridcolor\":\"white\",\"linecolor\":\"white\",\"minorgridcolor\":\"white\",\"startlinecolor\":\"#2a3f5f\"},\"baxis\":{\"endlinecolor\":\"#2a3f5f\",\"gridcolor\":\"white\",\"linecolor\":\"white\",\"minorgridcolor\":\"white\",\"startlinecolor\":\"#2a3f5f\"},\"type\":\"carpet\"}],\"table\":[{\"cells\":{\"fill\":{\"color\":\"#EBF0F8\"},\"line\":{\"color\":\"white\"}},\"header\":{\"fill\":{\"color\":\"#C8D4E3\"},\"line\":{\"color\":\"white\"}},\"type\":\"table\"}],\"barpolar\":[{\"marker\":{\"line\":{\"color\":\"#E5ECF6\",\"width\":0.5},\"pattern\":{\"fillmode\":\"overlay\",\"size\":10,\"solidity\":0.2}},\"type\":\"barpolar\"}],\"pie\":[{\"automargin\":true,\"type\":\"pie\"}]},\"layout\":{\"autotypenumbers\":\"strict\",\"colorway\":[\"#636efa\",\"#EF553B\",\"#00cc96\",\"#ab63fa\",\"#FFA15A\",\"#19d3f3\",\"#FF6692\",\"#B6E880\",\"#FF97FF\",\"#FECB52\"],\"font\":{\"color\":\"#2a3f5f\"},\"hovermode\":\"closest\",\"hoverlabel\":{\"align\":\"left\"},\"paper_bgcolor\":\"white\",\"plot_bgcolor\":\"#E5ECF6\",\"polar\":{\"bgcolor\":\"#E5ECF6\",\"angularaxis\":{\"gridcolor\":\"white\",\"linecolor\":\"white\",\"ticks\":\"\"},\"radialaxis\":{\"gridcolor\":\"white\",\"linecolor\":\"white\",\"ticks\":\"\"}},\"ternary\":{\"bgcolor\":\"#E5ECF6\",\"aaxis\":{\"gridcolor\":\"white\",\"linecolor\":\"white\",\"ticks\":\"\"},\"baxis\":{\"gridcolor\":\"white\",\"linecolor\":\"white\",\"ticks\":\"\"},\"caxis\":{\"gridcolor\":\"white\",\"linecolor\":\"white\",\"ticks\":\"\"}},\"coloraxis\":{\"colorbar\":{\"outlinewidth\":0,\"ticks\":\"\"}},\"colorscale\":{\"sequential\":[[0.0,\"#0d0887\"],[0.1111111111111111,\"#46039f\"],[0.2222222222222222,\"#7201a8\"],[0.3333333333333333,\"#9c179e\"],[0.4444444444444444,\"#bd3786\"],[0.5555555555555556,\"#d8576b\"],[0.6666666666666666,\"#ed7953\"],[0.7777777777777778,\"#fb9f3a\"],[0.8888888888888888,\"#fdca26\"],[1.0,\"#f0f921\"]],\"sequentialminus\":[[0.0,\"#0d0887\"],[0.1111111111111111,\"#46039f\"],[0.2222222222222222,\"#7201a8\"],[0.3333333333333333,\"#9c179e\"],[0.4444444444444444,\"#bd3786\"],[0.5555555555555556,\"#d8576b\"],[0.6666666666666666,\"#ed7953\"],[0.7777777777777778,\"#fb9f3a\"],[0.8888888888888888,\"#fdca26\"],[1.0,\"#f0f921\"]],\"diverging\":[[0,\"#8e0152\"],[0.1,\"#c51b7d\"],[0.2,\"#de77ae\"],[0.3,\"#f1b6da\"],[0.4,\"#fde0ef\"],[0.5,\"#f7f7f7\"],[0.6,\"#e6f5d0\"],[0.7,\"#b8e186\"],[0.8,\"#7fbc41\"],[0.9,\"#4d9221\"],[1,\"#276419\"]]},\"xaxis\":{\"gridcolor\":\"white\",\"linecolor\":\"white\",\"ticks\":\"\",\"title\":{\"standoff\":15},\"zerolinecolor\":\"white\",\"automargin\":true,\"zerolinewidth\":2},\"yaxis\":{\"gridcolor\":\"white\",\"linecolor\":\"white\",\"ticks\":\"\",\"title\":{\"standoff\":15},\"zerolinecolor\":\"white\",\"automargin\":true,\"zerolinewidth\":2},\"scene\":{\"xaxis\":{\"backgroundcolor\":\"#E5ECF6\",\"gridcolor\":\"white\",\"linecolor\":\"white\",\"showbackground\":true,\"ticks\":\"\",\"zerolinecolor\":\"white\",\"gridwidth\":2},\"yaxis\":{\"backgroundcolor\":\"#E5ECF6\",\"gridcolor\":\"white\",\"linecolor\":\"white\",\"showbackground\":true,\"ticks\":\"\",\"zerolinecolor\":\"white\",\"gridwidth\":2},\"zaxis\":{\"backgroundcolor\":\"#E5ECF6\",\"gridcolor\":\"white\",\"linecolor\":\"white\",\"showbackground\":true,\"ticks\":\"\",\"zerolinecolor\":\"white\",\"gridwidth\":2}},\"shapedefaults\":{\"line\":{\"color\":\"#2a3f5f\"}},\"annotationdefaults\":{\"arrowcolor\":\"#2a3f5f\",\"arrowhead\":0,\"arrowwidth\":1},\"geo\":{\"bgcolor\":\"white\",\"landcolor\":\"#E5ECF6\",\"subunitcolor\":\"white\",\"showland\":true,\"showlakes\":true,\"lakecolor\":\"white\"},\"title\":{\"x\":0.05},\"mapbox\":{\"style\":\"light\"}}}},                        {\"responsive\": true}                    ).then(function(){\n                            \nvar gd = document.getElementById('638ad119-687e-4a78-82a5-c2f8bb84262e');\nvar x = new MutationObserver(function (mutations, observer) {{\n        var display = window.getComputedStyle(gd).display;\n        if (!display || display === 'none') {{\n            console.log([gd, 'removed!']);\n            Plotly.purge(gd);\n            observer.disconnect();\n        }}\n}});\n\n// Listen for the removal of the full notebook cells\nvar notebookContainer = gd.closest('#notebook-container');\nif (notebookContainer) {{\n    x.observe(notebookContainer, {childList: true});\n}}\n\n// Listen for the clearing of the current output cell\nvar outputEl = gd.closest('.output');\nif (outputEl) {{\n    x.observe(outputEl, {childList: true});\n}}\n\n                        })                };                });            </script>        </div>"
     },
     "metadata": {},
     "output_type": "display_data"
    }
   ],
   "source": [
    "optuna.visualization.plot_edf(studyLGBM)"
   ],
   "metadata": {
    "collapsed": false,
    "pycharm": {
     "name": "#%%\n"
    }
   }
  },
  {
   "cell_type": "code",
   "execution_count": 38,
   "outputs": [
    {
     "data": {
      "application/vnd.plotly.v1+json": {
       "data": [
        {
         "mode": "markers",
         "name": "Objective Value",
         "x": [
          0,
          1,
          2,
          3,
          4,
          5,
          6,
          7,
          8,
          9,
          10,
          11,
          12,
          13,
          14,
          15,
          16,
          17,
          18,
          19,
          20,
          21,
          22,
          23,
          24,
          25,
          26,
          27,
          28,
          29,
          30,
          31,
          32,
          33,
          34,
          35,
          36,
          37,
          38,
          39,
          40,
          41,
          42,
          43,
          44,
          45,
          46,
          47,
          48,
          49,
          50,
          51,
          52,
          53,
          54,
          55,
          56,
          57,
          58,
          59,
          60,
          61,
          62,
          63,
          64,
          65,
          66,
          67,
          68,
          69,
          70,
          71,
          72,
          73,
          74,
          75,
          76,
          77,
          78,
          79,
          80,
          81,
          82,
          83,
          84,
          85,
          86,
          87,
          88,
          89,
          90,
          91,
          92,
          93,
          94,
          95,
          96,
          97,
          98,
          99
         ],
         "y": [
          0.5032068412613575,
          0.5852472961477702,
          0.5689025109041612,
          0.5990214352283317,
          0.5641025641025641,
          0.6038264115725619,
          0.6141750491386286,
          0.5690168818272096,
          0.5910357640501626,
          0.5979769466007998,
          0.6110982658959537,
          0.6157561817136284,
          0.6124523506988565,
          0.6073505466387532,
          0.547181923225061,
          0.6168936072005539,
          0.6111689212625737,
          0.6,
          0.6089655172413794,
          0.602822114272496,
          0.6092515109251511,
          0.6095282039450917,
          0.6127101082201244,
          0.6146757286026956,
          0.6022740593130935,
          0.6042642924086223,
          0.611670480549199,
          0.6118055555555556,
          0.6085356033590245,
          0.6079090803664617,
          0.5588641789169494,
          0.6130259365994237,
          0.605911905596448,
          0.588021778584392,
          0.5816549660490274,
          0.6124280782508631,
          0.6082236082236082,
          0.6123112659698026,
          0.5951277480689245,
          0.6107701215981471,
          0.5886303669944831,
          0.6138431417712773,
          0.6108922363847045,
          0.6063558339132452,
          0.6127659574468085,
          0.6134841837912722,
          0.6062587575899113,
          0.6118275822005345,
          0.6170188199976907,
          0.604062681369704,
          0.6119558908879861,
          0.6131370067870701,
          0.6118710874101554,
          0.6159678345778288,
          0.6123942373656529,
          0.6080594588317269,
          0.611640454597635,
          0.6088056098402116,
          0.6111367837338262,
          0.6093913043478261,
          0.6099142923326384,
          0.611620085817001,
          0.6152249134948098,
          0.610231286316509,
          0.6137042998390434,
          0.61427260211106,
          0.6143595634692706,
          0.6110276268639463,
          0.6045210906548589,
          0.6126954921803128,
          0.6096938775510204,
          0.6133973479652491,
          0.616304472806715,
          0.6103221337028057,
          0.6166934927569556,
          0.615863500115287,
          0.6197701149425288,
          0.6160776160776161,
          0.6153669197147458,
          0.6160249739854319,
          0.6160560468588492,
          0.6151549942594718,
          0.6144619997693461,
          0.6117376294591483,
          0.610294968189705,
          0.6182615722036247,
          0.6091276718659735,
          0.6120078968760888,
          0.6169820027688047,
          0.6097589110624063,
          0.5851038991361195,
          0.6130549500975105,
          0.6108340099756409,
          0.6133271846898778,
          0.6107452339688042,
          0.6027906976744185,
          0.6130525341356168,
          0.6145509051078057,
          0.6129403638038222,
          0.6137748648959411
         ],
         "type": "scatter"
        },
        {
         "name": "Best Value",
         "x": [
          0,
          1,
          2,
          3,
          4,
          5,
          6,
          7,
          8,
          9,
          10,
          11,
          12,
          13,
          14,
          15,
          16,
          17,
          18,
          19,
          20,
          21,
          22,
          23,
          24,
          25,
          26,
          27,
          28,
          29,
          30,
          31,
          32,
          33,
          34,
          35,
          36,
          37,
          38,
          39,
          40,
          41,
          42,
          43,
          44,
          45,
          46,
          47,
          48,
          49,
          50,
          51,
          52,
          53,
          54,
          55,
          56,
          57,
          58,
          59,
          60,
          61,
          62,
          63,
          64,
          65,
          66,
          67,
          68,
          69,
          70,
          71,
          72,
          73,
          74,
          75,
          76,
          77,
          78,
          79,
          80,
          81,
          82,
          83,
          84,
          85,
          86,
          87,
          88,
          89,
          90,
          91,
          92,
          93,
          94,
          95,
          96,
          97,
          98,
          99
         ],
         "y": [
          0.5032068412613575,
          0.5852472961477702,
          0.5852472961477702,
          0.5990214352283317,
          0.5990214352283317,
          0.6038264115725619,
          0.6141750491386286,
          0.6141750491386286,
          0.6141750491386286,
          0.6141750491386286,
          0.6141750491386286,
          0.6157561817136284,
          0.6157561817136284,
          0.6157561817136284,
          0.6157561817136284,
          0.6168936072005539,
          0.6168936072005539,
          0.6168936072005539,
          0.6168936072005539,
          0.6168936072005539,
          0.6168936072005539,
          0.6168936072005539,
          0.6168936072005539,
          0.6168936072005539,
          0.6168936072005539,
          0.6168936072005539,
          0.6168936072005539,
          0.6168936072005539,
          0.6168936072005539,
          0.6168936072005539,
          0.6168936072005539,
          0.6168936072005539,
          0.6168936072005539,
          0.6168936072005539,
          0.6168936072005539,
          0.6168936072005539,
          0.6168936072005539,
          0.6168936072005539,
          0.6168936072005539,
          0.6168936072005539,
          0.6168936072005539,
          0.6168936072005539,
          0.6168936072005539,
          0.6168936072005539,
          0.6168936072005539,
          0.6168936072005539,
          0.6168936072005539,
          0.6168936072005539,
          0.6170188199976907,
          0.6170188199976907,
          0.6170188199976907,
          0.6170188199976907,
          0.6170188199976907,
          0.6170188199976907,
          0.6170188199976907,
          0.6170188199976907,
          0.6170188199976907,
          0.6170188199976907,
          0.6170188199976907,
          0.6170188199976907,
          0.6170188199976907,
          0.6170188199976907,
          0.6170188199976907,
          0.6170188199976907,
          0.6170188199976907,
          0.6170188199976907,
          0.6170188199976907,
          0.6170188199976907,
          0.6170188199976907,
          0.6170188199976907,
          0.6170188199976907,
          0.6170188199976907,
          0.6170188199976907,
          0.6170188199976907,
          0.6170188199976907,
          0.6170188199976907,
          0.6197701149425288,
          0.6197701149425288,
          0.6197701149425288,
          0.6197701149425288,
          0.6197701149425288,
          0.6197701149425288,
          0.6197701149425288,
          0.6197701149425288,
          0.6197701149425288,
          0.6197701149425288,
          0.6197701149425288,
          0.6197701149425288,
          0.6197701149425288,
          0.6197701149425288,
          0.6197701149425288,
          0.6197701149425288,
          0.6197701149425288,
          0.6197701149425288,
          0.6197701149425288,
          0.6197701149425288,
          0.6197701149425288,
          0.6197701149425288,
          0.6197701149425288,
          0.6197701149425288
         ],
         "type": "scatter"
        }
       ],
       "layout": {
        "title": {
         "text": "Optimization History Plot"
        },
        "xaxis": {
         "title": {
          "text": "Trial"
         }
        },
        "yaxis": {
         "title": {
          "text": "Objective Value"
         }
        },
        "template": {
         "data": {
          "histogram2dcontour": [
           {
            "type": "histogram2dcontour",
            "colorbar": {
             "outlinewidth": 0,
             "ticks": ""
            },
            "colorscale": [
             [
              0.0,
              "#0d0887"
             ],
             [
              0.1111111111111111,
              "#46039f"
             ],
             [
              0.2222222222222222,
              "#7201a8"
             ],
             [
              0.3333333333333333,
              "#9c179e"
             ],
             [
              0.4444444444444444,
              "#bd3786"
             ],
             [
              0.5555555555555556,
              "#d8576b"
             ],
             [
              0.6666666666666666,
              "#ed7953"
             ],
             [
              0.7777777777777778,
              "#fb9f3a"
             ],
             [
              0.8888888888888888,
              "#fdca26"
             ],
             [
              1.0,
              "#f0f921"
             ]
            ]
           }
          ],
          "choropleth": [
           {
            "type": "choropleth",
            "colorbar": {
             "outlinewidth": 0,
             "ticks": ""
            }
           }
          ],
          "histogram2d": [
           {
            "type": "histogram2d",
            "colorbar": {
             "outlinewidth": 0,
             "ticks": ""
            },
            "colorscale": [
             [
              0.0,
              "#0d0887"
             ],
             [
              0.1111111111111111,
              "#46039f"
             ],
             [
              0.2222222222222222,
              "#7201a8"
             ],
             [
              0.3333333333333333,
              "#9c179e"
             ],
             [
              0.4444444444444444,
              "#bd3786"
             ],
             [
              0.5555555555555556,
              "#d8576b"
             ],
             [
              0.6666666666666666,
              "#ed7953"
             ],
             [
              0.7777777777777778,
              "#fb9f3a"
             ],
             [
              0.8888888888888888,
              "#fdca26"
             ],
             [
              1.0,
              "#f0f921"
             ]
            ]
           }
          ],
          "heatmap": [
           {
            "type": "heatmap",
            "colorbar": {
             "outlinewidth": 0,
             "ticks": ""
            },
            "colorscale": [
             [
              0.0,
              "#0d0887"
             ],
             [
              0.1111111111111111,
              "#46039f"
             ],
             [
              0.2222222222222222,
              "#7201a8"
             ],
             [
              0.3333333333333333,
              "#9c179e"
             ],
             [
              0.4444444444444444,
              "#bd3786"
             ],
             [
              0.5555555555555556,
              "#d8576b"
             ],
             [
              0.6666666666666666,
              "#ed7953"
             ],
             [
              0.7777777777777778,
              "#fb9f3a"
             ],
             [
              0.8888888888888888,
              "#fdca26"
             ],
             [
              1.0,
              "#f0f921"
             ]
            ]
           }
          ],
          "heatmapgl": [
           {
            "type": "heatmapgl",
            "colorbar": {
             "outlinewidth": 0,
             "ticks": ""
            },
            "colorscale": [
             [
              0.0,
              "#0d0887"
             ],
             [
              0.1111111111111111,
              "#46039f"
             ],
             [
              0.2222222222222222,
              "#7201a8"
             ],
             [
              0.3333333333333333,
              "#9c179e"
             ],
             [
              0.4444444444444444,
              "#bd3786"
             ],
             [
              0.5555555555555556,
              "#d8576b"
             ],
             [
              0.6666666666666666,
              "#ed7953"
             ],
             [
              0.7777777777777778,
              "#fb9f3a"
             ],
             [
              0.8888888888888888,
              "#fdca26"
             ],
             [
              1.0,
              "#f0f921"
             ]
            ]
           }
          ],
          "contourcarpet": [
           {
            "type": "contourcarpet",
            "colorbar": {
             "outlinewidth": 0,
             "ticks": ""
            }
           }
          ],
          "contour": [
           {
            "type": "contour",
            "colorbar": {
             "outlinewidth": 0,
             "ticks": ""
            },
            "colorscale": [
             [
              0.0,
              "#0d0887"
             ],
             [
              0.1111111111111111,
              "#46039f"
             ],
             [
              0.2222222222222222,
              "#7201a8"
             ],
             [
              0.3333333333333333,
              "#9c179e"
             ],
             [
              0.4444444444444444,
              "#bd3786"
             ],
             [
              0.5555555555555556,
              "#d8576b"
             ],
             [
              0.6666666666666666,
              "#ed7953"
             ],
             [
              0.7777777777777778,
              "#fb9f3a"
             ],
             [
              0.8888888888888888,
              "#fdca26"
             ],
             [
              1.0,
              "#f0f921"
             ]
            ]
           }
          ],
          "surface": [
           {
            "type": "surface",
            "colorbar": {
             "outlinewidth": 0,
             "ticks": ""
            },
            "colorscale": [
             [
              0.0,
              "#0d0887"
             ],
             [
              0.1111111111111111,
              "#46039f"
             ],
             [
              0.2222222222222222,
              "#7201a8"
             ],
             [
              0.3333333333333333,
              "#9c179e"
             ],
             [
              0.4444444444444444,
              "#bd3786"
             ],
             [
              0.5555555555555556,
              "#d8576b"
             ],
             [
              0.6666666666666666,
              "#ed7953"
             ],
             [
              0.7777777777777778,
              "#fb9f3a"
             ],
             [
              0.8888888888888888,
              "#fdca26"
             ],
             [
              1.0,
              "#f0f921"
             ]
            ]
           }
          ],
          "mesh3d": [
           {
            "type": "mesh3d",
            "colorbar": {
             "outlinewidth": 0,
             "ticks": ""
            }
           }
          ],
          "scatter": [
           {
            "fillpattern": {
             "fillmode": "overlay",
             "size": 10,
             "solidity": 0.2
            },
            "type": "scatter"
           }
          ],
          "parcoords": [
           {
            "type": "parcoords",
            "line": {
             "colorbar": {
              "outlinewidth": 0,
              "ticks": ""
             }
            }
           }
          ],
          "scatterpolargl": [
           {
            "type": "scatterpolargl",
            "marker": {
             "colorbar": {
              "outlinewidth": 0,
              "ticks": ""
             }
            }
           }
          ],
          "bar": [
           {
            "error_x": {
             "color": "#2a3f5f"
            },
            "error_y": {
             "color": "#2a3f5f"
            },
            "marker": {
             "line": {
              "color": "#E5ECF6",
              "width": 0.5
             },
             "pattern": {
              "fillmode": "overlay",
              "size": 10,
              "solidity": 0.2
             }
            },
            "type": "bar"
           }
          ],
          "scattergeo": [
           {
            "type": "scattergeo",
            "marker": {
             "colorbar": {
              "outlinewidth": 0,
              "ticks": ""
             }
            }
           }
          ],
          "scatterpolar": [
           {
            "type": "scatterpolar",
            "marker": {
             "colorbar": {
              "outlinewidth": 0,
              "ticks": ""
             }
            }
           }
          ],
          "histogram": [
           {
            "marker": {
             "pattern": {
              "fillmode": "overlay",
              "size": 10,
              "solidity": 0.2
             }
            },
            "type": "histogram"
           }
          ],
          "scattergl": [
           {
            "type": "scattergl",
            "marker": {
             "colorbar": {
              "outlinewidth": 0,
              "ticks": ""
             }
            }
           }
          ],
          "scatter3d": [
           {
            "type": "scatter3d",
            "line": {
             "colorbar": {
              "outlinewidth": 0,
              "ticks": ""
             }
            },
            "marker": {
             "colorbar": {
              "outlinewidth": 0,
              "ticks": ""
             }
            }
           }
          ],
          "scattermapbox": [
           {
            "type": "scattermapbox",
            "marker": {
             "colorbar": {
              "outlinewidth": 0,
              "ticks": ""
             }
            }
           }
          ],
          "scatterternary": [
           {
            "type": "scatterternary",
            "marker": {
             "colorbar": {
              "outlinewidth": 0,
              "ticks": ""
             }
            }
           }
          ],
          "scattercarpet": [
           {
            "type": "scattercarpet",
            "marker": {
             "colorbar": {
              "outlinewidth": 0,
              "ticks": ""
             }
            }
           }
          ],
          "carpet": [
           {
            "aaxis": {
             "endlinecolor": "#2a3f5f",
             "gridcolor": "white",
             "linecolor": "white",
             "minorgridcolor": "white",
             "startlinecolor": "#2a3f5f"
            },
            "baxis": {
             "endlinecolor": "#2a3f5f",
             "gridcolor": "white",
             "linecolor": "white",
             "minorgridcolor": "white",
             "startlinecolor": "#2a3f5f"
            },
            "type": "carpet"
           }
          ],
          "table": [
           {
            "cells": {
             "fill": {
              "color": "#EBF0F8"
             },
             "line": {
              "color": "white"
             }
            },
            "header": {
             "fill": {
              "color": "#C8D4E3"
             },
             "line": {
              "color": "white"
             }
            },
            "type": "table"
           }
          ],
          "barpolar": [
           {
            "marker": {
             "line": {
              "color": "#E5ECF6",
              "width": 0.5
             },
             "pattern": {
              "fillmode": "overlay",
              "size": 10,
              "solidity": 0.2
             }
            },
            "type": "barpolar"
           }
          ],
          "pie": [
           {
            "automargin": true,
            "type": "pie"
           }
          ]
         },
         "layout": {
          "autotypenumbers": "strict",
          "colorway": [
           "#636efa",
           "#EF553B",
           "#00cc96",
           "#ab63fa",
           "#FFA15A",
           "#19d3f3",
           "#FF6692",
           "#B6E880",
           "#FF97FF",
           "#FECB52"
          ],
          "font": {
           "color": "#2a3f5f"
          },
          "hovermode": "closest",
          "hoverlabel": {
           "align": "left"
          },
          "paper_bgcolor": "white",
          "plot_bgcolor": "#E5ECF6",
          "polar": {
           "bgcolor": "#E5ECF6",
           "angularaxis": {
            "gridcolor": "white",
            "linecolor": "white",
            "ticks": ""
           },
           "radialaxis": {
            "gridcolor": "white",
            "linecolor": "white",
            "ticks": ""
           }
          },
          "ternary": {
           "bgcolor": "#E5ECF6",
           "aaxis": {
            "gridcolor": "white",
            "linecolor": "white",
            "ticks": ""
           },
           "baxis": {
            "gridcolor": "white",
            "linecolor": "white",
            "ticks": ""
           },
           "caxis": {
            "gridcolor": "white",
            "linecolor": "white",
            "ticks": ""
           }
          },
          "coloraxis": {
           "colorbar": {
            "outlinewidth": 0,
            "ticks": ""
           }
          },
          "colorscale": {
           "sequential": [
            [
             0.0,
             "#0d0887"
            ],
            [
             0.1111111111111111,
             "#46039f"
            ],
            [
             0.2222222222222222,
             "#7201a8"
            ],
            [
             0.3333333333333333,
             "#9c179e"
            ],
            [
             0.4444444444444444,
             "#bd3786"
            ],
            [
             0.5555555555555556,
             "#d8576b"
            ],
            [
             0.6666666666666666,
             "#ed7953"
            ],
            [
             0.7777777777777778,
             "#fb9f3a"
            ],
            [
             0.8888888888888888,
             "#fdca26"
            ],
            [
             1.0,
             "#f0f921"
            ]
           ],
           "sequentialminus": [
            [
             0.0,
             "#0d0887"
            ],
            [
             0.1111111111111111,
             "#46039f"
            ],
            [
             0.2222222222222222,
             "#7201a8"
            ],
            [
             0.3333333333333333,
             "#9c179e"
            ],
            [
             0.4444444444444444,
             "#bd3786"
            ],
            [
             0.5555555555555556,
             "#d8576b"
            ],
            [
             0.6666666666666666,
             "#ed7953"
            ],
            [
             0.7777777777777778,
             "#fb9f3a"
            ],
            [
             0.8888888888888888,
             "#fdca26"
            ],
            [
             1.0,
             "#f0f921"
            ]
           ],
           "diverging": [
            [
             0,
             "#8e0152"
            ],
            [
             0.1,
             "#c51b7d"
            ],
            [
             0.2,
             "#de77ae"
            ],
            [
             0.3,
             "#f1b6da"
            ],
            [
             0.4,
             "#fde0ef"
            ],
            [
             0.5,
             "#f7f7f7"
            ],
            [
             0.6,
             "#e6f5d0"
            ],
            [
             0.7,
             "#b8e186"
            ],
            [
             0.8,
             "#7fbc41"
            ],
            [
             0.9,
             "#4d9221"
            ],
            [
             1,
             "#276419"
            ]
           ]
          },
          "xaxis": {
           "gridcolor": "white",
           "linecolor": "white",
           "ticks": "",
           "title": {
            "standoff": 15
           },
           "zerolinecolor": "white",
           "automargin": true,
           "zerolinewidth": 2
          },
          "yaxis": {
           "gridcolor": "white",
           "linecolor": "white",
           "ticks": "",
           "title": {
            "standoff": 15
           },
           "zerolinecolor": "white",
           "automargin": true,
           "zerolinewidth": 2
          },
          "scene": {
           "xaxis": {
            "backgroundcolor": "#E5ECF6",
            "gridcolor": "white",
            "linecolor": "white",
            "showbackground": true,
            "ticks": "",
            "zerolinecolor": "white",
            "gridwidth": 2
           },
           "yaxis": {
            "backgroundcolor": "#E5ECF6",
            "gridcolor": "white",
            "linecolor": "white",
            "showbackground": true,
            "ticks": "",
            "zerolinecolor": "white",
            "gridwidth": 2
           },
           "zaxis": {
            "backgroundcolor": "#E5ECF6",
            "gridcolor": "white",
            "linecolor": "white",
            "showbackground": true,
            "ticks": "",
            "zerolinecolor": "white",
            "gridwidth": 2
           }
          },
          "shapedefaults": {
           "line": {
            "color": "#2a3f5f"
           }
          },
          "annotationdefaults": {
           "arrowcolor": "#2a3f5f",
           "arrowhead": 0,
           "arrowwidth": 1
          },
          "geo": {
           "bgcolor": "white",
           "landcolor": "#E5ECF6",
           "subunitcolor": "white",
           "showland": true,
           "showlakes": true,
           "lakecolor": "white"
          },
          "title": {
           "x": 0.05
          },
          "mapbox": {
           "style": "light"
          }
         }
        }
       },
       "config": {
        "plotlyServerURL": "https://plot.ly"
       }
      },
      "text/html": "<div>                            <div id=\"00141aca-45d2-485a-9f80-5e27dd765f50\" class=\"plotly-graph-div\" style=\"height:525px; width:100%;\"></div>            <script type=\"text/javascript\">                require([\"plotly\"], function(Plotly) {                    window.PLOTLYENV=window.PLOTLYENV || {};                                    if (document.getElementById(\"00141aca-45d2-485a-9f80-5e27dd765f50\")) {                    Plotly.newPlot(                        \"00141aca-45d2-485a-9f80-5e27dd765f50\",                        [{\"mode\":\"markers\",\"name\":\"Objective Value\",\"x\":[0,1,2,3,4,5,6,7,8,9,10,11,12,13,14,15,16,17,18,19,20,21,22,23,24,25,26,27,28,29,30,31,32,33,34,35,36,37,38,39,40,41,42,43,44,45,46,47,48,49,50,51,52,53,54,55,56,57,58,59,60,61,62,63,64,65,66,67,68,69,70,71,72,73,74,75,76,77,78,79,80,81,82,83,84,85,86,87,88,89,90,91,92,93,94,95,96,97,98,99],\"y\":[0.5032068412613575,0.5852472961477702,0.5689025109041612,0.5990214352283317,0.5641025641025641,0.6038264115725619,0.6141750491386286,0.5690168818272096,0.5910357640501626,0.5979769466007998,0.6110982658959537,0.6157561817136284,0.6124523506988565,0.6073505466387532,0.547181923225061,0.6168936072005539,0.6111689212625737,0.6,0.6089655172413794,0.602822114272496,0.6092515109251511,0.6095282039450917,0.6127101082201244,0.6146757286026956,0.6022740593130935,0.6042642924086223,0.611670480549199,0.6118055555555556,0.6085356033590245,0.6079090803664617,0.5588641789169494,0.6130259365994237,0.605911905596448,0.588021778584392,0.5816549660490274,0.6124280782508631,0.6082236082236082,0.6123112659698026,0.5951277480689245,0.6107701215981471,0.5886303669944831,0.6138431417712773,0.6108922363847045,0.6063558339132452,0.6127659574468085,0.6134841837912722,0.6062587575899113,0.6118275822005345,0.6170188199976907,0.604062681369704,0.6119558908879861,0.6131370067870701,0.6118710874101554,0.6159678345778288,0.6123942373656529,0.6080594588317269,0.611640454597635,0.6088056098402116,0.6111367837338262,0.6093913043478261,0.6099142923326384,0.611620085817001,0.6152249134948098,0.610231286316509,0.6137042998390434,0.61427260211106,0.6143595634692706,0.6110276268639463,0.6045210906548589,0.6126954921803128,0.6096938775510204,0.6133973479652491,0.616304472806715,0.6103221337028057,0.6166934927569556,0.615863500115287,0.6197701149425288,0.6160776160776161,0.6153669197147458,0.6160249739854319,0.6160560468588492,0.6151549942594718,0.6144619997693461,0.6117376294591483,0.610294968189705,0.6182615722036247,0.6091276718659735,0.6120078968760888,0.6169820027688047,0.6097589110624063,0.5851038991361195,0.6130549500975105,0.6108340099756409,0.6133271846898778,0.6107452339688042,0.6027906976744185,0.6130525341356168,0.6145509051078057,0.6129403638038222,0.6137748648959411],\"type\":\"scatter\"},{\"name\":\"Best Value\",\"x\":[0,1,2,3,4,5,6,7,8,9,10,11,12,13,14,15,16,17,18,19,20,21,22,23,24,25,26,27,28,29,30,31,32,33,34,35,36,37,38,39,40,41,42,43,44,45,46,47,48,49,50,51,52,53,54,55,56,57,58,59,60,61,62,63,64,65,66,67,68,69,70,71,72,73,74,75,76,77,78,79,80,81,82,83,84,85,86,87,88,89,90,91,92,93,94,95,96,97,98,99],\"y\":[0.5032068412613575,0.5852472961477702,0.5852472961477702,0.5990214352283317,0.5990214352283317,0.6038264115725619,0.6141750491386286,0.6141750491386286,0.6141750491386286,0.6141750491386286,0.6141750491386286,0.6157561817136284,0.6157561817136284,0.6157561817136284,0.6157561817136284,0.6168936072005539,0.6168936072005539,0.6168936072005539,0.6168936072005539,0.6168936072005539,0.6168936072005539,0.6168936072005539,0.6168936072005539,0.6168936072005539,0.6168936072005539,0.6168936072005539,0.6168936072005539,0.6168936072005539,0.6168936072005539,0.6168936072005539,0.6168936072005539,0.6168936072005539,0.6168936072005539,0.6168936072005539,0.6168936072005539,0.6168936072005539,0.6168936072005539,0.6168936072005539,0.6168936072005539,0.6168936072005539,0.6168936072005539,0.6168936072005539,0.6168936072005539,0.6168936072005539,0.6168936072005539,0.6168936072005539,0.6168936072005539,0.6168936072005539,0.6170188199976907,0.6170188199976907,0.6170188199976907,0.6170188199976907,0.6170188199976907,0.6170188199976907,0.6170188199976907,0.6170188199976907,0.6170188199976907,0.6170188199976907,0.6170188199976907,0.6170188199976907,0.6170188199976907,0.6170188199976907,0.6170188199976907,0.6170188199976907,0.6170188199976907,0.6170188199976907,0.6170188199976907,0.6170188199976907,0.6170188199976907,0.6170188199976907,0.6170188199976907,0.6170188199976907,0.6170188199976907,0.6170188199976907,0.6170188199976907,0.6170188199976907,0.6197701149425288,0.6197701149425288,0.6197701149425288,0.6197701149425288,0.6197701149425288,0.6197701149425288,0.6197701149425288,0.6197701149425288,0.6197701149425288,0.6197701149425288,0.6197701149425288,0.6197701149425288,0.6197701149425288,0.6197701149425288,0.6197701149425288,0.6197701149425288,0.6197701149425288,0.6197701149425288,0.6197701149425288,0.6197701149425288,0.6197701149425288,0.6197701149425288,0.6197701149425288,0.6197701149425288],\"type\":\"scatter\"}],                        {\"title\":{\"text\":\"Optimization History Plot\"},\"xaxis\":{\"title\":{\"text\":\"Trial\"}},\"yaxis\":{\"title\":{\"text\":\"Objective Value\"}},\"template\":{\"data\":{\"histogram2dcontour\":[{\"type\":\"histogram2dcontour\",\"colorbar\":{\"outlinewidth\":0,\"ticks\":\"\"},\"colorscale\":[[0.0,\"#0d0887\"],[0.1111111111111111,\"#46039f\"],[0.2222222222222222,\"#7201a8\"],[0.3333333333333333,\"#9c179e\"],[0.4444444444444444,\"#bd3786\"],[0.5555555555555556,\"#d8576b\"],[0.6666666666666666,\"#ed7953\"],[0.7777777777777778,\"#fb9f3a\"],[0.8888888888888888,\"#fdca26\"],[1.0,\"#f0f921\"]]}],\"choropleth\":[{\"type\":\"choropleth\",\"colorbar\":{\"outlinewidth\":0,\"ticks\":\"\"}}],\"histogram2d\":[{\"type\":\"histogram2d\",\"colorbar\":{\"outlinewidth\":0,\"ticks\":\"\"},\"colorscale\":[[0.0,\"#0d0887\"],[0.1111111111111111,\"#46039f\"],[0.2222222222222222,\"#7201a8\"],[0.3333333333333333,\"#9c179e\"],[0.4444444444444444,\"#bd3786\"],[0.5555555555555556,\"#d8576b\"],[0.6666666666666666,\"#ed7953\"],[0.7777777777777778,\"#fb9f3a\"],[0.8888888888888888,\"#fdca26\"],[1.0,\"#f0f921\"]]}],\"heatmap\":[{\"type\":\"heatmap\",\"colorbar\":{\"outlinewidth\":0,\"ticks\":\"\"},\"colorscale\":[[0.0,\"#0d0887\"],[0.1111111111111111,\"#46039f\"],[0.2222222222222222,\"#7201a8\"],[0.3333333333333333,\"#9c179e\"],[0.4444444444444444,\"#bd3786\"],[0.5555555555555556,\"#d8576b\"],[0.6666666666666666,\"#ed7953\"],[0.7777777777777778,\"#fb9f3a\"],[0.8888888888888888,\"#fdca26\"],[1.0,\"#f0f921\"]]}],\"heatmapgl\":[{\"type\":\"heatmapgl\",\"colorbar\":{\"outlinewidth\":0,\"ticks\":\"\"},\"colorscale\":[[0.0,\"#0d0887\"],[0.1111111111111111,\"#46039f\"],[0.2222222222222222,\"#7201a8\"],[0.3333333333333333,\"#9c179e\"],[0.4444444444444444,\"#bd3786\"],[0.5555555555555556,\"#d8576b\"],[0.6666666666666666,\"#ed7953\"],[0.7777777777777778,\"#fb9f3a\"],[0.8888888888888888,\"#fdca26\"],[1.0,\"#f0f921\"]]}],\"contourcarpet\":[{\"type\":\"contourcarpet\",\"colorbar\":{\"outlinewidth\":0,\"ticks\":\"\"}}],\"contour\":[{\"type\":\"contour\",\"colorbar\":{\"outlinewidth\":0,\"ticks\":\"\"},\"colorscale\":[[0.0,\"#0d0887\"],[0.1111111111111111,\"#46039f\"],[0.2222222222222222,\"#7201a8\"],[0.3333333333333333,\"#9c179e\"],[0.4444444444444444,\"#bd3786\"],[0.5555555555555556,\"#d8576b\"],[0.6666666666666666,\"#ed7953\"],[0.7777777777777778,\"#fb9f3a\"],[0.8888888888888888,\"#fdca26\"],[1.0,\"#f0f921\"]]}],\"surface\":[{\"type\":\"surface\",\"colorbar\":{\"outlinewidth\":0,\"ticks\":\"\"},\"colorscale\":[[0.0,\"#0d0887\"],[0.1111111111111111,\"#46039f\"],[0.2222222222222222,\"#7201a8\"],[0.3333333333333333,\"#9c179e\"],[0.4444444444444444,\"#bd3786\"],[0.5555555555555556,\"#d8576b\"],[0.6666666666666666,\"#ed7953\"],[0.7777777777777778,\"#fb9f3a\"],[0.8888888888888888,\"#fdca26\"],[1.0,\"#f0f921\"]]}],\"mesh3d\":[{\"type\":\"mesh3d\",\"colorbar\":{\"outlinewidth\":0,\"ticks\":\"\"}}],\"scatter\":[{\"fillpattern\":{\"fillmode\":\"overlay\",\"size\":10,\"solidity\":0.2},\"type\":\"scatter\"}],\"parcoords\":[{\"type\":\"parcoords\",\"line\":{\"colorbar\":{\"outlinewidth\":0,\"ticks\":\"\"}}}],\"scatterpolargl\":[{\"type\":\"scatterpolargl\",\"marker\":{\"colorbar\":{\"outlinewidth\":0,\"ticks\":\"\"}}}],\"bar\":[{\"error_x\":{\"color\":\"#2a3f5f\"},\"error_y\":{\"color\":\"#2a3f5f\"},\"marker\":{\"line\":{\"color\":\"#E5ECF6\",\"width\":0.5},\"pattern\":{\"fillmode\":\"overlay\",\"size\":10,\"solidity\":0.2}},\"type\":\"bar\"}],\"scattergeo\":[{\"type\":\"scattergeo\",\"marker\":{\"colorbar\":{\"outlinewidth\":0,\"ticks\":\"\"}}}],\"scatterpolar\":[{\"type\":\"scatterpolar\",\"marker\":{\"colorbar\":{\"outlinewidth\":0,\"ticks\":\"\"}}}],\"histogram\":[{\"marker\":{\"pattern\":{\"fillmode\":\"overlay\",\"size\":10,\"solidity\":0.2}},\"type\":\"histogram\"}],\"scattergl\":[{\"type\":\"scattergl\",\"marker\":{\"colorbar\":{\"outlinewidth\":0,\"ticks\":\"\"}}}],\"scatter3d\":[{\"type\":\"scatter3d\",\"line\":{\"colorbar\":{\"outlinewidth\":0,\"ticks\":\"\"}},\"marker\":{\"colorbar\":{\"outlinewidth\":0,\"ticks\":\"\"}}}],\"scattermapbox\":[{\"type\":\"scattermapbox\",\"marker\":{\"colorbar\":{\"outlinewidth\":0,\"ticks\":\"\"}}}],\"scatterternary\":[{\"type\":\"scatterternary\",\"marker\":{\"colorbar\":{\"outlinewidth\":0,\"ticks\":\"\"}}}],\"scattercarpet\":[{\"type\":\"scattercarpet\",\"marker\":{\"colorbar\":{\"outlinewidth\":0,\"ticks\":\"\"}}}],\"carpet\":[{\"aaxis\":{\"endlinecolor\":\"#2a3f5f\",\"gridcolor\":\"white\",\"linecolor\":\"white\",\"minorgridcolor\":\"white\",\"startlinecolor\":\"#2a3f5f\"},\"baxis\":{\"endlinecolor\":\"#2a3f5f\",\"gridcolor\":\"white\",\"linecolor\":\"white\",\"minorgridcolor\":\"white\",\"startlinecolor\":\"#2a3f5f\"},\"type\":\"carpet\"}],\"table\":[{\"cells\":{\"fill\":{\"color\":\"#EBF0F8\"},\"line\":{\"color\":\"white\"}},\"header\":{\"fill\":{\"color\":\"#C8D4E3\"},\"line\":{\"color\":\"white\"}},\"type\":\"table\"}],\"barpolar\":[{\"marker\":{\"line\":{\"color\":\"#E5ECF6\",\"width\":0.5},\"pattern\":{\"fillmode\":\"overlay\",\"size\":10,\"solidity\":0.2}},\"type\":\"barpolar\"}],\"pie\":[{\"automargin\":true,\"type\":\"pie\"}]},\"layout\":{\"autotypenumbers\":\"strict\",\"colorway\":[\"#636efa\",\"#EF553B\",\"#00cc96\",\"#ab63fa\",\"#FFA15A\",\"#19d3f3\",\"#FF6692\",\"#B6E880\",\"#FF97FF\",\"#FECB52\"],\"font\":{\"color\":\"#2a3f5f\"},\"hovermode\":\"closest\",\"hoverlabel\":{\"align\":\"left\"},\"paper_bgcolor\":\"white\",\"plot_bgcolor\":\"#E5ECF6\",\"polar\":{\"bgcolor\":\"#E5ECF6\",\"angularaxis\":{\"gridcolor\":\"white\",\"linecolor\":\"white\",\"ticks\":\"\"},\"radialaxis\":{\"gridcolor\":\"white\",\"linecolor\":\"white\",\"ticks\":\"\"}},\"ternary\":{\"bgcolor\":\"#E5ECF6\",\"aaxis\":{\"gridcolor\":\"white\",\"linecolor\":\"white\",\"ticks\":\"\"},\"baxis\":{\"gridcolor\":\"white\",\"linecolor\":\"white\",\"ticks\":\"\"},\"caxis\":{\"gridcolor\":\"white\",\"linecolor\":\"white\",\"ticks\":\"\"}},\"coloraxis\":{\"colorbar\":{\"outlinewidth\":0,\"ticks\":\"\"}},\"colorscale\":{\"sequential\":[[0.0,\"#0d0887\"],[0.1111111111111111,\"#46039f\"],[0.2222222222222222,\"#7201a8\"],[0.3333333333333333,\"#9c179e\"],[0.4444444444444444,\"#bd3786\"],[0.5555555555555556,\"#d8576b\"],[0.6666666666666666,\"#ed7953\"],[0.7777777777777778,\"#fb9f3a\"],[0.8888888888888888,\"#fdca26\"],[1.0,\"#f0f921\"]],\"sequentialminus\":[[0.0,\"#0d0887\"],[0.1111111111111111,\"#46039f\"],[0.2222222222222222,\"#7201a8\"],[0.3333333333333333,\"#9c179e\"],[0.4444444444444444,\"#bd3786\"],[0.5555555555555556,\"#d8576b\"],[0.6666666666666666,\"#ed7953\"],[0.7777777777777778,\"#fb9f3a\"],[0.8888888888888888,\"#fdca26\"],[1.0,\"#f0f921\"]],\"diverging\":[[0,\"#8e0152\"],[0.1,\"#c51b7d\"],[0.2,\"#de77ae\"],[0.3,\"#f1b6da\"],[0.4,\"#fde0ef\"],[0.5,\"#f7f7f7\"],[0.6,\"#e6f5d0\"],[0.7,\"#b8e186\"],[0.8,\"#7fbc41\"],[0.9,\"#4d9221\"],[1,\"#276419\"]]},\"xaxis\":{\"gridcolor\":\"white\",\"linecolor\":\"white\",\"ticks\":\"\",\"title\":{\"standoff\":15},\"zerolinecolor\":\"white\",\"automargin\":true,\"zerolinewidth\":2},\"yaxis\":{\"gridcolor\":\"white\",\"linecolor\":\"white\",\"ticks\":\"\",\"title\":{\"standoff\":15},\"zerolinecolor\":\"white\",\"automargin\":true,\"zerolinewidth\":2},\"scene\":{\"xaxis\":{\"backgroundcolor\":\"#E5ECF6\",\"gridcolor\":\"white\",\"linecolor\":\"white\",\"showbackground\":true,\"ticks\":\"\",\"zerolinecolor\":\"white\",\"gridwidth\":2},\"yaxis\":{\"backgroundcolor\":\"#E5ECF6\",\"gridcolor\":\"white\",\"linecolor\":\"white\",\"showbackground\":true,\"ticks\":\"\",\"zerolinecolor\":\"white\",\"gridwidth\":2},\"zaxis\":{\"backgroundcolor\":\"#E5ECF6\",\"gridcolor\":\"white\",\"linecolor\":\"white\",\"showbackground\":true,\"ticks\":\"\",\"zerolinecolor\":\"white\",\"gridwidth\":2}},\"shapedefaults\":{\"line\":{\"color\":\"#2a3f5f\"}},\"annotationdefaults\":{\"arrowcolor\":\"#2a3f5f\",\"arrowhead\":0,\"arrowwidth\":1},\"geo\":{\"bgcolor\":\"white\",\"landcolor\":\"#E5ECF6\",\"subunitcolor\":\"white\",\"showland\":true,\"showlakes\":true,\"lakecolor\":\"white\"},\"title\":{\"x\":0.05},\"mapbox\":{\"style\":\"light\"}}}},                        {\"responsive\": true}                    ).then(function(){\n                            \nvar gd = document.getElementById('00141aca-45d2-485a-9f80-5e27dd765f50');\nvar x = new MutationObserver(function (mutations, observer) {{\n        var display = window.getComputedStyle(gd).display;\n        if (!display || display === 'none') {{\n            console.log([gd, 'removed!']);\n            Plotly.purge(gd);\n            observer.disconnect();\n        }}\n}});\n\n// Listen for the removal of the full notebook cells\nvar notebookContainer = gd.closest('#notebook-container');\nif (notebookContainer) {{\n    x.observe(notebookContainer, {childList: true});\n}}\n\n// Listen for the clearing of the current output cell\nvar outputEl = gd.closest('.output');\nif (outputEl) {{\n    x.observe(outputEl, {childList: true});\n}}\n\n                        })                };                });            </script>        </div>"
     },
     "metadata": {},
     "output_type": "display_data"
    }
   ],
   "source": [
    "optuna.visualization.plot_optimization_history(studyLGBM) # 최적화 과정 시각화"
   ],
   "metadata": {
    "collapsed": false,
    "pycharm": {
     "name": "#%%\n"
    }
   }
  },
  {
   "cell_type": "code",
   "execution_count": 39,
   "outputs": [
    {
     "data": {
      "application/vnd.plotly.v1+json": {
       "data": [
        {
         "cliponaxis": false,
         "hovertemplate": [
          "min_child_samples (IntDistribution): 0.008501930094603203<extra></extra>",
          "bagging_freq (IntDistribution): 0.019074960277829893<extra></extra>",
          "bagging_fraction (FloatDistribution): 0.10767050436578729<extra></extra>",
          "num_leaves (IntDistribution): 0.24463896094199322<extra></extra>",
          "feature_fraction (FloatDistribution): 0.6201136443197864<extra></extra>"
         ],
         "marker": {
          "color": "rgb(66,146,198)"
         },
         "orientation": "h",
         "text": [
          "<0.01",
          "0.02",
          "0.11",
          "0.24",
          "0.62"
         ],
         "textposition": "outside",
         "x": [
          0.008501930094603203,
          0.019074960277829893,
          0.10767050436578729,
          0.24463896094199322,
          0.6201136443197864
         ],
         "y": [
          "min_child_samples",
          "bagging_freq",
          "bagging_fraction",
          "num_leaves",
          "feature_fraction"
         ],
         "type": "bar"
        }
       ],
       "layout": {
        "showlegend": false,
        "title": {
         "text": "Hyperparameter Importances"
        },
        "xaxis": {
         "title": {
          "text": "Importance for Objective Value"
         }
        },
        "yaxis": {
         "title": {
          "text": "Hyperparameter"
         }
        },
        "template": {
         "data": {
          "histogram2dcontour": [
           {
            "type": "histogram2dcontour",
            "colorbar": {
             "outlinewidth": 0,
             "ticks": ""
            },
            "colorscale": [
             [
              0.0,
              "#0d0887"
             ],
             [
              0.1111111111111111,
              "#46039f"
             ],
             [
              0.2222222222222222,
              "#7201a8"
             ],
             [
              0.3333333333333333,
              "#9c179e"
             ],
             [
              0.4444444444444444,
              "#bd3786"
             ],
             [
              0.5555555555555556,
              "#d8576b"
             ],
             [
              0.6666666666666666,
              "#ed7953"
             ],
             [
              0.7777777777777778,
              "#fb9f3a"
             ],
             [
              0.8888888888888888,
              "#fdca26"
             ],
             [
              1.0,
              "#f0f921"
             ]
            ]
           }
          ],
          "choropleth": [
           {
            "type": "choropleth",
            "colorbar": {
             "outlinewidth": 0,
             "ticks": ""
            }
           }
          ],
          "histogram2d": [
           {
            "type": "histogram2d",
            "colorbar": {
             "outlinewidth": 0,
             "ticks": ""
            },
            "colorscale": [
             [
              0.0,
              "#0d0887"
             ],
             [
              0.1111111111111111,
              "#46039f"
             ],
             [
              0.2222222222222222,
              "#7201a8"
             ],
             [
              0.3333333333333333,
              "#9c179e"
             ],
             [
              0.4444444444444444,
              "#bd3786"
             ],
             [
              0.5555555555555556,
              "#d8576b"
             ],
             [
              0.6666666666666666,
              "#ed7953"
             ],
             [
              0.7777777777777778,
              "#fb9f3a"
             ],
             [
              0.8888888888888888,
              "#fdca26"
             ],
             [
              1.0,
              "#f0f921"
             ]
            ]
           }
          ],
          "heatmap": [
           {
            "type": "heatmap",
            "colorbar": {
             "outlinewidth": 0,
             "ticks": ""
            },
            "colorscale": [
             [
              0.0,
              "#0d0887"
             ],
             [
              0.1111111111111111,
              "#46039f"
             ],
             [
              0.2222222222222222,
              "#7201a8"
             ],
             [
              0.3333333333333333,
              "#9c179e"
             ],
             [
              0.4444444444444444,
              "#bd3786"
             ],
             [
              0.5555555555555556,
              "#d8576b"
             ],
             [
              0.6666666666666666,
              "#ed7953"
             ],
             [
              0.7777777777777778,
              "#fb9f3a"
             ],
             [
              0.8888888888888888,
              "#fdca26"
             ],
             [
              1.0,
              "#f0f921"
             ]
            ]
           }
          ],
          "heatmapgl": [
           {
            "type": "heatmapgl",
            "colorbar": {
             "outlinewidth": 0,
             "ticks": ""
            },
            "colorscale": [
             [
              0.0,
              "#0d0887"
             ],
             [
              0.1111111111111111,
              "#46039f"
             ],
             [
              0.2222222222222222,
              "#7201a8"
             ],
             [
              0.3333333333333333,
              "#9c179e"
             ],
             [
              0.4444444444444444,
              "#bd3786"
             ],
             [
              0.5555555555555556,
              "#d8576b"
             ],
             [
              0.6666666666666666,
              "#ed7953"
             ],
             [
              0.7777777777777778,
              "#fb9f3a"
             ],
             [
              0.8888888888888888,
              "#fdca26"
             ],
             [
              1.0,
              "#f0f921"
             ]
            ]
           }
          ],
          "contourcarpet": [
           {
            "type": "contourcarpet",
            "colorbar": {
             "outlinewidth": 0,
             "ticks": ""
            }
           }
          ],
          "contour": [
           {
            "type": "contour",
            "colorbar": {
             "outlinewidth": 0,
             "ticks": ""
            },
            "colorscale": [
             [
              0.0,
              "#0d0887"
             ],
             [
              0.1111111111111111,
              "#46039f"
             ],
             [
              0.2222222222222222,
              "#7201a8"
             ],
             [
              0.3333333333333333,
              "#9c179e"
             ],
             [
              0.4444444444444444,
              "#bd3786"
             ],
             [
              0.5555555555555556,
              "#d8576b"
             ],
             [
              0.6666666666666666,
              "#ed7953"
             ],
             [
              0.7777777777777778,
              "#fb9f3a"
             ],
             [
              0.8888888888888888,
              "#fdca26"
             ],
             [
              1.0,
              "#f0f921"
             ]
            ]
           }
          ],
          "surface": [
           {
            "type": "surface",
            "colorbar": {
             "outlinewidth": 0,
             "ticks": ""
            },
            "colorscale": [
             [
              0.0,
              "#0d0887"
             ],
             [
              0.1111111111111111,
              "#46039f"
             ],
             [
              0.2222222222222222,
              "#7201a8"
             ],
             [
              0.3333333333333333,
              "#9c179e"
             ],
             [
              0.4444444444444444,
              "#bd3786"
             ],
             [
              0.5555555555555556,
              "#d8576b"
             ],
             [
              0.6666666666666666,
              "#ed7953"
             ],
             [
              0.7777777777777778,
              "#fb9f3a"
             ],
             [
              0.8888888888888888,
              "#fdca26"
             ],
             [
              1.0,
              "#f0f921"
             ]
            ]
           }
          ],
          "mesh3d": [
           {
            "type": "mesh3d",
            "colorbar": {
             "outlinewidth": 0,
             "ticks": ""
            }
           }
          ],
          "scatter": [
           {
            "fillpattern": {
             "fillmode": "overlay",
             "size": 10,
             "solidity": 0.2
            },
            "type": "scatter"
           }
          ],
          "parcoords": [
           {
            "type": "parcoords",
            "line": {
             "colorbar": {
              "outlinewidth": 0,
              "ticks": ""
             }
            }
           }
          ],
          "scatterpolargl": [
           {
            "type": "scatterpolargl",
            "marker": {
             "colorbar": {
              "outlinewidth": 0,
              "ticks": ""
             }
            }
           }
          ],
          "bar": [
           {
            "error_x": {
             "color": "#2a3f5f"
            },
            "error_y": {
             "color": "#2a3f5f"
            },
            "marker": {
             "line": {
              "color": "#E5ECF6",
              "width": 0.5
             },
             "pattern": {
              "fillmode": "overlay",
              "size": 10,
              "solidity": 0.2
             }
            },
            "type": "bar"
           }
          ],
          "scattergeo": [
           {
            "type": "scattergeo",
            "marker": {
             "colorbar": {
              "outlinewidth": 0,
              "ticks": ""
             }
            }
           }
          ],
          "scatterpolar": [
           {
            "type": "scatterpolar",
            "marker": {
             "colorbar": {
              "outlinewidth": 0,
              "ticks": ""
             }
            }
           }
          ],
          "histogram": [
           {
            "marker": {
             "pattern": {
              "fillmode": "overlay",
              "size": 10,
              "solidity": 0.2
             }
            },
            "type": "histogram"
           }
          ],
          "scattergl": [
           {
            "type": "scattergl",
            "marker": {
             "colorbar": {
              "outlinewidth": 0,
              "ticks": ""
             }
            }
           }
          ],
          "scatter3d": [
           {
            "type": "scatter3d",
            "line": {
             "colorbar": {
              "outlinewidth": 0,
              "ticks": ""
             }
            },
            "marker": {
             "colorbar": {
              "outlinewidth": 0,
              "ticks": ""
             }
            }
           }
          ],
          "scattermapbox": [
           {
            "type": "scattermapbox",
            "marker": {
             "colorbar": {
              "outlinewidth": 0,
              "ticks": ""
             }
            }
           }
          ],
          "scatterternary": [
           {
            "type": "scatterternary",
            "marker": {
             "colorbar": {
              "outlinewidth": 0,
              "ticks": ""
             }
            }
           }
          ],
          "scattercarpet": [
           {
            "type": "scattercarpet",
            "marker": {
             "colorbar": {
              "outlinewidth": 0,
              "ticks": ""
             }
            }
           }
          ],
          "carpet": [
           {
            "aaxis": {
             "endlinecolor": "#2a3f5f",
             "gridcolor": "white",
             "linecolor": "white",
             "minorgridcolor": "white",
             "startlinecolor": "#2a3f5f"
            },
            "baxis": {
             "endlinecolor": "#2a3f5f",
             "gridcolor": "white",
             "linecolor": "white",
             "minorgridcolor": "white",
             "startlinecolor": "#2a3f5f"
            },
            "type": "carpet"
           }
          ],
          "table": [
           {
            "cells": {
             "fill": {
              "color": "#EBF0F8"
             },
             "line": {
              "color": "white"
             }
            },
            "header": {
             "fill": {
              "color": "#C8D4E3"
             },
             "line": {
              "color": "white"
             }
            },
            "type": "table"
           }
          ],
          "barpolar": [
           {
            "marker": {
             "line": {
              "color": "#E5ECF6",
              "width": 0.5
             },
             "pattern": {
              "fillmode": "overlay",
              "size": 10,
              "solidity": 0.2
             }
            },
            "type": "barpolar"
           }
          ],
          "pie": [
           {
            "automargin": true,
            "type": "pie"
           }
          ]
         },
         "layout": {
          "autotypenumbers": "strict",
          "colorway": [
           "#636efa",
           "#EF553B",
           "#00cc96",
           "#ab63fa",
           "#FFA15A",
           "#19d3f3",
           "#FF6692",
           "#B6E880",
           "#FF97FF",
           "#FECB52"
          ],
          "font": {
           "color": "#2a3f5f"
          },
          "hovermode": "closest",
          "hoverlabel": {
           "align": "left"
          },
          "paper_bgcolor": "white",
          "plot_bgcolor": "#E5ECF6",
          "polar": {
           "bgcolor": "#E5ECF6",
           "angularaxis": {
            "gridcolor": "white",
            "linecolor": "white",
            "ticks": ""
           },
           "radialaxis": {
            "gridcolor": "white",
            "linecolor": "white",
            "ticks": ""
           }
          },
          "ternary": {
           "bgcolor": "#E5ECF6",
           "aaxis": {
            "gridcolor": "white",
            "linecolor": "white",
            "ticks": ""
           },
           "baxis": {
            "gridcolor": "white",
            "linecolor": "white",
            "ticks": ""
           },
           "caxis": {
            "gridcolor": "white",
            "linecolor": "white",
            "ticks": ""
           }
          },
          "coloraxis": {
           "colorbar": {
            "outlinewidth": 0,
            "ticks": ""
           }
          },
          "colorscale": {
           "sequential": [
            [
             0.0,
             "#0d0887"
            ],
            [
             0.1111111111111111,
             "#46039f"
            ],
            [
             0.2222222222222222,
             "#7201a8"
            ],
            [
             0.3333333333333333,
             "#9c179e"
            ],
            [
             0.4444444444444444,
             "#bd3786"
            ],
            [
             0.5555555555555556,
             "#d8576b"
            ],
            [
             0.6666666666666666,
             "#ed7953"
            ],
            [
             0.7777777777777778,
             "#fb9f3a"
            ],
            [
             0.8888888888888888,
             "#fdca26"
            ],
            [
             1.0,
             "#f0f921"
            ]
           ],
           "sequentialminus": [
            [
             0.0,
             "#0d0887"
            ],
            [
             0.1111111111111111,
             "#46039f"
            ],
            [
             0.2222222222222222,
             "#7201a8"
            ],
            [
             0.3333333333333333,
             "#9c179e"
            ],
            [
             0.4444444444444444,
             "#bd3786"
            ],
            [
             0.5555555555555556,
             "#d8576b"
            ],
            [
             0.6666666666666666,
             "#ed7953"
            ],
            [
             0.7777777777777778,
             "#fb9f3a"
            ],
            [
             0.8888888888888888,
             "#fdca26"
            ],
            [
             1.0,
             "#f0f921"
            ]
           ],
           "diverging": [
            [
             0,
             "#8e0152"
            ],
            [
             0.1,
             "#c51b7d"
            ],
            [
             0.2,
             "#de77ae"
            ],
            [
             0.3,
             "#f1b6da"
            ],
            [
             0.4,
             "#fde0ef"
            ],
            [
             0.5,
             "#f7f7f7"
            ],
            [
             0.6,
             "#e6f5d0"
            ],
            [
             0.7,
             "#b8e186"
            ],
            [
             0.8,
             "#7fbc41"
            ],
            [
             0.9,
             "#4d9221"
            ],
            [
             1,
             "#276419"
            ]
           ]
          },
          "xaxis": {
           "gridcolor": "white",
           "linecolor": "white",
           "ticks": "",
           "title": {
            "standoff": 15
           },
           "zerolinecolor": "white",
           "automargin": true,
           "zerolinewidth": 2
          },
          "yaxis": {
           "gridcolor": "white",
           "linecolor": "white",
           "ticks": "",
           "title": {
            "standoff": 15
           },
           "zerolinecolor": "white",
           "automargin": true,
           "zerolinewidth": 2
          },
          "scene": {
           "xaxis": {
            "backgroundcolor": "#E5ECF6",
            "gridcolor": "white",
            "linecolor": "white",
            "showbackground": true,
            "ticks": "",
            "zerolinecolor": "white",
            "gridwidth": 2
           },
           "yaxis": {
            "backgroundcolor": "#E5ECF6",
            "gridcolor": "white",
            "linecolor": "white",
            "showbackground": true,
            "ticks": "",
            "zerolinecolor": "white",
            "gridwidth": 2
           },
           "zaxis": {
            "backgroundcolor": "#E5ECF6",
            "gridcolor": "white",
            "linecolor": "white",
            "showbackground": true,
            "ticks": "",
            "zerolinecolor": "white",
            "gridwidth": 2
           }
          },
          "shapedefaults": {
           "line": {
            "color": "#2a3f5f"
           }
          },
          "annotationdefaults": {
           "arrowcolor": "#2a3f5f",
           "arrowhead": 0,
           "arrowwidth": 1
          },
          "geo": {
           "bgcolor": "white",
           "landcolor": "#E5ECF6",
           "subunitcolor": "white",
           "showland": true,
           "showlakes": true,
           "lakecolor": "white"
          },
          "title": {
           "x": 0.05
          },
          "mapbox": {
           "style": "light"
          }
         }
        }
       },
       "config": {
        "plotlyServerURL": "https://plot.ly"
       }
      },
      "text/html": "<div>                            <div id=\"75cc2b34-d454-4033-b349-a0dcf8a605b9\" class=\"plotly-graph-div\" style=\"height:525px; width:100%;\"></div>            <script type=\"text/javascript\">                require([\"plotly\"], function(Plotly) {                    window.PLOTLYENV=window.PLOTLYENV || {};                                    if (document.getElementById(\"75cc2b34-d454-4033-b349-a0dcf8a605b9\")) {                    Plotly.newPlot(                        \"75cc2b34-d454-4033-b349-a0dcf8a605b9\",                        [{\"cliponaxis\":false,\"hovertemplate\":[\"min_child_samples (IntDistribution): 0.008501930094603203<extra></extra>\",\"bagging_freq (IntDistribution): 0.019074960277829893<extra></extra>\",\"bagging_fraction (FloatDistribution): 0.10767050436578729<extra></extra>\",\"num_leaves (IntDistribution): 0.24463896094199322<extra></extra>\",\"feature_fraction (FloatDistribution): 0.6201136443197864<extra></extra>\"],\"marker\":{\"color\":\"rgb(66,146,198)\"},\"orientation\":\"h\",\"text\":[\"<0.01\",\"0.02\",\"0.11\",\"0.24\",\"0.62\"],\"textposition\":\"outside\",\"x\":[0.008501930094603203,0.019074960277829893,0.10767050436578729,0.24463896094199322,0.6201136443197864],\"y\":[\"min_child_samples\",\"bagging_freq\",\"bagging_fraction\",\"num_leaves\",\"feature_fraction\"],\"type\":\"bar\"}],                        {\"showlegend\":false,\"title\":{\"text\":\"Hyperparameter Importances\"},\"xaxis\":{\"title\":{\"text\":\"Importance for Objective Value\"}},\"yaxis\":{\"title\":{\"text\":\"Hyperparameter\"}},\"template\":{\"data\":{\"histogram2dcontour\":[{\"type\":\"histogram2dcontour\",\"colorbar\":{\"outlinewidth\":0,\"ticks\":\"\"},\"colorscale\":[[0.0,\"#0d0887\"],[0.1111111111111111,\"#46039f\"],[0.2222222222222222,\"#7201a8\"],[0.3333333333333333,\"#9c179e\"],[0.4444444444444444,\"#bd3786\"],[0.5555555555555556,\"#d8576b\"],[0.6666666666666666,\"#ed7953\"],[0.7777777777777778,\"#fb9f3a\"],[0.8888888888888888,\"#fdca26\"],[1.0,\"#f0f921\"]]}],\"choropleth\":[{\"type\":\"choropleth\",\"colorbar\":{\"outlinewidth\":0,\"ticks\":\"\"}}],\"histogram2d\":[{\"type\":\"histogram2d\",\"colorbar\":{\"outlinewidth\":0,\"ticks\":\"\"},\"colorscale\":[[0.0,\"#0d0887\"],[0.1111111111111111,\"#46039f\"],[0.2222222222222222,\"#7201a8\"],[0.3333333333333333,\"#9c179e\"],[0.4444444444444444,\"#bd3786\"],[0.5555555555555556,\"#d8576b\"],[0.6666666666666666,\"#ed7953\"],[0.7777777777777778,\"#fb9f3a\"],[0.8888888888888888,\"#fdca26\"],[1.0,\"#f0f921\"]]}],\"heatmap\":[{\"type\":\"heatmap\",\"colorbar\":{\"outlinewidth\":0,\"ticks\":\"\"},\"colorscale\":[[0.0,\"#0d0887\"],[0.1111111111111111,\"#46039f\"],[0.2222222222222222,\"#7201a8\"],[0.3333333333333333,\"#9c179e\"],[0.4444444444444444,\"#bd3786\"],[0.5555555555555556,\"#d8576b\"],[0.6666666666666666,\"#ed7953\"],[0.7777777777777778,\"#fb9f3a\"],[0.8888888888888888,\"#fdca26\"],[1.0,\"#f0f921\"]]}],\"heatmapgl\":[{\"type\":\"heatmapgl\",\"colorbar\":{\"outlinewidth\":0,\"ticks\":\"\"},\"colorscale\":[[0.0,\"#0d0887\"],[0.1111111111111111,\"#46039f\"],[0.2222222222222222,\"#7201a8\"],[0.3333333333333333,\"#9c179e\"],[0.4444444444444444,\"#bd3786\"],[0.5555555555555556,\"#d8576b\"],[0.6666666666666666,\"#ed7953\"],[0.7777777777777778,\"#fb9f3a\"],[0.8888888888888888,\"#fdca26\"],[1.0,\"#f0f921\"]]}],\"contourcarpet\":[{\"type\":\"contourcarpet\",\"colorbar\":{\"outlinewidth\":0,\"ticks\":\"\"}}],\"contour\":[{\"type\":\"contour\",\"colorbar\":{\"outlinewidth\":0,\"ticks\":\"\"},\"colorscale\":[[0.0,\"#0d0887\"],[0.1111111111111111,\"#46039f\"],[0.2222222222222222,\"#7201a8\"],[0.3333333333333333,\"#9c179e\"],[0.4444444444444444,\"#bd3786\"],[0.5555555555555556,\"#d8576b\"],[0.6666666666666666,\"#ed7953\"],[0.7777777777777778,\"#fb9f3a\"],[0.8888888888888888,\"#fdca26\"],[1.0,\"#f0f921\"]]}],\"surface\":[{\"type\":\"surface\",\"colorbar\":{\"outlinewidth\":0,\"ticks\":\"\"},\"colorscale\":[[0.0,\"#0d0887\"],[0.1111111111111111,\"#46039f\"],[0.2222222222222222,\"#7201a8\"],[0.3333333333333333,\"#9c179e\"],[0.4444444444444444,\"#bd3786\"],[0.5555555555555556,\"#d8576b\"],[0.6666666666666666,\"#ed7953\"],[0.7777777777777778,\"#fb9f3a\"],[0.8888888888888888,\"#fdca26\"],[1.0,\"#f0f921\"]]}],\"mesh3d\":[{\"type\":\"mesh3d\",\"colorbar\":{\"outlinewidth\":0,\"ticks\":\"\"}}],\"scatter\":[{\"fillpattern\":{\"fillmode\":\"overlay\",\"size\":10,\"solidity\":0.2},\"type\":\"scatter\"}],\"parcoords\":[{\"type\":\"parcoords\",\"line\":{\"colorbar\":{\"outlinewidth\":0,\"ticks\":\"\"}}}],\"scatterpolargl\":[{\"type\":\"scatterpolargl\",\"marker\":{\"colorbar\":{\"outlinewidth\":0,\"ticks\":\"\"}}}],\"bar\":[{\"error_x\":{\"color\":\"#2a3f5f\"},\"error_y\":{\"color\":\"#2a3f5f\"},\"marker\":{\"line\":{\"color\":\"#E5ECF6\",\"width\":0.5},\"pattern\":{\"fillmode\":\"overlay\",\"size\":10,\"solidity\":0.2}},\"type\":\"bar\"}],\"scattergeo\":[{\"type\":\"scattergeo\",\"marker\":{\"colorbar\":{\"outlinewidth\":0,\"ticks\":\"\"}}}],\"scatterpolar\":[{\"type\":\"scatterpolar\",\"marker\":{\"colorbar\":{\"outlinewidth\":0,\"ticks\":\"\"}}}],\"histogram\":[{\"marker\":{\"pattern\":{\"fillmode\":\"overlay\",\"size\":10,\"solidity\":0.2}},\"type\":\"histogram\"}],\"scattergl\":[{\"type\":\"scattergl\",\"marker\":{\"colorbar\":{\"outlinewidth\":0,\"ticks\":\"\"}}}],\"scatter3d\":[{\"type\":\"scatter3d\",\"line\":{\"colorbar\":{\"outlinewidth\":0,\"ticks\":\"\"}},\"marker\":{\"colorbar\":{\"outlinewidth\":0,\"ticks\":\"\"}}}],\"scattermapbox\":[{\"type\":\"scattermapbox\",\"marker\":{\"colorbar\":{\"outlinewidth\":0,\"ticks\":\"\"}}}],\"scatterternary\":[{\"type\":\"scatterternary\",\"marker\":{\"colorbar\":{\"outlinewidth\":0,\"ticks\":\"\"}}}],\"scattercarpet\":[{\"type\":\"scattercarpet\",\"marker\":{\"colorbar\":{\"outlinewidth\":0,\"ticks\":\"\"}}}],\"carpet\":[{\"aaxis\":{\"endlinecolor\":\"#2a3f5f\",\"gridcolor\":\"white\",\"linecolor\":\"white\",\"minorgridcolor\":\"white\",\"startlinecolor\":\"#2a3f5f\"},\"baxis\":{\"endlinecolor\":\"#2a3f5f\",\"gridcolor\":\"white\",\"linecolor\":\"white\",\"minorgridcolor\":\"white\",\"startlinecolor\":\"#2a3f5f\"},\"type\":\"carpet\"}],\"table\":[{\"cells\":{\"fill\":{\"color\":\"#EBF0F8\"},\"line\":{\"color\":\"white\"}},\"header\":{\"fill\":{\"color\":\"#C8D4E3\"},\"line\":{\"color\":\"white\"}},\"type\":\"table\"}],\"barpolar\":[{\"marker\":{\"line\":{\"color\":\"#E5ECF6\",\"width\":0.5},\"pattern\":{\"fillmode\":\"overlay\",\"size\":10,\"solidity\":0.2}},\"type\":\"barpolar\"}],\"pie\":[{\"automargin\":true,\"type\":\"pie\"}]},\"layout\":{\"autotypenumbers\":\"strict\",\"colorway\":[\"#636efa\",\"#EF553B\",\"#00cc96\",\"#ab63fa\",\"#FFA15A\",\"#19d3f3\",\"#FF6692\",\"#B6E880\",\"#FF97FF\",\"#FECB52\"],\"font\":{\"color\":\"#2a3f5f\"},\"hovermode\":\"closest\",\"hoverlabel\":{\"align\":\"left\"},\"paper_bgcolor\":\"white\",\"plot_bgcolor\":\"#E5ECF6\",\"polar\":{\"bgcolor\":\"#E5ECF6\",\"angularaxis\":{\"gridcolor\":\"white\",\"linecolor\":\"white\",\"ticks\":\"\"},\"radialaxis\":{\"gridcolor\":\"white\",\"linecolor\":\"white\",\"ticks\":\"\"}},\"ternary\":{\"bgcolor\":\"#E5ECF6\",\"aaxis\":{\"gridcolor\":\"white\",\"linecolor\":\"white\",\"ticks\":\"\"},\"baxis\":{\"gridcolor\":\"white\",\"linecolor\":\"white\",\"ticks\":\"\"},\"caxis\":{\"gridcolor\":\"white\",\"linecolor\":\"white\",\"ticks\":\"\"}},\"coloraxis\":{\"colorbar\":{\"outlinewidth\":0,\"ticks\":\"\"}},\"colorscale\":{\"sequential\":[[0.0,\"#0d0887\"],[0.1111111111111111,\"#46039f\"],[0.2222222222222222,\"#7201a8\"],[0.3333333333333333,\"#9c179e\"],[0.4444444444444444,\"#bd3786\"],[0.5555555555555556,\"#d8576b\"],[0.6666666666666666,\"#ed7953\"],[0.7777777777777778,\"#fb9f3a\"],[0.8888888888888888,\"#fdca26\"],[1.0,\"#f0f921\"]],\"sequentialminus\":[[0.0,\"#0d0887\"],[0.1111111111111111,\"#46039f\"],[0.2222222222222222,\"#7201a8\"],[0.3333333333333333,\"#9c179e\"],[0.4444444444444444,\"#bd3786\"],[0.5555555555555556,\"#d8576b\"],[0.6666666666666666,\"#ed7953\"],[0.7777777777777778,\"#fb9f3a\"],[0.8888888888888888,\"#fdca26\"],[1.0,\"#f0f921\"]],\"diverging\":[[0,\"#8e0152\"],[0.1,\"#c51b7d\"],[0.2,\"#de77ae\"],[0.3,\"#f1b6da\"],[0.4,\"#fde0ef\"],[0.5,\"#f7f7f7\"],[0.6,\"#e6f5d0\"],[0.7,\"#b8e186\"],[0.8,\"#7fbc41\"],[0.9,\"#4d9221\"],[1,\"#276419\"]]},\"xaxis\":{\"gridcolor\":\"white\",\"linecolor\":\"white\",\"ticks\":\"\",\"title\":{\"standoff\":15},\"zerolinecolor\":\"white\",\"automargin\":true,\"zerolinewidth\":2},\"yaxis\":{\"gridcolor\":\"white\",\"linecolor\":\"white\",\"ticks\":\"\",\"title\":{\"standoff\":15},\"zerolinecolor\":\"white\",\"automargin\":true,\"zerolinewidth\":2},\"scene\":{\"xaxis\":{\"backgroundcolor\":\"#E5ECF6\",\"gridcolor\":\"white\",\"linecolor\":\"white\",\"showbackground\":true,\"ticks\":\"\",\"zerolinecolor\":\"white\",\"gridwidth\":2},\"yaxis\":{\"backgroundcolor\":\"#E5ECF6\",\"gridcolor\":\"white\",\"linecolor\":\"white\",\"showbackground\":true,\"ticks\":\"\",\"zerolinecolor\":\"white\",\"gridwidth\":2},\"zaxis\":{\"backgroundcolor\":\"#E5ECF6\",\"gridcolor\":\"white\",\"linecolor\":\"white\",\"showbackground\":true,\"ticks\":\"\",\"zerolinecolor\":\"white\",\"gridwidth\":2}},\"shapedefaults\":{\"line\":{\"color\":\"#2a3f5f\"}},\"annotationdefaults\":{\"arrowcolor\":\"#2a3f5f\",\"arrowhead\":0,\"arrowwidth\":1},\"geo\":{\"bgcolor\":\"white\",\"landcolor\":\"#E5ECF6\",\"subunitcolor\":\"white\",\"showland\":true,\"showlakes\":true,\"lakecolor\":\"white\"},\"title\":{\"x\":0.05},\"mapbox\":{\"style\":\"light\"}}}},                        {\"responsive\": true}                    ).then(function(){\n                            \nvar gd = document.getElementById('75cc2b34-d454-4033-b349-a0dcf8a605b9');\nvar x = new MutationObserver(function (mutations, observer) {{\n        var display = window.getComputedStyle(gd).display;\n        if (!display || display === 'none') {{\n            console.log([gd, 'removed!']);\n            Plotly.purge(gd);\n            observer.disconnect();\n        }}\n}});\n\n// Listen for the removal of the full notebook cells\nvar notebookContainer = gd.closest('#notebook-container');\nif (notebookContainer) {{\n    x.observe(notebookContainer, {childList: true});\n}}\n\n// Listen for the clearing of the current output cell\nvar outputEl = gd.closest('.output');\nif (outputEl) {{\n    x.observe(outputEl, {childList: true});\n}}\n\n                        })                };                });            </script>        </div>"
     },
     "metadata": {},
     "output_type": "display_data"
    }
   ],
   "source": [
    "optuna.visualization.plot_param_importances(studyLGBM) # 파라미터 중요도 확인 그래프"
   ],
   "metadata": {
    "collapsed": false,
    "pycharm": {
     "name": "#%%\n"
    }
   }
  },
  {
   "cell_type": "code",
   "execution_count": 40,
   "outputs": [
    {
     "data": {
      "application/vnd.plotly.v1+json": {
       "data": [
        {
         "dimensions": [
          {
           "label": "Objective Value",
           "range": [
            0.5032068412613575,
            0.6197701149425288
           ],
           "values": [
            0.5032068412613575,
            0.5852472961477702,
            0.5689025109041612,
            0.5990214352283317,
            0.5641025641025641,
            0.6038264115725619,
            0.6141750491386286,
            0.5690168818272096,
            0.5910357640501626,
            0.5979769466007998,
            0.6110982658959537,
            0.6157561817136284,
            0.6124523506988565,
            0.6073505466387532,
            0.547181923225061,
            0.6168936072005539,
            0.6111689212625737,
            0.6,
            0.6089655172413794,
            0.602822114272496,
            0.6092515109251511,
            0.6095282039450917,
            0.6127101082201244,
            0.6146757286026956,
            0.6022740593130935,
            0.6042642924086223,
            0.611670480549199,
            0.6118055555555556,
            0.6085356033590245,
            0.6079090803664617,
            0.5588641789169494,
            0.6130259365994237,
            0.605911905596448,
            0.588021778584392,
            0.5816549660490274,
            0.6124280782508631,
            0.6082236082236082,
            0.6123112659698026,
            0.5951277480689245,
            0.6107701215981471,
            0.5886303669944831,
            0.6138431417712773,
            0.6108922363847045,
            0.6063558339132452,
            0.6127659574468085,
            0.6134841837912722,
            0.6062587575899113,
            0.6118275822005345,
            0.6170188199976907,
            0.604062681369704,
            0.6119558908879861,
            0.6131370067870701,
            0.6118710874101554,
            0.6159678345778288,
            0.6123942373656529,
            0.6080594588317269,
            0.611640454597635,
            0.6088056098402116,
            0.6111367837338262,
            0.6093913043478261,
            0.6099142923326384,
            0.611620085817001,
            0.6152249134948098,
            0.610231286316509,
            0.6137042998390434,
            0.61427260211106,
            0.6143595634692706,
            0.6110276268639463,
            0.6045210906548589,
            0.6126954921803128,
            0.6096938775510204,
            0.6133973479652491,
            0.616304472806715,
            0.6103221337028057,
            0.6166934927569556,
            0.615863500115287,
            0.6197701149425288,
            0.6160776160776161,
            0.6153669197147458,
            0.6160249739854319,
            0.6160560468588492,
            0.6151549942594718,
            0.6144619997693461,
            0.6117376294591483,
            0.610294968189705,
            0.6182615722036247,
            0.6091276718659735,
            0.6120078968760888,
            0.6169820027688047,
            0.6097589110624063,
            0.5851038991361195,
            0.6130549500975105,
            0.6108340099756409,
            0.6133271846898778,
            0.6107452339688042,
            0.6027906976744185,
            0.6130525341356168,
            0.6145509051078057,
            0.6129403638038222,
            0.6137748648959411
           ]
          },
          {
           "label": "bagging_fraction",
           "range": [
            0.10355343969512301,
            0.9994794360211883
           ],
           "values": [
            0.6702834114336479,
            0.7844776409790628,
            0.10355343969512301,
            0.3626884613535699,
            0.43600668404632226,
            0.5618244182989518,
            0.9177839927278014,
            0.845813193676909,
            0.27905278571093106,
            0.8955428316050676,
            0.9880223569011758,
            0.9521992993846475,
            0.9944299060775921,
            0.7104038528822796,
            0.6290733630065004,
            0.8592101784778369,
            0.7781515281016546,
            0.8032496238190892,
            0.4929905409277389,
            0.9240812752774222,
            0.7416820814661015,
            0.8937613578499045,
            0.9288882936508732,
            0.8492914434714659,
            0.6221533077847845,
            0.8417555554228818,
            0.9910317904503997,
            0.8407391604128857,
            0.7178419956096984,
            0.6620350119562723,
            0.8567848987924167,
            0.9058598154883305,
            0.9439619200496833,
            0.7813557365592267,
            0.12820328599695763,
            0.9446145200010203,
            0.7966091800651888,
            0.8782643245444735,
            0.7439280411749276,
            0.5543160491369354,
            0.3352629968840707,
            0.9519582452161891,
            0.9623835664820244,
            0.8326862506294659,
            0.8786221329497895,
            0.9791233487093123,
            0.9210488256937361,
            0.8108066377274746,
            0.9986764978676126,
            0.4761095603929125,
            0.9988627880393975,
            0.9618709554482672,
            0.8755752938165381,
            0.9179533567602799,
            0.8993585038604512,
            0.7532320069541821,
            0.9229085314596983,
            0.6888812444917201,
            0.8287401428534279,
            0.8658485072828651,
            0.9705960033474532,
            0.9227228456228612,
            0.9493013035258003,
            0.9972974375146766,
            0.8993228923560617,
            0.9454645670976128,
            0.9472795378351941,
            0.8550644482176017,
            0.809629188946331,
            0.9641474642724533,
            0.5907312279777568,
            0.9354373157061961,
            0.9433869004589305,
            0.9002221383254637,
            0.9784755138404475,
            0.999291696833448,
            0.9974542670934354,
            0.9933230247476861,
            0.9801689169365007,
            0.9966691526717276,
            0.9685619174937554,
            0.9739602378017044,
            0.922220252507021,
            0.9788616937932254,
            0.8971211803944061,
            0.9687181732452402,
            0.9729573557022866,
            0.9994794360211883,
            0.9425782096267136,
            0.8794202120456146,
            0.16863335597358786,
            0.9602412175082804,
            0.9344153838102498,
            0.9815662657569532,
            0.9424501555910166,
            0.4048504145453912,
            0.958993935581372,
            0.9044199890121263,
            0.5136830830288825,
            0.9823807773318836
           ]
          },
          {
           "label": "bagging_freq",
           "range": [
            0,
            15
           ],
           "values": [
            11,
            2,
            8,
            14,
            10,
            10,
            5,
            0,
            13,
            5,
            5,
            5,
            5,
            3,
            7,
            7,
            8,
            3,
            7,
            1,
            9,
            6,
            4,
            6,
            6,
            7,
            3,
            9,
            12,
            11,
            6,
            4,
            4,
            6,
            2,
            8,
            15,
            9,
            5,
            2,
            7,
            4,
            4,
            5,
            6,
            3,
            1,
            5,
            4,
            8,
            7,
            4,
            3,
            6,
            6,
            5,
            8,
            5,
            7,
            6,
            9,
            4,
            5,
            5,
            6,
            5,
            7,
            7,
            8,
            10,
            6,
            7,
            5,
            6,
            7,
            4,
            2,
            2,
            0,
            2,
            1,
            1,
            1,
            2,
            0,
            2,
            2,
            2,
            1,
            1,
            3,
            1,
            0,
            2,
            3,
            2,
            1,
            3,
            0,
            2
           ]
          },
          {
           "label": "feature_fraction",
           "range": [
            0.11867675442346136,
            0.9931235346100087
           ],
           "values": [
            0.11867675442346136,
            0.27825657828366157,
            0.9580540115754429,
            0.7495797856886196,
            0.22795304284137427,
            0.6559902806223854,
            0.5694824371542707,
            0.2025859256771948,
            0.8373582961030618,
            0.36636553619171086,
            0.47866438082785684,
            0.5395936021870693,
            0.546385714261104,
            0.4399220795472081,
            0.6534885885214556,
            0.6116953675356487,
            0.7731329467192255,
            0.35267787625264396,
            0.6342790051510949,
            0.9286712161777549,
            0.4994095252892826,
            0.592843705146675,
            0.7208292448977502,
            0.5495705566624484,
            0.3792498522628232,
            0.4393480058155036,
            0.8450344734005272,
            0.5256477922280606,
            0.69573749301939,
            0.5872300593426332,
            0.12519818329351962,
            0.5786838579012311,
            0.4484429352665741,
            0.6327610073655326,
            0.5591042242261712,
            0.7965018253039224,
            0.685287823915654,
            0.5050702241217994,
            0.29077833344912957,
            0.6144158751721154,
            0.38987933878362513,
            0.5647569578445123,
            0.5496099479155183,
            0.48568549856347587,
            0.6661230330653197,
            0.7168822341485852,
            0.4165455864729469,
            0.5290311773254799,
            0.6125869029447844,
            0.6192931378753052,
            0.46347088832071326,
            0.592335930060175,
            0.5534604678216336,
            0.7445267879445225,
            0.7689330245976098,
            0.8415901227704643,
            0.893840357192912,
            0.7255352092931355,
            0.6619795484965478,
            0.5152257639222757,
            0.6131045838221252,
            0.5695978349325308,
            0.6522551667111989,
            0.9931235346100087,
            0.6938265257182531,
            0.8035025954563552,
            0.7920615140792409,
            0.756637596861075,
            0.8033646460908586,
            0.8861082499659643,
            0.6454745787466214,
            0.8006124465252981,
            0.7423384001033887,
            0.7330982980678098,
            0.6950748377331017,
            0.6927148141985483,
            0.6795733972759715,
            0.6941813067052943,
            0.6791812375988852,
            0.7052706419455337,
            0.7375508507542391,
            0.745937865440178,
            0.7193505393165788,
            0.7052374912067185,
            0.7443688291029225,
            0.6748954636843618,
            0.6703172610082069,
            0.6289826099568654,
            0.8234224584095823,
            0.8716337904414477,
            0.8245128644220984,
            0.7637284709842705,
            0.6083343827138993,
            0.7785764231363176,
            0.7070774826998962,
            0.6403663808619244,
            0.6735793822620049,
            0.7312104260804315,
            0.5978449626736646,
            0.8239947510530247
           ]
          },
          {
           "label": "min_child_samples",
           "range": [
            2,
            100
           ],
           "values": [
            50,
            9,
            82,
            72,
            45,
            61,
            10,
            63,
            36,
            17,
            26,
            29,
            3,
            27,
            18,
            37,
            100,
            42,
            32,
            55,
            38,
            17,
            2,
            24,
            28,
            22,
            49,
            37,
            31,
            47,
            55,
            11,
            10,
            22,
            12,
            23,
            6,
            43,
            32,
            15,
            79,
            10,
            6,
            20,
            13,
            27,
            39,
            5,
            33,
            33,
            67,
            26,
            41,
            34,
            35,
            29,
            44,
            35,
            54,
            25,
            18,
            30,
            15,
            15,
            23,
            19,
            93,
            88,
            88,
            99,
            47,
            19,
            38,
            40,
            35,
            37,
            37,
            37,
            50,
            37,
            34,
            34,
            38,
            47,
            42,
            31,
            31,
            40,
            53,
            64,
            53,
            45,
            37,
            28,
            31,
            60,
            59,
            36,
            42,
            52
           ]
          },
          {
           "label": "num_leaves",
           "range": [
            16,
            511
           ],
           "values": [
            396,
            116,
            352,
            315,
            279,
            223,
            413,
            155,
            281,
            387,
            481,
            505,
            486,
            504,
            16,
            436,
            443,
            448,
            351,
            192,
            448,
            405,
            501,
            425,
            361,
            452,
            320,
            425,
            466,
            510,
            372,
            409,
            421,
            53,
            331,
            384,
            473,
            251,
            291,
            426,
            122,
            407,
            341,
            391,
            469,
            488,
            438,
            403,
            368,
            371,
            292,
            461,
            420,
            387,
            488,
            351,
            435,
            379,
            308,
            454,
            262,
            398,
            412,
            362,
            496,
            443,
            441,
            511,
            194,
            478,
            432,
            448,
            414,
            391,
            415,
            368,
            330,
            326,
            330,
            313,
            306,
            316,
            340,
            301,
            263,
            278,
            240,
            284,
            274,
            276,
            236,
            327,
            272,
            216,
            299,
            346,
            322,
            310,
            356,
            252
           ]
          }
         ],
         "labelangle": 30,
         "labelside": "bottom",
         "line": {
          "color": [
           0.5032068412613575,
           0.5852472961477702,
           0.5689025109041612,
           0.5990214352283317,
           0.5641025641025641,
           0.6038264115725619,
           0.6141750491386286,
           0.5690168818272096,
           0.5910357640501626,
           0.5979769466007998,
           0.6110982658959537,
           0.6157561817136284,
           0.6124523506988565,
           0.6073505466387532,
           0.547181923225061,
           0.6168936072005539,
           0.6111689212625737,
           0.6,
           0.6089655172413794,
           0.602822114272496,
           0.6092515109251511,
           0.6095282039450917,
           0.6127101082201244,
           0.6146757286026956,
           0.6022740593130935,
           0.6042642924086223,
           0.611670480549199,
           0.6118055555555556,
           0.6085356033590245,
           0.6079090803664617,
           0.5588641789169494,
           0.6130259365994237,
           0.605911905596448,
           0.588021778584392,
           0.5816549660490274,
           0.6124280782508631,
           0.6082236082236082,
           0.6123112659698026,
           0.5951277480689245,
           0.6107701215981471,
           0.5886303669944831,
           0.6138431417712773,
           0.6108922363847045,
           0.6063558339132452,
           0.6127659574468085,
           0.6134841837912722,
           0.6062587575899113,
           0.6118275822005345,
           0.6170188199976907,
           0.604062681369704,
           0.6119558908879861,
           0.6131370067870701,
           0.6118710874101554,
           0.6159678345778288,
           0.6123942373656529,
           0.6080594588317269,
           0.611640454597635,
           0.6088056098402116,
           0.6111367837338262,
           0.6093913043478261,
           0.6099142923326384,
           0.611620085817001,
           0.6152249134948098,
           0.610231286316509,
           0.6137042998390434,
           0.61427260211106,
           0.6143595634692706,
           0.6110276268639463,
           0.6045210906548589,
           0.6126954921803128,
           0.6096938775510204,
           0.6133973479652491,
           0.616304472806715,
           0.6103221337028057,
           0.6166934927569556,
           0.615863500115287,
           0.6197701149425288,
           0.6160776160776161,
           0.6153669197147458,
           0.6160249739854319,
           0.6160560468588492,
           0.6151549942594718,
           0.6144619997693461,
           0.6117376294591483,
           0.610294968189705,
           0.6182615722036247,
           0.6091276718659735,
           0.6120078968760888,
           0.6169820027688047,
           0.6097589110624063,
           0.5851038991361195,
           0.6130549500975105,
           0.6108340099756409,
           0.6133271846898778,
           0.6107452339688042,
           0.6027906976744185,
           0.6130525341356168,
           0.6145509051078057,
           0.6129403638038222,
           0.6137748648959411
          ],
          "colorbar": {
           "title": {
            "text": "Objective Value"
           }
          },
          "colorscale": [
           [
            0.0,
            "rgb(247,251,255)"
           ],
           [
            0.125,
            "rgb(222,235,247)"
           ],
           [
            0.25,
            "rgb(198,219,239)"
           ],
           [
            0.375,
            "rgb(158,202,225)"
           ],
           [
            0.5,
            "rgb(107,174,214)"
           ],
           [
            0.625,
            "rgb(66,146,198)"
           ],
           [
            0.75,
            "rgb(33,113,181)"
           ],
           [
            0.875,
            "rgb(8,81,156)"
           ],
           [
            1.0,
            "rgb(8,48,107)"
           ]
          ],
          "reversescale": false,
          "showscale": true
         },
         "type": "parcoords"
        }
       ],
       "layout": {
        "title": {
         "text": "Parallel Coordinate Plot"
        },
        "template": {
         "data": {
          "histogram2dcontour": [
           {
            "type": "histogram2dcontour",
            "colorbar": {
             "outlinewidth": 0,
             "ticks": ""
            },
            "colorscale": [
             [
              0.0,
              "#0d0887"
             ],
             [
              0.1111111111111111,
              "#46039f"
             ],
             [
              0.2222222222222222,
              "#7201a8"
             ],
             [
              0.3333333333333333,
              "#9c179e"
             ],
             [
              0.4444444444444444,
              "#bd3786"
             ],
             [
              0.5555555555555556,
              "#d8576b"
             ],
             [
              0.6666666666666666,
              "#ed7953"
             ],
             [
              0.7777777777777778,
              "#fb9f3a"
             ],
             [
              0.8888888888888888,
              "#fdca26"
             ],
             [
              1.0,
              "#f0f921"
             ]
            ]
           }
          ],
          "choropleth": [
           {
            "type": "choropleth",
            "colorbar": {
             "outlinewidth": 0,
             "ticks": ""
            }
           }
          ],
          "histogram2d": [
           {
            "type": "histogram2d",
            "colorbar": {
             "outlinewidth": 0,
             "ticks": ""
            },
            "colorscale": [
             [
              0.0,
              "#0d0887"
             ],
             [
              0.1111111111111111,
              "#46039f"
             ],
             [
              0.2222222222222222,
              "#7201a8"
             ],
             [
              0.3333333333333333,
              "#9c179e"
             ],
             [
              0.4444444444444444,
              "#bd3786"
             ],
             [
              0.5555555555555556,
              "#d8576b"
             ],
             [
              0.6666666666666666,
              "#ed7953"
             ],
             [
              0.7777777777777778,
              "#fb9f3a"
             ],
             [
              0.8888888888888888,
              "#fdca26"
             ],
             [
              1.0,
              "#f0f921"
             ]
            ]
           }
          ],
          "heatmap": [
           {
            "type": "heatmap",
            "colorbar": {
             "outlinewidth": 0,
             "ticks": ""
            },
            "colorscale": [
             [
              0.0,
              "#0d0887"
             ],
             [
              0.1111111111111111,
              "#46039f"
             ],
             [
              0.2222222222222222,
              "#7201a8"
             ],
             [
              0.3333333333333333,
              "#9c179e"
             ],
             [
              0.4444444444444444,
              "#bd3786"
             ],
             [
              0.5555555555555556,
              "#d8576b"
             ],
             [
              0.6666666666666666,
              "#ed7953"
             ],
             [
              0.7777777777777778,
              "#fb9f3a"
             ],
             [
              0.8888888888888888,
              "#fdca26"
             ],
             [
              1.0,
              "#f0f921"
             ]
            ]
           }
          ],
          "heatmapgl": [
           {
            "type": "heatmapgl",
            "colorbar": {
             "outlinewidth": 0,
             "ticks": ""
            },
            "colorscale": [
             [
              0.0,
              "#0d0887"
             ],
             [
              0.1111111111111111,
              "#46039f"
             ],
             [
              0.2222222222222222,
              "#7201a8"
             ],
             [
              0.3333333333333333,
              "#9c179e"
             ],
             [
              0.4444444444444444,
              "#bd3786"
             ],
             [
              0.5555555555555556,
              "#d8576b"
             ],
             [
              0.6666666666666666,
              "#ed7953"
             ],
             [
              0.7777777777777778,
              "#fb9f3a"
             ],
             [
              0.8888888888888888,
              "#fdca26"
             ],
             [
              1.0,
              "#f0f921"
             ]
            ]
           }
          ],
          "contourcarpet": [
           {
            "type": "contourcarpet",
            "colorbar": {
             "outlinewidth": 0,
             "ticks": ""
            }
           }
          ],
          "contour": [
           {
            "type": "contour",
            "colorbar": {
             "outlinewidth": 0,
             "ticks": ""
            },
            "colorscale": [
             [
              0.0,
              "#0d0887"
             ],
             [
              0.1111111111111111,
              "#46039f"
             ],
             [
              0.2222222222222222,
              "#7201a8"
             ],
             [
              0.3333333333333333,
              "#9c179e"
             ],
             [
              0.4444444444444444,
              "#bd3786"
             ],
             [
              0.5555555555555556,
              "#d8576b"
             ],
             [
              0.6666666666666666,
              "#ed7953"
             ],
             [
              0.7777777777777778,
              "#fb9f3a"
             ],
             [
              0.8888888888888888,
              "#fdca26"
             ],
             [
              1.0,
              "#f0f921"
             ]
            ]
           }
          ],
          "surface": [
           {
            "type": "surface",
            "colorbar": {
             "outlinewidth": 0,
             "ticks": ""
            },
            "colorscale": [
             [
              0.0,
              "#0d0887"
             ],
             [
              0.1111111111111111,
              "#46039f"
             ],
             [
              0.2222222222222222,
              "#7201a8"
             ],
             [
              0.3333333333333333,
              "#9c179e"
             ],
             [
              0.4444444444444444,
              "#bd3786"
             ],
             [
              0.5555555555555556,
              "#d8576b"
             ],
             [
              0.6666666666666666,
              "#ed7953"
             ],
             [
              0.7777777777777778,
              "#fb9f3a"
             ],
             [
              0.8888888888888888,
              "#fdca26"
             ],
             [
              1.0,
              "#f0f921"
             ]
            ]
           }
          ],
          "mesh3d": [
           {
            "type": "mesh3d",
            "colorbar": {
             "outlinewidth": 0,
             "ticks": ""
            }
           }
          ],
          "scatter": [
           {
            "fillpattern": {
             "fillmode": "overlay",
             "size": 10,
             "solidity": 0.2
            },
            "type": "scatter"
           }
          ],
          "parcoords": [
           {
            "type": "parcoords",
            "line": {
             "colorbar": {
              "outlinewidth": 0,
              "ticks": ""
             }
            }
           }
          ],
          "scatterpolargl": [
           {
            "type": "scatterpolargl",
            "marker": {
             "colorbar": {
              "outlinewidth": 0,
              "ticks": ""
             }
            }
           }
          ],
          "bar": [
           {
            "error_x": {
             "color": "#2a3f5f"
            },
            "error_y": {
             "color": "#2a3f5f"
            },
            "marker": {
             "line": {
              "color": "#E5ECF6",
              "width": 0.5
             },
             "pattern": {
              "fillmode": "overlay",
              "size": 10,
              "solidity": 0.2
             }
            },
            "type": "bar"
           }
          ],
          "scattergeo": [
           {
            "type": "scattergeo",
            "marker": {
             "colorbar": {
              "outlinewidth": 0,
              "ticks": ""
             }
            }
           }
          ],
          "scatterpolar": [
           {
            "type": "scatterpolar",
            "marker": {
             "colorbar": {
              "outlinewidth": 0,
              "ticks": ""
             }
            }
           }
          ],
          "histogram": [
           {
            "marker": {
             "pattern": {
              "fillmode": "overlay",
              "size": 10,
              "solidity": 0.2
             }
            },
            "type": "histogram"
           }
          ],
          "scattergl": [
           {
            "type": "scattergl",
            "marker": {
             "colorbar": {
              "outlinewidth": 0,
              "ticks": ""
             }
            }
           }
          ],
          "scatter3d": [
           {
            "type": "scatter3d",
            "line": {
             "colorbar": {
              "outlinewidth": 0,
              "ticks": ""
             }
            },
            "marker": {
             "colorbar": {
              "outlinewidth": 0,
              "ticks": ""
             }
            }
           }
          ],
          "scattermapbox": [
           {
            "type": "scattermapbox",
            "marker": {
             "colorbar": {
              "outlinewidth": 0,
              "ticks": ""
             }
            }
           }
          ],
          "scatterternary": [
           {
            "type": "scatterternary",
            "marker": {
             "colorbar": {
              "outlinewidth": 0,
              "ticks": ""
             }
            }
           }
          ],
          "scattercarpet": [
           {
            "type": "scattercarpet",
            "marker": {
             "colorbar": {
              "outlinewidth": 0,
              "ticks": ""
             }
            }
           }
          ],
          "carpet": [
           {
            "aaxis": {
             "endlinecolor": "#2a3f5f",
             "gridcolor": "white",
             "linecolor": "white",
             "minorgridcolor": "white",
             "startlinecolor": "#2a3f5f"
            },
            "baxis": {
             "endlinecolor": "#2a3f5f",
             "gridcolor": "white",
             "linecolor": "white",
             "minorgridcolor": "white",
             "startlinecolor": "#2a3f5f"
            },
            "type": "carpet"
           }
          ],
          "table": [
           {
            "cells": {
             "fill": {
              "color": "#EBF0F8"
             },
             "line": {
              "color": "white"
             }
            },
            "header": {
             "fill": {
              "color": "#C8D4E3"
             },
             "line": {
              "color": "white"
             }
            },
            "type": "table"
           }
          ],
          "barpolar": [
           {
            "marker": {
             "line": {
              "color": "#E5ECF6",
              "width": 0.5
             },
             "pattern": {
              "fillmode": "overlay",
              "size": 10,
              "solidity": 0.2
             }
            },
            "type": "barpolar"
           }
          ],
          "pie": [
           {
            "automargin": true,
            "type": "pie"
           }
          ]
         },
         "layout": {
          "autotypenumbers": "strict",
          "colorway": [
           "#636efa",
           "#EF553B",
           "#00cc96",
           "#ab63fa",
           "#FFA15A",
           "#19d3f3",
           "#FF6692",
           "#B6E880",
           "#FF97FF",
           "#FECB52"
          ],
          "font": {
           "color": "#2a3f5f"
          },
          "hovermode": "closest",
          "hoverlabel": {
           "align": "left"
          },
          "paper_bgcolor": "white",
          "plot_bgcolor": "#E5ECF6",
          "polar": {
           "bgcolor": "#E5ECF6",
           "angularaxis": {
            "gridcolor": "white",
            "linecolor": "white",
            "ticks": ""
           },
           "radialaxis": {
            "gridcolor": "white",
            "linecolor": "white",
            "ticks": ""
           }
          },
          "ternary": {
           "bgcolor": "#E5ECF6",
           "aaxis": {
            "gridcolor": "white",
            "linecolor": "white",
            "ticks": ""
           },
           "baxis": {
            "gridcolor": "white",
            "linecolor": "white",
            "ticks": ""
           },
           "caxis": {
            "gridcolor": "white",
            "linecolor": "white",
            "ticks": ""
           }
          },
          "coloraxis": {
           "colorbar": {
            "outlinewidth": 0,
            "ticks": ""
           }
          },
          "colorscale": {
           "sequential": [
            [
             0.0,
             "#0d0887"
            ],
            [
             0.1111111111111111,
             "#46039f"
            ],
            [
             0.2222222222222222,
             "#7201a8"
            ],
            [
             0.3333333333333333,
             "#9c179e"
            ],
            [
             0.4444444444444444,
             "#bd3786"
            ],
            [
             0.5555555555555556,
             "#d8576b"
            ],
            [
             0.6666666666666666,
             "#ed7953"
            ],
            [
             0.7777777777777778,
             "#fb9f3a"
            ],
            [
             0.8888888888888888,
             "#fdca26"
            ],
            [
             1.0,
             "#f0f921"
            ]
           ],
           "sequentialminus": [
            [
             0.0,
             "#0d0887"
            ],
            [
             0.1111111111111111,
             "#46039f"
            ],
            [
             0.2222222222222222,
             "#7201a8"
            ],
            [
             0.3333333333333333,
             "#9c179e"
            ],
            [
             0.4444444444444444,
             "#bd3786"
            ],
            [
             0.5555555555555556,
             "#d8576b"
            ],
            [
             0.6666666666666666,
             "#ed7953"
            ],
            [
             0.7777777777777778,
             "#fb9f3a"
            ],
            [
             0.8888888888888888,
             "#fdca26"
            ],
            [
             1.0,
             "#f0f921"
            ]
           ],
           "diverging": [
            [
             0,
             "#8e0152"
            ],
            [
             0.1,
             "#c51b7d"
            ],
            [
             0.2,
             "#de77ae"
            ],
            [
             0.3,
             "#f1b6da"
            ],
            [
             0.4,
             "#fde0ef"
            ],
            [
             0.5,
             "#f7f7f7"
            ],
            [
             0.6,
             "#e6f5d0"
            ],
            [
             0.7,
             "#b8e186"
            ],
            [
             0.8,
             "#7fbc41"
            ],
            [
             0.9,
             "#4d9221"
            ],
            [
             1,
             "#276419"
            ]
           ]
          },
          "xaxis": {
           "gridcolor": "white",
           "linecolor": "white",
           "ticks": "",
           "title": {
            "standoff": 15
           },
           "zerolinecolor": "white",
           "automargin": true,
           "zerolinewidth": 2
          },
          "yaxis": {
           "gridcolor": "white",
           "linecolor": "white",
           "ticks": "",
           "title": {
            "standoff": 15
           },
           "zerolinecolor": "white",
           "automargin": true,
           "zerolinewidth": 2
          },
          "scene": {
           "xaxis": {
            "backgroundcolor": "#E5ECF6",
            "gridcolor": "white",
            "linecolor": "white",
            "showbackground": true,
            "ticks": "",
            "zerolinecolor": "white",
            "gridwidth": 2
           },
           "yaxis": {
            "backgroundcolor": "#E5ECF6",
            "gridcolor": "white",
            "linecolor": "white",
            "showbackground": true,
            "ticks": "",
            "zerolinecolor": "white",
            "gridwidth": 2
           },
           "zaxis": {
            "backgroundcolor": "#E5ECF6",
            "gridcolor": "white",
            "linecolor": "white",
            "showbackground": true,
            "ticks": "",
            "zerolinecolor": "white",
            "gridwidth": 2
           }
          },
          "shapedefaults": {
           "line": {
            "color": "#2a3f5f"
           }
          },
          "annotationdefaults": {
           "arrowcolor": "#2a3f5f",
           "arrowhead": 0,
           "arrowwidth": 1
          },
          "geo": {
           "bgcolor": "white",
           "landcolor": "#E5ECF6",
           "subunitcolor": "white",
           "showland": true,
           "showlakes": true,
           "lakecolor": "white"
          },
          "title": {
           "x": 0.05
          },
          "mapbox": {
           "style": "light"
          }
         }
        }
       },
       "config": {
        "plotlyServerURL": "https://plot.ly"
       }
      },
      "text/html": "<div>                            <div id=\"cc800a99-29cc-4978-95c9-5963b21257d0\" class=\"plotly-graph-div\" style=\"height:525px; width:100%;\"></div>            <script type=\"text/javascript\">                require([\"plotly\"], function(Plotly) {                    window.PLOTLYENV=window.PLOTLYENV || {};                                    if (document.getElementById(\"cc800a99-29cc-4978-95c9-5963b21257d0\")) {                    Plotly.newPlot(                        \"cc800a99-29cc-4978-95c9-5963b21257d0\",                        [{\"dimensions\":[{\"label\":\"Objective Value\",\"range\":[0.5032068412613575,0.6197701149425288],\"values\":[0.5032068412613575,0.5852472961477702,0.5689025109041612,0.5990214352283317,0.5641025641025641,0.6038264115725619,0.6141750491386286,0.5690168818272096,0.5910357640501626,0.5979769466007998,0.6110982658959537,0.6157561817136284,0.6124523506988565,0.6073505466387532,0.547181923225061,0.6168936072005539,0.6111689212625737,0.6,0.6089655172413794,0.602822114272496,0.6092515109251511,0.6095282039450917,0.6127101082201244,0.6146757286026956,0.6022740593130935,0.6042642924086223,0.611670480549199,0.6118055555555556,0.6085356033590245,0.6079090803664617,0.5588641789169494,0.6130259365994237,0.605911905596448,0.588021778584392,0.5816549660490274,0.6124280782508631,0.6082236082236082,0.6123112659698026,0.5951277480689245,0.6107701215981471,0.5886303669944831,0.6138431417712773,0.6108922363847045,0.6063558339132452,0.6127659574468085,0.6134841837912722,0.6062587575899113,0.6118275822005345,0.6170188199976907,0.604062681369704,0.6119558908879861,0.6131370067870701,0.6118710874101554,0.6159678345778288,0.6123942373656529,0.6080594588317269,0.611640454597635,0.6088056098402116,0.6111367837338262,0.6093913043478261,0.6099142923326384,0.611620085817001,0.6152249134948098,0.610231286316509,0.6137042998390434,0.61427260211106,0.6143595634692706,0.6110276268639463,0.6045210906548589,0.6126954921803128,0.6096938775510204,0.6133973479652491,0.616304472806715,0.6103221337028057,0.6166934927569556,0.615863500115287,0.6197701149425288,0.6160776160776161,0.6153669197147458,0.6160249739854319,0.6160560468588492,0.6151549942594718,0.6144619997693461,0.6117376294591483,0.610294968189705,0.6182615722036247,0.6091276718659735,0.6120078968760888,0.6169820027688047,0.6097589110624063,0.5851038991361195,0.6130549500975105,0.6108340099756409,0.6133271846898778,0.6107452339688042,0.6027906976744185,0.6130525341356168,0.6145509051078057,0.6129403638038222,0.6137748648959411]},{\"label\":\"bagging_fraction\",\"range\":[0.10355343969512301,0.9994794360211883],\"values\":[0.6702834114336479,0.7844776409790628,0.10355343969512301,0.3626884613535699,0.43600668404632226,0.5618244182989518,0.9177839927278014,0.845813193676909,0.27905278571093106,0.8955428316050676,0.9880223569011758,0.9521992993846475,0.9944299060775921,0.7104038528822796,0.6290733630065004,0.8592101784778369,0.7781515281016546,0.8032496238190892,0.4929905409277389,0.9240812752774222,0.7416820814661015,0.8937613578499045,0.9288882936508732,0.8492914434714659,0.6221533077847845,0.8417555554228818,0.9910317904503997,0.8407391604128857,0.7178419956096984,0.6620350119562723,0.8567848987924167,0.9058598154883305,0.9439619200496833,0.7813557365592267,0.12820328599695763,0.9446145200010203,0.7966091800651888,0.8782643245444735,0.7439280411749276,0.5543160491369354,0.3352629968840707,0.9519582452161891,0.9623835664820244,0.8326862506294659,0.8786221329497895,0.9791233487093123,0.9210488256937361,0.8108066377274746,0.9986764978676126,0.4761095603929125,0.9988627880393975,0.9618709554482672,0.8755752938165381,0.9179533567602799,0.8993585038604512,0.7532320069541821,0.9229085314596983,0.6888812444917201,0.8287401428534279,0.8658485072828651,0.9705960033474532,0.9227228456228612,0.9493013035258003,0.9972974375146766,0.8993228923560617,0.9454645670976128,0.9472795378351941,0.8550644482176017,0.809629188946331,0.9641474642724533,0.5907312279777568,0.9354373157061961,0.9433869004589305,0.9002221383254637,0.9784755138404475,0.999291696833448,0.9974542670934354,0.9933230247476861,0.9801689169365007,0.9966691526717276,0.9685619174937554,0.9739602378017044,0.922220252507021,0.9788616937932254,0.8971211803944061,0.9687181732452402,0.9729573557022866,0.9994794360211883,0.9425782096267136,0.8794202120456146,0.16863335597358786,0.9602412175082804,0.9344153838102498,0.9815662657569532,0.9424501555910166,0.4048504145453912,0.958993935581372,0.9044199890121263,0.5136830830288825,0.9823807773318836]},{\"label\":\"bagging_freq\",\"range\":[0,15],\"values\":[11,2,8,14,10,10,5,0,13,5,5,5,5,3,7,7,8,3,7,1,9,6,4,6,6,7,3,9,12,11,6,4,4,6,2,8,15,9,5,2,7,4,4,5,6,3,1,5,4,8,7,4,3,6,6,5,8,5,7,6,9,4,5,5,6,5,7,7,8,10,6,7,5,6,7,4,2,2,0,2,1,1,1,2,0,2,2,2,1,1,3,1,0,2,3,2,1,3,0,2]},{\"label\":\"feature_fraction\",\"range\":[0.11867675442346136,0.9931235346100087],\"values\":[0.11867675442346136,0.27825657828366157,0.9580540115754429,0.7495797856886196,0.22795304284137427,0.6559902806223854,0.5694824371542707,0.2025859256771948,0.8373582961030618,0.36636553619171086,0.47866438082785684,0.5395936021870693,0.546385714261104,0.4399220795472081,0.6534885885214556,0.6116953675356487,0.7731329467192255,0.35267787625264396,0.6342790051510949,0.9286712161777549,0.4994095252892826,0.592843705146675,0.7208292448977502,0.5495705566624484,0.3792498522628232,0.4393480058155036,0.8450344734005272,0.5256477922280606,0.69573749301939,0.5872300593426332,0.12519818329351962,0.5786838579012311,0.4484429352665741,0.6327610073655326,0.5591042242261712,0.7965018253039224,0.685287823915654,0.5050702241217994,0.29077833344912957,0.6144158751721154,0.38987933878362513,0.5647569578445123,0.5496099479155183,0.48568549856347587,0.6661230330653197,0.7168822341485852,0.4165455864729469,0.5290311773254799,0.6125869029447844,0.6192931378753052,0.46347088832071326,0.592335930060175,0.5534604678216336,0.7445267879445225,0.7689330245976098,0.8415901227704643,0.893840357192912,0.7255352092931355,0.6619795484965478,0.5152257639222757,0.6131045838221252,0.5695978349325308,0.6522551667111989,0.9931235346100087,0.6938265257182531,0.8035025954563552,0.7920615140792409,0.756637596861075,0.8033646460908586,0.8861082499659643,0.6454745787466214,0.8006124465252981,0.7423384001033887,0.7330982980678098,0.6950748377331017,0.6927148141985483,0.6795733972759715,0.6941813067052943,0.6791812375988852,0.7052706419455337,0.7375508507542391,0.745937865440178,0.7193505393165788,0.7052374912067185,0.7443688291029225,0.6748954636843618,0.6703172610082069,0.6289826099568654,0.8234224584095823,0.8716337904414477,0.8245128644220984,0.7637284709842705,0.6083343827138993,0.7785764231363176,0.7070774826998962,0.6403663808619244,0.6735793822620049,0.7312104260804315,0.5978449626736646,0.8239947510530247]},{\"label\":\"min_child_samples\",\"range\":[2,100],\"values\":[50,9,82,72,45,61,10,63,36,17,26,29,3,27,18,37,100,42,32,55,38,17,2,24,28,22,49,37,31,47,55,11,10,22,12,23,6,43,32,15,79,10,6,20,13,27,39,5,33,33,67,26,41,34,35,29,44,35,54,25,18,30,15,15,23,19,93,88,88,99,47,19,38,40,35,37,37,37,50,37,34,34,38,47,42,31,31,40,53,64,53,45,37,28,31,60,59,36,42,52]},{\"label\":\"num_leaves\",\"range\":[16,511],\"values\":[396,116,352,315,279,223,413,155,281,387,481,505,486,504,16,436,443,448,351,192,448,405,501,425,361,452,320,425,466,510,372,409,421,53,331,384,473,251,291,426,122,407,341,391,469,488,438,403,368,371,292,461,420,387,488,351,435,379,308,454,262,398,412,362,496,443,441,511,194,478,432,448,414,391,415,368,330,326,330,313,306,316,340,301,263,278,240,284,274,276,236,327,272,216,299,346,322,310,356,252]}],\"labelangle\":30,\"labelside\":\"bottom\",\"line\":{\"color\":[0.5032068412613575,0.5852472961477702,0.5689025109041612,0.5990214352283317,0.5641025641025641,0.6038264115725619,0.6141750491386286,0.5690168818272096,0.5910357640501626,0.5979769466007998,0.6110982658959537,0.6157561817136284,0.6124523506988565,0.6073505466387532,0.547181923225061,0.6168936072005539,0.6111689212625737,0.6,0.6089655172413794,0.602822114272496,0.6092515109251511,0.6095282039450917,0.6127101082201244,0.6146757286026956,0.6022740593130935,0.6042642924086223,0.611670480549199,0.6118055555555556,0.6085356033590245,0.6079090803664617,0.5588641789169494,0.6130259365994237,0.605911905596448,0.588021778584392,0.5816549660490274,0.6124280782508631,0.6082236082236082,0.6123112659698026,0.5951277480689245,0.6107701215981471,0.5886303669944831,0.6138431417712773,0.6108922363847045,0.6063558339132452,0.6127659574468085,0.6134841837912722,0.6062587575899113,0.6118275822005345,0.6170188199976907,0.604062681369704,0.6119558908879861,0.6131370067870701,0.6118710874101554,0.6159678345778288,0.6123942373656529,0.6080594588317269,0.611640454597635,0.6088056098402116,0.6111367837338262,0.6093913043478261,0.6099142923326384,0.611620085817001,0.6152249134948098,0.610231286316509,0.6137042998390434,0.61427260211106,0.6143595634692706,0.6110276268639463,0.6045210906548589,0.6126954921803128,0.6096938775510204,0.6133973479652491,0.616304472806715,0.6103221337028057,0.6166934927569556,0.615863500115287,0.6197701149425288,0.6160776160776161,0.6153669197147458,0.6160249739854319,0.6160560468588492,0.6151549942594718,0.6144619997693461,0.6117376294591483,0.610294968189705,0.6182615722036247,0.6091276718659735,0.6120078968760888,0.6169820027688047,0.6097589110624063,0.5851038991361195,0.6130549500975105,0.6108340099756409,0.6133271846898778,0.6107452339688042,0.6027906976744185,0.6130525341356168,0.6145509051078057,0.6129403638038222,0.6137748648959411],\"colorbar\":{\"title\":{\"text\":\"Objective Value\"}},\"colorscale\":[[0.0,\"rgb(247,251,255)\"],[0.125,\"rgb(222,235,247)\"],[0.25,\"rgb(198,219,239)\"],[0.375,\"rgb(158,202,225)\"],[0.5,\"rgb(107,174,214)\"],[0.625,\"rgb(66,146,198)\"],[0.75,\"rgb(33,113,181)\"],[0.875,\"rgb(8,81,156)\"],[1.0,\"rgb(8,48,107)\"]],\"reversescale\":false,\"showscale\":true},\"type\":\"parcoords\"}],                        {\"title\":{\"text\":\"Parallel Coordinate Plot\"},\"template\":{\"data\":{\"histogram2dcontour\":[{\"type\":\"histogram2dcontour\",\"colorbar\":{\"outlinewidth\":0,\"ticks\":\"\"},\"colorscale\":[[0.0,\"#0d0887\"],[0.1111111111111111,\"#46039f\"],[0.2222222222222222,\"#7201a8\"],[0.3333333333333333,\"#9c179e\"],[0.4444444444444444,\"#bd3786\"],[0.5555555555555556,\"#d8576b\"],[0.6666666666666666,\"#ed7953\"],[0.7777777777777778,\"#fb9f3a\"],[0.8888888888888888,\"#fdca26\"],[1.0,\"#f0f921\"]]}],\"choropleth\":[{\"type\":\"choropleth\",\"colorbar\":{\"outlinewidth\":0,\"ticks\":\"\"}}],\"histogram2d\":[{\"type\":\"histogram2d\",\"colorbar\":{\"outlinewidth\":0,\"ticks\":\"\"},\"colorscale\":[[0.0,\"#0d0887\"],[0.1111111111111111,\"#46039f\"],[0.2222222222222222,\"#7201a8\"],[0.3333333333333333,\"#9c179e\"],[0.4444444444444444,\"#bd3786\"],[0.5555555555555556,\"#d8576b\"],[0.6666666666666666,\"#ed7953\"],[0.7777777777777778,\"#fb9f3a\"],[0.8888888888888888,\"#fdca26\"],[1.0,\"#f0f921\"]]}],\"heatmap\":[{\"type\":\"heatmap\",\"colorbar\":{\"outlinewidth\":0,\"ticks\":\"\"},\"colorscale\":[[0.0,\"#0d0887\"],[0.1111111111111111,\"#46039f\"],[0.2222222222222222,\"#7201a8\"],[0.3333333333333333,\"#9c179e\"],[0.4444444444444444,\"#bd3786\"],[0.5555555555555556,\"#d8576b\"],[0.6666666666666666,\"#ed7953\"],[0.7777777777777778,\"#fb9f3a\"],[0.8888888888888888,\"#fdca26\"],[1.0,\"#f0f921\"]]}],\"heatmapgl\":[{\"type\":\"heatmapgl\",\"colorbar\":{\"outlinewidth\":0,\"ticks\":\"\"},\"colorscale\":[[0.0,\"#0d0887\"],[0.1111111111111111,\"#46039f\"],[0.2222222222222222,\"#7201a8\"],[0.3333333333333333,\"#9c179e\"],[0.4444444444444444,\"#bd3786\"],[0.5555555555555556,\"#d8576b\"],[0.6666666666666666,\"#ed7953\"],[0.7777777777777778,\"#fb9f3a\"],[0.8888888888888888,\"#fdca26\"],[1.0,\"#f0f921\"]]}],\"contourcarpet\":[{\"type\":\"contourcarpet\",\"colorbar\":{\"outlinewidth\":0,\"ticks\":\"\"}}],\"contour\":[{\"type\":\"contour\",\"colorbar\":{\"outlinewidth\":0,\"ticks\":\"\"},\"colorscale\":[[0.0,\"#0d0887\"],[0.1111111111111111,\"#46039f\"],[0.2222222222222222,\"#7201a8\"],[0.3333333333333333,\"#9c179e\"],[0.4444444444444444,\"#bd3786\"],[0.5555555555555556,\"#d8576b\"],[0.6666666666666666,\"#ed7953\"],[0.7777777777777778,\"#fb9f3a\"],[0.8888888888888888,\"#fdca26\"],[1.0,\"#f0f921\"]]}],\"surface\":[{\"type\":\"surface\",\"colorbar\":{\"outlinewidth\":0,\"ticks\":\"\"},\"colorscale\":[[0.0,\"#0d0887\"],[0.1111111111111111,\"#46039f\"],[0.2222222222222222,\"#7201a8\"],[0.3333333333333333,\"#9c179e\"],[0.4444444444444444,\"#bd3786\"],[0.5555555555555556,\"#d8576b\"],[0.6666666666666666,\"#ed7953\"],[0.7777777777777778,\"#fb9f3a\"],[0.8888888888888888,\"#fdca26\"],[1.0,\"#f0f921\"]]}],\"mesh3d\":[{\"type\":\"mesh3d\",\"colorbar\":{\"outlinewidth\":0,\"ticks\":\"\"}}],\"scatter\":[{\"fillpattern\":{\"fillmode\":\"overlay\",\"size\":10,\"solidity\":0.2},\"type\":\"scatter\"}],\"parcoords\":[{\"type\":\"parcoords\",\"line\":{\"colorbar\":{\"outlinewidth\":0,\"ticks\":\"\"}}}],\"scatterpolargl\":[{\"type\":\"scatterpolargl\",\"marker\":{\"colorbar\":{\"outlinewidth\":0,\"ticks\":\"\"}}}],\"bar\":[{\"error_x\":{\"color\":\"#2a3f5f\"},\"error_y\":{\"color\":\"#2a3f5f\"},\"marker\":{\"line\":{\"color\":\"#E5ECF6\",\"width\":0.5},\"pattern\":{\"fillmode\":\"overlay\",\"size\":10,\"solidity\":0.2}},\"type\":\"bar\"}],\"scattergeo\":[{\"type\":\"scattergeo\",\"marker\":{\"colorbar\":{\"outlinewidth\":0,\"ticks\":\"\"}}}],\"scatterpolar\":[{\"type\":\"scatterpolar\",\"marker\":{\"colorbar\":{\"outlinewidth\":0,\"ticks\":\"\"}}}],\"histogram\":[{\"marker\":{\"pattern\":{\"fillmode\":\"overlay\",\"size\":10,\"solidity\":0.2}},\"type\":\"histogram\"}],\"scattergl\":[{\"type\":\"scattergl\",\"marker\":{\"colorbar\":{\"outlinewidth\":0,\"ticks\":\"\"}}}],\"scatter3d\":[{\"type\":\"scatter3d\",\"line\":{\"colorbar\":{\"outlinewidth\":0,\"ticks\":\"\"}},\"marker\":{\"colorbar\":{\"outlinewidth\":0,\"ticks\":\"\"}}}],\"scattermapbox\":[{\"type\":\"scattermapbox\",\"marker\":{\"colorbar\":{\"outlinewidth\":0,\"ticks\":\"\"}}}],\"scatterternary\":[{\"type\":\"scatterternary\",\"marker\":{\"colorbar\":{\"outlinewidth\":0,\"ticks\":\"\"}}}],\"scattercarpet\":[{\"type\":\"scattercarpet\",\"marker\":{\"colorbar\":{\"outlinewidth\":0,\"ticks\":\"\"}}}],\"carpet\":[{\"aaxis\":{\"endlinecolor\":\"#2a3f5f\",\"gridcolor\":\"white\",\"linecolor\":\"white\",\"minorgridcolor\":\"white\",\"startlinecolor\":\"#2a3f5f\"},\"baxis\":{\"endlinecolor\":\"#2a3f5f\",\"gridcolor\":\"white\",\"linecolor\":\"white\",\"minorgridcolor\":\"white\",\"startlinecolor\":\"#2a3f5f\"},\"type\":\"carpet\"}],\"table\":[{\"cells\":{\"fill\":{\"color\":\"#EBF0F8\"},\"line\":{\"color\":\"white\"}},\"header\":{\"fill\":{\"color\":\"#C8D4E3\"},\"line\":{\"color\":\"white\"}},\"type\":\"table\"}],\"barpolar\":[{\"marker\":{\"line\":{\"color\":\"#E5ECF6\",\"width\":0.5},\"pattern\":{\"fillmode\":\"overlay\",\"size\":10,\"solidity\":0.2}},\"type\":\"barpolar\"}],\"pie\":[{\"automargin\":true,\"type\":\"pie\"}]},\"layout\":{\"autotypenumbers\":\"strict\",\"colorway\":[\"#636efa\",\"#EF553B\",\"#00cc96\",\"#ab63fa\",\"#FFA15A\",\"#19d3f3\",\"#FF6692\",\"#B6E880\",\"#FF97FF\",\"#FECB52\"],\"font\":{\"color\":\"#2a3f5f\"},\"hovermode\":\"closest\",\"hoverlabel\":{\"align\":\"left\"},\"paper_bgcolor\":\"white\",\"plot_bgcolor\":\"#E5ECF6\",\"polar\":{\"bgcolor\":\"#E5ECF6\",\"angularaxis\":{\"gridcolor\":\"white\",\"linecolor\":\"white\",\"ticks\":\"\"},\"radialaxis\":{\"gridcolor\":\"white\",\"linecolor\":\"white\",\"ticks\":\"\"}},\"ternary\":{\"bgcolor\":\"#E5ECF6\",\"aaxis\":{\"gridcolor\":\"white\",\"linecolor\":\"white\",\"ticks\":\"\"},\"baxis\":{\"gridcolor\":\"white\",\"linecolor\":\"white\",\"ticks\":\"\"},\"caxis\":{\"gridcolor\":\"white\",\"linecolor\":\"white\",\"ticks\":\"\"}},\"coloraxis\":{\"colorbar\":{\"outlinewidth\":0,\"ticks\":\"\"}},\"colorscale\":{\"sequential\":[[0.0,\"#0d0887\"],[0.1111111111111111,\"#46039f\"],[0.2222222222222222,\"#7201a8\"],[0.3333333333333333,\"#9c179e\"],[0.4444444444444444,\"#bd3786\"],[0.5555555555555556,\"#d8576b\"],[0.6666666666666666,\"#ed7953\"],[0.7777777777777778,\"#fb9f3a\"],[0.8888888888888888,\"#fdca26\"],[1.0,\"#f0f921\"]],\"sequentialminus\":[[0.0,\"#0d0887\"],[0.1111111111111111,\"#46039f\"],[0.2222222222222222,\"#7201a8\"],[0.3333333333333333,\"#9c179e\"],[0.4444444444444444,\"#bd3786\"],[0.5555555555555556,\"#d8576b\"],[0.6666666666666666,\"#ed7953\"],[0.7777777777777778,\"#fb9f3a\"],[0.8888888888888888,\"#fdca26\"],[1.0,\"#f0f921\"]],\"diverging\":[[0,\"#8e0152\"],[0.1,\"#c51b7d\"],[0.2,\"#de77ae\"],[0.3,\"#f1b6da\"],[0.4,\"#fde0ef\"],[0.5,\"#f7f7f7\"],[0.6,\"#e6f5d0\"],[0.7,\"#b8e186\"],[0.8,\"#7fbc41\"],[0.9,\"#4d9221\"],[1,\"#276419\"]]},\"xaxis\":{\"gridcolor\":\"white\",\"linecolor\":\"white\",\"ticks\":\"\",\"title\":{\"standoff\":15},\"zerolinecolor\":\"white\",\"automargin\":true,\"zerolinewidth\":2},\"yaxis\":{\"gridcolor\":\"white\",\"linecolor\":\"white\",\"ticks\":\"\",\"title\":{\"standoff\":15},\"zerolinecolor\":\"white\",\"automargin\":true,\"zerolinewidth\":2},\"scene\":{\"xaxis\":{\"backgroundcolor\":\"#E5ECF6\",\"gridcolor\":\"white\",\"linecolor\":\"white\",\"showbackground\":true,\"ticks\":\"\",\"zerolinecolor\":\"white\",\"gridwidth\":2},\"yaxis\":{\"backgroundcolor\":\"#E5ECF6\",\"gridcolor\":\"white\",\"linecolor\":\"white\",\"showbackground\":true,\"ticks\":\"\",\"zerolinecolor\":\"white\",\"gridwidth\":2},\"zaxis\":{\"backgroundcolor\":\"#E5ECF6\",\"gridcolor\":\"white\",\"linecolor\":\"white\",\"showbackground\":true,\"ticks\":\"\",\"zerolinecolor\":\"white\",\"gridwidth\":2}},\"shapedefaults\":{\"line\":{\"color\":\"#2a3f5f\"}},\"annotationdefaults\":{\"arrowcolor\":\"#2a3f5f\",\"arrowhead\":0,\"arrowwidth\":1},\"geo\":{\"bgcolor\":\"white\",\"landcolor\":\"#E5ECF6\",\"subunitcolor\":\"white\",\"showland\":true,\"showlakes\":true,\"lakecolor\":\"white\"},\"title\":{\"x\":0.05},\"mapbox\":{\"style\":\"light\"}}}},                        {\"responsive\": true}                    ).then(function(){\n                            \nvar gd = document.getElementById('cc800a99-29cc-4978-95c9-5963b21257d0');\nvar x = new MutationObserver(function (mutations, observer) {{\n        var display = window.getComputedStyle(gd).display;\n        if (!display || display === 'none') {{\n            console.log([gd, 'removed!']);\n            Plotly.purge(gd);\n            observer.disconnect();\n        }}\n}});\n\n// Listen for the removal of the full notebook cells\nvar notebookContainer = gd.closest('#notebook-container');\nif (notebookContainer) {{\n    x.observe(notebookContainer, {childList: true});\n}}\n\n// Listen for the clearing of the current output cell\nvar outputEl = gd.closest('.output');\nif (outputEl) {{\n    x.observe(outputEl, {childList: true});\n}}\n\n                        })                };                });            </script>        </div>"
     },
     "metadata": {},
     "output_type": "display_data"
    }
   ],
   "source": [
    "optuna.visualization.plot_parallel_coordinate(studyLGBM)"
   ],
   "metadata": {
    "collapsed": false,
    "pycharm": {
     "name": "#%%\n"
    }
   }
  },
  {
   "cell_type": "code",
   "execution_count": 41,
   "outputs": [
    {
     "data": {
      "application/vnd.plotly.v1+json": {
       "data": [
        {
         "marker": {
          "color": [
           0,
           1,
           2,
           3,
           4,
           5,
           6,
           7,
           8,
           9,
           10,
           11,
           12,
           13,
           14,
           15,
           16,
           17,
           18,
           19,
           20,
           21,
           22,
           23,
           24,
           25,
           26,
           27,
           28,
           29,
           30,
           31,
           32,
           33,
           34,
           35,
           36,
           37,
           38,
           39,
           40,
           41,
           42,
           43,
           44,
           45,
           46,
           47,
           48,
           49,
           50,
           51,
           52,
           53,
           54,
           55,
           56,
           57,
           58,
           59,
           60,
           61,
           62,
           63,
           64,
           65,
           66,
           67,
           68,
           69,
           70,
           71,
           72,
           73,
           74,
           75,
           76,
           77,
           78,
           79,
           80,
           81,
           82,
           83,
           84,
           85,
           86,
           87,
           88,
           89,
           90,
           91,
           92,
           93,
           94,
           95,
           96,
           97,
           98,
           99
          ],
          "colorbar": {
           "title": {
            "text": "Trial"
           },
           "x": 1.0,
           "xpad": 40
          },
          "colorscale": [
           [
            0.0,
            "rgb(247,251,255)"
           ],
           [
            0.125,
            "rgb(222,235,247)"
           ],
           [
            0.25,
            "rgb(198,219,239)"
           ],
           [
            0.375,
            "rgb(158,202,225)"
           ],
           [
            0.5,
            "rgb(107,174,214)"
           ],
           [
            0.625,
            "rgb(66,146,198)"
           ],
           [
            0.75,
            "rgb(33,113,181)"
           ],
           [
            0.875,
            "rgb(8,81,156)"
           ],
           [
            1.0,
            "rgb(8,48,107)"
           ]
          ],
          "line": {
           "color": "Grey",
           "width": 0.5
          },
          "showscale": true
         },
         "mode": "markers",
         "showlegend": false,
         "x": [
          0.6702834114336479,
          0.7844776409790628,
          0.10355343969512301,
          0.3626884613535699,
          0.43600668404632226,
          0.5618244182989518,
          0.9177839927278014,
          0.845813193676909,
          0.27905278571093106,
          0.8955428316050676,
          0.9880223569011758,
          0.9521992993846475,
          0.9944299060775921,
          0.7104038528822796,
          0.6290733630065004,
          0.8592101784778369,
          0.7781515281016546,
          0.8032496238190892,
          0.4929905409277389,
          0.9240812752774222,
          0.7416820814661015,
          0.8937613578499045,
          0.9288882936508732,
          0.8492914434714659,
          0.6221533077847845,
          0.8417555554228818,
          0.9910317904503997,
          0.8407391604128857,
          0.7178419956096984,
          0.6620350119562723,
          0.8567848987924167,
          0.9058598154883305,
          0.9439619200496833,
          0.7813557365592267,
          0.12820328599695763,
          0.9446145200010203,
          0.7966091800651888,
          0.8782643245444735,
          0.7439280411749276,
          0.5543160491369354,
          0.3352629968840707,
          0.9519582452161891,
          0.9623835664820244,
          0.8326862506294659,
          0.8786221329497895,
          0.9791233487093123,
          0.9210488256937361,
          0.8108066377274746,
          0.9986764978676126,
          0.4761095603929125,
          0.9988627880393975,
          0.9618709554482672,
          0.8755752938165381,
          0.9179533567602799,
          0.8993585038604512,
          0.7532320069541821,
          0.9229085314596983,
          0.6888812444917201,
          0.8287401428534279,
          0.8658485072828651,
          0.9705960033474532,
          0.9227228456228612,
          0.9493013035258003,
          0.9972974375146766,
          0.8993228923560617,
          0.9454645670976128,
          0.9472795378351941,
          0.8550644482176017,
          0.809629188946331,
          0.9641474642724533,
          0.5907312279777568,
          0.9354373157061961,
          0.9433869004589305,
          0.9002221383254637,
          0.9784755138404475,
          0.999291696833448,
          0.9974542670934354,
          0.9933230247476861,
          0.9801689169365007,
          0.9966691526717276,
          0.9685619174937554,
          0.9739602378017044,
          0.922220252507021,
          0.9788616937932254,
          0.8971211803944061,
          0.9687181732452402,
          0.9729573557022866,
          0.9994794360211883,
          0.9425782096267136,
          0.8794202120456146,
          0.16863335597358786,
          0.9602412175082804,
          0.9344153838102498,
          0.9815662657569532,
          0.9424501555910166,
          0.4048504145453912,
          0.958993935581372,
          0.9044199890121263,
          0.5136830830288825,
          0.9823807773318836
         ],
         "y": [
          0.5032068412613575,
          0.5852472961477702,
          0.5689025109041612,
          0.5990214352283317,
          0.5641025641025641,
          0.6038264115725619,
          0.6141750491386286,
          0.5690168818272096,
          0.5910357640501626,
          0.5979769466007998,
          0.6110982658959537,
          0.6157561817136284,
          0.6124523506988565,
          0.6073505466387532,
          0.547181923225061,
          0.6168936072005539,
          0.6111689212625737,
          0.6,
          0.6089655172413794,
          0.602822114272496,
          0.6092515109251511,
          0.6095282039450917,
          0.6127101082201244,
          0.6146757286026956,
          0.6022740593130935,
          0.6042642924086223,
          0.611670480549199,
          0.6118055555555556,
          0.6085356033590245,
          0.6079090803664617,
          0.5588641789169494,
          0.6130259365994237,
          0.605911905596448,
          0.588021778584392,
          0.5816549660490274,
          0.6124280782508631,
          0.6082236082236082,
          0.6123112659698026,
          0.5951277480689245,
          0.6107701215981471,
          0.5886303669944831,
          0.6138431417712773,
          0.6108922363847045,
          0.6063558339132452,
          0.6127659574468085,
          0.6134841837912722,
          0.6062587575899113,
          0.6118275822005345,
          0.6170188199976907,
          0.604062681369704,
          0.6119558908879861,
          0.6131370067870701,
          0.6118710874101554,
          0.6159678345778288,
          0.6123942373656529,
          0.6080594588317269,
          0.611640454597635,
          0.6088056098402116,
          0.6111367837338262,
          0.6093913043478261,
          0.6099142923326384,
          0.611620085817001,
          0.6152249134948098,
          0.610231286316509,
          0.6137042998390434,
          0.61427260211106,
          0.6143595634692706,
          0.6110276268639463,
          0.6045210906548589,
          0.6126954921803128,
          0.6096938775510204,
          0.6133973479652491,
          0.616304472806715,
          0.6103221337028057,
          0.6166934927569556,
          0.615863500115287,
          0.6197701149425288,
          0.6160776160776161,
          0.6153669197147458,
          0.6160249739854319,
          0.6160560468588492,
          0.6151549942594718,
          0.6144619997693461,
          0.6117376294591483,
          0.610294968189705,
          0.6182615722036247,
          0.6091276718659735,
          0.6120078968760888,
          0.6169820027688047,
          0.6097589110624063,
          0.5851038991361195,
          0.6130549500975105,
          0.6108340099756409,
          0.6133271846898778,
          0.6107452339688042,
          0.6027906976744185,
          0.6130525341356168,
          0.6145509051078057,
          0.6129403638038222,
          0.6137748648959411
         ],
         "type": "scatter",
         "xaxis": "x",
         "yaxis": "y"
        },
        {
         "marker": {
          "color": [
           0,
           1,
           2,
           3,
           4,
           5,
           6,
           7,
           8,
           9,
           10,
           11,
           12,
           13,
           14,
           15,
           16,
           17,
           18,
           19,
           20,
           21,
           22,
           23,
           24,
           25,
           26,
           27,
           28,
           29,
           30,
           31,
           32,
           33,
           34,
           35,
           36,
           37,
           38,
           39,
           40,
           41,
           42,
           43,
           44,
           45,
           46,
           47,
           48,
           49,
           50,
           51,
           52,
           53,
           54,
           55,
           56,
           57,
           58,
           59,
           60,
           61,
           62,
           63,
           64,
           65,
           66,
           67,
           68,
           69,
           70,
           71,
           72,
           73,
           74,
           75,
           76,
           77,
           78,
           79,
           80,
           81,
           82,
           83,
           84,
           85,
           86,
           87,
           88,
           89,
           90,
           91,
           92,
           93,
           94,
           95,
           96,
           97,
           98,
           99
          ],
          "colorbar": {
           "title": {
            "text": "Trial"
           },
           "x": 1.0,
           "xpad": 40
          },
          "colorscale": [
           [
            0.0,
            "rgb(247,251,255)"
           ],
           [
            0.125,
            "rgb(222,235,247)"
           ],
           [
            0.25,
            "rgb(198,219,239)"
           ],
           [
            0.375,
            "rgb(158,202,225)"
           ],
           [
            0.5,
            "rgb(107,174,214)"
           ],
           [
            0.625,
            "rgb(66,146,198)"
           ],
           [
            0.75,
            "rgb(33,113,181)"
           ],
           [
            0.875,
            "rgb(8,81,156)"
           ],
           [
            1.0,
            "rgb(8,48,107)"
           ]
          ],
          "line": {
           "color": "Grey",
           "width": 0.5
          },
          "showscale": false
         },
         "mode": "markers",
         "showlegend": false,
         "x": [
          11,
          2,
          8,
          14,
          10,
          10,
          5,
          0,
          13,
          5,
          5,
          5,
          5,
          3,
          7,
          7,
          8,
          3,
          7,
          1,
          9,
          6,
          4,
          6,
          6,
          7,
          3,
          9,
          12,
          11,
          6,
          4,
          4,
          6,
          2,
          8,
          15,
          9,
          5,
          2,
          7,
          4,
          4,
          5,
          6,
          3,
          1,
          5,
          4,
          8,
          7,
          4,
          3,
          6,
          6,
          5,
          8,
          5,
          7,
          6,
          9,
          4,
          5,
          5,
          6,
          5,
          7,
          7,
          8,
          10,
          6,
          7,
          5,
          6,
          7,
          4,
          2,
          2,
          0,
          2,
          1,
          1,
          1,
          2,
          0,
          2,
          2,
          2,
          1,
          1,
          3,
          1,
          0,
          2,
          3,
          2,
          1,
          3,
          0,
          2
         ],
         "y": [
          0.5032068412613575,
          0.5852472961477702,
          0.5689025109041612,
          0.5990214352283317,
          0.5641025641025641,
          0.6038264115725619,
          0.6141750491386286,
          0.5690168818272096,
          0.5910357640501626,
          0.5979769466007998,
          0.6110982658959537,
          0.6157561817136284,
          0.6124523506988565,
          0.6073505466387532,
          0.547181923225061,
          0.6168936072005539,
          0.6111689212625737,
          0.6,
          0.6089655172413794,
          0.602822114272496,
          0.6092515109251511,
          0.6095282039450917,
          0.6127101082201244,
          0.6146757286026956,
          0.6022740593130935,
          0.6042642924086223,
          0.611670480549199,
          0.6118055555555556,
          0.6085356033590245,
          0.6079090803664617,
          0.5588641789169494,
          0.6130259365994237,
          0.605911905596448,
          0.588021778584392,
          0.5816549660490274,
          0.6124280782508631,
          0.6082236082236082,
          0.6123112659698026,
          0.5951277480689245,
          0.6107701215981471,
          0.5886303669944831,
          0.6138431417712773,
          0.6108922363847045,
          0.6063558339132452,
          0.6127659574468085,
          0.6134841837912722,
          0.6062587575899113,
          0.6118275822005345,
          0.6170188199976907,
          0.604062681369704,
          0.6119558908879861,
          0.6131370067870701,
          0.6118710874101554,
          0.6159678345778288,
          0.6123942373656529,
          0.6080594588317269,
          0.611640454597635,
          0.6088056098402116,
          0.6111367837338262,
          0.6093913043478261,
          0.6099142923326384,
          0.611620085817001,
          0.6152249134948098,
          0.610231286316509,
          0.6137042998390434,
          0.61427260211106,
          0.6143595634692706,
          0.6110276268639463,
          0.6045210906548589,
          0.6126954921803128,
          0.6096938775510204,
          0.6133973479652491,
          0.616304472806715,
          0.6103221337028057,
          0.6166934927569556,
          0.615863500115287,
          0.6197701149425288,
          0.6160776160776161,
          0.6153669197147458,
          0.6160249739854319,
          0.6160560468588492,
          0.6151549942594718,
          0.6144619997693461,
          0.6117376294591483,
          0.610294968189705,
          0.6182615722036247,
          0.6091276718659735,
          0.6120078968760888,
          0.6169820027688047,
          0.6097589110624063,
          0.5851038991361195,
          0.6130549500975105,
          0.6108340099756409,
          0.6133271846898778,
          0.6107452339688042,
          0.6027906976744185,
          0.6130525341356168,
          0.6145509051078057,
          0.6129403638038222,
          0.6137748648959411
         ],
         "type": "scatter",
         "xaxis": "x2",
         "yaxis": "y2"
        },
        {
         "marker": {
          "color": [
           0,
           1,
           2,
           3,
           4,
           5,
           6,
           7,
           8,
           9,
           10,
           11,
           12,
           13,
           14,
           15,
           16,
           17,
           18,
           19,
           20,
           21,
           22,
           23,
           24,
           25,
           26,
           27,
           28,
           29,
           30,
           31,
           32,
           33,
           34,
           35,
           36,
           37,
           38,
           39,
           40,
           41,
           42,
           43,
           44,
           45,
           46,
           47,
           48,
           49,
           50,
           51,
           52,
           53,
           54,
           55,
           56,
           57,
           58,
           59,
           60,
           61,
           62,
           63,
           64,
           65,
           66,
           67,
           68,
           69,
           70,
           71,
           72,
           73,
           74,
           75,
           76,
           77,
           78,
           79,
           80,
           81,
           82,
           83,
           84,
           85,
           86,
           87,
           88,
           89,
           90,
           91,
           92,
           93,
           94,
           95,
           96,
           97,
           98,
           99
          ],
          "colorbar": {
           "title": {
            "text": "Trial"
           },
           "x": 1.0,
           "xpad": 40
          },
          "colorscale": [
           [
            0.0,
            "rgb(247,251,255)"
           ],
           [
            0.125,
            "rgb(222,235,247)"
           ],
           [
            0.25,
            "rgb(198,219,239)"
           ],
           [
            0.375,
            "rgb(158,202,225)"
           ],
           [
            0.5,
            "rgb(107,174,214)"
           ],
           [
            0.625,
            "rgb(66,146,198)"
           ],
           [
            0.75,
            "rgb(33,113,181)"
           ],
           [
            0.875,
            "rgb(8,81,156)"
           ],
           [
            1.0,
            "rgb(8,48,107)"
           ]
          ],
          "line": {
           "color": "Grey",
           "width": 0.5
          },
          "showscale": false
         },
         "mode": "markers",
         "showlegend": false,
         "x": [
          0.11867675442346136,
          0.27825657828366157,
          0.9580540115754429,
          0.7495797856886196,
          0.22795304284137427,
          0.6559902806223854,
          0.5694824371542707,
          0.2025859256771948,
          0.8373582961030618,
          0.36636553619171086,
          0.47866438082785684,
          0.5395936021870693,
          0.546385714261104,
          0.4399220795472081,
          0.6534885885214556,
          0.6116953675356487,
          0.7731329467192255,
          0.35267787625264396,
          0.6342790051510949,
          0.9286712161777549,
          0.4994095252892826,
          0.592843705146675,
          0.7208292448977502,
          0.5495705566624484,
          0.3792498522628232,
          0.4393480058155036,
          0.8450344734005272,
          0.5256477922280606,
          0.69573749301939,
          0.5872300593426332,
          0.12519818329351962,
          0.5786838579012311,
          0.4484429352665741,
          0.6327610073655326,
          0.5591042242261712,
          0.7965018253039224,
          0.685287823915654,
          0.5050702241217994,
          0.29077833344912957,
          0.6144158751721154,
          0.38987933878362513,
          0.5647569578445123,
          0.5496099479155183,
          0.48568549856347587,
          0.6661230330653197,
          0.7168822341485852,
          0.4165455864729469,
          0.5290311773254799,
          0.6125869029447844,
          0.6192931378753052,
          0.46347088832071326,
          0.592335930060175,
          0.5534604678216336,
          0.7445267879445225,
          0.7689330245976098,
          0.8415901227704643,
          0.893840357192912,
          0.7255352092931355,
          0.6619795484965478,
          0.5152257639222757,
          0.6131045838221252,
          0.5695978349325308,
          0.6522551667111989,
          0.9931235346100087,
          0.6938265257182531,
          0.8035025954563552,
          0.7920615140792409,
          0.756637596861075,
          0.8033646460908586,
          0.8861082499659643,
          0.6454745787466214,
          0.8006124465252981,
          0.7423384001033887,
          0.7330982980678098,
          0.6950748377331017,
          0.6927148141985483,
          0.6795733972759715,
          0.6941813067052943,
          0.6791812375988852,
          0.7052706419455337,
          0.7375508507542391,
          0.745937865440178,
          0.7193505393165788,
          0.7052374912067185,
          0.7443688291029225,
          0.6748954636843618,
          0.6703172610082069,
          0.6289826099568654,
          0.8234224584095823,
          0.8716337904414477,
          0.8245128644220984,
          0.7637284709842705,
          0.6083343827138993,
          0.7785764231363176,
          0.7070774826998962,
          0.6403663808619244,
          0.6735793822620049,
          0.7312104260804315,
          0.5978449626736646,
          0.8239947510530247
         ],
         "y": [
          0.5032068412613575,
          0.5852472961477702,
          0.5689025109041612,
          0.5990214352283317,
          0.5641025641025641,
          0.6038264115725619,
          0.6141750491386286,
          0.5690168818272096,
          0.5910357640501626,
          0.5979769466007998,
          0.6110982658959537,
          0.6157561817136284,
          0.6124523506988565,
          0.6073505466387532,
          0.547181923225061,
          0.6168936072005539,
          0.6111689212625737,
          0.6,
          0.6089655172413794,
          0.602822114272496,
          0.6092515109251511,
          0.6095282039450917,
          0.6127101082201244,
          0.6146757286026956,
          0.6022740593130935,
          0.6042642924086223,
          0.611670480549199,
          0.6118055555555556,
          0.6085356033590245,
          0.6079090803664617,
          0.5588641789169494,
          0.6130259365994237,
          0.605911905596448,
          0.588021778584392,
          0.5816549660490274,
          0.6124280782508631,
          0.6082236082236082,
          0.6123112659698026,
          0.5951277480689245,
          0.6107701215981471,
          0.5886303669944831,
          0.6138431417712773,
          0.6108922363847045,
          0.6063558339132452,
          0.6127659574468085,
          0.6134841837912722,
          0.6062587575899113,
          0.6118275822005345,
          0.6170188199976907,
          0.604062681369704,
          0.6119558908879861,
          0.6131370067870701,
          0.6118710874101554,
          0.6159678345778288,
          0.6123942373656529,
          0.6080594588317269,
          0.611640454597635,
          0.6088056098402116,
          0.6111367837338262,
          0.6093913043478261,
          0.6099142923326384,
          0.611620085817001,
          0.6152249134948098,
          0.610231286316509,
          0.6137042998390434,
          0.61427260211106,
          0.6143595634692706,
          0.6110276268639463,
          0.6045210906548589,
          0.6126954921803128,
          0.6096938775510204,
          0.6133973479652491,
          0.616304472806715,
          0.6103221337028057,
          0.6166934927569556,
          0.615863500115287,
          0.6197701149425288,
          0.6160776160776161,
          0.6153669197147458,
          0.6160249739854319,
          0.6160560468588492,
          0.6151549942594718,
          0.6144619997693461,
          0.6117376294591483,
          0.610294968189705,
          0.6182615722036247,
          0.6091276718659735,
          0.6120078968760888,
          0.6169820027688047,
          0.6097589110624063,
          0.5851038991361195,
          0.6130549500975105,
          0.6108340099756409,
          0.6133271846898778,
          0.6107452339688042,
          0.6027906976744185,
          0.6130525341356168,
          0.6145509051078057,
          0.6129403638038222,
          0.6137748648959411
         ],
         "type": "scatter",
         "xaxis": "x3",
         "yaxis": "y3"
        },
        {
         "marker": {
          "color": [
           0,
           1,
           2,
           3,
           4,
           5,
           6,
           7,
           8,
           9,
           10,
           11,
           12,
           13,
           14,
           15,
           16,
           17,
           18,
           19,
           20,
           21,
           22,
           23,
           24,
           25,
           26,
           27,
           28,
           29,
           30,
           31,
           32,
           33,
           34,
           35,
           36,
           37,
           38,
           39,
           40,
           41,
           42,
           43,
           44,
           45,
           46,
           47,
           48,
           49,
           50,
           51,
           52,
           53,
           54,
           55,
           56,
           57,
           58,
           59,
           60,
           61,
           62,
           63,
           64,
           65,
           66,
           67,
           68,
           69,
           70,
           71,
           72,
           73,
           74,
           75,
           76,
           77,
           78,
           79,
           80,
           81,
           82,
           83,
           84,
           85,
           86,
           87,
           88,
           89,
           90,
           91,
           92,
           93,
           94,
           95,
           96,
           97,
           98,
           99
          ],
          "colorbar": {
           "title": {
            "text": "Trial"
           },
           "x": 1.0,
           "xpad": 40
          },
          "colorscale": [
           [
            0.0,
            "rgb(247,251,255)"
           ],
           [
            0.125,
            "rgb(222,235,247)"
           ],
           [
            0.25,
            "rgb(198,219,239)"
           ],
           [
            0.375,
            "rgb(158,202,225)"
           ],
           [
            0.5,
            "rgb(107,174,214)"
           ],
           [
            0.625,
            "rgb(66,146,198)"
           ],
           [
            0.75,
            "rgb(33,113,181)"
           ],
           [
            0.875,
            "rgb(8,81,156)"
           ],
           [
            1.0,
            "rgb(8,48,107)"
           ]
          ],
          "line": {
           "color": "Grey",
           "width": 0.5
          },
          "showscale": false
         },
         "mode": "markers",
         "showlegend": false,
         "x": [
          50,
          9,
          82,
          72,
          45,
          61,
          10,
          63,
          36,
          17,
          26,
          29,
          3,
          27,
          18,
          37,
          100,
          42,
          32,
          55,
          38,
          17,
          2,
          24,
          28,
          22,
          49,
          37,
          31,
          47,
          55,
          11,
          10,
          22,
          12,
          23,
          6,
          43,
          32,
          15,
          79,
          10,
          6,
          20,
          13,
          27,
          39,
          5,
          33,
          33,
          67,
          26,
          41,
          34,
          35,
          29,
          44,
          35,
          54,
          25,
          18,
          30,
          15,
          15,
          23,
          19,
          93,
          88,
          88,
          99,
          47,
          19,
          38,
          40,
          35,
          37,
          37,
          37,
          50,
          37,
          34,
          34,
          38,
          47,
          42,
          31,
          31,
          40,
          53,
          64,
          53,
          45,
          37,
          28,
          31,
          60,
          59,
          36,
          42,
          52
         ],
         "y": [
          0.5032068412613575,
          0.5852472961477702,
          0.5689025109041612,
          0.5990214352283317,
          0.5641025641025641,
          0.6038264115725619,
          0.6141750491386286,
          0.5690168818272096,
          0.5910357640501626,
          0.5979769466007998,
          0.6110982658959537,
          0.6157561817136284,
          0.6124523506988565,
          0.6073505466387532,
          0.547181923225061,
          0.6168936072005539,
          0.6111689212625737,
          0.6,
          0.6089655172413794,
          0.602822114272496,
          0.6092515109251511,
          0.6095282039450917,
          0.6127101082201244,
          0.6146757286026956,
          0.6022740593130935,
          0.6042642924086223,
          0.611670480549199,
          0.6118055555555556,
          0.6085356033590245,
          0.6079090803664617,
          0.5588641789169494,
          0.6130259365994237,
          0.605911905596448,
          0.588021778584392,
          0.5816549660490274,
          0.6124280782508631,
          0.6082236082236082,
          0.6123112659698026,
          0.5951277480689245,
          0.6107701215981471,
          0.5886303669944831,
          0.6138431417712773,
          0.6108922363847045,
          0.6063558339132452,
          0.6127659574468085,
          0.6134841837912722,
          0.6062587575899113,
          0.6118275822005345,
          0.6170188199976907,
          0.604062681369704,
          0.6119558908879861,
          0.6131370067870701,
          0.6118710874101554,
          0.6159678345778288,
          0.6123942373656529,
          0.6080594588317269,
          0.611640454597635,
          0.6088056098402116,
          0.6111367837338262,
          0.6093913043478261,
          0.6099142923326384,
          0.611620085817001,
          0.6152249134948098,
          0.610231286316509,
          0.6137042998390434,
          0.61427260211106,
          0.6143595634692706,
          0.6110276268639463,
          0.6045210906548589,
          0.6126954921803128,
          0.6096938775510204,
          0.6133973479652491,
          0.616304472806715,
          0.6103221337028057,
          0.6166934927569556,
          0.615863500115287,
          0.6197701149425288,
          0.6160776160776161,
          0.6153669197147458,
          0.6160249739854319,
          0.6160560468588492,
          0.6151549942594718,
          0.6144619997693461,
          0.6117376294591483,
          0.610294968189705,
          0.6182615722036247,
          0.6091276718659735,
          0.6120078968760888,
          0.6169820027688047,
          0.6097589110624063,
          0.5851038991361195,
          0.6130549500975105,
          0.6108340099756409,
          0.6133271846898778,
          0.6107452339688042,
          0.6027906976744185,
          0.6130525341356168,
          0.6145509051078057,
          0.6129403638038222,
          0.6137748648959411
         ],
         "type": "scatter",
         "xaxis": "x4",
         "yaxis": "y4"
        },
        {
         "marker": {
          "color": [
           0,
           1,
           2,
           3,
           4,
           5,
           6,
           7,
           8,
           9,
           10,
           11,
           12,
           13,
           14,
           15,
           16,
           17,
           18,
           19,
           20,
           21,
           22,
           23,
           24,
           25,
           26,
           27,
           28,
           29,
           30,
           31,
           32,
           33,
           34,
           35,
           36,
           37,
           38,
           39,
           40,
           41,
           42,
           43,
           44,
           45,
           46,
           47,
           48,
           49,
           50,
           51,
           52,
           53,
           54,
           55,
           56,
           57,
           58,
           59,
           60,
           61,
           62,
           63,
           64,
           65,
           66,
           67,
           68,
           69,
           70,
           71,
           72,
           73,
           74,
           75,
           76,
           77,
           78,
           79,
           80,
           81,
           82,
           83,
           84,
           85,
           86,
           87,
           88,
           89,
           90,
           91,
           92,
           93,
           94,
           95,
           96,
           97,
           98,
           99
          ],
          "colorbar": {
           "title": {
            "text": "Trial"
           },
           "x": 1.0,
           "xpad": 40
          },
          "colorscale": [
           [
            0.0,
            "rgb(247,251,255)"
           ],
           [
            0.125,
            "rgb(222,235,247)"
           ],
           [
            0.25,
            "rgb(198,219,239)"
           ],
           [
            0.375,
            "rgb(158,202,225)"
           ],
           [
            0.5,
            "rgb(107,174,214)"
           ],
           [
            0.625,
            "rgb(66,146,198)"
           ],
           [
            0.75,
            "rgb(33,113,181)"
           ],
           [
            0.875,
            "rgb(8,81,156)"
           ],
           [
            1.0,
            "rgb(8,48,107)"
           ]
          ],
          "line": {
           "color": "Grey",
           "width": 0.5
          },
          "showscale": false
         },
         "mode": "markers",
         "showlegend": false,
         "x": [
          396,
          116,
          352,
          315,
          279,
          223,
          413,
          155,
          281,
          387,
          481,
          505,
          486,
          504,
          16,
          436,
          443,
          448,
          351,
          192,
          448,
          405,
          501,
          425,
          361,
          452,
          320,
          425,
          466,
          510,
          372,
          409,
          421,
          53,
          331,
          384,
          473,
          251,
          291,
          426,
          122,
          407,
          341,
          391,
          469,
          488,
          438,
          403,
          368,
          371,
          292,
          461,
          420,
          387,
          488,
          351,
          435,
          379,
          308,
          454,
          262,
          398,
          412,
          362,
          496,
          443,
          441,
          511,
          194,
          478,
          432,
          448,
          414,
          391,
          415,
          368,
          330,
          326,
          330,
          313,
          306,
          316,
          340,
          301,
          263,
          278,
          240,
          284,
          274,
          276,
          236,
          327,
          272,
          216,
          299,
          346,
          322,
          310,
          356,
          252
         ],
         "y": [
          0.5032068412613575,
          0.5852472961477702,
          0.5689025109041612,
          0.5990214352283317,
          0.5641025641025641,
          0.6038264115725619,
          0.6141750491386286,
          0.5690168818272096,
          0.5910357640501626,
          0.5979769466007998,
          0.6110982658959537,
          0.6157561817136284,
          0.6124523506988565,
          0.6073505466387532,
          0.547181923225061,
          0.6168936072005539,
          0.6111689212625737,
          0.6,
          0.6089655172413794,
          0.602822114272496,
          0.6092515109251511,
          0.6095282039450917,
          0.6127101082201244,
          0.6146757286026956,
          0.6022740593130935,
          0.6042642924086223,
          0.611670480549199,
          0.6118055555555556,
          0.6085356033590245,
          0.6079090803664617,
          0.5588641789169494,
          0.6130259365994237,
          0.605911905596448,
          0.588021778584392,
          0.5816549660490274,
          0.6124280782508631,
          0.6082236082236082,
          0.6123112659698026,
          0.5951277480689245,
          0.6107701215981471,
          0.5886303669944831,
          0.6138431417712773,
          0.6108922363847045,
          0.6063558339132452,
          0.6127659574468085,
          0.6134841837912722,
          0.6062587575899113,
          0.6118275822005345,
          0.6170188199976907,
          0.604062681369704,
          0.6119558908879861,
          0.6131370067870701,
          0.6118710874101554,
          0.6159678345778288,
          0.6123942373656529,
          0.6080594588317269,
          0.611640454597635,
          0.6088056098402116,
          0.6111367837338262,
          0.6093913043478261,
          0.6099142923326384,
          0.611620085817001,
          0.6152249134948098,
          0.610231286316509,
          0.6137042998390434,
          0.61427260211106,
          0.6143595634692706,
          0.6110276268639463,
          0.6045210906548589,
          0.6126954921803128,
          0.6096938775510204,
          0.6133973479652491,
          0.616304472806715,
          0.6103221337028057,
          0.6166934927569556,
          0.615863500115287,
          0.6197701149425288,
          0.6160776160776161,
          0.6153669197147458,
          0.6160249739854319,
          0.6160560468588492,
          0.6151549942594718,
          0.6144619997693461,
          0.6117376294591483,
          0.610294968189705,
          0.6182615722036247,
          0.6091276718659735,
          0.6120078968760888,
          0.6169820027688047,
          0.6097589110624063,
          0.5851038991361195,
          0.6130549500975105,
          0.6108340099756409,
          0.6133271846898778,
          0.6107452339688042,
          0.6027906976744185,
          0.6130525341356168,
          0.6145509051078057,
          0.6129403638038222,
          0.6137748648959411
         ],
         "type": "scatter",
         "xaxis": "x5",
         "yaxis": "y5"
        }
       ],
       "layout": {
        "template": {
         "data": {
          "histogram2dcontour": [
           {
            "type": "histogram2dcontour",
            "colorbar": {
             "outlinewidth": 0,
             "ticks": ""
            },
            "colorscale": [
             [
              0.0,
              "#0d0887"
             ],
             [
              0.1111111111111111,
              "#46039f"
             ],
             [
              0.2222222222222222,
              "#7201a8"
             ],
             [
              0.3333333333333333,
              "#9c179e"
             ],
             [
              0.4444444444444444,
              "#bd3786"
             ],
             [
              0.5555555555555556,
              "#d8576b"
             ],
             [
              0.6666666666666666,
              "#ed7953"
             ],
             [
              0.7777777777777778,
              "#fb9f3a"
             ],
             [
              0.8888888888888888,
              "#fdca26"
             ],
             [
              1.0,
              "#f0f921"
             ]
            ]
           }
          ],
          "choropleth": [
           {
            "type": "choropleth",
            "colorbar": {
             "outlinewidth": 0,
             "ticks": ""
            }
           }
          ],
          "histogram2d": [
           {
            "type": "histogram2d",
            "colorbar": {
             "outlinewidth": 0,
             "ticks": ""
            },
            "colorscale": [
             [
              0.0,
              "#0d0887"
             ],
             [
              0.1111111111111111,
              "#46039f"
             ],
             [
              0.2222222222222222,
              "#7201a8"
             ],
             [
              0.3333333333333333,
              "#9c179e"
             ],
             [
              0.4444444444444444,
              "#bd3786"
             ],
             [
              0.5555555555555556,
              "#d8576b"
             ],
             [
              0.6666666666666666,
              "#ed7953"
             ],
             [
              0.7777777777777778,
              "#fb9f3a"
             ],
             [
              0.8888888888888888,
              "#fdca26"
             ],
             [
              1.0,
              "#f0f921"
             ]
            ]
           }
          ],
          "heatmap": [
           {
            "type": "heatmap",
            "colorbar": {
             "outlinewidth": 0,
             "ticks": ""
            },
            "colorscale": [
             [
              0.0,
              "#0d0887"
             ],
             [
              0.1111111111111111,
              "#46039f"
             ],
             [
              0.2222222222222222,
              "#7201a8"
             ],
             [
              0.3333333333333333,
              "#9c179e"
             ],
             [
              0.4444444444444444,
              "#bd3786"
             ],
             [
              0.5555555555555556,
              "#d8576b"
             ],
             [
              0.6666666666666666,
              "#ed7953"
             ],
             [
              0.7777777777777778,
              "#fb9f3a"
             ],
             [
              0.8888888888888888,
              "#fdca26"
             ],
             [
              1.0,
              "#f0f921"
             ]
            ]
           }
          ],
          "heatmapgl": [
           {
            "type": "heatmapgl",
            "colorbar": {
             "outlinewidth": 0,
             "ticks": ""
            },
            "colorscale": [
             [
              0.0,
              "#0d0887"
             ],
             [
              0.1111111111111111,
              "#46039f"
             ],
             [
              0.2222222222222222,
              "#7201a8"
             ],
             [
              0.3333333333333333,
              "#9c179e"
             ],
             [
              0.4444444444444444,
              "#bd3786"
             ],
             [
              0.5555555555555556,
              "#d8576b"
             ],
             [
              0.6666666666666666,
              "#ed7953"
             ],
             [
              0.7777777777777778,
              "#fb9f3a"
             ],
             [
              0.8888888888888888,
              "#fdca26"
             ],
             [
              1.0,
              "#f0f921"
             ]
            ]
           }
          ],
          "contourcarpet": [
           {
            "type": "contourcarpet",
            "colorbar": {
             "outlinewidth": 0,
             "ticks": ""
            }
           }
          ],
          "contour": [
           {
            "type": "contour",
            "colorbar": {
             "outlinewidth": 0,
             "ticks": ""
            },
            "colorscale": [
             [
              0.0,
              "#0d0887"
             ],
             [
              0.1111111111111111,
              "#46039f"
             ],
             [
              0.2222222222222222,
              "#7201a8"
             ],
             [
              0.3333333333333333,
              "#9c179e"
             ],
             [
              0.4444444444444444,
              "#bd3786"
             ],
             [
              0.5555555555555556,
              "#d8576b"
             ],
             [
              0.6666666666666666,
              "#ed7953"
             ],
             [
              0.7777777777777778,
              "#fb9f3a"
             ],
             [
              0.8888888888888888,
              "#fdca26"
             ],
             [
              1.0,
              "#f0f921"
             ]
            ]
           }
          ],
          "surface": [
           {
            "type": "surface",
            "colorbar": {
             "outlinewidth": 0,
             "ticks": ""
            },
            "colorscale": [
             [
              0.0,
              "#0d0887"
             ],
             [
              0.1111111111111111,
              "#46039f"
             ],
             [
              0.2222222222222222,
              "#7201a8"
             ],
             [
              0.3333333333333333,
              "#9c179e"
             ],
             [
              0.4444444444444444,
              "#bd3786"
             ],
             [
              0.5555555555555556,
              "#d8576b"
             ],
             [
              0.6666666666666666,
              "#ed7953"
             ],
             [
              0.7777777777777778,
              "#fb9f3a"
             ],
             [
              0.8888888888888888,
              "#fdca26"
             ],
             [
              1.0,
              "#f0f921"
             ]
            ]
           }
          ],
          "mesh3d": [
           {
            "type": "mesh3d",
            "colorbar": {
             "outlinewidth": 0,
             "ticks": ""
            }
           }
          ],
          "scatter": [
           {
            "fillpattern": {
             "fillmode": "overlay",
             "size": 10,
             "solidity": 0.2
            },
            "type": "scatter"
           }
          ],
          "parcoords": [
           {
            "type": "parcoords",
            "line": {
             "colorbar": {
              "outlinewidth": 0,
              "ticks": ""
             }
            }
           }
          ],
          "scatterpolargl": [
           {
            "type": "scatterpolargl",
            "marker": {
             "colorbar": {
              "outlinewidth": 0,
              "ticks": ""
             }
            }
           }
          ],
          "bar": [
           {
            "error_x": {
             "color": "#2a3f5f"
            },
            "error_y": {
             "color": "#2a3f5f"
            },
            "marker": {
             "line": {
              "color": "#E5ECF6",
              "width": 0.5
             },
             "pattern": {
              "fillmode": "overlay",
              "size": 10,
              "solidity": 0.2
             }
            },
            "type": "bar"
           }
          ],
          "scattergeo": [
           {
            "type": "scattergeo",
            "marker": {
             "colorbar": {
              "outlinewidth": 0,
              "ticks": ""
             }
            }
           }
          ],
          "scatterpolar": [
           {
            "type": "scatterpolar",
            "marker": {
             "colorbar": {
              "outlinewidth": 0,
              "ticks": ""
             }
            }
           }
          ],
          "histogram": [
           {
            "marker": {
             "pattern": {
              "fillmode": "overlay",
              "size": 10,
              "solidity": 0.2
             }
            },
            "type": "histogram"
           }
          ],
          "scattergl": [
           {
            "type": "scattergl",
            "marker": {
             "colorbar": {
              "outlinewidth": 0,
              "ticks": ""
             }
            }
           }
          ],
          "scatter3d": [
           {
            "type": "scatter3d",
            "line": {
             "colorbar": {
              "outlinewidth": 0,
              "ticks": ""
             }
            },
            "marker": {
             "colorbar": {
              "outlinewidth": 0,
              "ticks": ""
             }
            }
           }
          ],
          "scattermapbox": [
           {
            "type": "scattermapbox",
            "marker": {
             "colorbar": {
              "outlinewidth": 0,
              "ticks": ""
             }
            }
           }
          ],
          "scatterternary": [
           {
            "type": "scatterternary",
            "marker": {
             "colorbar": {
              "outlinewidth": 0,
              "ticks": ""
             }
            }
           }
          ],
          "scattercarpet": [
           {
            "type": "scattercarpet",
            "marker": {
             "colorbar": {
              "outlinewidth": 0,
              "ticks": ""
             }
            }
           }
          ],
          "carpet": [
           {
            "aaxis": {
             "endlinecolor": "#2a3f5f",
             "gridcolor": "white",
             "linecolor": "white",
             "minorgridcolor": "white",
             "startlinecolor": "#2a3f5f"
            },
            "baxis": {
             "endlinecolor": "#2a3f5f",
             "gridcolor": "white",
             "linecolor": "white",
             "minorgridcolor": "white",
             "startlinecolor": "#2a3f5f"
            },
            "type": "carpet"
           }
          ],
          "table": [
           {
            "cells": {
             "fill": {
              "color": "#EBF0F8"
             },
             "line": {
              "color": "white"
             }
            },
            "header": {
             "fill": {
              "color": "#C8D4E3"
             },
             "line": {
              "color": "white"
             }
            },
            "type": "table"
           }
          ],
          "barpolar": [
           {
            "marker": {
             "line": {
              "color": "#E5ECF6",
              "width": 0.5
             },
             "pattern": {
              "fillmode": "overlay",
              "size": 10,
              "solidity": 0.2
             }
            },
            "type": "barpolar"
           }
          ],
          "pie": [
           {
            "automargin": true,
            "type": "pie"
           }
          ]
         },
         "layout": {
          "autotypenumbers": "strict",
          "colorway": [
           "#636efa",
           "#EF553B",
           "#00cc96",
           "#ab63fa",
           "#FFA15A",
           "#19d3f3",
           "#FF6692",
           "#B6E880",
           "#FF97FF",
           "#FECB52"
          ],
          "font": {
           "color": "#2a3f5f"
          },
          "hovermode": "closest",
          "hoverlabel": {
           "align": "left"
          },
          "paper_bgcolor": "white",
          "plot_bgcolor": "#E5ECF6",
          "polar": {
           "bgcolor": "#E5ECF6",
           "angularaxis": {
            "gridcolor": "white",
            "linecolor": "white",
            "ticks": ""
           },
           "radialaxis": {
            "gridcolor": "white",
            "linecolor": "white",
            "ticks": ""
           }
          },
          "ternary": {
           "bgcolor": "#E5ECF6",
           "aaxis": {
            "gridcolor": "white",
            "linecolor": "white",
            "ticks": ""
           },
           "baxis": {
            "gridcolor": "white",
            "linecolor": "white",
            "ticks": ""
           },
           "caxis": {
            "gridcolor": "white",
            "linecolor": "white",
            "ticks": ""
           }
          },
          "coloraxis": {
           "colorbar": {
            "outlinewidth": 0,
            "ticks": ""
           }
          },
          "colorscale": {
           "sequential": [
            [
             0.0,
             "#0d0887"
            ],
            [
             0.1111111111111111,
             "#46039f"
            ],
            [
             0.2222222222222222,
             "#7201a8"
            ],
            [
             0.3333333333333333,
             "#9c179e"
            ],
            [
             0.4444444444444444,
             "#bd3786"
            ],
            [
             0.5555555555555556,
             "#d8576b"
            ],
            [
             0.6666666666666666,
             "#ed7953"
            ],
            [
             0.7777777777777778,
             "#fb9f3a"
            ],
            [
             0.8888888888888888,
             "#fdca26"
            ],
            [
             1.0,
             "#f0f921"
            ]
           ],
           "sequentialminus": [
            [
             0.0,
             "#0d0887"
            ],
            [
             0.1111111111111111,
             "#46039f"
            ],
            [
             0.2222222222222222,
             "#7201a8"
            ],
            [
             0.3333333333333333,
             "#9c179e"
            ],
            [
             0.4444444444444444,
             "#bd3786"
            ],
            [
             0.5555555555555556,
             "#d8576b"
            ],
            [
             0.6666666666666666,
             "#ed7953"
            ],
            [
             0.7777777777777778,
             "#fb9f3a"
            ],
            [
             0.8888888888888888,
             "#fdca26"
            ],
            [
             1.0,
             "#f0f921"
            ]
           ],
           "diverging": [
            [
             0,
             "#8e0152"
            ],
            [
             0.1,
             "#c51b7d"
            ],
            [
             0.2,
             "#de77ae"
            ],
            [
             0.3,
             "#f1b6da"
            ],
            [
             0.4,
             "#fde0ef"
            ],
            [
             0.5,
             "#f7f7f7"
            ],
            [
             0.6,
             "#e6f5d0"
            ],
            [
             0.7,
             "#b8e186"
            ],
            [
             0.8,
             "#7fbc41"
            ],
            [
             0.9,
             "#4d9221"
            ],
            [
             1,
             "#276419"
            ]
           ]
          },
          "xaxis": {
           "gridcolor": "white",
           "linecolor": "white",
           "ticks": "",
           "title": {
            "standoff": 15
           },
           "zerolinecolor": "white",
           "automargin": true,
           "zerolinewidth": 2
          },
          "yaxis": {
           "gridcolor": "white",
           "linecolor": "white",
           "ticks": "",
           "title": {
            "standoff": 15
           },
           "zerolinecolor": "white",
           "automargin": true,
           "zerolinewidth": 2
          },
          "scene": {
           "xaxis": {
            "backgroundcolor": "#E5ECF6",
            "gridcolor": "white",
            "linecolor": "white",
            "showbackground": true,
            "ticks": "",
            "zerolinecolor": "white",
            "gridwidth": 2
           },
           "yaxis": {
            "backgroundcolor": "#E5ECF6",
            "gridcolor": "white",
            "linecolor": "white",
            "showbackground": true,
            "ticks": "",
            "zerolinecolor": "white",
            "gridwidth": 2
           },
           "zaxis": {
            "backgroundcolor": "#E5ECF6",
            "gridcolor": "white",
            "linecolor": "white",
            "showbackground": true,
            "ticks": "",
            "zerolinecolor": "white",
            "gridwidth": 2
           }
          },
          "shapedefaults": {
           "line": {
            "color": "#2a3f5f"
           }
          },
          "annotationdefaults": {
           "arrowcolor": "#2a3f5f",
           "arrowhead": 0,
           "arrowwidth": 1
          },
          "geo": {
           "bgcolor": "white",
           "landcolor": "#E5ECF6",
           "subunitcolor": "white",
           "showland": true,
           "showlakes": true,
           "lakecolor": "white"
          },
          "title": {
           "x": 0.05
          },
          "mapbox": {
           "style": "light"
          }
         }
        },
        "xaxis": {
         "anchor": "y",
         "domain": [
          0.0,
          0.16799999999999998
         ],
         "title": {
          "text": "bagging_fraction"
         }
        },
        "yaxis": {
         "anchor": "x",
         "domain": [
          0.0,
          1.0
         ],
         "title": {
          "text": "Objective Value"
         }
        },
        "xaxis2": {
         "anchor": "y2",
         "domain": [
          0.208,
          0.376
         ],
         "title": {
          "text": "bagging_freq"
         }
        },
        "yaxis2": {
         "anchor": "x2",
         "domain": [
          0.0,
          1.0
         ],
         "matches": "y",
         "showticklabels": false
        },
        "xaxis3": {
         "anchor": "y3",
         "domain": [
          0.416,
          0.584
         ],
         "title": {
          "text": "feature_fraction"
         }
        },
        "yaxis3": {
         "anchor": "x3",
         "domain": [
          0.0,
          1.0
         ],
         "matches": "y",
         "showticklabels": false
        },
        "xaxis4": {
         "anchor": "y4",
         "domain": [
          0.624,
          0.792
         ],
         "title": {
          "text": "min_child_samples"
         }
        },
        "yaxis4": {
         "anchor": "x4",
         "domain": [
          0.0,
          1.0
         ],
         "matches": "y",
         "showticklabels": false
        },
        "xaxis5": {
         "anchor": "y5",
         "domain": [
          0.832,
          1.0
         ],
         "title": {
          "text": "num_leaves"
         }
        },
        "yaxis5": {
         "anchor": "x5",
         "domain": [
          0.0,
          1.0
         ],
         "matches": "y",
         "showticklabels": false
        },
        "title": {
         "text": "Slice Plot"
        },
        "width": 1500
       },
       "config": {
        "plotlyServerURL": "https://plot.ly"
       }
      },
      "text/html": "<div>                            <div id=\"c54af873-741e-43cf-8b60-2bb909ce69d8\" class=\"plotly-graph-div\" style=\"height:525px; width:1500px;\"></div>            <script type=\"text/javascript\">                require([\"plotly\"], function(Plotly) {                    window.PLOTLYENV=window.PLOTLYENV || {};                                    if (document.getElementById(\"c54af873-741e-43cf-8b60-2bb909ce69d8\")) {                    Plotly.newPlot(                        \"c54af873-741e-43cf-8b60-2bb909ce69d8\",                        [{\"marker\":{\"color\":[0,1,2,3,4,5,6,7,8,9,10,11,12,13,14,15,16,17,18,19,20,21,22,23,24,25,26,27,28,29,30,31,32,33,34,35,36,37,38,39,40,41,42,43,44,45,46,47,48,49,50,51,52,53,54,55,56,57,58,59,60,61,62,63,64,65,66,67,68,69,70,71,72,73,74,75,76,77,78,79,80,81,82,83,84,85,86,87,88,89,90,91,92,93,94,95,96,97,98,99],\"colorbar\":{\"title\":{\"text\":\"Trial\"},\"x\":1.0,\"xpad\":40},\"colorscale\":[[0.0,\"rgb(247,251,255)\"],[0.125,\"rgb(222,235,247)\"],[0.25,\"rgb(198,219,239)\"],[0.375,\"rgb(158,202,225)\"],[0.5,\"rgb(107,174,214)\"],[0.625,\"rgb(66,146,198)\"],[0.75,\"rgb(33,113,181)\"],[0.875,\"rgb(8,81,156)\"],[1.0,\"rgb(8,48,107)\"]],\"line\":{\"color\":\"Grey\",\"width\":0.5},\"showscale\":true},\"mode\":\"markers\",\"showlegend\":false,\"x\":[0.6702834114336479,0.7844776409790628,0.10355343969512301,0.3626884613535699,0.43600668404632226,0.5618244182989518,0.9177839927278014,0.845813193676909,0.27905278571093106,0.8955428316050676,0.9880223569011758,0.9521992993846475,0.9944299060775921,0.7104038528822796,0.6290733630065004,0.8592101784778369,0.7781515281016546,0.8032496238190892,0.4929905409277389,0.9240812752774222,0.7416820814661015,0.8937613578499045,0.9288882936508732,0.8492914434714659,0.6221533077847845,0.8417555554228818,0.9910317904503997,0.8407391604128857,0.7178419956096984,0.6620350119562723,0.8567848987924167,0.9058598154883305,0.9439619200496833,0.7813557365592267,0.12820328599695763,0.9446145200010203,0.7966091800651888,0.8782643245444735,0.7439280411749276,0.5543160491369354,0.3352629968840707,0.9519582452161891,0.9623835664820244,0.8326862506294659,0.8786221329497895,0.9791233487093123,0.9210488256937361,0.8108066377274746,0.9986764978676126,0.4761095603929125,0.9988627880393975,0.9618709554482672,0.8755752938165381,0.9179533567602799,0.8993585038604512,0.7532320069541821,0.9229085314596983,0.6888812444917201,0.8287401428534279,0.8658485072828651,0.9705960033474532,0.9227228456228612,0.9493013035258003,0.9972974375146766,0.8993228923560617,0.9454645670976128,0.9472795378351941,0.8550644482176017,0.809629188946331,0.9641474642724533,0.5907312279777568,0.9354373157061961,0.9433869004589305,0.9002221383254637,0.9784755138404475,0.999291696833448,0.9974542670934354,0.9933230247476861,0.9801689169365007,0.9966691526717276,0.9685619174937554,0.9739602378017044,0.922220252507021,0.9788616937932254,0.8971211803944061,0.9687181732452402,0.9729573557022866,0.9994794360211883,0.9425782096267136,0.8794202120456146,0.16863335597358786,0.9602412175082804,0.9344153838102498,0.9815662657569532,0.9424501555910166,0.4048504145453912,0.958993935581372,0.9044199890121263,0.5136830830288825,0.9823807773318836],\"y\":[0.5032068412613575,0.5852472961477702,0.5689025109041612,0.5990214352283317,0.5641025641025641,0.6038264115725619,0.6141750491386286,0.5690168818272096,0.5910357640501626,0.5979769466007998,0.6110982658959537,0.6157561817136284,0.6124523506988565,0.6073505466387532,0.547181923225061,0.6168936072005539,0.6111689212625737,0.6,0.6089655172413794,0.602822114272496,0.6092515109251511,0.6095282039450917,0.6127101082201244,0.6146757286026956,0.6022740593130935,0.6042642924086223,0.611670480549199,0.6118055555555556,0.6085356033590245,0.6079090803664617,0.5588641789169494,0.6130259365994237,0.605911905596448,0.588021778584392,0.5816549660490274,0.6124280782508631,0.6082236082236082,0.6123112659698026,0.5951277480689245,0.6107701215981471,0.5886303669944831,0.6138431417712773,0.6108922363847045,0.6063558339132452,0.6127659574468085,0.6134841837912722,0.6062587575899113,0.6118275822005345,0.6170188199976907,0.604062681369704,0.6119558908879861,0.6131370067870701,0.6118710874101554,0.6159678345778288,0.6123942373656529,0.6080594588317269,0.611640454597635,0.6088056098402116,0.6111367837338262,0.6093913043478261,0.6099142923326384,0.611620085817001,0.6152249134948098,0.610231286316509,0.6137042998390434,0.61427260211106,0.6143595634692706,0.6110276268639463,0.6045210906548589,0.6126954921803128,0.6096938775510204,0.6133973479652491,0.616304472806715,0.6103221337028057,0.6166934927569556,0.615863500115287,0.6197701149425288,0.6160776160776161,0.6153669197147458,0.6160249739854319,0.6160560468588492,0.6151549942594718,0.6144619997693461,0.6117376294591483,0.610294968189705,0.6182615722036247,0.6091276718659735,0.6120078968760888,0.6169820027688047,0.6097589110624063,0.5851038991361195,0.6130549500975105,0.6108340099756409,0.6133271846898778,0.6107452339688042,0.6027906976744185,0.6130525341356168,0.6145509051078057,0.6129403638038222,0.6137748648959411],\"type\":\"scatter\",\"xaxis\":\"x\",\"yaxis\":\"y\"},{\"marker\":{\"color\":[0,1,2,3,4,5,6,7,8,9,10,11,12,13,14,15,16,17,18,19,20,21,22,23,24,25,26,27,28,29,30,31,32,33,34,35,36,37,38,39,40,41,42,43,44,45,46,47,48,49,50,51,52,53,54,55,56,57,58,59,60,61,62,63,64,65,66,67,68,69,70,71,72,73,74,75,76,77,78,79,80,81,82,83,84,85,86,87,88,89,90,91,92,93,94,95,96,97,98,99],\"colorbar\":{\"title\":{\"text\":\"Trial\"},\"x\":1.0,\"xpad\":40},\"colorscale\":[[0.0,\"rgb(247,251,255)\"],[0.125,\"rgb(222,235,247)\"],[0.25,\"rgb(198,219,239)\"],[0.375,\"rgb(158,202,225)\"],[0.5,\"rgb(107,174,214)\"],[0.625,\"rgb(66,146,198)\"],[0.75,\"rgb(33,113,181)\"],[0.875,\"rgb(8,81,156)\"],[1.0,\"rgb(8,48,107)\"]],\"line\":{\"color\":\"Grey\",\"width\":0.5},\"showscale\":false},\"mode\":\"markers\",\"showlegend\":false,\"x\":[11,2,8,14,10,10,5,0,13,5,5,5,5,3,7,7,8,3,7,1,9,6,4,6,6,7,3,9,12,11,6,4,4,6,2,8,15,9,5,2,7,4,4,5,6,3,1,5,4,8,7,4,3,6,6,5,8,5,7,6,9,4,5,5,6,5,7,7,8,10,6,7,5,6,7,4,2,2,0,2,1,1,1,2,0,2,2,2,1,1,3,1,0,2,3,2,1,3,0,2],\"y\":[0.5032068412613575,0.5852472961477702,0.5689025109041612,0.5990214352283317,0.5641025641025641,0.6038264115725619,0.6141750491386286,0.5690168818272096,0.5910357640501626,0.5979769466007998,0.6110982658959537,0.6157561817136284,0.6124523506988565,0.6073505466387532,0.547181923225061,0.6168936072005539,0.6111689212625737,0.6,0.6089655172413794,0.602822114272496,0.6092515109251511,0.6095282039450917,0.6127101082201244,0.6146757286026956,0.6022740593130935,0.6042642924086223,0.611670480549199,0.6118055555555556,0.6085356033590245,0.6079090803664617,0.5588641789169494,0.6130259365994237,0.605911905596448,0.588021778584392,0.5816549660490274,0.6124280782508631,0.6082236082236082,0.6123112659698026,0.5951277480689245,0.6107701215981471,0.5886303669944831,0.6138431417712773,0.6108922363847045,0.6063558339132452,0.6127659574468085,0.6134841837912722,0.6062587575899113,0.6118275822005345,0.6170188199976907,0.604062681369704,0.6119558908879861,0.6131370067870701,0.6118710874101554,0.6159678345778288,0.6123942373656529,0.6080594588317269,0.611640454597635,0.6088056098402116,0.6111367837338262,0.6093913043478261,0.6099142923326384,0.611620085817001,0.6152249134948098,0.610231286316509,0.6137042998390434,0.61427260211106,0.6143595634692706,0.6110276268639463,0.6045210906548589,0.6126954921803128,0.6096938775510204,0.6133973479652491,0.616304472806715,0.6103221337028057,0.6166934927569556,0.615863500115287,0.6197701149425288,0.6160776160776161,0.6153669197147458,0.6160249739854319,0.6160560468588492,0.6151549942594718,0.6144619997693461,0.6117376294591483,0.610294968189705,0.6182615722036247,0.6091276718659735,0.6120078968760888,0.6169820027688047,0.6097589110624063,0.5851038991361195,0.6130549500975105,0.6108340099756409,0.6133271846898778,0.6107452339688042,0.6027906976744185,0.6130525341356168,0.6145509051078057,0.6129403638038222,0.6137748648959411],\"type\":\"scatter\",\"xaxis\":\"x2\",\"yaxis\":\"y2\"},{\"marker\":{\"color\":[0,1,2,3,4,5,6,7,8,9,10,11,12,13,14,15,16,17,18,19,20,21,22,23,24,25,26,27,28,29,30,31,32,33,34,35,36,37,38,39,40,41,42,43,44,45,46,47,48,49,50,51,52,53,54,55,56,57,58,59,60,61,62,63,64,65,66,67,68,69,70,71,72,73,74,75,76,77,78,79,80,81,82,83,84,85,86,87,88,89,90,91,92,93,94,95,96,97,98,99],\"colorbar\":{\"title\":{\"text\":\"Trial\"},\"x\":1.0,\"xpad\":40},\"colorscale\":[[0.0,\"rgb(247,251,255)\"],[0.125,\"rgb(222,235,247)\"],[0.25,\"rgb(198,219,239)\"],[0.375,\"rgb(158,202,225)\"],[0.5,\"rgb(107,174,214)\"],[0.625,\"rgb(66,146,198)\"],[0.75,\"rgb(33,113,181)\"],[0.875,\"rgb(8,81,156)\"],[1.0,\"rgb(8,48,107)\"]],\"line\":{\"color\":\"Grey\",\"width\":0.5},\"showscale\":false},\"mode\":\"markers\",\"showlegend\":false,\"x\":[0.11867675442346136,0.27825657828366157,0.9580540115754429,0.7495797856886196,0.22795304284137427,0.6559902806223854,0.5694824371542707,0.2025859256771948,0.8373582961030618,0.36636553619171086,0.47866438082785684,0.5395936021870693,0.546385714261104,0.4399220795472081,0.6534885885214556,0.6116953675356487,0.7731329467192255,0.35267787625264396,0.6342790051510949,0.9286712161777549,0.4994095252892826,0.592843705146675,0.7208292448977502,0.5495705566624484,0.3792498522628232,0.4393480058155036,0.8450344734005272,0.5256477922280606,0.69573749301939,0.5872300593426332,0.12519818329351962,0.5786838579012311,0.4484429352665741,0.6327610073655326,0.5591042242261712,0.7965018253039224,0.685287823915654,0.5050702241217994,0.29077833344912957,0.6144158751721154,0.38987933878362513,0.5647569578445123,0.5496099479155183,0.48568549856347587,0.6661230330653197,0.7168822341485852,0.4165455864729469,0.5290311773254799,0.6125869029447844,0.6192931378753052,0.46347088832071326,0.592335930060175,0.5534604678216336,0.7445267879445225,0.7689330245976098,0.8415901227704643,0.893840357192912,0.7255352092931355,0.6619795484965478,0.5152257639222757,0.6131045838221252,0.5695978349325308,0.6522551667111989,0.9931235346100087,0.6938265257182531,0.8035025954563552,0.7920615140792409,0.756637596861075,0.8033646460908586,0.8861082499659643,0.6454745787466214,0.8006124465252981,0.7423384001033887,0.7330982980678098,0.6950748377331017,0.6927148141985483,0.6795733972759715,0.6941813067052943,0.6791812375988852,0.7052706419455337,0.7375508507542391,0.745937865440178,0.7193505393165788,0.7052374912067185,0.7443688291029225,0.6748954636843618,0.6703172610082069,0.6289826099568654,0.8234224584095823,0.8716337904414477,0.8245128644220984,0.7637284709842705,0.6083343827138993,0.7785764231363176,0.7070774826998962,0.6403663808619244,0.6735793822620049,0.7312104260804315,0.5978449626736646,0.8239947510530247],\"y\":[0.5032068412613575,0.5852472961477702,0.5689025109041612,0.5990214352283317,0.5641025641025641,0.6038264115725619,0.6141750491386286,0.5690168818272096,0.5910357640501626,0.5979769466007998,0.6110982658959537,0.6157561817136284,0.6124523506988565,0.6073505466387532,0.547181923225061,0.6168936072005539,0.6111689212625737,0.6,0.6089655172413794,0.602822114272496,0.6092515109251511,0.6095282039450917,0.6127101082201244,0.6146757286026956,0.6022740593130935,0.6042642924086223,0.611670480549199,0.6118055555555556,0.6085356033590245,0.6079090803664617,0.5588641789169494,0.6130259365994237,0.605911905596448,0.588021778584392,0.5816549660490274,0.6124280782508631,0.6082236082236082,0.6123112659698026,0.5951277480689245,0.6107701215981471,0.5886303669944831,0.6138431417712773,0.6108922363847045,0.6063558339132452,0.6127659574468085,0.6134841837912722,0.6062587575899113,0.6118275822005345,0.6170188199976907,0.604062681369704,0.6119558908879861,0.6131370067870701,0.6118710874101554,0.6159678345778288,0.6123942373656529,0.6080594588317269,0.611640454597635,0.6088056098402116,0.6111367837338262,0.6093913043478261,0.6099142923326384,0.611620085817001,0.6152249134948098,0.610231286316509,0.6137042998390434,0.61427260211106,0.6143595634692706,0.6110276268639463,0.6045210906548589,0.6126954921803128,0.6096938775510204,0.6133973479652491,0.616304472806715,0.6103221337028057,0.6166934927569556,0.615863500115287,0.6197701149425288,0.6160776160776161,0.6153669197147458,0.6160249739854319,0.6160560468588492,0.6151549942594718,0.6144619997693461,0.6117376294591483,0.610294968189705,0.6182615722036247,0.6091276718659735,0.6120078968760888,0.6169820027688047,0.6097589110624063,0.5851038991361195,0.6130549500975105,0.6108340099756409,0.6133271846898778,0.6107452339688042,0.6027906976744185,0.6130525341356168,0.6145509051078057,0.6129403638038222,0.6137748648959411],\"type\":\"scatter\",\"xaxis\":\"x3\",\"yaxis\":\"y3\"},{\"marker\":{\"color\":[0,1,2,3,4,5,6,7,8,9,10,11,12,13,14,15,16,17,18,19,20,21,22,23,24,25,26,27,28,29,30,31,32,33,34,35,36,37,38,39,40,41,42,43,44,45,46,47,48,49,50,51,52,53,54,55,56,57,58,59,60,61,62,63,64,65,66,67,68,69,70,71,72,73,74,75,76,77,78,79,80,81,82,83,84,85,86,87,88,89,90,91,92,93,94,95,96,97,98,99],\"colorbar\":{\"title\":{\"text\":\"Trial\"},\"x\":1.0,\"xpad\":40},\"colorscale\":[[0.0,\"rgb(247,251,255)\"],[0.125,\"rgb(222,235,247)\"],[0.25,\"rgb(198,219,239)\"],[0.375,\"rgb(158,202,225)\"],[0.5,\"rgb(107,174,214)\"],[0.625,\"rgb(66,146,198)\"],[0.75,\"rgb(33,113,181)\"],[0.875,\"rgb(8,81,156)\"],[1.0,\"rgb(8,48,107)\"]],\"line\":{\"color\":\"Grey\",\"width\":0.5},\"showscale\":false},\"mode\":\"markers\",\"showlegend\":false,\"x\":[50,9,82,72,45,61,10,63,36,17,26,29,3,27,18,37,100,42,32,55,38,17,2,24,28,22,49,37,31,47,55,11,10,22,12,23,6,43,32,15,79,10,6,20,13,27,39,5,33,33,67,26,41,34,35,29,44,35,54,25,18,30,15,15,23,19,93,88,88,99,47,19,38,40,35,37,37,37,50,37,34,34,38,47,42,31,31,40,53,64,53,45,37,28,31,60,59,36,42,52],\"y\":[0.5032068412613575,0.5852472961477702,0.5689025109041612,0.5990214352283317,0.5641025641025641,0.6038264115725619,0.6141750491386286,0.5690168818272096,0.5910357640501626,0.5979769466007998,0.6110982658959537,0.6157561817136284,0.6124523506988565,0.6073505466387532,0.547181923225061,0.6168936072005539,0.6111689212625737,0.6,0.6089655172413794,0.602822114272496,0.6092515109251511,0.6095282039450917,0.6127101082201244,0.6146757286026956,0.6022740593130935,0.6042642924086223,0.611670480549199,0.6118055555555556,0.6085356033590245,0.6079090803664617,0.5588641789169494,0.6130259365994237,0.605911905596448,0.588021778584392,0.5816549660490274,0.6124280782508631,0.6082236082236082,0.6123112659698026,0.5951277480689245,0.6107701215981471,0.5886303669944831,0.6138431417712773,0.6108922363847045,0.6063558339132452,0.6127659574468085,0.6134841837912722,0.6062587575899113,0.6118275822005345,0.6170188199976907,0.604062681369704,0.6119558908879861,0.6131370067870701,0.6118710874101554,0.6159678345778288,0.6123942373656529,0.6080594588317269,0.611640454597635,0.6088056098402116,0.6111367837338262,0.6093913043478261,0.6099142923326384,0.611620085817001,0.6152249134948098,0.610231286316509,0.6137042998390434,0.61427260211106,0.6143595634692706,0.6110276268639463,0.6045210906548589,0.6126954921803128,0.6096938775510204,0.6133973479652491,0.616304472806715,0.6103221337028057,0.6166934927569556,0.615863500115287,0.6197701149425288,0.6160776160776161,0.6153669197147458,0.6160249739854319,0.6160560468588492,0.6151549942594718,0.6144619997693461,0.6117376294591483,0.610294968189705,0.6182615722036247,0.6091276718659735,0.6120078968760888,0.6169820027688047,0.6097589110624063,0.5851038991361195,0.6130549500975105,0.6108340099756409,0.6133271846898778,0.6107452339688042,0.6027906976744185,0.6130525341356168,0.6145509051078057,0.6129403638038222,0.6137748648959411],\"type\":\"scatter\",\"xaxis\":\"x4\",\"yaxis\":\"y4\"},{\"marker\":{\"color\":[0,1,2,3,4,5,6,7,8,9,10,11,12,13,14,15,16,17,18,19,20,21,22,23,24,25,26,27,28,29,30,31,32,33,34,35,36,37,38,39,40,41,42,43,44,45,46,47,48,49,50,51,52,53,54,55,56,57,58,59,60,61,62,63,64,65,66,67,68,69,70,71,72,73,74,75,76,77,78,79,80,81,82,83,84,85,86,87,88,89,90,91,92,93,94,95,96,97,98,99],\"colorbar\":{\"title\":{\"text\":\"Trial\"},\"x\":1.0,\"xpad\":40},\"colorscale\":[[0.0,\"rgb(247,251,255)\"],[0.125,\"rgb(222,235,247)\"],[0.25,\"rgb(198,219,239)\"],[0.375,\"rgb(158,202,225)\"],[0.5,\"rgb(107,174,214)\"],[0.625,\"rgb(66,146,198)\"],[0.75,\"rgb(33,113,181)\"],[0.875,\"rgb(8,81,156)\"],[1.0,\"rgb(8,48,107)\"]],\"line\":{\"color\":\"Grey\",\"width\":0.5},\"showscale\":false},\"mode\":\"markers\",\"showlegend\":false,\"x\":[396,116,352,315,279,223,413,155,281,387,481,505,486,504,16,436,443,448,351,192,448,405,501,425,361,452,320,425,466,510,372,409,421,53,331,384,473,251,291,426,122,407,341,391,469,488,438,403,368,371,292,461,420,387,488,351,435,379,308,454,262,398,412,362,496,443,441,511,194,478,432,448,414,391,415,368,330,326,330,313,306,316,340,301,263,278,240,284,274,276,236,327,272,216,299,346,322,310,356,252],\"y\":[0.5032068412613575,0.5852472961477702,0.5689025109041612,0.5990214352283317,0.5641025641025641,0.6038264115725619,0.6141750491386286,0.5690168818272096,0.5910357640501626,0.5979769466007998,0.6110982658959537,0.6157561817136284,0.6124523506988565,0.6073505466387532,0.547181923225061,0.6168936072005539,0.6111689212625737,0.6,0.6089655172413794,0.602822114272496,0.6092515109251511,0.6095282039450917,0.6127101082201244,0.6146757286026956,0.6022740593130935,0.6042642924086223,0.611670480549199,0.6118055555555556,0.6085356033590245,0.6079090803664617,0.5588641789169494,0.6130259365994237,0.605911905596448,0.588021778584392,0.5816549660490274,0.6124280782508631,0.6082236082236082,0.6123112659698026,0.5951277480689245,0.6107701215981471,0.5886303669944831,0.6138431417712773,0.6108922363847045,0.6063558339132452,0.6127659574468085,0.6134841837912722,0.6062587575899113,0.6118275822005345,0.6170188199976907,0.604062681369704,0.6119558908879861,0.6131370067870701,0.6118710874101554,0.6159678345778288,0.6123942373656529,0.6080594588317269,0.611640454597635,0.6088056098402116,0.6111367837338262,0.6093913043478261,0.6099142923326384,0.611620085817001,0.6152249134948098,0.610231286316509,0.6137042998390434,0.61427260211106,0.6143595634692706,0.6110276268639463,0.6045210906548589,0.6126954921803128,0.6096938775510204,0.6133973479652491,0.616304472806715,0.6103221337028057,0.6166934927569556,0.615863500115287,0.6197701149425288,0.6160776160776161,0.6153669197147458,0.6160249739854319,0.6160560468588492,0.6151549942594718,0.6144619997693461,0.6117376294591483,0.610294968189705,0.6182615722036247,0.6091276718659735,0.6120078968760888,0.6169820027688047,0.6097589110624063,0.5851038991361195,0.6130549500975105,0.6108340099756409,0.6133271846898778,0.6107452339688042,0.6027906976744185,0.6130525341356168,0.6145509051078057,0.6129403638038222,0.6137748648959411],\"type\":\"scatter\",\"xaxis\":\"x5\",\"yaxis\":\"y5\"}],                        {\"template\":{\"data\":{\"histogram2dcontour\":[{\"type\":\"histogram2dcontour\",\"colorbar\":{\"outlinewidth\":0,\"ticks\":\"\"},\"colorscale\":[[0.0,\"#0d0887\"],[0.1111111111111111,\"#46039f\"],[0.2222222222222222,\"#7201a8\"],[0.3333333333333333,\"#9c179e\"],[0.4444444444444444,\"#bd3786\"],[0.5555555555555556,\"#d8576b\"],[0.6666666666666666,\"#ed7953\"],[0.7777777777777778,\"#fb9f3a\"],[0.8888888888888888,\"#fdca26\"],[1.0,\"#f0f921\"]]}],\"choropleth\":[{\"type\":\"choropleth\",\"colorbar\":{\"outlinewidth\":0,\"ticks\":\"\"}}],\"histogram2d\":[{\"type\":\"histogram2d\",\"colorbar\":{\"outlinewidth\":0,\"ticks\":\"\"},\"colorscale\":[[0.0,\"#0d0887\"],[0.1111111111111111,\"#46039f\"],[0.2222222222222222,\"#7201a8\"],[0.3333333333333333,\"#9c179e\"],[0.4444444444444444,\"#bd3786\"],[0.5555555555555556,\"#d8576b\"],[0.6666666666666666,\"#ed7953\"],[0.7777777777777778,\"#fb9f3a\"],[0.8888888888888888,\"#fdca26\"],[1.0,\"#f0f921\"]]}],\"heatmap\":[{\"type\":\"heatmap\",\"colorbar\":{\"outlinewidth\":0,\"ticks\":\"\"},\"colorscale\":[[0.0,\"#0d0887\"],[0.1111111111111111,\"#46039f\"],[0.2222222222222222,\"#7201a8\"],[0.3333333333333333,\"#9c179e\"],[0.4444444444444444,\"#bd3786\"],[0.5555555555555556,\"#d8576b\"],[0.6666666666666666,\"#ed7953\"],[0.7777777777777778,\"#fb9f3a\"],[0.8888888888888888,\"#fdca26\"],[1.0,\"#f0f921\"]]}],\"heatmapgl\":[{\"type\":\"heatmapgl\",\"colorbar\":{\"outlinewidth\":0,\"ticks\":\"\"},\"colorscale\":[[0.0,\"#0d0887\"],[0.1111111111111111,\"#46039f\"],[0.2222222222222222,\"#7201a8\"],[0.3333333333333333,\"#9c179e\"],[0.4444444444444444,\"#bd3786\"],[0.5555555555555556,\"#d8576b\"],[0.6666666666666666,\"#ed7953\"],[0.7777777777777778,\"#fb9f3a\"],[0.8888888888888888,\"#fdca26\"],[1.0,\"#f0f921\"]]}],\"contourcarpet\":[{\"type\":\"contourcarpet\",\"colorbar\":{\"outlinewidth\":0,\"ticks\":\"\"}}],\"contour\":[{\"type\":\"contour\",\"colorbar\":{\"outlinewidth\":0,\"ticks\":\"\"},\"colorscale\":[[0.0,\"#0d0887\"],[0.1111111111111111,\"#46039f\"],[0.2222222222222222,\"#7201a8\"],[0.3333333333333333,\"#9c179e\"],[0.4444444444444444,\"#bd3786\"],[0.5555555555555556,\"#d8576b\"],[0.6666666666666666,\"#ed7953\"],[0.7777777777777778,\"#fb9f3a\"],[0.8888888888888888,\"#fdca26\"],[1.0,\"#f0f921\"]]}],\"surface\":[{\"type\":\"surface\",\"colorbar\":{\"outlinewidth\":0,\"ticks\":\"\"},\"colorscale\":[[0.0,\"#0d0887\"],[0.1111111111111111,\"#46039f\"],[0.2222222222222222,\"#7201a8\"],[0.3333333333333333,\"#9c179e\"],[0.4444444444444444,\"#bd3786\"],[0.5555555555555556,\"#d8576b\"],[0.6666666666666666,\"#ed7953\"],[0.7777777777777778,\"#fb9f3a\"],[0.8888888888888888,\"#fdca26\"],[1.0,\"#f0f921\"]]}],\"mesh3d\":[{\"type\":\"mesh3d\",\"colorbar\":{\"outlinewidth\":0,\"ticks\":\"\"}}],\"scatter\":[{\"fillpattern\":{\"fillmode\":\"overlay\",\"size\":10,\"solidity\":0.2},\"type\":\"scatter\"}],\"parcoords\":[{\"type\":\"parcoords\",\"line\":{\"colorbar\":{\"outlinewidth\":0,\"ticks\":\"\"}}}],\"scatterpolargl\":[{\"type\":\"scatterpolargl\",\"marker\":{\"colorbar\":{\"outlinewidth\":0,\"ticks\":\"\"}}}],\"bar\":[{\"error_x\":{\"color\":\"#2a3f5f\"},\"error_y\":{\"color\":\"#2a3f5f\"},\"marker\":{\"line\":{\"color\":\"#E5ECF6\",\"width\":0.5},\"pattern\":{\"fillmode\":\"overlay\",\"size\":10,\"solidity\":0.2}},\"type\":\"bar\"}],\"scattergeo\":[{\"type\":\"scattergeo\",\"marker\":{\"colorbar\":{\"outlinewidth\":0,\"ticks\":\"\"}}}],\"scatterpolar\":[{\"type\":\"scatterpolar\",\"marker\":{\"colorbar\":{\"outlinewidth\":0,\"ticks\":\"\"}}}],\"histogram\":[{\"marker\":{\"pattern\":{\"fillmode\":\"overlay\",\"size\":10,\"solidity\":0.2}},\"type\":\"histogram\"}],\"scattergl\":[{\"type\":\"scattergl\",\"marker\":{\"colorbar\":{\"outlinewidth\":0,\"ticks\":\"\"}}}],\"scatter3d\":[{\"type\":\"scatter3d\",\"line\":{\"colorbar\":{\"outlinewidth\":0,\"ticks\":\"\"}},\"marker\":{\"colorbar\":{\"outlinewidth\":0,\"ticks\":\"\"}}}],\"scattermapbox\":[{\"type\":\"scattermapbox\",\"marker\":{\"colorbar\":{\"outlinewidth\":0,\"ticks\":\"\"}}}],\"scatterternary\":[{\"type\":\"scatterternary\",\"marker\":{\"colorbar\":{\"outlinewidth\":0,\"ticks\":\"\"}}}],\"scattercarpet\":[{\"type\":\"scattercarpet\",\"marker\":{\"colorbar\":{\"outlinewidth\":0,\"ticks\":\"\"}}}],\"carpet\":[{\"aaxis\":{\"endlinecolor\":\"#2a3f5f\",\"gridcolor\":\"white\",\"linecolor\":\"white\",\"minorgridcolor\":\"white\",\"startlinecolor\":\"#2a3f5f\"},\"baxis\":{\"endlinecolor\":\"#2a3f5f\",\"gridcolor\":\"white\",\"linecolor\":\"white\",\"minorgridcolor\":\"white\",\"startlinecolor\":\"#2a3f5f\"},\"type\":\"carpet\"}],\"table\":[{\"cells\":{\"fill\":{\"color\":\"#EBF0F8\"},\"line\":{\"color\":\"white\"}},\"header\":{\"fill\":{\"color\":\"#C8D4E3\"},\"line\":{\"color\":\"white\"}},\"type\":\"table\"}],\"barpolar\":[{\"marker\":{\"line\":{\"color\":\"#E5ECF6\",\"width\":0.5},\"pattern\":{\"fillmode\":\"overlay\",\"size\":10,\"solidity\":0.2}},\"type\":\"barpolar\"}],\"pie\":[{\"automargin\":true,\"type\":\"pie\"}]},\"layout\":{\"autotypenumbers\":\"strict\",\"colorway\":[\"#636efa\",\"#EF553B\",\"#00cc96\",\"#ab63fa\",\"#FFA15A\",\"#19d3f3\",\"#FF6692\",\"#B6E880\",\"#FF97FF\",\"#FECB52\"],\"font\":{\"color\":\"#2a3f5f\"},\"hovermode\":\"closest\",\"hoverlabel\":{\"align\":\"left\"},\"paper_bgcolor\":\"white\",\"plot_bgcolor\":\"#E5ECF6\",\"polar\":{\"bgcolor\":\"#E5ECF6\",\"angularaxis\":{\"gridcolor\":\"white\",\"linecolor\":\"white\",\"ticks\":\"\"},\"radialaxis\":{\"gridcolor\":\"white\",\"linecolor\":\"white\",\"ticks\":\"\"}},\"ternary\":{\"bgcolor\":\"#E5ECF6\",\"aaxis\":{\"gridcolor\":\"white\",\"linecolor\":\"white\",\"ticks\":\"\"},\"baxis\":{\"gridcolor\":\"white\",\"linecolor\":\"white\",\"ticks\":\"\"},\"caxis\":{\"gridcolor\":\"white\",\"linecolor\":\"white\",\"ticks\":\"\"}},\"coloraxis\":{\"colorbar\":{\"outlinewidth\":0,\"ticks\":\"\"}},\"colorscale\":{\"sequential\":[[0.0,\"#0d0887\"],[0.1111111111111111,\"#46039f\"],[0.2222222222222222,\"#7201a8\"],[0.3333333333333333,\"#9c179e\"],[0.4444444444444444,\"#bd3786\"],[0.5555555555555556,\"#d8576b\"],[0.6666666666666666,\"#ed7953\"],[0.7777777777777778,\"#fb9f3a\"],[0.8888888888888888,\"#fdca26\"],[1.0,\"#f0f921\"]],\"sequentialminus\":[[0.0,\"#0d0887\"],[0.1111111111111111,\"#46039f\"],[0.2222222222222222,\"#7201a8\"],[0.3333333333333333,\"#9c179e\"],[0.4444444444444444,\"#bd3786\"],[0.5555555555555556,\"#d8576b\"],[0.6666666666666666,\"#ed7953\"],[0.7777777777777778,\"#fb9f3a\"],[0.8888888888888888,\"#fdca26\"],[1.0,\"#f0f921\"]],\"diverging\":[[0,\"#8e0152\"],[0.1,\"#c51b7d\"],[0.2,\"#de77ae\"],[0.3,\"#f1b6da\"],[0.4,\"#fde0ef\"],[0.5,\"#f7f7f7\"],[0.6,\"#e6f5d0\"],[0.7,\"#b8e186\"],[0.8,\"#7fbc41\"],[0.9,\"#4d9221\"],[1,\"#276419\"]]},\"xaxis\":{\"gridcolor\":\"white\",\"linecolor\":\"white\",\"ticks\":\"\",\"title\":{\"standoff\":15},\"zerolinecolor\":\"white\",\"automargin\":true,\"zerolinewidth\":2},\"yaxis\":{\"gridcolor\":\"white\",\"linecolor\":\"white\",\"ticks\":\"\",\"title\":{\"standoff\":15},\"zerolinecolor\":\"white\",\"automargin\":true,\"zerolinewidth\":2},\"scene\":{\"xaxis\":{\"backgroundcolor\":\"#E5ECF6\",\"gridcolor\":\"white\",\"linecolor\":\"white\",\"showbackground\":true,\"ticks\":\"\",\"zerolinecolor\":\"white\",\"gridwidth\":2},\"yaxis\":{\"backgroundcolor\":\"#E5ECF6\",\"gridcolor\":\"white\",\"linecolor\":\"white\",\"showbackground\":true,\"ticks\":\"\",\"zerolinecolor\":\"white\",\"gridwidth\":2},\"zaxis\":{\"backgroundcolor\":\"#E5ECF6\",\"gridcolor\":\"white\",\"linecolor\":\"white\",\"showbackground\":true,\"ticks\":\"\",\"zerolinecolor\":\"white\",\"gridwidth\":2}},\"shapedefaults\":{\"line\":{\"color\":\"#2a3f5f\"}},\"annotationdefaults\":{\"arrowcolor\":\"#2a3f5f\",\"arrowhead\":0,\"arrowwidth\":1},\"geo\":{\"bgcolor\":\"white\",\"landcolor\":\"#E5ECF6\",\"subunitcolor\":\"white\",\"showland\":true,\"showlakes\":true,\"lakecolor\":\"white\"},\"title\":{\"x\":0.05},\"mapbox\":{\"style\":\"light\"}}},\"xaxis\":{\"anchor\":\"y\",\"domain\":[0.0,0.16799999999999998],\"title\":{\"text\":\"bagging_fraction\"}},\"yaxis\":{\"anchor\":\"x\",\"domain\":[0.0,1.0],\"title\":{\"text\":\"Objective Value\"}},\"xaxis2\":{\"anchor\":\"y2\",\"domain\":[0.208,0.376],\"title\":{\"text\":\"bagging_freq\"}},\"yaxis2\":{\"anchor\":\"x2\",\"domain\":[0.0,1.0],\"matches\":\"y\",\"showticklabels\":false},\"xaxis3\":{\"anchor\":\"y3\",\"domain\":[0.416,0.584],\"title\":{\"text\":\"feature_fraction\"}},\"yaxis3\":{\"anchor\":\"x3\",\"domain\":[0.0,1.0],\"matches\":\"y\",\"showticklabels\":false},\"xaxis4\":{\"anchor\":\"y4\",\"domain\":[0.624,0.792],\"title\":{\"text\":\"min_child_samples\"}},\"yaxis4\":{\"anchor\":\"x4\",\"domain\":[0.0,1.0],\"matches\":\"y\",\"showticklabels\":false},\"xaxis5\":{\"anchor\":\"y5\",\"domain\":[0.832,1.0],\"title\":{\"text\":\"num_leaves\"}},\"yaxis5\":{\"anchor\":\"x5\",\"domain\":[0.0,1.0],\"matches\":\"y\",\"showticklabels\":false},\"title\":{\"text\":\"Slice Plot\"},\"width\":1500},                        {\"responsive\": true}                    ).then(function(){\n                            \nvar gd = document.getElementById('c54af873-741e-43cf-8b60-2bb909ce69d8');\nvar x = new MutationObserver(function (mutations, observer) {{\n        var display = window.getComputedStyle(gd).display;\n        if (!display || display === 'none') {{\n            console.log([gd, 'removed!']);\n            Plotly.purge(gd);\n            observer.disconnect();\n        }}\n}});\n\n// Listen for the removal of the full notebook cells\nvar notebookContainer = gd.closest('#notebook-container');\nif (notebookContainer) {{\n    x.observe(notebookContainer, {childList: true});\n}}\n\n// Listen for the clearing of the current output cell\nvar outputEl = gd.closest('.output');\nif (outputEl) {{\n    x.observe(outputEl, {childList: true});\n}}\n\n                        })                };                });            </script>        </div>"
     },
     "metadata": {},
     "output_type": "display_data"
    }
   ],
   "source": [
    "optuna.visualization.plot_slice(studyLGBM)"
   ],
   "metadata": {
    "collapsed": false,
    "pycharm": {
     "name": "#%%\n"
    }
   }
  },
  {
   "cell_type": "code",
   "execution_count": 43,
   "outputs": [
    {
     "name": "stdout",
     "output_type": "stream",
     "text": [
      "Confusion Matrix\n",
      "[[32572  1129]\n",
      " [ 2179  2696]]\n",
      "accuracy:0.9142, precision:0.7048, recall:0.553, f1-score:0.6198\n"
     ]
    }
   ],
   "source": [
    "y_pred = lgbm.predict(x_test)\n",
    "y_true = np.array(y_test)\n",
    "\n",
    "from sklearn.metrics import accuracy_score, precision_score, recall_score, confusion_matrix, f1_score\n",
    "\n",
    "def get_clf_eval(y_test, pred):\n",
    "    confusion = confusion_matrix(y_test, pred)\n",
    "    accuracy = accuracy_score(y_test, pred)\n",
    "    precision = precision_score(y_test, pred)\n",
    "    recall = recall_score(y_test, pred)\n",
    "    f1 = f1_score(y_test,pred)\n",
    "    print('Confusion Matrix')\n",
    "    print(confusion)\n",
    "    print('accuracy:{}, precision:{}, recall:{}, f1-score:{}'.format(round(accuracy,4), round(precision,4) ,round(recall,4), round(f1,4)))\n",
    "\n",
    "get_clf_eval(y_true, y_pred)\n",
    "\n",
    "\n",
    "\n"
   ],
   "metadata": {
    "collapsed": false,
    "pycharm": {
     "name": "#%%\n"
    }
   }
  },
  {
   "cell_type": "markdown",
   "source": [],
   "metadata": {
    "collapsed": false
   }
  },
  {
   "cell_type": "code",
   "execution_count": 44,
   "outputs": [
    {
     "data": {
      "text/plain": "<Figure size 2000x1000 with 1 Axes>",
      "image/png": "[encoded data removed]"
     },
     "metadata": {},
     "output_type": "display_data"
    }
   ],
   "source": [
    "import matplotlib.pyplot as plt\n",
    "import seaborn as sns\n",
    "import warnings\n",
    "warnings.simplefilter(action='ignore', category=FutureWarning)\n",
    "\n",
    "# sorted(zip(clf.feature_importances_, X.columns), reverse=True)\n",
    "feature_imp = pd.DataFrame(sorted(zip(lgbm.feature_importances_,data.columns)), columns=['Value','Feature'])\n",
    "\n",
    "plt.figure(figsize=(20, 10))\n",
    "sns.barplot(x=\"Value\", y=\"Feature\", data=feature_imp.sort_values(by=\"Value\", ascending=False))\n",
    "plt.title('LightGBM Features (avg over folds)')\n",
    "plt.tight_layout()\n",
    "plt.show()"
   ],
   "metadata": {
    "collapsed": false,
    "pycharm": {
     "name": "#%%\n"
    }
   }
  },
  {
   "cell_type": "code",
   "execution_count": null,
   "outputs": [],
   "source": [],
   "metadata": {
    "collapsed": false,
    "pycharm": {
     "name": "#%%\n"
    }
   }
  }
 ],
 "metadata": {
  "kernelspec": {
   "display_name": "Python 3",
   "language": "python",
   "name": "python3"
  },
  "language_info": {
   "codemirror_mode": {
    "name": "ipython",
    "version": 2
   },
   "file_extension": ".py",
   "mimetype": "text/x-python",
   "name": "python",
   "nbconvert_exporter": "python",
   "pygments_lexer": "ipython2",
   "version": "2.7.6"
  }
 },
 "nbformat": 4,
 "nbformat_minor": 0
}