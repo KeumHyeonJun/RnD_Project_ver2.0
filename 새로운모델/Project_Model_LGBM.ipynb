{
 "cells": [
  {
   "cell_type": "code",
   "execution_count": 46,
   "metadata": {
    "collapsed": true
   },
   "outputs": [],
   "source": [
    "import pandas as pd\n",
    "import numpy as np\n",
    "from sklearn.model_selection import train_test_split\n",
    "import warnings\n",
    "warnings.filterwarnings(action='ignore')"
   ]
  },
  {
   "cell_type": "code",
   "execution_count": 47,
   "outputs": [
    {
     "data": {
      "text/plain": "         index  Project_ID    Year  N_of_SCI  N_of_Paper  N_Patent_App  \\\n0            0  1055000474  2013.0       0.0         0.0           0.0   \n1            1  1055000475  2013.0       0.0         0.0           0.0   \n2            2  1055000476  2014.0       0.0         0.0           0.0   \n3            3  1055000477  2014.0       0.0         0.0           0.0   \n4            4  1055000478  2014.0       0.0         0.0           0.0   \n...        ...         ...     ...       ...         ...           ...   \n192874  192874  9991006121  2016.0       0.0         0.0           2.0   \n192875  192875  9991006122  2016.0       0.0         0.0           0.0   \n192876  192876  9991006124  2016.0       0.0         0.0           0.0   \n192877  192877  9991006125  2016.0       0.0         0.0           2.0   \n192878  192878  9991006126  2016.0       0.0         0.0           0.0   \n\n        N_Patent_Reg  N_of_Korean_Patent  N_of_Inter_Patent  N_of_Patent  ...  \\\n0                0.0                 0.0                0.0          0.0  ...   \n1                0.0                 0.0                0.0          0.0  ...   \n2                0.0                 0.0                0.0          0.0  ...   \n3                0.0                 0.0                0.0          0.0  ...   \n4                0.0                 0.0                0.0          0.0  ...   \n...              ...                 ...                ...          ...  ...   \n192874           1.0                 3.0                0.0          3.0  ...   \n192875           0.0                 0.0                0.0          0.0  ...   \n192876           0.0                 0.0                0.0          0.0  ...   \n192877           2.0                 4.0                0.0          4.0  ...   \n192878           0.0                 0.0                0.0          0.0  ...   \n\n        Cowork_Abroad  Cowork_etc  Log_RnD_Fund Log_Duration  Comm_Success  \\\n0                   N           N     21.365120     5.897157           0.0   \n1                   N           N     19.568083     5.897157           0.0   \n2                   N           N     21.365120     5.897157           0.0   \n3                   N           N     19.673444     5.808145           0.0   \n4                   N           N     17.504390     4.804029           0.0   \n...               ...         ...           ...          ...           ...   \n192874              N           N     20.723266     6.302621           0.0   \n192875              N           Y     21.920324     6.302621           0.0   \n192876              N           N     20.482467     6.998511           0.0   \n192877              N           N     20.430236     6.998511           1.0   \n192878              N           N     20.584004     6.998511           0.0   \n\n       Comm_Success_1  Comm_Success_2 Comm_Success_Code1_4  \\\n0                 0.0             0.0                  0.0   \n1                 0.0             0.0                  0.0   \n2                 0.0             0.0                  0.0   \n3                 0.0             0.0                  0.0   \n4                 0.0             0.0                  0.0   \n...               ...             ...                  ...   \n192874            0.0             0.0                  0.0   \n192875            0.0             0.0                  0.0   \n192876            0.0             0.0                  0.0   \n192877            1.0             0.0                  0.0   \n192878            0.0             0.0                  0.0   \n\n        Comm_Success_Code2_5 Comm_Success_Code3_6  \n0                        0.0                  0.0  \n1                        0.0                  0.0  \n2                        0.0                  0.0  \n3                        0.0                  0.0  \n4                        0.0                  0.0  \n...                      ...                  ...  \n192874                   0.0                  0.0  \n192875                   0.0                  0.0  \n192876                   0.0                  0.0  \n192877                   1.0                  0.0  \n192878                   0.0                  0.0  \n\n[192879 rows x 41 columns]",
      "text/html": "<div>\n<style scoped>\n    .dataframe tbody tr th:only-of-type {\n        vertical-align: middle;\n    }\n\n    .dataframe tbody tr th {\n        vertical-align: top;\n    }\n\n    .dataframe thead th {\n        text-align: right;\n    }\n</style>\n<table border=\"1\" class=\"dataframe\">\n  <thead>\n    <tr style=\"text-align: right;\">\n      <th></th>\n      <th>index</th>\n      <th>Project_ID</th>\n      <th>Year</th>\n      <th>N_of_SCI</th>\n      <th>N_of_Paper</th>\n      <th>N_Patent_App</th>\n      <th>N_Patent_Reg</th>\n      <th>N_of_Korean_Patent</th>\n      <th>N_of_Inter_Patent</th>\n      <th>N_of_Patent</th>\n      <th>...</th>\n      <th>Cowork_Abroad</th>\n      <th>Cowork_etc</th>\n      <th>Log_RnD_Fund</th>\n      <th>Log_Duration</th>\n      <th>Comm_Success</th>\n      <th>Comm_Success_1</th>\n      <th>Comm_Success_2</th>\n      <th>Comm_Success_Code1_4</th>\n      <th>Comm_Success_Code2_5</th>\n      <th>Comm_Success_Code3_6</th>\n    </tr>\n  </thead>\n  <tbody>\n    <tr>\n      <th>0</th>\n      <td>0</td>\n      <td>1055000474</td>\n      <td>2013.0</td>\n      <td>0.0</td>\n      <td>0.0</td>\n      <td>0.0</td>\n      <td>0.0</td>\n      <td>0.0</td>\n      <td>0.0</td>\n      <td>0.0</td>\n      <td>...</td>\n      <td>N</td>\n      <td>N</td>\n      <td>21.365120</td>\n      <td>5.897157</td>\n      <td>0.0</td>\n      <td>0.0</td>\n      <td>0.0</td>\n      <td>0.0</td>\n      <td>0.0</td>\n      <td>0.0</td>\n    </tr>\n    <tr>\n      <th>1</th>\n      <td>1</td>\n      <td>1055000475</td>\n      <td>2013.0</td>\n      <td>0.0</td>\n      <td>0.0</td>\n      <td>0.0</td>\n      <td>0.0</td>\n      <td>0.0</td>\n      <td>0.0</td>\n      <td>0.0</td>\n      <td>...</td>\n      <td>N</td>\n      <td>N</td>\n      <td>19.568083</td>\n      <td>5.897157</td>\n      <td>0.0</td>\n      <td>0.0</td>\n      <td>0.0</td>\n      <td>0.0</td>\n      <td>0.0</td>\n      <td>0.0</td>\n    </tr>\n    <tr>\n      <th>2</th>\n      <td>2</td>\n      <td>1055000476</td>\n      <td>2014.0</td>\n      <td>0.0</td>\n      <td>0.0</td>\n      <td>0.0</td>\n      <td>0.0</td>\n      <td>0.0</td>\n      <td>0.0</td>\n      <td>0.0</td>\n      <td>...</td>\n      <td>N</td>\n      <td>N</td>\n      <td>21.365120</td>\n      <td>5.897157</td>\n      <td>0.0</td>\n      <td>0.0</td>\n      <td>0.0</td>\n      <td>0.0</td>\n      <td>0.0</td>\n      <td>0.0</td>\n    </tr>\n    <tr>\n      <th>3</th>\n      <td>3</td>\n      <td>1055000477</td>\n      <td>2014.0</td>\n      <td>0.0</td>\n      <td>0.0</td>\n      <td>0.0</td>\n      <td>0.0</td>\n      <td>0.0</td>\n      <td>0.0</td>\n      <td>0.0</td>\n      <td>...</td>\n      <td>N</td>\n      <td>N</td>\n      <td>19.673444</td>\n      <td>5.808145</td>\n      <td>0.0</td>\n      <td>0.0</td>\n      <td>0.0</td>\n      <td>0.0</td>\n      <td>0.0</td>\n      <td>0.0</td>\n    </tr>\n    <tr>\n      <th>4</th>\n      <td>4</td>\n      <td>1055000478</td>\n      <td>2014.0</td>\n      <td>0.0</td>\n      <td>0.0</td>\n      <td>0.0</td>\n      <td>0.0</td>\n      <td>0.0</td>\n      <td>0.0</td>\n      <td>0.0</td>\n      <td>...</td>\n      <td>N</td>\n      <td>N</td>\n      <td>17.504390</td>\n      <td>4.804029</td>\n      <td>0.0</td>\n      <td>0.0</td>\n      <td>0.0</td>\n      <td>0.0</td>\n      <td>0.0</td>\n      <td>0.0</td>\n    </tr>\n    <tr>\n      <th>...</th>\n      <td>...</td>\n      <td>...</td>\n      <td>...</td>\n      <td>...</td>\n      <td>...</td>\n      <td>...</td>\n      <td>...</td>\n      <td>...</td>\n      <td>...</td>\n      <td>...</td>\n      <td>...</td>\n      <td>...</td>\n      <td>...</td>\n      <td>...</td>\n      <td>...</td>\n      <td>...</td>\n      <td>...</td>\n      <td>...</td>\n      <td>...</td>\n      <td>...</td>\n      <td>...</td>\n    </tr>\n    <tr>\n      <th>192874</th>\n      <td>192874</td>\n      <td>9991006121</td>\n      <td>2016.0</td>\n      <td>0.0</td>\n      <td>0.0</td>\n      <td>2.0</td>\n      <td>1.0</td>\n      <td>3.0</td>\n      <td>0.0</td>\n      <td>3.0</td>\n      <td>...</td>\n      <td>N</td>\n      <td>N</td>\n      <td>20.723266</td>\n      <td>6.302621</td>\n      <td>0.0</td>\n      <td>0.0</td>\n      <td>0.0</td>\n      <td>0.0</td>\n      <td>0.0</td>\n      <td>0.0</td>\n    </tr>\n    <tr>\n      <th>192875</th>\n      <td>192875</td>\n      <td>9991006122</td>\n      <td>2016.0</td>\n      <td>0.0</td>\n      <td>0.0</td>\n      <td>0.0</td>\n      <td>0.0</td>\n      <td>0.0</td>\n      <td>0.0</td>\n      <td>0.0</td>\n      <td>...</td>\n      <td>N</td>\n      <td>Y</td>\n      <td>21.920324</td>\n      <td>6.302621</td>\n      <td>0.0</td>\n      <td>0.0</td>\n      <td>0.0</td>\n      <td>0.0</td>\n      <td>0.0</td>\n      <td>0.0</td>\n    </tr>\n    <tr>\n      <th>192876</th>\n      <td>192876</td>\n      <td>9991006124</td>\n      <td>2016.0</td>\n      <td>0.0</td>\n      <td>0.0</td>\n      <td>0.0</td>\n      <td>0.0</td>\n      <td>0.0</td>\n      <td>0.0</td>\n      <td>0.0</td>\n      <td>...</td>\n      <td>N</td>\n      <td>N</td>\n      <td>20.482467</td>\n      <td>6.998511</td>\n      <td>0.0</td>\n      <td>0.0</td>\n      <td>0.0</td>\n      <td>0.0</td>\n      <td>0.0</td>\n      <td>0.0</td>\n    </tr>\n    <tr>\n      <th>192877</th>\n      <td>192877</td>\n      <td>9991006125</td>\n      <td>2016.0</td>\n      <td>0.0</td>\n      <td>0.0</td>\n      <td>2.0</td>\n      <td>2.0</td>\n      <td>4.0</td>\n      <td>0.0</td>\n      <td>4.0</td>\n      <td>...</td>\n      <td>N</td>\n      <td>N</td>\n      <td>20.430236</td>\n      <td>6.998511</td>\n      <td>1.0</td>\n      <td>1.0</td>\n      <td>0.0</td>\n      <td>0.0</td>\n      <td>1.0</td>\n      <td>0.0</td>\n    </tr>\n    <tr>\n      <th>192878</th>\n      <td>192878</td>\n      <td>9991006126</td>\n      <td>2016.0</td>\n      <td>0.0</td>\n      <td>0.0</td>\n      <td>0.0</td>\n      <td>0.0</td>\n      <td>0.0</td>\n      <td>0.0</td>\n      <td>0.0</td>\n      <td>...</td>\n      <td>N</td>\n      <td>N</td>\n      <td>20.584004</td>\n      <td>6.998511</td>\n      <td>0.0</td>\n      <td>0.0</td>\n      <td>0.0</td>\n      <td>0.0</td>\n      <td>0.0</td>\n      <td>0.0</td>\n    </tr>\n  </tbody>\n</table>\n<p>192879 rows × 41 columns</p>\n</div>"
     },
     "execution_count": 47,
     "metadata": {},
     "output_type": "execute_result"
    }
   ],
   "source": [
    "df=pd.read_csv('/Users/keumhyeonjun/Projects/kisti_renewal/dataset_final/Dataset_4_2016.csv')\n",
    "df"
   ],
   "metadata": {
    "collapsed": false,
    "pycharm": {
     "name": "#%%\n"
    }
   }
  },
  {
   "cell_type": "code",
   "execution_count": 48,
   "outputs": [],
   "source": [
    "NUMERIC_COLUMN = [\n",
    "    \"Log_RnD_Fund\",\n",
    "    \"Log_Duration\",\n",
    "    \"N_of_SCI\",\n",
    "    \"N_of_Paper\",\n",
    "    \"N_Patent_App\",\n",
    "    \"N_Patent_Reg\",\n",
    "    \"N_of_Korean_Patent\",\n",
    "    \"STP_Code_1_Weight\",\n",
    "    \"STP_Code_2_Weight\",\n",
    "    \"Application_Area_1_Weight\",\n",
    "    \"Application_Area_2_Weight\",\n",
    "]\n",
    "\n",
    "CATEGORICAL_COLUMN = [\n",
    "    \"Year\",\n",
    "    \"Multi_Year\",\n",
    "    \"RnD_Org\",\n",
    "    \"STP_Code_11\",\n",
    "    \"STP_Code_21\",\n",
    "    \"Application_Area_1\",\n",
    "    \"Application_Area_2\",\n",
    "    \"Green_Tech\",\n",
    "    \"SixT_2\",\n",
    "    \"Econ_Social\",\n",
    "    \"National_Strategy_2\",\n",
    "    \"RnD_Stage\",\n",
    "    \"Cowork_Cor\",\n",
    "    \"Cowork_Uni\",\n",
    "    \"Cowork_Inst\",\n",
    "    \"Cowork_Abroad\",\n",
    "    \"Cowork_etc\",\n",
    "]\n",
    "\n",
    "LABEL_COLUMN = [\"Comm_Success\"]"
   ],
   "metadata": {
    "collapsed": false,
    "pycharm": {
     "name": "#%%\n"
    }
   }
  },
  {
   "cell_type": "markdown",
   "source": [
    "# 불필요한 컬럼 제거(데이터로 사용하지 않을 것들)"
   ],
   "metadata": {
    "collapsed": false,
    "pycharm": {
     "name": "#%% md\n"
    }
   }
  },
  {
   "cell_type": "code",
   "execution_count": 49,
   "outputs": [],
   "source": [
    "ALL_COLUMN = df.columns.tolist()\n",
    "UNNESSARY_COLUMN=list(set(ALL_COLUMN)-set(NUMERIC_COLUMN)-set(CATEGORICAL_COLUMN)-set(LABEL_COLUMN))"
   ],
   "metadata": {
    "collapsed": false,
    "pycharm": {
     "name": "#%%\n"
    }
   }
  },
  {
   "cell_type": "code",
   "execution_count": 50,
   "outputs": [
    {
     "data": {
      "text/plain": "        Log_RnD_Fund  Log_Duration  N_of_SCI  N_of_Paper  N_Patent_App  \\\n0          21.365120      5.897157       0.0         0.0           0.0   \n1          19.568083      5.897157       0.0         0.0           0.0   \n2          21.365120      5.897157       0.0         0.0           0.0   \n3          19.673444      5.808145       0.0         0.0           0.0   \n4          17.504390      4.804029       0.0         0.0           0.0   \n...              ...           ...       ...         ...           ...   \n192874     20.723266      6.302621       0.0         0.0           2.0   \n192875     21.920324      6.302621       0.0         0.0           0.0   \n192876     20.482467      6.998511       0.0         0.0           0.0   \n192877     20.430236      6.998511       0.0         0.0           2.0   \n192878     20.584004      6.998511       0.0         0.0           0.0   \n\n        N_Patent_Reg  N_of_Korean_Patent  STP_Code_1_Weight  \\\n0                0.0                 0.0              100.0   \n1                0.0                 0.0              100.0   \n2                0.0                 0.0              100.0   \n3                0.0                 0.0              100.0   \n4                0.0                 0.0                0.0   \n...              ...                 ...                ...   \n192874           1.0                 3.0               50.0   \n192875           0.0                 0.0              100.0   \n192876           0.0                 0.0               80.0   \n192877           2.0                 4.0              100.0   \n192878           0.0                 0.0               50.0   \n\n        STP_Code_2_Weight  Application_Area_1_Weight  ...  SixT_2  \\\n0                     0.0                      100.0  ...   70000   \n1                     0.0                      100.0  ...   70000   \n2                     0.0                      100.0  ...   70000   \n3                     0.0                      100.0  ...   70000   \n4                     0.0                      100.0  ...   70000   \n...                   ...                        ...  ...     ...   \n192874               30.0                       50.0  ...   20200   \n192875                0.0                      100.0  ...   20200   \n192876               20.0                       60.0  ...   30200   \n192877                0.0                      100.0  ...   30200   \n192878               30.0                       50.0  ...   50100   \n\n        Econ_Social  National_Strategy_2  RnD_Stage Cowork_Cor Cowork_Uni  \\\n0                13                60000          4          N          N   \n1                13                60000          4          N          N   \n2                13                60000          4          N          N   \n3                13                60000          4          N          N   \n4                13                60000          4          N          N   \n...             ...                  ...        ...        ...        ...   \n192874           11                40100          2          N          N   \n192875            4                60000          3          N          N   \n192876            7                10500          3          Y          N   \n192877            7                10500          3          Y          N   \n192878            7                30200          4          Y          Y   \n\n       Cowork_Inst Cowork_Abroad  Cowork_etc  Comm_Success  \n0                N             N           N           0.0  \n1                N             N           N           0.0  \n2                N             N           N           0.0  \n3                N             N           N           0.0  \n4                N             N           N           0.0  \n...            ...           ...         ...           ...  \n192874           N             N           N           0.0  \n192875           N             N           Y           0.0  \n192876           Y             N           N           0.0  \n192877           Y             N           N           1.0  \n192878           Y             N           N           0.0  \n\n[192879 rows x 29 columns]",
      "text/html": "<div>\n<style scoped>\n    .dataframe tbody tr th:only-of-type {\n        vertical-align: middle;\n    }\n\n    .dataframe tbody tr th {\n        vertical-align: top;\n    }\n\n    .dataframe thead th {\n        text-align: right;\n    }\n</style>\n<table border=\"1\" class=\"dataframe\">\n  <thead>\n    <tr style=\"text-align: right;\">\n      <th></th>\n      <th>Log_RnD_Fund</th>\n      <th>Log_Duration</th>\n      <th>N_of_SCI</th>\n      <th>N_of_Paper</th>\n      <th>N_Patent_App</th>\n      <th>N_Patent_Reg</th>\n      <th>N_of_Korean_Patent</th>\n      <th>STP_Code_1_Weight</th>\n      <th>STP_Code_2_Weight</th>\n      <th>Application_Area_1_Weight</th>\n      <th>...</th>\n      <th>SixT_2</th>\n      <th>Econ_Social</th>\n      <th>National_Strategy_2</th>\n      <th>RnD_Stage</th>\n      <th>Cowork_Cor</th>\n      <th>Cowork_Uni</th>\n      <th>Cowork_Inst</th>\n      <th>Cowork_Abroad</th>\n      <th>Cowork_etc</th>\n      <th>Comm_Success</th>\n    </tr>\n  </thead>\n  <tbody>\n    <tr>\n      <th>0</th>\n      <td>21.365120</td>\n      <td>5.897157</td>\n      <td>0.0</td>\n      <td>0.0</td>\n      <td>0.0</td>\n      <td>0.0</td>\n      <td>0.0</td>\n      <td>100.0</td>\n      <td>0.0</td>\n      <td>100.0</td>\n      <td>...</td>\n      <td>70000</td>\n      <td>13</td>\n      <td>60000</td>\n      <td>4</td>\n      <td>N</td>\n      <td>N</td>\n      <td>N</td>\n      <td>N</td>\n      <td>N</td>\n      <td>0.0</td>\n    </tr>\n    <tr>\n      <th>1</th>\n      <td>19.568083</td>\n      <td>5.897157</td>\n      <td>0.0</td>\n      <td>0.0</td>\n      <td>0.0</td>\n      <td>0.0</td>\n      <td>0.0</td>\n      <td>100.0</td>\n      <td>0.0</td>\n      <td>100.0</td>\n      <td>...</td>\n      <td>70000</td>\n      <td>13</td>\n      <td>60000</td>\n      <td>4</td>\n      <td>N</td>\n      <td>N</td>\n      <td>N</td>\n      <td>N</td>\n      <td>N</td>\n      <td>0.0</td>\n    </tr>\n    <tr>\n      <th>2</th>\n      <td>21.365120</td>\n      <td>5.897157</td>\n      <td>0.0</td>\n      <td>0.0</td>\n      <td>0.0</td>\n      <td>0.0</td>\n      <td>0.0</td>\n      <td>100.0</td>\n      <td>0.0</td>\n      <td>100.0</td>\n      <td>...</td>\n      <td>70000</td>\n      <td>13</td>\n      <td>60000</td>\n      <td>4</td>\n      <td>N</td>\n      <td>N</td>\n      <td>N</td>\n      <td>N</td>\n      <td>N</td>\n      <td>0.0</td>\n    </tr>\n    <tr>\n      <th>3</th>\n      <td>19.673444</td>\n      <td>5.808145</td>\n      <td>0.0</td>\n      <td>0.0</td>\n      <td>0.0</td>\n      <td>0.0</td>\n      <td>0.0</td>\n      <td>100.0</td>\n      <td>0.0</td>\n      <td>100.0</td>\n      <td>...</td>\n      <td>70000</td>\n      <td>13</td>\n      <td>60000</td>\n      <td>4</td>\n      <td>N</td>\n      <td>N</td>\n      <td>N</td>\n      <td>N</td>\n      <td>N</td>\n      <td>0.0</td>\n    </tr>\n    <tr>\n      <th>4</th>\n      <td>17.504390</td>\n      <td>4.804029</td>\n      <td>0.0</td>\n      <td>0.0</td>\n      <td>0.0</td>\n      <td>0.0</td>\n      <td>0.0</td>\n      <td>0.0</td>\n      <td>0.0</td>\n      <td>100.0</td>\n      <td>...</td>\n      <td>70000</td>\n      <td>13</td>\n      <td>60000</td>\n      <td>4</td>\n      <td>N</td>\n      <td>N</td>\n      <td>N</td>\n      <td>N</td>\n      <td>N</td>\n      <td>0.0</td>\n    </tr>\n    <tr>\n      <th>...</th>\n      <td>...</td>\n      <td>...</td>\n      <td>...</td>\n      <td>...</td>\n      <td>...</td>\n      <td>...</td>\n      <td>...</td>\n      <td>...</td>\n      <td>...</td>\n      <td>...</td>\n      <td>...</td>\n      <td>...</td>\n      <td>...</td>\n      <td>...</td>\n      <td>...</td>\n      <td>...</td>\n      <td>...</td>\n      <td>...</td>\n      <td>...</td>\n      <td>...</td>\n      <td>...</td>\n    </tr>\n    <tr>\n      <th>192874</th>\n      <td>20.723266</td>\n      <td>6.302621</td>\n      <td>0.0</td>\n      <td>0.0</td>\n      <td>2.0</td>\n      <td>1.0</td>\n      <td>3.0</td>\n      <td>50.0</td>\n      <td>30.0</td>\n      <td>50.0</td>\n      <td>...</td>\n      <td>20200</td>\n      <td>11</td>\n      <td>40100</td>\n      <td>2</td>\n      <td>N</td>\n      <td>N</td>\n      <td>N</td>\n      <td>N</td>\n      <td>N</td>\n      <td>0.0</td>\n    </tr>\n    <tr>\n      <th>192875</th>\n      <td>21.920324</td>\n      <td>6.302621</td>\n      <td>0.0</td>\n      <td>0.0</td>\n      <td>0.0</td>\n      <td>0.0</td>\n      <td>0.0</td>\n      <td>100.0</td>\n      <td>0.0</td>\n      <td>100.0</td>\n      <td>...</td>\n      <td>20200</td>\n      <td>4</td>\n      <td>60000</td>\n      <td>3</td>\n      <td>N</td>\n      <td>N</td>\n      <td>N</td>\n      <td>N</td>\n      <td>Y</td>\n      <td>0.0</td>\n    </tr>\n    <tr>\n      <th>192876</th>\n      <td>20.482467</td>\n      <td>6.998511</td>\n      <td>0.0</td>\n      <td>0.0</td>\n      <td>0.0</td>\n      <td>0.0</td>\n      <td>0.0</td>\n      <td>80.0</td>\n      <td>20.0</td>\n      <td>60.0</td>\n      <td>...</td>\n      <td>30200</td>\n      <td>7</td>\n      <td>10500</td>\n      <td>3</td>\n      <td>Y</td>\n      <td>N</td>\n      <td>Y</td>\n      <td>N</td>\n      <td>N</td>\n      <td>0.0</td>\n    </tr>\n    <tr>\n      <th>192877</th>\n      <td>20.430236</td>\n      <td>6.998511</td>\n      <td>0.0</td>\n      <td>0.0</td>\n      <td>2.0</td>\n      <td>2.0</td>\n      <td>4.0</td>\n      <td>100.0</td>\n      <td>0.0</td>\n      <td>100.0</td>\n      <td>...</td>\n      <td>30200</td>\n      <td>7</td>\n      <td>10500</td>\n      <td>3</td>\n      <td>Y</td>\n      <td>N</td>\n      <td>Y</td>\n      <td>N</td>\n      <td>N</td>\n      <td>1.0</td>\n    </tr>\n    <tr>\n      <th>192878</th>\n      <td>20.584004</td>\n      <td>6.998511</td>\n      <td>0.0</td>\n      <td>0.0</td>\n      <td>0.0</td>\n      <td>0.0</td>\n      <td>0.0</td>\n      <td>50.0</td>\n      <td>30.0</td>\n      <td>50.0</td>\n      <td>...</td>\n      <td>50100</td>\n      <td>7</td>\n      <td>30200</td>\n      <td>4</td>\n      <td>Y</td>\n      <td>Y</td>\n      <td>Y</td>\n      <td>N</td>\n      <td>N</td>\n      <td>0.0</td>\n    </tr>\n  </tbody>\n</table>\n<p>192879 rows × 29 columns</p>\n</div>"
     },
     "execution_count": 50,
     "metadata": {},
     "output_type": "execute_result"
    }
   ],
   "source": [
    "data = df[NUMERIC_COLUMN+CATEGORICAL_COLUMN+LABEL_COLUMN]\n",
    "data"
   ],
   "metadata": {
    "collapsed": false,
    "pycharm": {
     "name": "#%%\n"
    }
   }
  },
  {
   "cell_type": "markdown",
   "source": [
    "#### [LightGBM] [Warning] Met categorical feature which contains sparse values. Consider renumbering to consecutive integers started from zero >> 해결하기\n"
   ],
   "metadata": {
    "collapsed": false,
    "pycharm": {
     "name": "#%% md\n"
    }
   }
  },
  {
   "cell_type": "code",
   "execution_count": 51,
   "outputs": [
    {
     "data": {
      "text/plain": "        Log_RnD_Fund  Log_Duration  N_of_SCI  N_of_Paper  N_Patent_App  \\\n0          21.365120      5.897157       0.0         0.0           0.0   \n1          19.568083      5.897157       0.0         0.0           0.0   \n2          21.365120      5.897157       0.0         0.0           0.0   \n3          19.673444      5.808145       0.0         0.0           0.0   \n4          17.504390      4.804029       0.0         0.0           0.0   \n...              ...           ...       ...         ...           ...   \n192874     20.723266      6.302621       0.0         0.0           2.0   \n192875     21.920324      6.302621       0.0         0.0           0.0   \n192876     20.482467      6.998511       0.0         0.0           0.0   \n192877     20.430236      6.998511       0.0         0.0           2.0   \n192878     20.584004      6.998511       0.0         0.0           0.0   \n\n        N_Patent_Reg  N_of_Korean_Patent  STP_Code_1_Weight  \\\n0                0.0                 0.0              100.0   \n1                0.0                 0.0              100.0   \n2                0.0                 0.0              100.0   \n3                0.0                 0.0              100.0   \n4                0.0                 0.0                0.0   \n...              ...                 ...                ...   \n192874           1.0                 3.0               50.0   \n192875           0.0                 0.0              100.0   \n192876           0.0                 0.0               80.0   \n192877           2.0                 4.0              100.0   \n192878           0.0                 0.0               50.0   \n\n        STP_Code_2_Weight  Application_Area_1_Weight  ...  SixT_2  \\\n0                     0.0                      100.0  ...       0   \n1                     0.0                      100.0  ...       0   \n2                     0.0                      100.0  ...       0   \n3                     0.0                      100.0  ...       0   \n4                     0.0                      100.0  ...       0   \n...                   ...                        ...  ...     ...   \n192874               30.0                       50.0  ...       4   \n192875                0.0                      100.0  ...       4   \n192876               20.0                       60.0  ...       9   \n192877                0.0                      100.0  ...       9   \n192878               30.0                       50.0  ...       3   \n\n        Econ_Social  National_Strategy_2  RnD_Stage  Cowork_Cor  Cowork_Uni  \\\n0                 0                    0          0           0           0   \n1                 0                    0          0           0           0   \n2                 0                    0          0           0           0   \n3                 0                    0          0           0           0   \n4                 0                    0          0           0           0   \n...             ...                  ...        ...         ...         ...   \n192874            4                    7          2           0           0   \n192875            5                    0          3           0           0   \n192876            2                    8          3           1           0   \n192877            2                    8          3           1           0   \n192878            2                    3          0           1           1   \n\n        Cowork_Inst  Cowork_Abroad  Cowork_etc  Comm_Success  \n0                 0              0           0           0.0  \n1                 0              0           0           0.0  \n2                 0              0           0           0.0  \n3                 0              0           0           0.0  \n4                 0              0           0           0.0  \n...             ...            ...         ...           ...  \n192874            0              0           0           0.0  \n192875            0              0           1           0.0  \n192876            1              0           0           0.0  \n192877            1              0           0           1.0  \n192878            1              0           0           0.0  \n\n[192879 rows x 29 columns]",
      "text/html": "<div>\n<style scoped>\n    .dataframe tbody tr th:only-of-type {\n        vertical-align: middle;\n    }\n\n    .dataframe tbody tr th {\n        vertical-align: top;\n    }\n\n    .dataframe thead th {\n        text-align: right;\n    }\n</style>\n<table border=\"1\" class=\"dataframe\">\n  <thead>\n    <tr style=\"text-align: right;\">\n      <th></th>\n      <th>Log_RnD_Fund</th>\n      <th>Log_Duration</th>\n      <th>N_of_SCI</th>\n      <th>N_of_Paper</th>\n      <th>N_Patent_App</th>\n      <th>N_Patent_Reg</th>\n      <th>N_of_Korean_Patent</th>\n      <th>STP_Code_1_Weight</th>\n      <th>STP_Code_2_Weight</th>\n      <th>Application_Area_1_Weight</th>\n      <th>...</th>\n      <th>SixT_2</th>\n      <th>Econ_Social</th>\n      <th>National_Strategy_2</th>\n      <th>RnD_Stage</th>\n      <th>Cowork_Cor</th>\n      <th>Cowork_Uni</th>\n      <th>Cowork_Inst</th>\n      <th>Cowork_Abroad</th>\n      <th>Cowork_etc</th>\n      <th>Comm_Success</th>\n    </tr>\n  </thead>\n  <tbody>\n    <tr>\n      <th>0</th>\n      <td>21.365120</td>\n      <td>5.897157</td>\n      <td>0.0</td>\n      <td>0.0</td>\n      <td>0.0</td>\n      <td>0.0</td>\n      <td>0.0</td>\n      <td>100.0</td>\n      <td>0.0</td>\n      <td>100.0</td>\n      <td>...</td>\n      <td>0</td>\n      <td>0</td>\n      <td>0</td>\n      <td>0</td>\n      <td>0</td>\n      <td>0</td>\n      <td>0</td>\n      <td>0</td>\n      <td>0</td>\n      <td>0.0</td>\n    </tr>\n    <tr>\n      <th>1</th>\n      <td>19.568083</td>\n      <td>5.897157</td>\n      <td>0.0</td>\n      <td>0.0</td>\n      <td>0.0</td>\n      <td>0.0</td>\n      <td>0.0</td>\n      <td>100.0</td>\n      <td>0.0</td>\n      <td>100.0</td>\n      <td>...</td>\n      <td>0</td>\n      <td>0</td>\n      <td>0</td>\n      <td>0</td>\n      <td>0</td>\n      <td>0</td>\n      <td>0</td>\n      <td>0</td>\n      <td>0</td>\n      <td>0.0</td>\n    </tr>\n    <tr>\n      <th>2</th>\n      <td>21.365120</td>\n      <td>5.897157</td>\n      <td>0.0</td>\n      <td>0.0</td>\n      <td>0.0</td>\n      <td>0.0</td>\n      <td>0.0</td>\n      <td>100.0</td>\n      <td>0.0</td>\n      <td>100.0</td>\n      <td>...</td>\n      <td>0</td>\n      <td>0</td>\n      <td>0</td>\n      <td>0</td>\n      <td>0</td>\n      <td>0</td>\n      <td>0</td>\n      <td>0</td>\n      <td>0</td>\n      <td>0.0</td>\n    </tr>\n    <tr>\n      <th>3</th>\n      <td>19.673444</td>\n      <td>5.808145</td>\n      <td>0.0</td>\n      <td>0.0</td>\n      <td>0.0</td>\n      <td>0.0</td>\n      <td>0.0</td>\n      <td>100.0</td>\n      <td>0.0</td>\n      <td>100.0</td>\n      <td>...</td>\n      <td>0</td>\n      <td>0</td>\n      <td>0</td>\n      <td>0</td>\n      <td>0</td>\n      <td>0</td>\n      <td>0</td>\n      <td>0</td>\n      <td>0</td>\n      <td>0.0</td>\n    </tr>\n    <tr>\n      <th>4</th>\n      <td>17.504390</td>\n      <td>4.804029</td>\n      <td>0.0</td>\n      <td>0.0</td>\n      <td>0.0</td>\n      <td>0.0</td>\n      <td>0.0</td>\n      <td>0.0</td>\n      <td>0.0</td>\n      <td>100.0</td>\n      <td>...</td>\n      <td>0</td>\n      <td>0</td>\n      <td>0</td>\n      <td>0</td>\n      <td>0</td>\n      <td>0</td>\n      <td>0</td>\n      <td>0</td>\n      <td>0</td>\n      <td>0.0</td>\n    </tr>\n    <tr>\n      <th>...</th>\n      <td>...</td>\n      <td>...</td>\n      <td>...</td>\n      <td>...</td>\n      <td>...</td>\n      <td>...</td>\n      <td>...</td>\n      <td>...</td>\n      <td>...</td>\n      <td>...</td>\n      <td>...</td>\n      <td>...</td>\n      <td>...</td>\n      <td>...</td>\n      <td>...</td>\n      <td>...</td>\n      <td>...</td>\n      <td>...</td>\n      <td>...</td>\n      <td>...</td>\n      <td>...</td>\n    </tr>\n    <tr>\n      <th>192874</th>\n      <td>20.723266</td>\n      <td>6.302621</td>\n      <td>0.0</td>\n      <td>0.0</td>\n      <td>2.0</td>\n      <td>1.0</td>\n      <td>3.0</td>\n      <td>50.0</td>\n      <td>30.0</td>\n      <td>50.0</td>\n      <td>...</td>\n      <td>4</td>\n      <td>4</td>\n      <td>7</td>\n      <td>2</td>\n      <td>0</td>\n      <td>0</td>\n      <td>0</td>\n      <td>0</td>\n      <td>0</td>\n      <td>0.0</td>\n    </tr>\n    <tr>\n      <th>192875</th>\n      <td>21.920324</td>\n      <td>6.302621</td>\n      <td>0.0</td>\n      <td>0.0</td>\n      <td>0.0</td>\n      <td>0.0</td>\n      <td>0.0</td>\n      <td>100.0</td>\n      <td>0.0</td>\n      <td>100.0</td>\n      <td>...</td>\n      <td>4</td>\n      <td>5</td>\n      <td>0</td>\n      <td>3</td>\n      <td>0</td>\n      <td>0</td>\n      <td>0</td>\n      <td>0</td>\n      <td>1</td>\n      <td>0.0</td>\n    </tr>\n    <tr>\n      <th>192876</th>\n      <td>20.482467</td>\n      <td>6.998511</td>\n      <td>0.0</td>\n      <td>0.0</td>\n      <td>0.0</td>\n      <td>0.0</td>\n      <td>0.0</td>\n      <td>80.0</td>\n      <td>20.0</td>\n      <td>60.0</td>\n      <td>...</td>\n      <td>9</td>\n      <td>2</td>\n      <td>8</td>\n      <td>3</td>\n      <td>1</td>\n      <td>0</td>\n      <td>1</td>\n      <td>0</td>\n      <td>0</td>\n      <td>0.0</td>\n    </tr>\n    <tr>\n      <th>192877</th>\n      <td>20.430236</td>\n      <td>6.998511</td>\n      <td>0.0</td>\n      <td>0.0</td>\n      <td>2.0</td>\n      <td>2.0</td>\n      <td>4.0</td>\n      <td>100.0</td>\n      <td>0.0</td>\n      <td>100.0</td>\n      <td>...</td>\n      <td>9</td>\n      <td>2</td>\n      <td>8</td>\n      <td>3</td>\n      <td>1</td>\n      <td>0</td>\n      <td>1</td>\n      <td>0</td>\n      <td>0</td>\n      <td>1.0</td>\n    </tr>\n    <tr>\n      <th>192878</th>\n      <td>20.584004</td>\n      <td>6.998511</td>\n      <td>0.0</td>\n      <td>0.0</td>\n      <td>0.0</td>\n      <td>0.0</td>\n      <td>0.0</td>\n      <td>50.0</td>\n      <td>30.0</td>\n      <td>50.0</td>\n      <td>...</td>\n      <td>3</td>\n      <td>2</td>\n      <td>3</td>\n      <td>0</td>\n      <td>1</td>\n      <td>1</td>\n      <td>1</td>\n      <td>0</td>\n      <td>0</td>\n      <td>0.0</td>\n    </tr>\n  </tbody>\n</table>\n<p>192879 rows × 29 columns</p>\n</div>"
     },
     "execution_count": 51,
     "metadata": {},
     "output_type": "execute_result"
    }
   ],
   "source": [
    "#카테고리 컬럼 > 0,1,2,3....변경\n",
    "for i in CATEGORICAL_COLUMN:\n",
    "    value = data[i].unique()\n",
    "    val_list = list(value)\n",
    "    new_val_list = list(range(0, len(val_list)))\n",
    "    data[i]= data[i].replace(val_list,new_val_list)\n",
    "data"
   ],
   "metadata": {
    "collapsed": false,
    "pycharm": {
     "name": "#%%\n"
    }
   }
  },
  {
   "cell_type": "code",
   "execution_count": 52,
   "outputs": [],
   "source": [
    "train_data, test_data = train_test_split(data, test_size=0.2, random_state=42)\n",
    "train_data, val_data = train_test_split(train_data, test_size=0.2, random_state=42)\n",
    "x_train  = train_data.drop(LABEL_COLUMN,axis = 1)\n",
    "y_train = train_data[LABEL_COLUMN]\n",
    "\n",
    "x_val  = val_data.drop(LABEL_COLUMN,axis = 1)\n",
    "y_val = val_data[LABEL_COLUMN]\n",
    "\n",
    "x_test  = test_data.drop(LABEL_COLUMN,axis = 1)\n",
    "y_test = test_data[LABEL_COLUMN]\n"
   ],
   "metadata": {
    "collapsed": false,
    "pycharm": {
     "name": "#%%\n"
    }
   }
  },
  {
   "cell_type": "code",
   "execution_count": 53,
   "outputs": [
    {
     "name": "stdout",
     "output_type": "stream",
     "text": [
      "[1]\tvalid_0's binary_logloss: 0.341237\n",
      "[2]\tvalid_0's binary_logloss: 0.318155\n",
      "[3]\tvalid_0's binary_logloss: 0.300986\n",
      "[4]\tvalid_0's binary_logloss: 0.287215\n",
      "[5]\tvalid_0's binary_logloss: 0.275908\n",
      "[6]\tvalid_0's binary_logloss: 0.266564\n",
      "[7]\tvalid_0's binary_logloss: 0.25851\n",
      "[8]\tvalid_0's binary_logloss: 0.251695\n",
      "[9]\tvalid_0's binary_logloss: 0.245464\n",
      "[10]\tvalid_0's binary_logloss: 0.240322\n",
      "[11]\tvalid_0's binary_logloss: 0.235764\n",
      "[12]\tvalid_0's binary_logloss: 0.23189\n",
      "[13]\tvalid_0's binary_logloss: 0.227914\n",
      "[14]\tvalid_0's binary_logloss: 0.224853\n",
      "[15]\tvalid_0's binary_logloss: 0.221804\n",
      "[16]\tvalid_0's binary_logloss: 0.219316\n",
      "[17]\tvalid_0's binary_logloss: 0.217081\n",
      "[18]\tvalid_0's binary_logloss: 0.215051\n",
      "[19]\tvalid_0's binary_logloss: 0.213163\n",
      "[20]\tvalid_0's binary_logloss: 0.211166\n",
      "[21]\tvalid_0's binary_logloss: 0.209588\n",
      "[22]\tvalid_0's binary_logloss: 0.208311\n",
      "[23]\tvalid_0's binary_logloss: 0.207066\n",
      "[24]\tvalid_0's binary_logloss: 0.205902\n",
      "[25]\tvalid_0's binary_logloss: 0.204973\n",
      "[26]\tvalid_0's binary_logloss: 0.204086\n",
      "[27]\tvalid_0's binary_logloss: 0.203317\n",
      "[28]\tvalid_0's binary_logloss: 0.202419\n",
      "[29]\tvalid_0's binary_logloss: 0.201702\n",
      "[30]\tvalid_0's binary_logloss: 0.200815\n",
      "[31]\tvalid_0's binary_logloss: 0.200272\n",
      "[32]\tvalid_0's binary_logloss: 0.199746\n",
      "[33]\tvalid_0's binary_logloss: 0.199152\n",
      "[34]\tvalid_0's binary_logloss: 0.198618\n",
      "[35]\tvalid_0's binary_logloss: 0.198206\n",
      "[36]\tvalid_0's binary_logloss: 0.197829\n",
      "[37]\tvalid_0's binary_logloss: 0.197539\n",
      "[38]\tvalid_0's binary_logloss: 0.197196\n",
      "[39]\tvalid_0's binary_logloss: 0.196907\n",
      "[40]\tvalid_0's binary_logloss: 0.196546\n",
      "[41]\tvalid_0's binary_logloss: 0.196173\n",
      "[42]\tvalid_0's binary_logloss: 0.195907\n",
      "[43]\tvalid_0's binary_logloss: 0.195708\n",
      "[44]\tvalid_0's binary_logloss: 0.195534\n",
      "[45]\tvalid_0's binary_logloss: 0.195357\n",
      "[46]\tvalid_0's binary_logloss: 0.195099\n",
      "[47]\tvalid_0's binary_logloss: 0.194826\n",
      "[48]\tvalid_0's binary_logloss: 0.194726\n",
      "[49]\tvalid_0's binary_logloss: 0.194479\n",
      "[50]\tvalid_0's binary_logloss: 0.194283\n",
      "[51]\tvalid_0's binary_logloss: 0.194177\n",
      "[52]\tvalid_0's binary_logloss: 0.194019\n",
      "[53]\tvalid_0's binary_logloss: 0.194011\n",
      "[54]\tvalid_0's binary_logloss: 0.1938\n",
      "[55]\tvalid_0's binary_logloss: 0.193623\n",
      "[56]\tvalid_0's binary_logloss: 0.193466\n",
      "[57]\tvalid_0's binary_logloss: 0.193442\n",
      "[58]\tvalid_0's binary_logloss: 0.193285\n",
      "[59]\tvalid_0's binary_logloss: 0.19313\n",
      "[60]\tvalid_0's binary_logloss: 0.193101\n",
      "[61]\tvalid_0's binary_logloss: 0.193002\n",
      "[62]\tvalid_0's binary_logloss: 0.192761\n",
      "[63]\tvalid_0's binary_logloss: 0.192642\n",
      "[64]\tvalid_0's binary_logloss: 0.192562\n",
      "[65]\tvalid_0's binary_logloss: 0.192499\n",
      "[66]\tvalid_0's binary_logloss: 0.192411\n",
      "[67]\tvalid_0's binary_logloss: 0.192287\n",
      "[68]\tvalid_0's binary_logloss: 0.192229\n",
      "[69]\tvalid_0's binary_logloss: 0.192155\n",
      "[70]\tvalid_0's binary_logloss: 0.192149\n",
      "[71]\tvalid_0's binary_logloss: 0.192044\n",
      "[72]\tvalid_0's binary_logloss: 0.191962\n",
      "[73]\tvalid_0's binary_logloss: 0.191972\n",
      "[74]\tvalid_0's binary_logloss: 0.191906\n",
      "[75]\tvalid_0's binary_logloss: 0.191923\n",
      "[76]\tvalid_0's binary_logloss: 0.191851\n",
      "[77]\tvalid_0's binary_logloss: 0.191841\n",
      "[78]\tvalid_0's binary_logloss: 0.191714\n",
      "[79]\tvalid_0's binary_logloss: 0.191679\n",
      "[80]\tvalid_0's binary_logloss: 0.191653\n",
      "[81]\tvalid_0's binary_logloss: 0.191683\n",
      "[82]\tvalid_0's binary_logloss: 0.191625\n",
      "[83]\tvalid_0's binary_logloss: 0.191531\n",
      "[84]\tvalid_0's binary_logloss: 0.19144\n",
      "[85]\tvalid_0's binary_logloss: 0.191415\n",
      "[86]\tvalid_0's binary_logloss: 0.191305\n",
      "[87]\tvalid_0's binary_logloss: 0.191331\n",
      "[88]\tvalid_0's binary_logloss: 0.191202\n",
      "[89]\tvalid_0's binary_logloss: 0.191204\n",
      "[90]\tvalid_0's binary_logloss: 0.191123\n",
      "[91]\tvalid_0's binary_logloss: 0.191127\n",
      "[92]\tvalid_0's binary_logloss: 0.191086\n",
      "[93]\tvalid_0's binary_logloss: 0.190935\n",
      "[94]\tvalid_0's binary_logloss: 0.190963\n",
      "[95]\tvalid_0's binary_logloss: 0.190891\n",
      "[96]\tvalid_0's binary_logloss: 0.190843\n",
      "[97]\tvalid_0's binary_logloss: 0.190739\n",
      "[98]\tvalid_0's binary_logloss: 0.190652\n",
      "[99]\tvalid_0's binary_logloss: 0.190641\n",
      "[100]\tvalid_0's binary_logloss: 0.190627\n"
     ]
    },
    {
     "data": {
      "text/plain": "LGBMClassifier()",
      "text/html": "<style>#sk-container-id-2 {color: black;background-color: white;}#sk-container-id-2 pre{padding: 0;}#sk-container-id-2 div.sk-toggleable {background-color: white;}#sk-container-id-2 label.sk-toggleable__label {cursor: pointer;display: block;width: 100%;margin-bottom: 0;padding: 0.3em;box-sizing: border-box;text-align: center;}#sk-container-id-2 label.sk-toggleable__label-arrow:before {content: \"▸\";float: left;margin-right: 0.25em;color: #696969;}#sk-container-id-2 label.sk-toggleable__label-arrow:hover:before {color: black;}#sk-container-id-2 div.sk-estimator:hover label.sk-toggleable__label-arrow:before {color: black;}#sk-container-id-2 div.sk-toggleable__content {max-height: 0;max-width: 0;overflow: hidden;text-align: left;background-color: #f0f8ff;}#sk-container-id-2 div.sk-toggleable__content pre {margin: 0.2em;color: black;border-radius: 0.25em;background-color: #f0f8ff;}#sk-container-id-2 input.sk-toggleable__control:checked~div.sk-toggleable__content {max-height: 200px;max-width: 100%;overflow: auto;}#sk-container-id-2 input.sk-toggleable__control:checked~label.sk-toggleable__label-arrow:before {content: \"▾\";}#sk-container-id-2 div.sk-estimator input.sk-toggleable__control:checked~label.sk-toggleable__label {background-color: #d4ebff;}#sk-container-id-2 div.sk-label input.sk-toggleable__control:checked~label.sk-toggleable__label {background-color: #d4ebff;}#sk-container-id-2 input.sk-hidden--visually {border: 0;clip: rect(1px 1px 1px 1px);clip: rect(1px, 1px, 1px, 1px);height: 1px;margin: -1px;overflow: hidden;padding: 0;position: absolute;width: 1px;}#sk-container-id-2 div.sk-estimator {font-family: monospace;background-color: #f0f8ff;border: 1px dotted black;border-radius: 0.25em;box-sizing: border-box;margin-bottom: 0.5em;}#sk-container-id-2 div.sk-estimator:hover {background-color: #d4ebff;}#sk-container-id-2 div.sk-parallel-item::after {content: \"\";width: 100%;border-bottom: 1px solid gray;flex-grow: 1;}#sk-container-id-2 div.sk-label:hover label.sk-toggleable__label {background-color: #d4ebff;}#sk-container-id-2 div.sk-serial::before {content: \"\";position: absolute;border-left: 1px solid gray;box-sizing: border-box;top: 0;bottom: 0;left: 50%;z-index: 0;}#sk-container-id-2 div.sk-serial {display: flex;flex-direction: column;align-items: center;background-color: white;padding-right: 0.2em;padding-left: 0.2em;position: relative;}#sk-container-id-2 div.sk-item {position: relative;z-index: 1;}#sk-container-id-2 div.sk-parallel {display: flex;align-items: stretch;justify-content: center;background-color: white;position: relative;}#sk-container-id-2 div.sk-item::before, #sk-container-id-2 div.sk-parallel-item::before {content: \"\";position: absolute;border-left: 1px solid gray;box-sizing: border-box;top: 0;bottom: 0;left: 50%;z-index: -1;}#sk-container-id-2 div.sk-parallel-item {display: flex;flex-direction: column;z-index: 1;position: relative;background-color: white;}#sk-container-id-2 div.sk-parallel-item:first-child::after {align-self: flex-end;width: 50%;}#sk-container-id-2 div.sk-parallel-item:last-child::after {align-self: flex-start;width: 50%;}#sk-container-id-2 div.sk-parallel-item:only-child::after {width: 0;}#sk-container-id-2 div.sk-dashed-wrapped {border: 1px dashed gray;margin: 0 0.4em 0.5em 0.4em;box-sizing: border-box;padding-bottom: 0.4em;background-color: white;}#sk-container-id-2 div.sk-label label {font-family: monospace;font-weight: bold;display: inline-block;line-height: 1.2em;}#sk-container-id-2 div.sk-label-container {text-align: center;}#sk-container-id-2 div.sk-container {/* jupyter's `normalize.less` sets `[hidden] { display: none; }` but bootstrap.min.css set `[hidden] { display: none !important; }` so we also need the `!important` here to be able to override the default hidden behavior on the sphinx rendered scikit-learn.org. See: https://github.com/scikit-learn/scikit-learn/issues/21755 */display: inline-block !important;position: relative;}#sk-container-id-2 div.sk-text-repr-fallback {display: none;}</style><div id=\"sk-container-id-2\" class=\"sk-top-container\"><div class=\"sk-text-repr-fallback\"><pre>LGBMClassifier()</pre><b>In a Jupyter environment, please rerun this cell to show the HTML representation or trust the notebook. <br />On GitHub, the HTML representation is unable to render, please try loading this page with nbviewer.org.</b></div><div class=\"sk-container\" hidden><div class=\"sk-item\"><div class=\"sk-estimator sk-toggleable\"><input class=\"sk-toggleable__control sk-hidden--visually\" id=\"sk-estimator-id-2\" type=\"checkbox\" checked><label for=\"sk-estimator-id-2\" class=\"sk-toggleable__label sk-toggleable__label-arrow\">LGBMClassifier</label><div class=\"sk-toggleable__content\"><pre>LGBMClassifier()</pre></div></div></div></div></div>"
     },
     "execution_count": 53,
     "metadata": {},
     "output_type": "execute_result"
    }
   ],
   "source": [
    "from lightgbm import LGBMClassifier\n",
    "model = LGBMClassifier()\n",
    "model.fit(x_train, y_train,  eval_set = (x_val,y_val), categorical_feature =CATEGORICAL_COLUMN )"
   ],
   "metadata": {
    "collapsed": false,
    "pycharm": {
     "name": "#%%\n"
    }
   }
  },
  {
   "cell_type": "code",
   "execution_count": 54,
   "outputs": [
    {
     "name": "stdout",
     "output_type": "stream",
     "text": [
      "Confusion Matrix\n",
      "[[32760   941]\n",
      " [ 2501  2374]]\n",
      "accuracy:0.9108, precision:0.7161, recall:0.487, f1-score:0.5797\n"
     ]
    }
   ],
   "source": [
    "y_pred = model.predict(x_test)\n",
    "y_true = np.array(y_test)\n",
    "\n",
    "from sklearn.metrics import accuracy_score, precision_score, recall_score, confusion_matrix, f1_score\n",
    "\n",
    "def get_clf_eval(y_test, pred):\n",
    "    confusion = confusion_matrix(y_test, pred)\n",
    "    accuracy = accuracy_score(y_test, pred)\n",
    "    precision = precision_score(y_test, pred)\n",
    "    recall = recall_score(y_test, pred)\n",
    "    f1 = f1_score(y_test,pred)\n",
    "    print('Confusion Matrix')\n",
    "    print(confusion)\n",
    "    print('accuracy:{}, precision:{}, recall:{}, f1-score:{}'.format(round(accuracy,4), round(precision,4) ,round(recall,4), round(f1,4)))\n",
    "\n",
    "get_clf_eval(y_true, y_pred)\n",
    "\n",
    "\n",
    "\n"
   ],
   "metadata": {
    "collapsed": false,
    "pycharm": {
     "name": "#%%\n"
    }
   }
  },
  {
   "cell_type": "markdown",
   "source": [],
   "metadata": {
    "collapsed": false
   }
  },
  {
   "cell_type": "code",
   "execution_count": 10,
   "outputs": [],
   "source": [],
   "metadata": {
    "collapsed": false,
    "pycharm": {
     "name": "#%%\n"
    }
   }
  },
  {
   "cell_type": "code",
   "execution_count": 10,
   "outputs": [],
   "source": [],
   "metadata": {
    "collapsed": false,
    "pycharm": {
     "name": "#%%\n"
    }
   }
  }
 ],
 "metadata": {
  "kernelspec": {
   "display_name": "Python 3",
   "language": "python",
   "name": "python3"
  },
  "language_info": {
   "codemirror_mode": {
    "name": "ipython",
    "version": 2
   },
   "file_extension": ".py",
   "mimetype": "text/x-python",
   "name": "python",
   "nbconvert_exporter": "python",
   "pygments_lexer": "ipython2",
   "version": "2.7.6"
  }
 },
 "nbformat": 4,
 "nbformat_minor": 0
}