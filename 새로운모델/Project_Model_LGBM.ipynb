{
 "cells": [
  {
   "cell_type": "code",
   "execution_count": 1,
   "metadata": {
    "collapsed": true
   },
   "outputs": [
    {
     "name": "stderr",
     "output_type": "stream",
     "text": [
      "/Users/keumhyeonjun/opt/anaconda3/envs/gpu_1/lib/python3.9/site-packages/scipy/__init__.py:146: UserWarning: A NumPy version >=1.16.5 and <1.23.0 is required for this version of SciPy (detected version 1.23.1\n",
      "  warnings.warn(f\"A NumPy version >={np_minversion} and <{np_maxversion}\"\n"
     ]
    }
   ],
   "source": [
    "import pandas as pd\n",
    "import numpy as np\n",
    "from sklearn.model_selection import train_test_split\n",
    "import warnings\n",
    "warnings.filterwarnings(action='ignore')"
   ]
  },
  {
   "cell_type": "code",
   "execution_count": 2,
   "outputs": [
    {
     "data": {
      "text/plain": "         index  Project_ID    Year  N_of_SCI  N_of_Paper  N_Patent_App  \\\n0            0  1055000474  2013.0       0.0         0.0           0.0   \n1            1  1055000475  2013.0       0.0         0.0           0.0   \n2            2  1055000476  2014.0       0.0         0.0           0.0   \n3            3  1055000477  2014.0       0.0         0.0           0.0   \n4            4  1055000478  2014.0       0.0         0.0           0.0   \n...        ...         ...     ...       ...         ...           ...   \n192874  192874  9991006121  2016.0       0.0         0.0           2.0   \n192875  192875  9991006122  2016.0       0.0         0.0           0.0   \n192876  192876  9991006124  2016.0       0.0         0.0           0.0   \n192877  192877  9991006125  2016.0       0.0         0.0           2.0   \n192878  192878  9991006126  2016.0       0.0         0.0           0.0   \n\n        N_Patent_Reg  N_of_Korean_Patent  N_of_Inter_Patent  N_of_Patent  ...  \\\n0                0.0                 0.0                0.0          0.0  ...   \n1                0.0                 0.0                0.0          0.0  ...   \n2                0.0                 0.0                0.0          0.0  ...   \n3                0.0                 0.0                0.0          0.0  ...   \n4                0.0                 0.0                0.0          0.0  ...   \n...              ...                 ...                ...          ...  ...   \n192874           1.0                 3.0                0.0          3.0  ...   \n192875           0.0                 0.0                0.0          0.0  ...   \n192876           0.0                 0.0                0.0          0.0  ...   \n192877           2.0                 4.0                0.0          4.0  ...   \n192878           0.0                 0.0                0.0          0.0  ...   \n\n        Cowork_Abroad  Cowork_etc  Log_RnD_Fund Log_Duration  Comm_Success  \\\n0                   N           N     21.365120     5.897157           0.0   \n1                   N           N     19.568083     5.897157           0.0   \n2                   N           N     21.365120     5.897157           0.0   \n3                   N           N     19.673444     5.808145           0.0   \n4                   N           N     17.504390     4.804029           0.0   \n...               ...         ...           ...          ...           ...   \n192874              N           N     20.723266     6.302621           0.0   \n192875              N           Y     21.920324     6.302621           0.0   \n192876              N           N     20.482467     6.998511           0.0   \n192877              N           N     20.430236     6.998511           1.0   \n192878              N           N     20.584004     6.998511           0.0   \n\n       Comm_Success_1  Comm_Success_2 Comm_Success_Code1_4  \\\n0                 0.0             0.0                  0.0   \n1                 0.0             0.0                  0.0   \n2                 0.0             0.0                  0.0   \n3                 0.0             0.0                  0.0   \n4                 0.0             0.0                  0.0   \n...               ...             ...                  ...   \n192874            0.0             0.0                  0.0   \n192875            0.0             0.0                  0.0   \n192876            0.0             0.0                  0.0   \n192877            1.0             0.0                  0.0   \n192878            0.0             0.0                  0.0   \n\n        Comm_Success_Code2_5 Comm_Success_Code3_6  \n0                        0.0                  0.0  \n1                        0.0                  0.0  \n2                        0.0                  0.0  \n3                        0.0                  0.0  \n4                        0.0                  0.0  \n...                      ...                  ...  \n192874                   0.0                  0.0  \n192875                   0.0                  0.0  \n192876                   0.0                  0.0  \n192877                   1.0                  0.0  \n192878                   0.0                  0.0  \n\n[192879 rows x 41 columns]",
      "text/html": "<div>\n<style scoped>\n    .dataframe tbody tr th:only-of-type {\n        vertical-align: middle;\n    }\n\n    .dataframe tbody tr th {\n        vertical-align: top;\n    }\n\n    .dataframe thead th {\n        text-align: right;\n    }\n</style>\n<table border=\"1\" class=\"dataframe\">\n  <thead>\n    <tr style=\"text-align: right;\">\n      <th></th>\n      <th>index</th>\n      <th>Project_ID</th>\n      <th>Year</th>\n      <th>N_of_SCI</th>\n      <th>N_of_Paper</th>\n      <th>N_Patent_App</th>\n      <th>N_Patent_Reg</th>\n      <th>N_of_Korean_Patent</th>\n      <th>N_of_Inter_Patent</th>\n      <th>N_of_Patent</th>\n      <th>...</th>\n      <th>Cowork_Abroad</th>\n      <th>Cowork_etc</th>\n      <th>Log_RnD_Fund</th>\n      <th>Log_Duration</th>\n      <th>Comm_Success</th>\n      <th>Comm_Success_1</th>\n      <th>Comm_Success_2</th>\n      <th>Comm_Success_Code1_4</th>\n      <th>Comm_Success_Code2_5</th>\n      <th>Comm_Success_Code3_6</th>\n    </tr>\n  </thead>\n  <tbody>\n    <tr>\n      <th>0</th>\n      <td>0</td>\n      <td>1055000474</td>\n      <td>2013.0</td>\n      <td>0.0</td>\n      <td>0.0</td>\n      <td>0.0</td>\n      <td>0.0</td>\n      <td>0.0</td>\n      <td>0.0</td>\n      <td>0.0</td>\n      <td>...</td>\n      <td>N</td>\n      <td>N</td>\n      <td>21.365120</td>\n      <td>5.897157</td>\n      <td>0.0</td>\n      <td>0.0</td>\n      <td>0.0</td>\n      <td>0.0</td>\n      <td>0.0</td>\n      <td>0.0</td>\n    </tr>\n    <tr>\n      <th>1</th>\n      <td>1</td>\n      <td>1055000475</td>\n      <td>2013.0</td>\n      <td>0.0</td>\n      <td>0.0</td>\n      <td>0.0</td>\n      <td>0.0</td>\n      <td>0.0</td>\n      <td>0.0</td>\n      <td>0.0</td>\n      <td>...</td>\n      <td>N</td>\n      <td>N</td>\n      <td>19.568083</td>\n      <td>5.897157</td>\n      <td>0.0</td>\n      <td>0.0</td>\n      <td>0.0</td>\n      <td>0.0</td>\n      <td>0.0</td>\n      <td>0.0</td>\n    </tr>\n    <tr>\n      <th>2</th>\n      <td>2</td>\n      <td>1055000476</td>\n      <td>2014.0</td>\n      <td>0.0</td>\n      <td>0.0</td>\n      <td>0.0</td>\n      <td>0.0</td>\n      <td>0.0</td>\n      <td>0.0</td>\n      <td>0.0</td>\n      <td>...</td>\n      <td>N</td>\n      <td>N</td>\n      <td>21.365120</td>\n      <td>5.897157</td>\n      <td>0.0</td>\n      <td>0.0</td>\n      <td>0.0</td>\n      <td>0.0</td>\n      <td>0.0</td>\n      <td>0.0</td>\n    </tr>\n    <tr>\n      <th>3</th>\n      <td>3</td>\n      <td>1055000477</td>\n      <td>2014.0</td>\n      <td>0.0</td>\n      <td>0.0</td>\n      <td>0.0</td>\n      <td>0.0</td>\n      <td>0.0</td>\n      <td>0.0</td>\n      <td>0.0</td>\n      <td>...</td>\n      <td>N</td>\n      <td>N</td>\n      <td>19.673444</td>\n      <td>5.808145</td>\n      <td>0.0</td>\n      <td>0.0</td>\n      <td>0.0</td>\n      <td>0.0</td>\n      <td>0.0</td>\n      <td>0.0</td>\n    </tr>\n    <tr>\n      <th>4</th>\n      <td>4</td>\n      <td>1055000478</td>\n      <td>2014.0</td>\n      <td>0.0</td>\n      <td>0.0</td>\n      <td>0.0</td>\n      <td>0.0</td>\n      <td>0.0</td>\n      <td>0.0</td>\n      <td>0.0</td>\n      <td>...</td>\n      <td>N</td>\n      <td>N</td>\n      <td>17.504390</td>\n      <td>4.804029</td>\n      <td>0.0</td>\n      <td>0.0</td>\n      <td>0.0</td>\n      <td>0.0</td>\n      <td>0.0</td>\n      <td>0.0</td>\n    </tr>\n    <tr>\n      <th>...</th>\n      <td>...</td>\n      <td>...</td>\n      <td>...</td>\n      <td>...</td>\n      <td>...</td>\n      <td>...</td>\n      <td>...</td>\n      <td>...</td>\n      <td>...</td>\n      <td>...</td>\n      <td>...</td>\n      <td>...</td>\n      <td>...</td>\n      <td>...</td>\n      <td>...</td>\n      <td>...</td>\n      <td>...</td>\n      <td>...</td>\n      <td>...</td>\n      <td>...</td>\n      <td>...</td>\n    </tr>\n    <tr>\n      <th>192874</th>\n      <td>192874</td>\n      <td>9991006121</td>\n      <td>2016.0</td>\n      <td>0.0</td>\n      <td>0.0</td>\n      <td>2.0</td>\n      <td>1.0</td>\n      <td>3.0</td>\n      <td>0.0</td>\n      <td>3.0</td>\n      <td>...</td>\n      <td>N</td>\n      <td>N</td>\n      <td>20.723266</td>\n      <td>6.302621</td>\n      <td>0.0</td>\n      <td>0.0</td>\n      <td>0.0</td>\n      <td>0.0</td>\n      <td>0.0</td>\n      <td>0.0</td>\n    </tr>\n    <tr>\n      <th>192875</th>\n      <td>192875</td>\n      <td>9991006122</td>\n      <td>2016.0</td>\n      <td>0.0</td>\n      <td>0.0</td>\n      <td>0.0</td>\n      <td>0.0</td>\n      <td>0.0</td>\n      <td>0.0</td>\n      <td>0.0</td>\n      <td>...</td>\n      <td>N</td>\n      <td>Y</td>\n      <td>21.920324</td>\n      <td>6.302621</td>\n      <td>0.0</td>\n      <td>0.0</td>\n      <td>0.0</td>\n      <td>0.0</td>\n      <td>0.0</td>\n      <td>0.0</td>\n    </tr>\n    <tr>\n      <th>192876</th>\n      <td>192876</td>\n      <td>9991006124</td>\n      <td>2016.0</td>\n      <td>0.0</td>\n      <td>0.0</td>\n      <td>0.0</td>\n      <td>0.0</td>\n      <td>0.0</td>\n      <td>0.0</td>\n      <td>0.0</td>\n      <td>...</td>\n      <td>N</td>\n      <td>N</td>\n      <td>20.482467</td>\n      <td>6.998511</td>\n      <td>0.0</td>\n      <td>0.0</td>\n      <td>0.0</td>\n      <td>0.0</td>\n      <td>0.0</td>\n      <td>0.0</td>\n    </tr>\n    <tr>\n      <th>192877</th>\n      <td>192877</td>\n      <td>9991006125</td>\n      <td>2016.0</td>\n      <td>0.0</td>\n      <td>0.0</td>\n      <td>2.0</td>\n      <td>2.0</td>\n      <td>4.0</td>\n      <td>0.0</td>\n      <td>4.0</td>\n      <td>...</td>\n      <td>N</td>\n      <td>N</td>\n      <td>20.430236</td>\n      <td>6.998511</td>\n      <td>1.0</td>\n      <td>1.0</td>\n      <td>0.0</td>\n      <td>0.0</td>\n      <td>1.0</td>\n      <td>0.0</td>\n    </tr>\n    <tr>\n      <th>192878</th>\n      <td>192878</td>\n      <td>9991006126</td>\n      <td>2016.0</td>\n      <td>0.0</td>\n      <td>0.0</td>\n      <td>0.0</td>\n      <td>0.0</td>\n      <td>0.0</td>\n      <td>0.0</td>\n      <td>0.0</td>\n      <td>...</td>\n      <td>N</td>\n      <td>N</td>\n      <td>20.584004</td>\n      <td>6.998511</td>\n      <td>0.0</td>\n      <td>0.0</td>\n      <td>0.0</td>\n      <td>0.0</td>\n      <td>0.0</td>\n      <td>0.0</td>\n    </tr>\n  </tbody>\n</table>\n<p>192879 rows × 41 columns</p>\n</div>"
     },
     "execution_count": 2,
     "metadata": {},
     "output_type": "execute_result"
    }
   ],
   "source": [
    "df=pd.read_csv('/Users/keumhyeonjun/Projects/kisti_renewal/dataset_final/Dataset_4_2016.csv')\n",
    "df"
   ],
   "metadata": {
    "collapsed": false,
    "pycharm": {
     "name": "#%%\n"
    }
   }
  },
  {
   "cell_type": "code",
   "execution_count": 3,
   "outputs": [],
   "source": [
    "NUMERIC_COLUMN = [\n",
    "    \"Log_RnD_Fund\",\n",
    "    \"Log_Duration\",\n",
    "    \"N_of_SCI\",\n",
    "    \"N_of_Paper\",\n",
    "    \"N_Patent_App\",\n",
    "    \"N_Patent_Reg\",\n",
    "    \"N_of_Korean_Patent\",\n",
    "    \"STP_Code_1_Weight\",\n",
    "    \"STP_Code_2_Weight\",\n",
    "    \"Application_Area_1_Weight\",\n",
    "    \"Application_Area_2_Weight\",\n",
    "]\n",
    "\n",
    "CATEGORICAL_COLUMN = [\n",
    "    \"Year\",\n",
    "    \"Multi_Year\",\n",
    "    \"RnD_Org\",\n",
    "    \"STP_Code_11\",\n",
    "    \"STP_Code_21\",\n",
    "    \"Application_Area_1\",\n",
    "    \"Application_Area_2\",\n",
    "    \"Green_Tech\",\n",
    "    \"SixT_2\",\n",
    "    \"Econ_Social\",\n",
    "    \"National_Strategy_2\",\n",
    "    \"RnD_Stage\",\n",
    "    \"Cowork_Cor\",\n",
    "    \"Cowork_Uni\",\n",
    "    \"Cowork_Inst\",\n",
    "    \"Cowork_Abroad\",\n",
    "    \"Cowork_etc\",\n",
    "]\n",
    "\n",
    "LABEL_COLUMN = [\"Comm_Success\"]"
   ],
   "metadata": {
    "collapsed": false,
    "pycharm": {
     "name": "#%%\n"
    }
   }
  },
  {
   "cell_type": "markdown",
   "source": [
    "# 불필요한 컬럼 제거(데이터로 사용하지 않을 것들)"
   ],
   "metadata": {
    "collapsed": false,
    "pycharm": {
     "name": "#%% md\n"
    }
   }
  },
  {
   "cell_type": "code",
   "execution_count": 20,
   "outputs": [],
   "source": [
    "ALL_COLUMN = df.columns.tolist()\n",
    "UNNESSARY_COLUMN=list(set(ALL_COLUMN)-set(NUMERIC_COLUMN)-set(CATEGORICAL_COLUMN)-set(LABEL_COLUMN))"
   ],
   "metadata": {
    "collapsed": false,
    "pycharm": {
     "name": "#%%\n"
    }
   }
  },
  {
   "cell_type": "markdown",
   "source": [
    "# 범주형 변수 인코딩 >  불필요한 컬럼 + 인코딩 전 범주형 변수 삭제 > 합치기\n",
    "## TODO\n",
    "### [LightGBM] [Warning] Met categorical feature which contains sparse values. Consider renumbering to consecutive integers started from zero\n"
   ],
   "metadata": {
    "collapsed": false,
    "pycharm": {
     "name": "#%% md\n"
    }
   }
  },
  {
   "cell_type": "code",
   "execution_count": 5,
   "outputs": [],
   "source": [
    "data =pd.concat([pd.get_dummies(df[CATEGORICAL_COLUMN]), df.drop(UNNESSARY_COLUMN+CATEGORICAL_COLUMN,axis=1)], axis=1)"
   ],
   "metadata": {
    "collapsed": false,
    "pycharm": {
     "name": "#%%\n"
    }
   }
  },
  {
   "cell_type": "code",
   "execution_count": 6,
   "outputs": [],
   "source": [
    "NEW_CATEGORICAL_COLUMN = list(set(data.columns.tolist()) - set(NUMERIC_COLUMN) - set(LABEL_COLUMN))"
   ],
   "metadata": {
    "collapsed": false,
    "pycharm": {
     "name": "#%%\n"
    }
   }
  },
  {
   "cell_type": "code",
   "execution_count": 7,
   "outputs": [],
   "source": [
    "train_data, test_data = train_test_split(data, test_size=0.2, random_state=42)\n",
    "train_data, val_data = train_test_split(train_data, test_size=0.2, random_state=42)"
   ],
   "metadata": {
    "collapsed": false,
    "pycharm": {
     "name": "#%%\n"
    }
   }
  },
  {
   "cell_type": "code",
   "execution_count": 8,
   "outputs": [],
   "source": [
    "x_train  = train_data.drop(LABEL_COLUMN,axis = 1)\n",
    "y_train = train_data[LABEL_COLUMN]\n",
    "\n",
    "x_val  = val_data.drop(LABEL_COLUMN,axis = 1)\n",
    "y_val = val_data[LABEL_COLUMN]\n",
    "\n",
    "x_test  = test_data.drop(LABEL_COLUMN,axis = 1)\n",
    "y_test = test_data[LABEL_COLUMN]"
   ],
   "metadata": {
    "collapsed": false,
    "pycharm": {
     "name": "#%%\n"
    }
   }
  },
  {
   "cell_type": "code",
   "execution_count": 8,
   "outputs": [],
   "source": [],
   "metadata": {
    "collapsed": false,
    "pycharm": {
     "name": "#%%\n"
    }
   }
  },
  {
   "cell_type": "code",
   "execution_count": 9,
   "outputs": [
    {
     "name": "stdout",
     "output_type": "stream",
     "text": [
      "[1]\tvalid_0's binary_logloss: 0.341604\n",
      "[2]\tvalid_0's binary_logloss: 0.31888\n",
      "[3]\tvalid_0's binary_logloss: 0.301711\n",
      "[4]\tvalid_0's binary_logloss: 0.288241\n",
      "[5]\tvalid_0's binary_logloss: 0.276891\n",
      "[6]\tvalid_0's binary_logloss: 0.267478\n",
      "[7]\tvalid_0's binary_logloss: 0.259695\n",
      "[8]\tvalid_0's binary_logloss: 0.252888\n",
      "[9]\tvalid_0's binary_logloss: 0.247111\n",
      "[10]\tvalid_0's binary_logloss: 0.241977\n",
      "[11]\tvalid_0's binary_logloss: 0.237526\n",
      "[12]\tvalid_0's binary_logloss: 0.233623\n",
      "[13]\tvalid_0's binary_logloss: 0.230197\n",
      "[14]\tvalid_0's binary_logloss: 0.227093\n",
      "[15]\tvalid_0's binary_logloss: 0.224156\n",
      "[16]\tvalid_0's binary_logloss: 0.221375\n",
      "[17]\tvalid_0's binary_logloss: 0.219169\n",
      "[18]\tvalid_0's binary_logloss: 0.217035\n",
      "[19]\tvalid_0's binary_logloss: 0.215173\n",
      "[20]\tvalid_0's binary_logloss: 0.213406\n",
      "[21]\tvalid_0's binary_logloss: 0.211902\n",
      "[22]\tvalid_0's binary_logloss: 0.210449\n",
      "[23]\tvalid_0's binary_logloss: 0.209075\n",
      "[24]\tvalid_0's binary_logloss: 0.207917\n",
      "[25]\tvalid_0's binary_logloss: 0.206888\n",
      "[26]\tvalid_0's binary_logloss: 0.205963\n",
      "[27]\tvalid_0's binary_logloss: 0.205012\n",
      "[28]\tvalid_0's binary_logloss: 0.204107\n",
      "[29]\tvalid_0's binary_logloss: 0.20335\n",
      "[30]\tvalid_0's binary_logloss: 0.202671\n",
      "[31]\tvalid_0's binary_logloss: 0.202064\n",
      "[32]\tvalid_0's binary_logloss: 0.20136\n",
      "[33]\tvalid_0's binary_logloss: 0.200688\n",
      "[34]\tvalid_0's binary_logloss: 0.200043\n",
      "[35]\tvalid_0's binary_logloss: 0.199365\n",
      "[36]\tvalid_0's binary_logloss: 0.198827\n",
      "[37]\tvalid_0's binary_logloss: 0.198402\n",
      "[38]\tvalid_0's binary_logloss: 0.197997\n",
      "[39]\tvalid_0's binary_logloss: 0.197605\n",
      "[40]\tvalid_0's binary_logloss: 0.197235\n",
      "[41]\tvalid_0's binary_logloss: 0.19684\n",
      "[42]\tvalid_0's binary_logloss: 0.196554\n",
      "[43]\tvalid_0's binary_logloss: 0.196174\n",
      "[44]\tvalid_0's binary_logloss: 0.195852\n",
      "[45]\tvalid_0's binary_logloss: 0.195626\n",
      "[46]\tvalid_0's binary_logloss: 0.195446\n",
      "[47]\tvalid_0's binary_logloss: 0.195016\n",
      "[48]\tvalid_0's binary_logloss: 0.194804\n",
      "[49]\tvalid_0's binary_logloss: 0.194511\n",
      "[50]\tvalid_0's binary_logloss: 0.194305\n",
      "[51]\tvalid_0's binary_logloss: 0.194113\n",
      "[52]\tvalid_0's binary_logloss: 0.194032\n",
      "[53]\tvalid_0's binary_logloss: 0.193804\n",
      "[54]\tvalid_0's binary_logloss: 0.19365\n",
      "[55]\tvalid_0's binary_logloss: 0.193464\n",
      "[56]\tvalid_0's binary_logloss: 0.193344\n",
      "[57]\tvalid_0's binary_logloss: 0.19321\n",
      "[58]\tvalid_0's binary_logloss: 0.193163\n",
      "[59]\tvalid_0's binary_logloss: 0.192951\n",
      "[60]\tvalid_0's binary_logloss: 0.192655\n",
      "[61]\tvalid_0's binary_logloss: 0.192538\n",
      "[62]\tvalid_0's binary_logloss: 0.192434\n",
      "[63]\tvalid_0's binary_logloss: 0.192366\n",
      "[64]\tvalid_0's binary_logloss: 0.192216\n",
      "[65]\tvalid_0's binary_logloss: 0.192104\n",
      "[66]\tvalid_0's binary_logloss: 0.192009\n",
      "[67]\tvalid_0's binary_logloss: 0.19195\n",
      "[68]\tvalid_0's binary_logloss: 0.191786\n",
      "[69]\tvalid_0's binary_logloss: 0.191774\n",
      "[70]\tvalid_0's binary_logloss: 0.191682\n",
      "[71]\tvalid_0's binary_logloss: 0.191517\n",
      "[72]\tvalid_0's binary_logloss: 0.191449\n",
      "[73]\tvalid_0's binary_logloss: 0.19141\n",
      "[74]\tvalid_0's binary_logloss: 0.191335\n",
      "[75]\tvalid_0's binary_logloss: 0.191197\n",
      "[76]\tvalid_0's binary_logloss: 0.191165\n",
      "[77]\tvalid_0's binary_logloss: 0.191128\n",
      "[78]\tvalid_0's binary_logloss: 0.191115\n",
      "[79]\tvalid_0's binary_logloss: 0.191008\n",
      "[80]\tvalid_0's binary_logloss: 0.190955\n",
      "[81]\tvalid_0's binary_logloss: 0.190878\n",
      "[82]\tvalid_0's binary_logloss: 0.190859\n",
      "[83]\tvalid_0's binary_logloss: 0.190828\n",
      "[84]\tvalid_0's binary_logloss: 0.190804\n",
      "[85]\tvalid_0's binary_logloss: 0.190725\n",
      "[86]\tvalid_0's binary_logloss: 0.190639\n",
      "[87]\tvalid_0's binary_logloss: 0.19061\n",
      "[88]\tvalid_0's binary_logloss: 0.190562\n",
      "[89]\tvalid_0's binary_logloss: 0.190572\n",
      "[90]\tvalid_0's binary_logloss: 0.190518\n",
      "[91]\tvalid_0's binary_logloss: 0.190505\n",
      "[92]\tvalid_0's binary_logloss: 0.190493\n",
      "[93]\tvalid_0's binary_logloss: 0.190477\n",
      "[94]\tvalid_0's binary_logloss: 0.19045\n",
      "[95]\tvalid_0's binary_logloss: 0.190321\n",
      "[96]\tvalid_0's binary_logloss: 0.190277\n",
      "[97]\tvalid_0's binary_logloss: 0.190247\n",
      "[98]\tvalid_0's binary_logloss: 0.190228\n",
      "[99]\tvalid_0's binary_logloss: 0.190227\n",
      "[100]\tvalid_0's binary_logloss: 0.190202\n"
     ]
    },
    {
     "data": {
      "text/plain": "LGBMClassifier()",
      "text/html": "<style>#sk-container-id-1 {color: black;background-color: white;}#sk-container-id-1 pre{padding: 0;}#sk-container-id-1 div.sk-toggleable {background-color: white;}#sk-container-id-1 label.sk-toggleable__label {cursor: pointer;display: block;width: 100%;margin-bottom: 0;padding: 0.3em;box-sizing: border-box;text-align: center;}#sk-container-id-1 label.sk-toggleable__label-arrow:before {content: \"▸\";float: left;margin-right: 0.25em;color: #696969;}#sk-container-id-1 label.sk-toggleable__label-arrow:hover:before {color: black;}#sk-container-id-1 div.sk-estimator:hover label.sk-toggleable__label-arrow:before {color: black;}#sk-container-id-1 div.sk-toggleable__content {max-height: 0;max-width: 0;overflow: hidden;text-align: left;background-color: #f0f8ff;}#sk-container-id-1 div.sk-toggleable__content pre {margin: 0.2em;color: black;border-radius: 0.25em;background-color: #f0f8ff;}#sk-container-id-1 input.sk-toggleable__control:checked~div.sk-toggleable__content {max-height: 200px;max-width: 100%;overflow: auto;}#sk-container-id-1 input.sk-toggleable__control:checked~label.sk-toggleable__label-arrow:before {content: \"▾\";}#sk-container-id-1 div.sk-estimator input.sk-toggleable__control:checked~label.sk-toggleable__label {background-color: #d4ebff;}#sk-container-id-1 div.sk-label input.sk-toggleable__control:checked~label.sk-toggleable__label {background-color: #d4ebff;}#sk-container-id-1 input.sk-hidden--visually {border: 0;clip: rect(1px 1px 1px 1px);clip: rect(1px, 1px, 1px, 1px);height: 1px;margin: -1px;overflow: hidden;padding: 0;position: absolute;width: 1px;}#sk-container-id-1 div.sk-estimator {font-family: monospace;background-color: #f0f8ff;border: 1px dotted black;border-radius: 0.25em;box-sizing: border-box;margin-bottom: 0.5em;}#sk-container-id-1 div.sk-estimator:hover {background-color: #d4ebff;}#sk-container-id-1 div.sk-parallel-item::after {content: \"\";width: 100%;border-bottom: 1px solid gray;flex-grow: 1;}#sk-container-id-1 div.sk-label:hover label.sk-toggleable__label {background-color: #d4ebff;}#sk-container-id-1 div.sk-serial::before {content: \"\";position: absolute;border-left: 1px solid gray;box-sizing: border-box;top: 0;bottom: 0;left: 50%;z-index: 0;}#sk-container-id-1 div.sk-serial {display: flex;flex-direction: column;align-items: center;background-color: white;padding-right: 0.2em;padding-left: 0.2em;position: relative;}#sk-container-id-1 div.sk-item {position: relative;z-index: 1;}#sk-container-id-1 div.sk-parallel {display: flex;align-items: stretch;justify-content: center;background-color: white;position: relative;}#sk-container-id-1 div.sk-item::before, #sk-container-id-1 div.sk-parallel-item::before {content: \"\";position: absolute;border-left: 1px solid gray;box-sizing: border-box;top: 0;bottom: 0;left: 50%;z-index: -1;}#sk-container-id-1 div.sk-parallel-item {display: flex;flex-direction: column;z-index: 1;position: relative;background-color: white;}#sk-container-id-1 div.sk-parallel-item:first-child::after {align-self: flex-end;width: 50%;}#sk-container-id-1 div.sk-parallel-item:last-child::after {align-self: flex-start;width: 50%;}#sk-container-id-1 div.sk-parallel-item:only-child::after {width: 0;}#sk-container-id-1 div.sk-dashed-wrapped {border: 1px dashed gray;margin: 0 0.4em 0.5em 0.4em;box-sizing: border-box;padding-bottom: 0.4em;background-color: white;}#sk-container-id-1 div.sk-label label {font-family: monospace;font-weight: bold;display: inline-block;line-height: 1.2em;}#sk-container-id-1 div.sk-label-container {text-align: center;}#sk-container-id-1 div.sk-container {/* jupyter's `normalize.less` sets `[hidden] { display: none; }` but bootstrap.min.css set `[hidden] { display: none !important; }` so we also need the `!important` here to be able to override the default hidden behavior on the sphinx rendered scikit-learn.org. See: https://github.com/scikit-learn/scikit-learn/issues/21755 */display: inline-block !important;position: relative;}#sk-container-id-1 div.sk-text-repr-fallback {display: none;}</style><div id=\"sk-container-id-1\" class=\"sk-top-container\"><div class=\"sk-text-repr-fallback\"><pre>LGBMClassifier()</pre><b>In a Jupyter environment, please rerun this cell to show the HTML representation or trust the notebook. <br />On GitHub, the HTML representation is unable to render, please try loading this page with nbviewer.org.</b></div><div class=\"sk-container\" hidden><div class=\"sk-item\"><div class=\"sk-estimator sk-toggleable\"><input class=\"sk-toggleable__control sk-hidden--visually\" id=\"sk-estimator-id-1\" type=\"checkbox\" checked><label for=\"sk-estimator-id-1\" class=\"sk-toggleable__label sk-toggleable__label-arrow\">LGBMClassifier</label><div class=\"sk-toggleable__content\"><pre>LGBMClassifier()</pre></div></div></div></div></div>"
     },
     "execution_count": 9,
     "metadata": {},
     "output_type": "execute_result"
    }
   ],
   "source": [
    "from lightgbm import LGBMClassifier\n",
    "model = LGBMClassifier()\n",
    "model.fit(x_train, y_train,  eval_set = (x_val,y_val), categorical_feature =NEW_CATEGORICAL_COLUMN )"
   ],
   "metadata": {
    "collapsed": false,
    "pycharm": {
     "name": "#%%\n"
    }
   }
  },
  {
   "cell_type": "code",
   "execution_count": 23,
   "outputs": [
    {
     "name": "stdout",
     "output_type": "stream",
     "text": [
      "Confusion Matrix\n",
      "[[32826   875]\n",
      " [ 2629  2246]]\n",
      "정확도:0.9091663210286188, 정밀도:0.7196411406600448, 재현율:0.46071794871794874, f1-score:0.5617808904452226\n"
     ]
    }
   ],
   "source": [
    "y_pred = model.predict(x_test)\n",
    "y_true = np.array(y_test)\n",
    "\n",
    "from sklearn.metrics import accuracy_score, precision_score, recall_score, confusion_matrix, f1_score\n",
    "\n",
    "def get_clf_eval(y_test, pred):\n",
    "    confusion = confusion_matrix(y_test, pred)\n",
    "    accuracy = accuracy_score(y_test, pred)\n",
    "    precision = precision_score(y_test, pred)\n",
    "    recall = recall_score(y_test, pred)\n",
    "    f1 = f1_score(y_test,pred)\n",
    "    print('Confusion Matrix')\n",
    "    print(confusion)\n",
    "    print('정확도:{}, 정밀도:{}, 재현율:{}, f1-score:{}'.format(accuracy, precision, recall,f1))\n",
    "\n",
    "get_clf_eval(y_true, y_pred)\n",
    "\n",
    "\n",
    "\n"
   ],
   "metadata": {
    "collapsed": false,
    "pycharm": {
     "name": "#%%\n"
    }
   }
  },
  {
   "cell_type": "code",
   "execution_count": 10,
   "outputs": [],
   "source": [],
   "metadata": {
    "collapsed": false,
    "pycharm": {
     "name": "#%%\n"
    }
   }
  },
  {
   "cell_type": "code",
   "execution_count": 10,
   "outputs": [],
   "source": [],
   "metadata": {
    "collapsed": false,
    "pycharm": {
     "name": "#%%\n"
    }
   }
  }
 ],
 "metadata": {
  "kernelspec": {
   "display_name": "Python 3",
   "language": "python",
   "name": "python3"
  },
  "language_info": {
   "codemirror_mode": {
    "name": "ipython",
    "version": 2
   },
   "file_extension": ".py",
   "mimetype": "text/x-python",
   "name": "python",
   "nbconvert_exporter": "python",
   "pygments_lexer": "ipython2",
   "version": "2.7.6"
  }
 },
 "nbformat": 4,
 "nbformat_minor": 0
}